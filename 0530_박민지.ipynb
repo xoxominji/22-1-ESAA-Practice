{
  "nbformat": 4,
  "nbformat_minor": 0,
  "metadata": {
    "colab": {
      "name": "0530_박민지.ipynb",
      "provenance": [],
      "collapsed_sections": [],
      "authorship_tag": "ABX9TyN0ZYmJ+v2T/XNFIpLH2p9Z",
      "include_colab_link": true
    },
    "kernelspec": {
      "name": "python3",
      "display_name": "Python 3"
    },
    "language_info": {
      "name": "python"
    }
  },
  "cells": [
    {
      "cell_type": "markdown",
      "metadata": {
        "id": "view-in-github",
        "colab_type": "text"
      },
      "source": [
        "<a href=\"https://colab.research.google.com/github/xoxominji/22-1-ESAA-Practice/blob/main/0530_%EB%B0%95%EB%AF%BC%EC%A7%80.ipynb\" target=\"_parent\"><img src=\"https://colab.research.google.com/assets/colab-badge.svg\" alt=\"Open In Colab\"/></a>"
      ]
    },
    {
      "cell_type": "markdown",
      "source": [
        "# [필사]\n",
        "\n",
        "## 파이썬 딥러닝 텐서플로 PART03 케라스(Keras)\n",
        "\n",
        "### 3.1 딥러닝 준비\n",
        "\n",
        "텐서플로 라이브러리를 백엔드로 지원하는 케라스 사용\n",
        "\n",
        "#### 주요 용어\n",
        "\n",
        "- **하이퍼파라미터**: 사용자가 직접 설정해야하는 값들\n",
        "- **과소적합**: 모델이 충분히 학습되지 않아 예측 성능이 떨어진 경우 (epoch 늘리기)\n",
        "- **과대적합**: 학습 데이터를 지나치게 반복 학습하게 되어 과하게 적합된 상태 (epoch 줄이기)\n",
        "- **에포크(epoch)**: 모델이 훈련을 할 때 데이터셋 전부 학습에 사용하는 횟수\n",
        "- **손실함수(loss function)**: 예측 값과 정답 값의 차이 또는 오차(Error)\n",
        "  - 이진 분류 문제: `'binary_crossentropy'` - 활성화 함수 'sigmoid'\n",
        "  - 다중 분류 문제(one-hot vector): `'categorical_crossentropy'` - 활성화 함수 'softmax'\n",
        "  - 다중 분류 문제(레이블 값 0, 1, 2, ...): `'sparse_categorical_crossentropy'` - 활성화 함수 'softmax'\n",
        "  ```\n",
        "  import tensorflow as tf\n",
        "  #클래스\n",
        "  tf.keras.losses.BinaryCrossentropy()\n",
        "  #함수\n",
        "  tf.keras.losses.binary_crossentropy\n",
        "  ```\n",
        "- 경사하강법(gradient descent): 모델 내부의 가중치에 대한 미분 값을 구하고 목적 함수 값이 낮아지는 방향으로 차감하면서 최소 함수 값을 갖도록 하는 방법\n"
      ],
      "metadata": {
        "id": "rWq56HrERnVz"
      }
    },
    {
      "cell_type": "code",
      "source": [
        "import numpy as np\n",
        "import matplotlib.pyplot as plt\n",
        "\n",
        "# 샘플에 활용할 데이터 셋 만들기\n",
        "def make_linear(w=0.5, b=0.8, size=50, noise=1.0):\n",
        "    x = np.random.rand(size)\n",
        "    y = w * x + b\n",
        "    noise = np.random.uniform(-abs(noise), abs(noise), size=y.shape)\n",
        "    yy = y + noise\n",
        "    plt.figure(figsize=(10, 7))\n",
        "    plt.plot(x, y, color='r', label=f'y = {w}*x + {b}')\n",
        "    plt.scatter(x, yy, label='data')\n",
        "    plt.legend(fontsize=20)\n",
        "    plt.show()\n",
        "    print(f'w: {w}, b: {b}')\n",
        "    return x, yy\n",
        "\n",
        "x, y = make_linear(w=0.3, b=0.5, size=100, noise=0.01)"
      ],
      "metadata": {
        "colab": {
          "base_uri": "https://localhost:8080/",
          "height": 446
        },
        "id": "v8gi0AwdRnJ7",
        "outputId": "5a1b6fe9-7927-4138-ba8c-78041cbe7f21"
      },
      "execution_count": null,
      "outputs": [
        {
          "output_type": "display_data",
          "data": {
            "text/plain": [
              "<Figure size 720x504 with 1 Axes>"
            ],
            "image/png": "[encoded data removed]"
          },
          "metadata": {
            "needs_background": "light"
          }
        },
        {
          "output_type": "stream",
          "name": "stdout",
          "text": [
            "w: 0.3, b: 0.5\n"
          ]
        }
      ]
    },
    {
      "cell_type": "markdown",
      "source": [
        "> $y=0.3x+0.5$에 노이즈가 추가된 것\n",
        "\n",
        "- 가설함수를 $\\hat{y}=wx+b$\n",
        "- 손실함수는 $\\frac{1}{2}Σ(y-\\hat{y})^2$\n",
        "- α는 학습률(learning rate)을 의미"
      ],
      "metadata": {
        "id": "lxfCqMqnVjoL"
      }
    },
    {
      "cell_type": "code",
      "execution_count": null,
      "metadata": {
        "colab": {
          "base_uri": "https://localhost:8080/"
        },
        "id": "0KDmTfMZRXU7",
        "outputId": "64d2da7b-7008-486a-af35-6496d8844d4d"
      },
      "outputs": [
        {
          "output_type": "stream",
          "name": "stdout",
          "text": [
            " 0 w = 0.20524, b = 0.32867 error = 16.33142\n",
            "------------------------------------------------------------\n",
            " 5 w = 0.3, b = 0.5 error = 0.00284\n"
          ]
        }
      ],
      "source": [
        "# 최대 반복 횟수\n",
        "num_epoch = 1000\n",
        "\n",
        "# 학습율 (learning_rate)\n",
        "learning_rate = 0.005\n",
        "\n",
        "# 에러 기록\n",
        "errors = []\n",
        "\n",
        "# random 한 값으로 w, b를 초기화 합니다.\n",
        "w = np.random.uniform(low=0.0, high=1.0)\n",
        "b = np.random.uniform(low=0.0, high=1.0)\n",
        "\n",
        "for epoch in range(num_epoch):\n",
        "    # Hypothesis 정의\n",
        "    y_hat = w * x + b\n",
        "    \n",
        "    # Loss Function 정의\n",
        "    error = 0.5*((y_hat - y) ** 2).sum()\n",
        "    if error < 0.005:\n",
        "        break\n",
        "    # Gradient 미분 계산\n",
        "    w = w - learning_rate * ((y_hat - y) * x).sum()\n",
        "    b = b - learning_rate * (y_hat - y).sum()\n",
        "    \n",
        "    errors.append(error)\n",
        "\n",
        "    if epoch % 5 == 0:\n",
        "        print(\"{0:2} w = {1:.5f}, b = {2:.5f} error = {3:.5f}\".format(epoch, w, b, error))\n",
        "    \n",
        "print(\"----\" * 15)\n",
        "print(\"{0:2} w = {1:.1f}, b = {2:.1f} error = {3:.5f}\".format(epoch, w, b, error))"
      ]
    },
    {
      "cell_type": "code",
      "source": [
        "plt.figure(figsize=(10, 7))\n",
        "plt.plot(errors)\n",
        "plt.xlabel('Epochs')\n",
        "plt.ylabel('Error')\n",
        "plt.show()"
      ],
      "metadata": {
        "colab": {
          "base_uri": "https://localhost:8080/",
          "height": 442
        },
        "id": "A7Xenh3eWCgh",
        "outputId": "56152359-4c05-400a-a9f8-2cd6d108a770"
      },
      "execution_count": null,
      "outputs": [
        {
          "output_type": "display_data",
          "data": {
            "text/plain": [
              "<Figure size 720x504 with 1 Axes>"
            ],
            "image/png": "[encoded data removed]"
          },
          "metadata": {
            "needs_background": "light"
          }
        }
      ]
    },
    {
      "cell_type": "markdown",
      "source": [
        "#### 딥러닝 프로세스\n",
        "1. 데이터 전처리\n",
        "  - 배열 차원 변겅, 스케일 조정\n",
        "2. 모델 생성\n",
        "  - 순차적 구조: Sequential API\n",
        "  - 다중 입력 및 출력: Functional API\n",
        "  - Model Subclassing\n",
        "3. 모델 컴파일 `compile()`\n",
        "  - 손실함수\n",
        "  - 옵티마이저\n",
        "  - 평가지표\n",
        "4. 모델 훈련 `fit()`\n",
        "  - 훈련 데이터셋\n",
        "  - 검증 데이터셋\n",
        "  - epoch\n",
        "  - batch\n",
        "  - callback 함수\n",
        "5. 모델 검증\n",
        "5. 모델 예측"
      ],
      "metadata": {
        "id": "OkdXwxDLWFNp"
      }
    },
    {
      "cell_type": "markdown",
      "source": [
        "### 3.2 단순 신경망 훈련\n",
        "\n",
        "#### 선형 회귀\n",
        "\n",
        "회귀 분석: 하나 이상의 독립변수들이 종속변수에 미치는 영향을 추정하는 통계 기법\n",
        "\n",
        "$y=wx+b$\n",
        "\n",
        "- $w$: 가중치(weight)\n",
        "- $b$: 편향(bias)\n",
        "\n",
        "#### 뉴런(Neuron)\n",
        ": 인공신경망 모델 구성하는 하나의 신경 (=노드)\n",
        "\n",
        "#### Dense 레이어\n",
        "\n",
        ": 기본 레이어\n",
        "\n",
        "모델 -> n개의 Dense 레이어 -> 각 레이어에 n개의 노드/뉴런 각 각 지정 가능\n",
        "\n",
        "\n",
        "\n",
        "```\n",
        "import tensorflow as tf\n",
        "#10개의 노드로 이루어진 Dense 레이어\n",
        "tf.keras.layers.Dense(10)\n",
        "#ReLU 활성화 함수 적용\n",
        "tf.keras.layers.Dense(10, activation='rulu')\n",
        "```\n",
        "\n",
        "#### 데이터셋 만들기\n"
      ],
      "metadata": {
        "id": "gfVAxUIIWnor"
      }
    },
    {
      "cell_type": "code",
      "source": [
        "import numpy as np\n",
        "\n",
        "# 샘플 데이터셋 생성\n",
        "x = np.arange(1, 6)\n",
        "\n",
        "# y = 3x + 2\n",
        "y = 3 * x + 2\n",
        "print(x)\n",
        "print(y)"
      ],
      "metadata": {
        "colab": {
          "base_uri": "https://localhost:8080/"
        },
        "id": "k0AbJQ3ZWEaX",
        "outputId": "b6144445-c7a8-42e0-b7ca-5d67261a56b9"
      },
      "execution_count": null,
      "outputs": [
        {
          "output_type": "stream",
          "name": "stdout",
          "text": [
            "[1 2 3 4 5]\n",
            "[ 5  8 11 14 17]\n"
          ]
        }
      ]
    },
    {
      "cell_type": "code",
      "source": [
        "import matplotlib.pyplot as plt\n",
        "\n",
        "# 시각화\n",
        "plt.plot(x, y)\n",
        "plt.title('y = 3x + 2')\n",
        "plt.show()"
      ],
      "metadata": {
        "colab": {
          "base_uri": "https://localhost:8080/",
          "height": 281
        },
        "id": "ZHKD-PszdYCC",
        "outputId": "6f93e06f-2005-4ddc-b4a4-83104f7a75db"
      },
      "execution_count": null,
      "outputs": [
        {
          "output_type": "display_data",
          "data": {
            "text/plain": [
              "<Figure size 432x288 with 1 Axes>"
            ],
            "image/png": "[encoded data removed]"
          },
          "metadata": {
            "needs_background": "light"
          }
        }
      ]
    },
    {
      "cell_type": "markdown",
      "source": [
        "#### Sequential API\n",
        "\n",
        "층을 이어 붙이듯 시퀀스에 맞게 일렬로 연결하는 방식\n",
        "\n",
        "**모델 구조**\n",
        "1. 리스트형"
      ],
      "metadata": {
        "id": "ixdNP2KUdmLg"
      }
    },
    {
      "cell_type": "code",
      "source": [
        "import tensorflow as tf\n",
        "# 리스트형\n",
        "model = tf.keras.Sequential([\n",
        "    tf.keras.layers.Dense(10), \n",
        "    tf.keras.layers.Dense(5), \n",
        "    tf.keras.layers.Dense(1), \n",
        "])"
      ],
      "metadata": {
        "id": "V4vrETREdZhv"
      },
      "execution_count": null,
      "outputs": []
    },
    {
      "cell_type": "markdown",
      "source": [
        "2. add함수 사용"
      ],
      "metadata": {
        "id": "Fzg7Y-Hvd5BE"
      }
    },
    {
      "cell_type": "code",
      "source": [
        "# add 함수로 레이어 추가\n",
        "model = tf.keras.Sequential()\n",
        "model.add(tf.keras.layers.Dense(10))\n",
        "model.add(tf.keras.layers.Dense(5))\n",
        "model.add(tf.keras.layers.Dense(1))"
      ],
      "metadata": {
        "id": "BwXS73EHd0ks"
      },
      "execution_count": null,
      "outputs": []
    },
    {
      "cell_type": "markdown",
      "source": [
        "**입력 데이터 형태**\n",
        "\n",
        "첫 번째 층은 input_shape 매개변수를 지정할 것"
      ],
      "metadata": {
        "id": "T0RQBFj2d8EQ"
      }
    },
    {
      "cell_type": "code",
      "source": [
        "model = tf.keras.Sequential([\n",
        "    # 입력 데이터의 shape = (150, 4) 인 경우 input_shape 지정, (4,)도 가능\n",
        "    tf.keras.layers.Dense(10, input_shape=[4]), \n",
        "    tf.keras.layers.Dense(5), \n",
        "    tf.keras.layers.Dense(1), \n",
        "])"
      ],
      "metadata": {
        "id": "jI8FgjYBd7dr"
      },
      "execution_count": null,
      "outputs": []
    },
    {
      "cell_type": "markdown",
      "source": [
        "**단순선형회귀 모델 정의**"
      ],
      "metadata": {
        "id": "u1R78d1UeLtE"
      }
    },
    {
      "cell_type": "code",
      "source": [
        "# 단순선형회귀 모델 생성\n",
        "model = tf.keras.Sequential([\n",
        "    tf.keras.layers.Dense(1, input_shape=[1]) #입력변수 1개 #use_bias(상수항)=True 기본설정          \n",
        "])"
      ],
      "metadata": {
        "id": "xkvnEIL_eLKx"
      },
      "execution_count": null,
      "outputs": []
    },
    {
      "cell_type": "markdown",
      "source": [
        "**모델 요약**\n",
        "\n",
        "`model.summary()`"
      ],
      "metadata": {
        "id": "8Up8zsDCn7lC"
      }
    },
    {
      "cell_type": "code",
      "source": [
        "# 모델 요약\n",
        "model.summary()"
      ],
      "metadata": {
        "colab": {
          "base_uri": "https://localhost:8080/"
        },
        "id": "m3m14eIkeRlt",
        "outputId": "26c12cfd-6257-4c56-e91a-c1eb59b697c6"
      },
      "execution_count": null,
      "outputs": [
        {
          "output_type": "stream",
          "name": "stdout",
          "text": [
            "Model: \"sequential_4\"\n",
            "_________________________________________________________________\n",
            " Layer (type)                Output Shape              Param #   \n",
            "=================================================================\n",
            " dense_10 (Dense)            (None, 1)                 2         \n",
            "                                                                 \n",
            "=================================================================\n",
            "Total params: 2\n",
            "Trainable params: 2\n",
            "Non-trainable params: 0\n",
            "_________________________________________________________________\n"
          ]
        }
      ]
    },
    {
      "cell_type": "markdown",
      "source": [
        "- `Total params`: 모델 내부에 존재하는 모든 파라미터의 합계\n",
        "- `Trainable params`: 모델 훈련 시 업데이트할 파라미터의 총 개수\n",
        "- `Non-trainable params`: 모델 훈련 시 업데이트하지 않을 파라미터의 총 개수"
      ],
      "metadata": {
        "id": "_mW45nsaoEQN"
      }
    },
    {
      "cell_type": "markdown",
      "source": [
        "**컴파일**\n",
        "\n",
        ": 모델 훈련 과정에서 적용할 옵티마이저, 손실함수, 평가지표 정의\n",
        "\n",
        "1. 클래스 인스턴스 방법"
      ],
      "metadata": {
        "id": "_5z0t2_eoQER"
      }
    },
    {
      "cell_type": "code",
      "source": [
        "# 클래스 인스턴스 지정\n",
        "model.compile(optimizer=tf.keras.optimizers.SGD(lr=0.005), \n",
        "              loss=tf.keras.losses.MeanAbsoluteError(), \n",
        "              metrics=[tf.keras.metrics.MeanAbsoluteError(), \n",
        "                       tf.keras.metrics.MeanSquaredError()\n",
        "                       ])"
      ],
      "metadata": {
        "colab": {
          "base_uri": "https://localhost:8080/"
        },
        "id": "Zgqu2PLroBJb",
        "outputId": "60483461-b666-40d7-c2b0-b4a6496ff9f6"
      },
      "execution_count": null,
      "outputs": [
        {
          "output_type": "stream",
          "name": "stderr",
          "text": [
            "/usr/local/lib/python3.7/dist-packages/keras/optimizer_v2/gradient_descent.py:102: UserWarning: The `lr` argument is deprecated, use `learning_rate` instead.\n",
            "  super(SGD, self).__init__(name, **kwargs)\n"
          ]
        }
      ]
    },
    {
      "cell_type": "markdown",
      "source": [
        "2. 함수 지정 방법"
      ],
      "metadata": {
        "id": "_QSZaZnEoctI"
      }
    },
    {
      "cell_type": "code",
      "source": [
        "# 긴 문자열 지정\n",
        "model.compile(optimizer='sgd', loss='mean_squared_error', \n",
        "              metrics=['mean_squared_error', 'mean_absolute_error'])"
      ],
      "metadata": {
        "id": "mFH20wFVodF6"
      },
      "execution_count": null,
      "outputs": []
    },
    {
      "cell_type": "markdown",
      "source": [
        "3. 사전 정의된 문자열 지정 방법"
      ],
      "metadata": {
        "id": "yW9kdBBkodbW"
      }
    },
    {
      "cell_type": "code",
      "source": [
        "# 짧은 문자열 지정\n",
        "model.compile(optimizer='sgd', loss='mse', metrics=['mse', 'mae'])"
      ],
      "metadata": {
        "id": "nSipMDONodzV"
      },
      "execution_count": null,
      "outputs": []
    },
    {
      "cell_type": "code",
      "source": [
        "# 단순선형회귀 모델 훈련을 위한 컴파일\n",
        "model.compile(optimizer='sgd', loss='mse', metrics='mae')"
      ],
      "metadata": {
        "id": "eb4Xc1Kzoo43"
      },
      "execution_count": null,
      "outputs": []
    },
    {
      "cell_type": "markdown",
      "source": [
        "**훈련**"
      ],
      "metadata": {
        "id": "VlcylSNjo1Rz"
      }
    },
    {
      "cell_type": "code",
      "source": [
        "# 훈련\n",
        "history = model.fit(x, y, epochs=5)"
      ],
      "metadata": {
        "colab": {
          "base_uri": "https://localhost:8080/"
        },
        "id": "jQ8lNrEHoxrL",
        "outputId": "b2ce349a-e879-4328-8441-5d76dbfc0454"
      },
      "execution_count": null,
      "outputs": [
        {
          "output_type": "stream",
          "name": "stdout",
          "text": [
            "Epoch 1/5\n",
            "1/1 [==============================] - 1s 753ms/step - loss: 57.2152 - mae: 7.1620\n",
            "Epoch 2/5\n",
            "1/1 [==============================] - 0s 12ms/step - loss: 33.4918 - mae: 5.5231\n",
            "Epoch 3/5\n",
            "1/1 [==============================] - 0s 8ms/step - loss: 19.6659 - mae: 4.2718\n",
            "Epoch 4/5\n",
            "1/1 [==============================] - 0s 7ms/step - loss: 11.6079 - mae: 3.3164\n",
            "Epoch 5/5\n",
            "1/1 [==============================] - 0s 10ms/step - loss: 6.9111 - mae: 2.5869\n"
          ]
        }
      ]
    },
    {
      "cell_type": "markdown",
      "source": [
        "> 반복 훈련 횟수가 충분하지 않아 학습이 덜 되었음(과소적합)"
      ],
      "metadata": {
        "id": "dwSQwkUqpFbw"
      }
    },
    {
      "cell_type": "code",
      "source": [
        "# 단순선형회귀 모델 생성\n",
        "model = tf.keras.Sequential([\n",
        "    tf.keras.layers.Dense(1, input_shape=[1])                    \n",
        "])\n",
        "\n",
        "# 컴파일\n",
        "model.compile(optimizer='sgd', loss='mse', metrics=['mae'])\n",
        "\n",
        "# 훈련\n",
        "history = model.fit(x, y, epochs=1200)"
      ],
      "metadata": {
        "colab": {
          "base_uri": "https://localhost:8080/"
        },
        "id": "o9nMe-k3o86h",
        "outputId": "7a6e603d-1893-417a-c3c4-b55df1da2796"
      },
      "execution_count": null,
      "outputs": [
        {
          "output_type": "stream",
          "name": "stdout",
          "text": [
            "Epoch 1/1200\n",
            "1/1 [==============================] - 1s 529ms/step - loss: 137.5406 - mae: 10.9437\n",
            "Epoch 2/1200\n",
            "1/1 [==============================] - 0s 9ms/step - loss: 80.2407 - mae: 8.3972\n",
            "Epoch 3/1200\n",
            "1/1 [==============================] - 0s 7ms/step - loss: 46.8486 - mae: 6.4531\n",
            "Epoch 4/1200\n",
            "1/1 [==============================] - 0s 16ms/step - loss: 27.3887 - mae: 4.9689\n",
            "Epoch 5/1200\n",
            "1/1 [==============================] - 0s 13ms/step - loss: 16.0479 - mae: 3.8357\n",
            "Epoch 6/1200\n",
            "1/1 [==============================] - 0s 6ms/step - loss: 9.4384 - mae: 2.9706\n",
            "Epoch 7/1200\n",
            "1/1 [==============================] - 0s 8ms/step - loss: 5.5861 - mae: 2.3099\n",
            "Epoch 8/1200\n",
            "1/1 [==============================] - 0s 7ms/step - loss: 3.3406 - mae: 1.8055\n",
            "Epoch 9/1200\n",
            "1/1 [==============================] - 0s 7ms/step - loss: 2.0315 - mae: 1.4203\n",
            "Epoch 10/1200\n",
            "1/1 [==============================] - 0s 8ms/step - loss: 1.2680 - mae: 1.1261\n",
            "Epoch 11/1200\n",
            "1/1 [==============================] - 0s 6ms/step - loss: 0.8226 - mae: 0.9013\n",
            "Epoch 12/1200\n",
            "1/1 [==============================] - 0s 9ms/step - loss: 0.5624 - mae: 0.7296\n",
            "Epoch 13/1200\n",
            "1/1 [==============================] - 0s 6ms/step - loss: 0.4102 - mae: 0.5984\n",
            "Epoch 14/1200\n",
            "1/1 [==============================] - 0s 9ms/step - loss: 0.3210 - mae: 0.4981\n",
            "Epoch 15/1200\n",
            "1/1 [==============================] - 0s 5ms/step - loss: 0.2684 - mae: 0.4234\n",
            "Epoch 16/1200\n",
            "1/1 [==============================] - 0s 10ms/step - loss: 0.2373 - mae: 0.4015\n",
            "Epoch 17/1200\n",
            "1/1 [==============================] - 0s 7ms/step - loss: 0.2185 - mae: 0.3846\n",
            "Epoch 18/1200\n",
            "1/1 [==============================] - 0s 9ms/step - loss: 0.2071 - mae: 0.3714\n",
            "Epoch 19/1200\n",
            "1/1 [==============================] - 0s 9ms/step - loss: 0.1999 - mae: 0.3619\n",
            "Epoch 20/1200\n",
            "1/1 [==============================] - 0s 6ms/step - loss: 0.1951 - mae: 0.3639\n",
            "Epoch 21/1200\n",
            "1/1 [==============================] - 0s 6ms/step - loss: 0.1919 - mae: 0.3651\n",
            "Epoch 22/1200\n",
            "1/1 [==============================] - 0s 6ms/step - loss: 0.1894 - mae: 0.3658\n",
            "Epoch 23/1200\n",
            "1/1 [==============================] - 0s 6ms/step - loss: 0.1875 - mae: 0.3660\n",
            "Epoch 24/1200\n",
            "1/1 [==============================] - 0s 6ms/step - loss: 0.1858 - mae: 0.3658\n",
            "Epoch 25/1200\n",
            "1/1 [==============================] - 0s 9ms/step - loss: 0.1843 - mae: 0.3654\n",
            "Epoch 26/1200\n",
            "1/1 [==============================] - 0s 6ms/step - loss: 0.1829 - mae: 0.3648\n",
            "Epoch 27/1200\n",
            "1/1 [==============================] - 0s 6ms/step - loss: 0.1816 - mae: 0.3641\n",
            "Epoch 28/1200\n",
            "1/1 [==============================] - 0s 6ms/step - loss: 0.1804 - mae: 0.3632\n",
            "Epoch 29/1200\n",
            "1/1 [==============================] - 0s 6ms/step - loss: 0.1791 - mae: 0.3623\n",
            "Epoch 30/1200\n",
            "1/1 [==============================] - 0s 6ms/step - loss: 0.1779 - mae: 0.3613\n",
            "Epoch 31/1200\n",
            "1/1 [==============================] - 0s 6ms/step - loss: 0.1767 - mae: 0.3602\n",
            "Epoch 32/1200\n",
            "1/1 [==============================] - 0s 6ms/step - loss: 0.1755 - mae: 0.3591\n",
            "Epoch 33/1200\n",
            "1/1 [==============================] - 0s 5ms/step - loss: 0.1743 - mae: 0.3580\n",
            "Epoch 34/1200\n",
            "1/1 [==============================] - 0s 12ms/step - loss: 0.1731 - mae: 0.3569\n",
            "Epoch 35/1200\n",
            "1/1 [==============================] - 0s 11ms/step - loss: 0.1720 - mae: 0.3557\n",
            "Epoch 36/1200\n",
            "1/1 [==============================] - 0s 6ms/step - loss: 0.1708 - mae: 0.3546\n",
            "Epoch 37/1200\n",
            "1/1 [==============================] - 0s 7ms/step - loss: 0.1696 - mae: 0.3534\n",
            "Epoch 38/1200\n",
            "1/1 [==============================] - 0s 6ms/step - loss: 0.1685 - mae: 0.3522\n",
            "Epoch 39/1200\n",
            "1/1 [==============================] - 0s 6ms/step - loss: 0.1674 - mae: 0.3511\n",
            "Epoch 40/1200\n",
            "1/1 [==============================] - 0s 8ms/step - loss: 0.1662 - mae: 0.3499\n",
            "Epoch 41/1200\n",
            "1/1 [==============================] - 0s 6ms/step - loss: 0.1651 - mae: 0.3487\n",
            "Epoch 42/1200\n",
            "1/1 [==============================] - 0s 7ms/step - loss: 0.1640 - mae: 0.3476\n",
            "Epoch 43/1200\n",
            "1/1 [==============================] - 0s 8ms/step - loss: 0.1629 - mae: 0.3464\n",
            "Epoch 44/1200\n",
            "1/1 [==============================] - 0s 6ms/step - loss: 0.1618 - mae: 0.3452\n",
            "Epoch 45/1200\n",
            "1/1 [==============================] - 0s 7ms/step - loss: 0.1607 - mae: 0.3441\n",
            "Epoch 46/1200\n",
            "1/1 [==============================] - 0s 6ms/step - loss: 0.1596 - mae: 0.3429\n",
            "Epoch 47/1200\n",
            "1/1 [==============================] - 0s 7ms/step - loss: 0.1585 - mae: 0.3417\n",
            "Epoch 48/1200\n",
            "1/1 [==============================] - 0s 7ms/step - loss: 0.1575 - mae: 0.3406\n",
            "Epoch 49/1200\n",
            "1/1 [==============================] - 0s 10ms/step - loss: 0.1564 - mae: 0.3394\n",
            "Epoch 50/1200\n",
            "1/1 [==============================] - 0s 6ms/step - loss: 0.1553 - mae: 0.3383\n",
            "Epoch 51/1200\n",
            "1/1 [==============================] - 0s 6ms/step - loss: 0.1543 - mae: 0.3371\n",
            "Epoch 52/1200\n",
            "1/1 [==============================] - 0s 7ms/step - loss: 0.1533 - mae: 0.3360\n",
            "Epoch 53/1200\n",
            "1/1 [==============================] - 0s 8ms/step - loss: 0.1522 - mae: 0.3349\n",
            "Epoch 54/1200\n",
            "1/1 [==============================] - 0s 6ms/step - loss: 0.1512 - mae: 0.3337\n",
            "Epoch 55/1200\n",
            "1/1 [==============================] - 0s 9ms/step - loss: 0.1502 - mae: 0.3326\n",
            "Epoch 56/1200\n",
            "1/1 [==============================] - 0s 7ms/step - loss: 0.1492 - mae: 0.3315\n",
            "Epoch 57/1200\n",
            "1/1 [==============================] - 0s 7ms/step - loss: 0.1481 - mae: 0.3304\n",
            "Epoch 58/1200\n",
            "1/1 [==============================] - 0s 9ms/step - loss: 0.1471 - mae: 0.3292\n",
            "Epoch 59/1200\n",
            "1/1 [==============================] - 0s 7ms/step - loss: 0.1462 - mae: 0.3281\n",
            "Epoch 60/1200\n",
            "1/1 [==============================] - 0s 7ms/step - loss: 0.1452 - mae: 0.3270\n",
            "Epoch 61/1200\n",
            "1/1 [==============================] - 0s 9ms/step - loss: 0.1442 - mae: 0.3259\n",
            "Epoch 62/1200\n",
            "1/1 [==============================] - 0s 7ms/step - loss: 0.1432 - mae: 0.3248\n",
            "Epoch 63/1200\n",
            "1/1 [==============================] - 0s 9ms/step - loss: 0.1422 - mae: 0.3237\n",
            "Epoch 64/1200\n",
            "1/1 [==============================] - 0s 7ms/step - loss: 0.1413 - mae: 0.3226\n",
            "Epoch 65/1200\n",
            "1/1 [==============================] - 0s 7ms/step - loss: 0.1403 - mae: 0.3215\n",
            "Epoch 66/1200\n",
            "1/1 [==============================] - 0s 9ms/step - loss: 0.1394 - mae: 0.3204\n",
            "Epoch 67/1200\n",
            "1/1 [==============================] - 0s 7ms/step - loss: 0.1384 - mae: 0.3194\n",
            "Epoch 68/1200\n",
            "1/1 [==============================] - 0s 7ms/step - loss: 0.1375 - mae: 0.3183\n",
            "Epoch 69/1200\n",
            "1/1 [==============================] - 0s 6ms/step - loss: 0.1366 - mae: 0.3172\n",
            "Epoch 70/1200\n",
            "1/1 [==============================] - 0s 7ms/step - loss: 0.1357 - mae: 0.3161\n",
            "Epoch 71/1200\n",
            "1/1 [==============================] - 0s 13ms/step - loss: 0.1347 - mae: 0.3151\n",
            "Epoch 72/1200\n",
            "1/1 [==============================] - 0s 5ms/step - loss: 0.1338 - mae: 0.3140\n",
            "Epoch 73/1200\n",
            "1/1 [==============================] - 0s 13ms/step - loss: 0.1329 - mae: 0.3129\n",
            "Epoch 74/1200\n",
            "1/1 [==============================] - 0s 16ms/step - loss: 0.1320 - mae: 0.3119\n",
            "Epoch 75/1200\n",
            "1/1 [==============================] - 0s 11ms/step - loss: 0.1311 - mae: 0.3108\n",
            "Epoch 76/1200\n",
            "1/1 [==============================] - 0s 10ms/step - loss: 0.1303 - mae: 0.3098\n",
            "Epoch 77/1200\n",
            "1/1 [==============================] - 0s 8ms/step - loss: 0.1294 - mae: 0.3087\n",
            "Epoch 78/1200\n",
            "1/1 [==============================] - 0s 12ms/step - loss: 0.1285 - mae: 0.3077\n",
            "Epoch 79/1200\n",
            "1/1 [==============================] - 0s 8ms/step - loss: 0.1276 - mae: 0.3066\n",
            "Epoch 80/1200\n",
            "1/1 [==============================] - 0s 8ms/step - loss: 0.1268 - mae: 0.3056\n",
            "Epoch 81/1200\n",
            "1/1 [==============================] - 0s 8ms/step - loss: 0.1259 - mae: 0.3046\n",
            "Epoch 82/1200\n",
            "1/1 [==============================] - 0s 10ms/step - loss: 0.1251 - mae: 0.3035\n",
            "Epoch 83/1200\n",
            "1/1 [==============================] - 0s 8ms/step - loss: 0.1242 - mae: 0.3025\n",
            "Epoch 84/1200\n",
            "1/1 [==============================] - 0s 9ms/step - loss: 0.1234 - mae: 0.3015\n",
            "Epoch 85/1200\n",
            "1/1 [==============================] - 0s 10ms/step - loss: 0.1226 - mae: 0.3005\n",
            "Epoch 86/1200\n",
            "1/1 [==============================] - 0s 12ms/step - loss: 0.1217 - mae: 0.2995\n",
            "Epoch 87/1200\n",
            "1/1 [==============================] - 0s 7ms/step - loss: 0.1209 - mae: 0.2985\n",
            "Epoch 88/1200\n",
            "1/1 [==============================] - 0s 10ms/step - loss: 0.1201 - mae: 0.2974\n",
            "Epoch 89/1200\n",
            "1/1 [==============================] - 0s 6ms/step - loss: 0.1193 - mae: 0.2964\n",
            "Epoch 90/1200\n",
            "1/1 [==============================] - 0s 9ms/step - loss: 0.1185 - mae: 0.2954\n",
            "Epoch 91/1200\n",
            "1/1 [==============================] - 0s 6ms/step - loss: 0.1177 - mae: 0.2944\n",
            "Epoch 92/1200\n",
            "1/1 [==============================] - 0s 7ms/step - loss: 0.1169 - mae: 0.2934\n",
            "Epoch 93/1200\n",
            "1/1 [==============================] - 0s 7ms/step - loss: 0.1161 - mae: 0.2924\n",
            "Epoch 94/1200\n",
            "1/1 [==============================] - 0s 10ms/step - loss: 0.1153 - mae: 0.2915\n",
            "Epoch 95/1200\n",
            "1/1 [==============================] - 0s 6ms/step - loss: 0.1145 - mae: 0.2905\n",
            "Epoch 96/1200\n",
            "1/1 [==============================] - 0s 6ms/step - loss: 0.1138 - mae: 0.2895\n",
            "Epoch 97/1200\n",
            "1/1 [==============================] - 0s 6ms/step - loss: 0.1130 - mae: 0.2885\n",
            "Epoch 98/1200\n",
            "1/1 [==============================] - 0s 6ms/step - loss: 0.1122 - mae: 0.2875\n",
            "Epoch 99/1200\n",
            "1/1 [==============================] - 0s 6ms/step - loss: 0.1115 - mae: 0.2866\n",
            "Epoch 100/1200\n",
            "1/1 [==============================] - 0s 6ms/step - loss: 0.1107 - mae: 0.2856\n",
            "Epoch 101/1200\n",
            "1/1 [==============================] - 0s 10ms/step - loss: 0.1100 - mae: 0.2846\n",
            "Epoch 102/1200\n",
            "1/1 [==============================] - 0s 6ms/step - loss: 0.1092 - mae: 0.2837\n",
            "Epoch 103/1200\n",
            "1/1 [==============================] - 0s 7ms/step - loss: 0.1085 - mae: 0.2827\n",
            "Epoch 104/1200\n",
            "1/1 [==============================] - 0s 9ms/step - loss: 0.1078 - mae: 0.2818\n",
            "Epoch 105/1200\n",
            "1/1 [==============================] - 0s 7ms/step - loss: 0.1070 - mae: 0.2808\n",
            "Epoch 106/1200\n",
            "1/1 [==============================] - 0s 9ms/step - loss: 0.1063 - mae: 0.2799\n",
            "Epoch 107/1200\n",
            "1/1 [==============================] - 0s 19ms/step - loss: 0.1056 - mae: 0.2789\n",
            "Epoch 108/1200\n",
            "1/1 [==============================] - 0s 11ms/step - loss: 0.1049 - mae: 0.2780\n",
            "Epoch 109/1200\n",
            "1/1 [==============================] - 0s 10ms/step - loss: 0.1042 - mae: 0.2770\n",
            "Epoch 110/1200\n",
            "1/1 [==============================] - 0s 7ms/step - loss: 0.1035 - mae: 0.2761\n",
            "Epoch 111/1200\n",
            "1/1 [==============================] - 0s 15ms/step - loss: 0.1028 - mae: 0.2752\n",
            "Epoch 112/1200\n",
            "1/1 [==============================] - 0s 13ms/step - loss: 0.1021 - mae: 0.2742\n",
            "Epoch 113/1200\n",
            "1/1 [==============================] - 0s 10ms/step - loss: 0.1014 - mae: 0.2733\n",
            "Epoch 114/1200\n",
            "1/1 [==============================] - 0s 8ms/step - loss: 0.1007 - mae: 0.2724\n",
            "Epoch 115/1200\n",
            "1/1 [==============================] - 0s 6ms/step - loss: 0.1000 - mae: 0.2714\n",
            "Epoch 116/1200\n",
            "1/1 [==============================] - 0s 6ms/step - loss: 0.0993 - mae: 0.2705\n",
            "Epoch 117/1200\n",
            "1/1 [==============================] - 0s 6ms/step - loss: 0.0987 - mae: 0.2696\n",
            "Epoch 118/1200\n",
            "1/1 [==============================] - 0s 10ms/step - loss: 0.0980 - mae: 0.2687\n",
            "Epoch 119/1200\n",
            "1/1 [==============================] - 0s 6ms/step - loss: 0.0973 - mae: 0.2678\n",
            "Epoch 120/1200\n",
            "1/1 [==============================] - 0s 6ms/step - loss: 0.0967 - mae: 0.2669\n",
            "Epoch 121/1200\n",
            "1/1 [==============================] - 0s 24ms/step - loss: 0.0960 - mae: 0.2660\n",
            "Epoch 122/1200\n",
            "1/1 [==============================] - 0s 7ms/step - loss: 0.0954 - mae: 0.2651\n",
            "Epoch 123/1200\n",
            "1/1 [==============================] - 0s 7ms/step - loss: 0.0947 - mae: 0.2642\n",
            "Epoch 124/1200\n",
            "1/1 [==============================] - 0s 9ms/step - loss: 0.0941 - mae: 0.2633\n",
            "Epoch 125/1200\n",
            "1/1 [==============================] - 0s 6ms/step - loss: 0.0935 - mae: 0.2624\n",
            "Epoch 126/1200\n",
            "1/1 [==============================] - 0s 6ms/step - loss: 0.0928 - mae: 0.2615\n",
            "Epoch 127/1200\n",
            "1/1 [==============================] - 0s 10ms/step - loss: 0.0922 - mae: 0.2606\n",
            "Epoch 128/1200\n",
            "1/1 [==============================] - 0s 5ms/step - loss: 0.0916 - mae: 0.2598\n",
            "Epoch 129/1200\n",
            "1/1 [==============================] - 0s 6ms/step - loss: 0.0910 - mae: 0.2589\n",
            "Epoch 130/1200\n",
            "1/1 [==============================] - 0s 6ms/step - loss: 0.0904 - mae: 0.2580\n",
            "Epoch 131/1200\n",
            "1/1 [==============================] - 0s 10ms/step - loss: 0.0897 - mae: 0.2571\n",
            "Epoch 132/1200\n",
            "1/1 [==============================] - 0s 9ms/step - loss: 0.0891 - mae: 0.2563\n",
            "Epoch 133/1200\n",
            "1/1 [==============================] - 0s 8ms/step - loss: 0.0885 - mae: 0.2554\n",
            "Epoch 134/1200\n",
            "1/1 [==============================] - 0s 15ms/step - loss: 0.0879 - mae: 0.2545\n",
            "Epoch 135/1200\n",
            "1/1 [==============================] - 0s 13ms/step - loss: 0.0873 - mae: 0.2537\n",
            "Epoch 136/1200\n",
            "1/1 [==============================] - 0s 8ms/step - loss: 0.0868 - mae: 0.2528\n",
            "Epoch 137/1200\n",
            "1/1 [==============================] - 0s 15ms/step - loss: 0.0862 - mae: 0.2520\n",
            "Epoch 138/1200\n",
            "1/1 [==============================] - 0s 6ms/step - loss: 0.0856 - mae: 0.2511\n",
            "Epoch 139/1200\n",
            "1/1 [==============================] - 0s 5ms/step - loss: 0.0850 - mae: 0.2503\n",
            "Epoch 140/1200\n",
            "1/1 [==============================] - 0s 6ms/step - loss: 0.0844 - mae: 0.2494\n",
            "Epoch 141/1200\n",
            "1/1 [==============================] - 0s 20ms/step - loss: 0.0839 - mae: 0.2486\n",
            "Epoch 142/1200\n",
            "1/1 [==============================] - 0s 10ms/step - loss: 0.0833 - mae: 0.2477\n",
            "Epoch 143/1200\n",
            "1/1 [==============================] - 0s 20ms/step - loss: 0.0827 - mae: 0.2469\n",
            "Epoch 144/1200\n",
            "1/1 [==============================] - 0s 8ms/step - loss: 0.0822 - mae: 0.2461\n",
            "Epoch 145/1200\n",
            "1/1 [==============================] - 0s 7ms/step - loss: 0.0816 - mae: 0.2452\n",
            "Epoch 146/1200\n",
            "1/1 [==============================] - 0s 8ms/step - loss: 0.0811 - mae: 0.2444\n",
            "Epoch 147/1200\n",
            "1/1 [==============================] - 0s 8ms/step - loss: 0.0805 - mae: 0.2436\n",
            "Epoch 148/1200\n",
            "1/1 [==============================] - 0s 8ms/step - loss: 0.0800 - mae: 0.2427\n",
            "Epoch 149/1200\n",
            "1/1 [==============================] - 0s 8ms/step - loss: 0.0794 - mae: 0.2419\n",
            "Epoch 150/1200\n",
            "1/1 [==============================] - 0s 9ms/step - loss: 0.0789 - mae: 0.2411\n",
            "Epoch 151/1200\n",
            "1/1 [==============================] - 0s 9ms/step - loss: 0.0784 - mae: 0.2403\n",
            "Epoch 152/1200\n",
            "1/1 [==============================] - 0s 7ms/step - loss: 0.0778 - mae: 0.2395\n",
            "Epoch 153/1200\n",
            "1/1 [==============================] - 0s 8ms/step - loss: 0.0773 - mae: 0.2387\n",
            "Epoch 154/1200\n",
            "1/1 [==============================] - 0s 9ms/step - loss: 0.0768 - mae: 0.2379\n",
            "Epoch 155/1200\n",
            "1/1 [==============================] - 0s 7ms/step - loss: 0.0763 - mae: 0.2371\n",
            "Epoch 156/1200\n",
            "1/1 [==============================] - 0s 9ms/step - loss: 0.0758 - mae: 0.2363\n",
            "Epoch 157/1200\n",
            "1/1 [==============================] - 0s 9ms/step - loss: 0.0753 - mae: 0.2355\n",
            "Epoch 158/1200\n",
            "1/1 [==============================] - 0s 10ms/step - loss: 0.0747 - mae: 0.2347\n",
            "Epoch 159/1200\n",
            "1/1 [==============================] - 0s 7ms/step - loss: 0.0742 - mae: 0.2339\n",
            "Epoch 160/1200\n",
            "1/1 [==============================] - 0s 7ms/step - loss: 0.0737 - mae: 0.2331\n",
            "Epoch 161/1200\n",
            "1/1 [==============================] - 0s 9ms/step - loss: 0.0732 - mae: 0.2323\n",
            "Epoch 162/1200\n",
            "1/1 [==============================] - 0s 7ms/step - loss: 0.0727 - mae: 0.2315\n",
            "Epoch 163/1200\n",
            "1/1 [==============================] - 0s 6ms/step - loss: 0.0723 - mae: 0.2307\n",
            "Epoch 164/1200\n",
            "1/1 [==============================] - 0s 6ms/step - loss: 0.0718 - mae: 0.2299\n",
            "Epoch 165/1200\n",
            "1/1 [==============================] - 0s 6ms/step - loss: 0.0713 - mae: 0.2292\n",
            "Epoch 166/1200\n",
            "1/1 [==============================] - 0s 9ms/step - loss: 0.0708 - mae: 0.2284\n",
            "Epoch 167/1200\n",
            "1/1 [==============================] - 0s 7ms/step - loss: 0.0703 - mae: 0.2276\n",
            "Epoch 168/1200\n",
            "1/1 [==============================] - 0s 9ms/step - loss: 0.0699 - mae: 0.2268\n",
            "Epoch 169/1200\n",
            "1/1 [==============================] - 0s 7ms/step - loss: 0.0694 - mae: 0.2261\n",
            "Epoch 170/1200\n",
            "1/1 [==============================] - 0s 9ms/step - loss: 0.0689 - mae: 0.2253\n",
            "Epoch 171/1200\n",
            "1/1 [==============================] - 0s 6ms/step - loss: 0.0684 - mae: 0.2246\n",
            "Epoch 172/1200\n",
            "1/1 [==============================] - 0s 6ms/step - loss: 0.0680 - mae: 0.2238\n",
            "Epoch 173/1200\n",
            "1/1 [==============================] - 0s 6ms/step - loss: 0.0675 - mae: 0.2230\n",
            "Epoch 174/1200\n",
            "1/1 [==============================] - 0s 5ms/step - loss: 0.0671 - mae: 0.2223\n",
            "Epoch 175/1200\n",
            "1/1 [==============================] - 0s 7ms/step - loss: 0.0666 - mae: 0.2215\n",
            "Epoch 176/1200\n",
            "1/1 [==============================] - 0s 6ms/step - loss: 0.0662 - mae: 0.2208\n",
            "Epoch 177/1200\n",
            "1/1 [==============================] - 0s 7ms/step - loss: 0.0657 - mae: 0.2200\n",
            "Epoch 178/1200\n",
            "1/1 [==============================] - 0s 6ms/step - loss: 0.0653 - mae: 0.2193\n",
            "Epoch 179/1200\n",
            "1/1 [==============================] - 0s 6ms/step - loss: 0.0648 - mae: 0.2186\n",
            "Epoch 180/1200\n",
            "1/1 [==============================] - 0s 6ms/step - loss: 0.0644 - mae: 0.2178\n",
            "Epoch 181/1200\n",
            "1/1 [==============================] - 0s 7ms/step - loss: 0.0640 - mae: 0.2171\n",
            "Epoch 182/1200\n",
            "1/1 [==============================] - 0s 6ms/step - loss: 0.0635 - mae: 0.2163\n",
            "Epoch 183/1200\n",
            "1/1 [==============================] - 0s 6ms/step - loss: 0.0631 - mae: 0.2156\n",
            "Epoch 184/1200\n",
            "1/1 [==============================] - 0s 6ms/step - loss: 0.0627 - mae: 0.2149\n",
            "Epoch 185/1200\n",
            "1/1 [==============================] - 0s 6ms/step - loss: 0.0623 - mae: 0.2142\n",
            "Epoch 186/1200\n",
            "1/1 [==============================] - 0s 7ms/step - loss: 0.0618 - mae: 0.2134\n",
            "Epoch 187/1200\n",
            "1/1 [==============================] - 0s 6ms/step - loss: 0.0614 - mae: 0.2127\n",
            "Epoch 188/1200\n",
            "1/1 [==============================] - 0s 6ms/step - loss: 0.0610 - mae: 0.2120\n",
            "Epoch 189/1200\n",
            "1/1 [==============================] - 0s 7ms/step - loss: 0.0606 - mae: 0.2113\n",
            "Epoch 190/1200\n",
            "1/1 [==============================] - 0s 6ms/step - loss: 0.0602 - mae: 0.2106\n",
            "Epoch 191/1200\n",
            "1/1 [==============================] - 0s 9ms/step - loss: 0.0598 - mae: 0.2098\n",
            "Epoch 192/1200\n",
            "1/1 [==============================] - 0s 6ms/step - loss: 0.0594 - mae: 0.2091\n",
            "Epoch 193/1200\n",
            "1/1 [==============================] - 0s 7ms/step - loss: 0.0590 - mae: 0.2084\n",
            "Epoch 194/1200\n",
            "1/1 [==============================] - 0s 7ms/step - loss: 0.0586 - mae: 0.2077\n",
            "Epoch 195/1200\n",
            "1/1 [==============================] - 0s 7ms/step - loss: 0.0582 - mae: 0.2070\n",
            "Epoch 196/1200\n",
            "1/1 [==============================] - 0s 6ms/step - loss: 0.0578 - mae: 0.2063\n",
            "Epoch 197/1200\n",
            "1/1 [==============================] - 0s 7ms/step - loss: 0.0574 - mae: 0.2056\n",
            "Epoch 198/1200\n",
            "1/1 [==============================] - 0s 7ms/step - loss: 0.0570 - mae: 0.2049\n",
            "Epoch 199/1200\n",
            "1/1 [==============================] - 0s 8ms/step - loss: 0.0566 - mae: 0.2042\n",
            "Epoch 200/1200\n",
            "1/1 [==============================] - 0s 7ms/step - loss: 0.0562 - mae: 0.2035\n",
            "Epoch 201/1200\n",
            "1/1 [==============================] - 0s 8ms/step - loss: 0.0559 - mae: 0.2029\n",
            "Epoch 202/1200\n",
            "1/1 [==============================] - 0s 6ms/step - loss: 0.0555 - mae: 0.2022\n",
            "Epoch 203/1200\n",
            "1/1 [==============================] - 0s 6ms/step - loss: 0.0551 - mae: 0.2015\n",
            "Epoch 204/1200\n",
            "1/1 [==============================] - 0s 16ms/step - loss: 0.0547 - mae: 0.2008\n",
            "Epoch 205/1200\n",
            "1/1 [==============================] - 0s 12ms/step - loss: 0.0544 - mae: 0.2001\n",
            "Epoch 206/1200\n",
            "1/1 [==============================] - 0s 19ms/step - loss: 0.0540 - mae: 0.1995\n",
            "Epoch 207/1200\n",
            "1/1 [==============================] - 0s 17ms/step - loss: 0.0536 - mae: 0.1988\n",
            "Epoch 208/1200\n",
            "1/1 [==============================] - 0s 11ms/step - loss: 0.0533 - mae: 0.1981\n",
            "Epoch 209/1200\n",
            "1/1 [==============================] - 0s 8ms/step - loss: 0.0529 - mae: 0.1974\n",
            "Epoch 210/1200\n",
            "1/1 [==============================] - 0s 17ms/step - loss: 0.0526 - mae: 0.1968\n",
            "Epoch 211/1200\n",
            "1/1 [==============================] - 0s 13ms/step - loss: 0.0522 - mae: 0.1961\n",
            "Epoch 212/1200\n",
            "1/1 [==============================] - 0s 13ms/step - loss: 0.0518 - mae: 0.1954\n",
            "Epoch 213/1200\n",
            "1/1 [==============================] - 0s 11ms/step - loss: 0.0515 - mae: 0.1948\n",
            "Epoch 214/1200\n",
            "1/1 [==============================] - 0s 10ms/step - loss: 0.0512 - mae: 0.1941\n",
            "Epoch 215/1200\n",
            "1/1 [==============================] - 0s 12ms/step - loss: 0.0508 - mae: 0.1935\n",
            "Epoch 216/1200\n",
            "1/1 [==============================] - 0s 11ms/step - loss: 0.0505 - mae: 0.1928\n",
            "Epoch 217/1200\n",
            "1/1 [==============================] - 0s 23ms/step - loss: 0.0501 - mae: 0.1922\n",
            "Epoch 218/1200\n",
            "1/1 [==============================] - 0s 13ms/step - loss: 0.0498 - mae: 0.1915\n",
            "Epoch 219/1200\n",
            "1/1 [==============================] - 0s 12ms/step - loss: 0.0494 - mae: 0.1909\n",
            "Epoch 220/1200\n",
            "1/1 [==============================] - 0s 10ms/step - loss: 0.0491 - mae: 0.1902\n",
            "Epoch 221/1200\n",
            "1/1 [==============================] - 0s 10ms/step - loss: 0.0488 - mae: 0.1896\n",
            "Epoch 222/1200\n",
            "1/1 [==============================] - 0s 12ms/step - loss: 0.0485 - mae: 0.1889\n",
            "Epoch 223/1200\n",
            "1/1 [==============================] - 0s 6ms/step - loss: 0.0481 - mae: 0.1883\n",
            "Epoch 224/1200\n",
            "1/1 [==============================] - 0s 8ms/step - loss: 0.0478 - mae: 0.1877\n",
            "Epoch 225/1200\n",
            "1/1 [==============================] - 0s 6ms/step - loss: 0.0475 - mae: 0.1870\n",
            "Epoch 226/1200\n",
            "1/1 [==============================] - 0s 10ms/step - loss: 0.0472 - mae: 0.1864\n",
            "Epoch 227/1200\n",
            "1/1 [==============================] - 0s 9ms/step - loss: 0.0468 - mae: 0.1858\n",
            "Epoch 228/1200\n",
            "1/1 [==============================] - 0s 11ms/step - loss: 0.0465 - mae: 0.1851\n",
            "Epoch 229/1200\n",
            "1/1 [==============================] - 0s 13ms/step - loss: 0.0462 - mae: 0.1845\n",
            "Epoch 230/1200\n",
            "1/1 [==============================] - 0s 10ms/step - loss: 0.0459 - mae: 0.1839\n",
            "Epoch 231/1200\n",
            "1/1 [==============================] - 0s 8ms/step - loss: 0.0456 - mae: 0.1833\n",
            "Epoch 232/1200\n",
            "1/1 [==============================] - 0s 13ms/step - loss: 0.0453 - mae: 0.1826\n",
            "Epoch 233/1200\n",
            "1/1 [==============================] - 0s 7ms/step - loss: 0.0450 - mae: 0.1820\n",
            "Epoch 234/1200\n",
            "1/1 [==============================] - 0s 12ms/step - loss: 0.0447 - mae: 0.1814\n",
            "Epoch 235/1200\n",
            "1/1 [==============================] - 0s 9ms/step - loss: 0.0444 - mae: 0.1808\n",
            "Epoch 236/1200\n",
            "1/1 [==============================] - 0s 7ms/step - loss: 0.0441 - mae: 0.1802\n",
            "Epoch 237/1200\n",
            "1/1 [==============================] - 0s 8ms/step - loss: 0.0438 - mae: 0.1796\n",
            "Epoch 238/1200\n",
            "1/1 [==============================] - 0s 8ms/step - loss: 0.0435 - mae: 0.1790\n",
            "Epoch 239/1200\n",
            "1/1 [==============================] - 0s 9ms/step - loss: 0.0432 - mae: 0.1784\n",
            "Epoch 240/1200\n",
            "1/1 [==============================] - 0s 10ms/step - loss: 0.0429 - mae: 0.1778\n",
            "Epoch 241/1200\n",
            "1/1 [==============================] - 0s 6ms/step - loss: 0.0426 - mae: 0.1772\n",
            "Epoch 242/1200\n",
            "1/1 [==============================] - 0s 9ms/step - loss: 0.0423 - mae: 0.1766\n",
            "Epoch 243/1200\n",
            "1/1 [==============================] - 0s 8ms/step - loss: 0.0420 - mae: 0.1760\n",
            "Epoch 244/1200\n",
            "1/1 [==============================] - 0s 8ms/step - loss: 0.0417 - mae: 0.1754\n",
            "Epoch 245/1200\n",
            "1/1 [==============================] - 0s 8ms/step - loss: 0.0415 - mae: 0.1748\n",
            "Epoch 246/1200\n",
            "1/1 [==============================] - 0s 7ms/step - loss: 0.0412 - mae: 0.1742\n",
            "Epoch 247/1200\n",
            "1/1 [==============================] - 0s 9ms/step - loss: 0.0409 - mae: 0.1736\n",
            "Epoch 248/1200\n",
            "1/1 [==============================] - 0s 8ms/step - loss: 0.0406 - mae: 0.1730\n",
            "Epoch 249/1200\n",
            "1/1 [==============================] - 0s 8ms/step - loss: 0.0404 - mae: 0.1724\n",
            "Epoch 250/1200\n",
            "1/1 [==============================] - 0s 10ms/step - loss: 0.0401 - mae: 0.1718\n",
            "Epoch 251/1200\n",
            "1/1 [==============================] - 0s 10ms/step - loss: 0.0398 - mae: 0.1713\n",
            "Epoch 252/1200\n",
            "1/1 [==============================] - 0s 16ms/step - loss: 0.0395 - mae: 0.1707\n",
            "Epoch 253/1200\n",
            "1/1 [==============================] - 0s 5ms/step - loss: 0.0393 - mae: 0.1701\n",
            "Epoch 254/1200\n",
            "1/1 [==============================] - 0s 8ms/step - loss: 0.0390 - mae: 0.1695\n",
            "Epoch 255/1200\n",
            "1/1 [==============================] - 0s 5ms/step - loss: 0.0387 - mae: 0.1690\n",
            "Epoch 256/1200\n",
            "1/1 [==============================] - 0s 5ms/step - loss: 0.0385 - mae: 0.1684\n",
            "Epoch 257/1200\n",
            "1/1 [==============================] - 0s 5ms/step - loss: 0.0382 - mae: 0.1678\n",
            "Epoch 258/1200\n",
            "1/1 [==============================] - 0s 6ms/step - loss: 0.0380 - mae: 0.1672\n",
            "Epoch 259/1200\n",
            "1/1 [==============================] - 0s 5ms/step - loss: 0.0377 - mae: 0.1667\n",
            "Epoch 260/1200\n",
            "1/1 [==============================] - 0s 6ms/step - loss: 0.0375 - mae: 0.1661\n",
            "Epoch 261/1200\n",
            "1/1 [==============================] - 0s 5ms/step - loss: 0.0372 - mae: 0.1656\n",
            "Epoch 262/1200\n",
            "1/1 [==============================] - 0s 8ms/step - loss: 0.0370 - mae: 0.1650\n",
            "Epoch 263/1200\n",
            "1/1 [==============================] - 0s 5ms/step - loss: 0.0367 - mae: 0.1644\n",
            "Epoch 264/1200\n",
            "1/1 [==============================] - 0s 5ms/step - loss: 0.0365 - mae: 0.1639\n",
            "Epoch 265/1200\n",
            "1/1 [==============================] - 0s 5ms/step - loss: 0.0362 - mae: 0.1633\n",
            "Epoch 266/1200\n",
            "1/1 [==============================] - 0s 7ms/step - loss: 0.0360 - mae: 0.1628\n",
            "Epoch 267/1200\n",
            "1/1 [==============================] - 0s 6ms/step - loss: 0.0357 - mae: 0.1622\n",
            "Epoch 268/1200\n",
            "1/1 [==============================] - 0s 5ms/step - loss: 0.0355 - mae: 0.1617\n",
            "Epoch 269/1200\n",
            "1/1 [==============================] - 0s 5ms/step - loss: 0.0352 - mae: 0.1611\n",
            "Epoch 270/1200\n",
            "1/1 [==============================] - 0s 5ms/step - loss: 0.0350 - mae: 0.1606\n",
            "Epoch 271/1200\n",
            "1/1 [==============================] - 0s 9ms/step - loss: 0.0348 - mae: 0.1600\n",
            "Epoch 272/1200\n",
            "1/1 [==============================] - 0s 9ms/step - loss: 0.0345 - mae: 0.1595\n",
            "Epoch 273/1200\n",
            "1/1 [==============================] - 0s 6ms/step - loss: 0.0343 - mae: 0.1590\n",
            "Epoch 274/1200\n",
            "1/1 [==============================] - 0s 8ms/step - loss: 0.0341 - mae: 0.1584\n",
            "Epoch 275/1200\n",
            "1/1 [==============================] - 0s 6ms/step - loss: 0.0338 - mae: 0.1579\n",
            "Epoch 276/1200\n",
            "1/1 [==============================] - 0s 6ms/step - loss: 0.0336 - mae: 0.1574\n",
            "Epoch 277/1200\n",
            "1/1 [==============================] - 0s 5ms/step - loss: 0.0334 - mae: 0.1568\n",
            "Epoch 278/1200\n",
            "1/1 [==============================] - 0s 5ms/step - loss: 0.0332 - mae: 0.1563\n",
            "Epoch 279/1200\n",
            "1/1 [==============================] - 0s 5ms/step - loss: 0.0329 - mae: 0.1558\n",
            "Epoch 280/1200\n",
            "1/1 [==============================] - 0s 5ms/step - loss: 0.0327 - mae: 0.1552\n",
            "Epoch 281/1200\n",
            "1/1 [==============================] - 0s 5ms/step - loss: 0.0325 - mae: 0.1547\n",
            "Epoch 282/1200\n",
            "1/1 [==============================] - 0s 5ms/step - loss: 0.0323 - mae: 0.1542\n",
            "Epoch 283/1200\n",
            "1/1 [==============================] - 0s 7ms/step - loss: 0.0321 - mae: 0.1537\n",
            "Epoch 284/1200\n",
            "1/1 [==============================] - 0s 5ms/step - loss: 0.0318 - mae: 0.1532\n",
            "Epoch 285/1200\n",
            "1/1 [==============================] - 0s 5ms/step - loss: 0.0316 - mae: 0.1526\n",
            "Epoch 286/1200\n",
            "1/1 [==============================] - 0s 5ms/step - loss: 0.0314 - mae: 0.1521\n",
            "Epoch 287/1200\n",
            "1/1 [==============================] - 0s 5ms/step - loss: 0.0312 - mae: 0.1516\n",
            "Epoch 288/1200\n",
            "1/1 [==============================] - 0s 5ms/step - loss: 0.0310 - mae: 0.1511\n",
            "Epoch 289/1200\n",
            "1/1 [==============================] - 0s 5ms/step - loss: 0.0308 - mae: 0.1506\n",
            "Epoch 290/1200\n",
            "1/1 [==============================] - 0s 5ms/step - loss: 0.0306 - mae: 0.1501\n",
            "Epoch 291/1200\n",
            "1/1 [==============================] - 0s 5ms/step - loss: 0.0304 - mae: 0.1496\n",
            "Epoch 292/1200\n",
            "1/1 [==============================] - 0s 6ms/step - loss: 0.0302 - mae: 0.1491\n",
            "Epoch 293/1200\n",
            "1/1 [==============================] - 0s 5ms/step - loss: 0.0300 - mae: 0.1486\n",
            "Epoch 294/1200\n",
            "1/1 [==============================] - 0s 5ms/step - loss: 0.0298 - mae: 0.1481\n",
            "Epoch 295/1200\n",
            "1/1 [==============================] - 0s 6ms/step - loss: 0.0296 - mae: 0.1476\n",
            "Epoch 296/1200\n",
            "1/1 [==============================] - 0s 5ms/step - loss: 0.0294 - mae: 0.1471\n",
            "Epoch 297/1200\n",
            "1/1 [==============================] - 0s 6ms/step - loss: 0.0292 - mae: 0.1466\n",
            "Epoch 298/1200\n",
            "1/1 [==============================] - 0s 5ms/step - loss: 0.0290 - mae: 0.1461\n",
            "Epoch 299/1200\n",
            "1/1 [==============================] - 0s 5ms/step - loss: 0.0288 - mae: 0.1456\n",
            "Epoch 300/1200\n",
            "1/1 [==============================] - 0s 5ms/step - loss: 0.0286 - mae: 0.1451\n",
            "Epoch 301/1200\n",
            "1/1 [==============================] - 0s 10ms/step - loss: 0.0284 - mae: 0.1446\n",
            "Epoch 302/1200\n",
            "1/1 [==============================] - 0s 7ms/step - loss: 0.0282 - mae: 0.1441\n",
            "Epoch 303/1200\n",
            "1/1 [==============================] - 0s 12ms/step - loss: 0.0280 - mae: 0.1436\n",
            "Epoch 304/1200\n",
            "1/1 [==============================] - 0s 5ms/step - loss: 0.0278 - mae: 0.1431\n",
            "Epoch 305/1200\n",
            "1/1 [==============================] - 0s 6ms/step - loss: 0.0276 - mae: 0.1426\n",
            "Epoch 306/1200\n",
            "1/1 [==============================] - 0s 5ms/step - loss: 0.0274 - mae: 0.1422\n",
            "Epoch 307/1200\n",
            "1/1 [==============================] - 0s 5ms/step - loss: 0.0272 - mae: 0.1417\n",
            "Epoch 308/1200\n",
            "1/1 [==============================] - 0s 5ms/step - loss: 0.0271 - mae: 0.1412\n",
            "Epoch 309/1200\n",
            "1/1 [==============================] - 0s 5ms/step - loss: 0.0269 - mae: 0.1407\n",
            "Epoch 310/1200\n",
            "1/1 [==============================] - 0s 5ms/step - loss: 0.0267 - mae: 0.1402\n",
            "Epoch 311/1200\n",
            "1/1 [==============================] - 0s 7ms/step - loss: 0.0265 - mae: 0.1398\n",
            "Epoch 312/1200\n",
            "1/1 [==============================] - 0s 5ms/step - loss: 0.0263 - mae: 0.1393\n",
            "Epoch 313/1200\n",
            "1/1 [==============================] - 0s 5ms/step - loss: 0.0262 - mae: 0.1388\n",
            "Epoch 314/1200\n",
            "1/1 [==============================] - 0s 5ms/step - loss: 0.0260 - mae: 0.1384\n",
            "Epoch 315/1200\n",
            "1/1 [==============================] - 0s 5ms/step - loss: 0.0258 - mae: 0.1379\n",
            "Epoch 316/1200\n",
            "1/1 [==============================] - 0s 5ms/step - loss: 0.0256 - mae: 0.1374\n",
            "Epoch 317/1200\n",
            "1/1 [==============================] - 0s 5ms/step - loss: 0.0255 - mae: 0.1370\n",
            "Epoch 318/1200\n",
            "1/1 [==============================] - 0s 10ms/step - loss: 0.0253 - mae: 0.1365\n",
            "Epoch 319/1200\n",
            "1/1 [==============================] - 0s 5ms/step - loss: 0.0251 - mae: 0.1360\n",
            "Epoch 320/1200\n",
            "1/1 [==============================] - 0s 5ms/step - loss: 0.0249 - mae: 0.1356\n",
            "Epoch 321/1200\n",
            "1/1 [==============================] - 0s 5ms/step - loss: 0.0248 - mae: 0.1351\n",
            "Epoch 322/1200\n",
            "1/1 [==============================] - 0s 5ms/step - loss: 0.0246 - mae: 0.1347\n",
            "Epoch 323/1200\n",
            "1/1 [==============================] - 0s 5ms/step - loss: 0.0244 - mae: 0.1342\n",
            "Epoch 324/1200\n",
            "1/1 [==============================] - 0s 5ms/step - loss: 0.0243 - mae: 0.1337\n",
            "Epoch 325/1200\n",
            "1/1 [==============================] - 0s 5ms/step - loss: 0.0241 - mae: 0.1333\n",
            "Epoch 326/1200\n",
            "1/1 [==============================] - 0s 5ms/step - loss: 0.0240 - mae: 0.1328\n",
            "Epoch 327/1200\n",
            "1/1 [==============================] - 0s 5ms/step - loss: 0.0238 - mae: 0.1324\n",
            "Epoch 328/1200\n",
            "1/1 [==============================] - 0s 5ms/step - loss: 0.0236 - mae: 0.1319\n",
            "Epoch 329/1200\n",
            "1/1 [==============================] - 0s 5ms/step - loss: 0.0235 - mae: 0.1315\n",
            "Epoch 330/1200\n",
            "1/1 [==============================] - 0s 5ms/step - loss: 0.0233 - mae: 0.1311\n",
            "Epoch 331/1200\n",
            "1/1 [==============================] - 0s 5ms/step - loss: 0.0232 - mae: 0.1306\n",
            "Epoch 332/1200\n",
            "1/1 [==============================] - 0s 5ms/step - loss: 0.0230 - mae: 0.1302\n",
            "Epoch 333/1200\n",
            "1/1 [==============================] - 0s 5ms/step - loss: 0.0228 - mae: 0.1297\n",
            "Epoch 334/1200\n",
            "1/1 [==============================] - 0s 5ms/step - loss: 0.0227 - mae: 0.1293\n",
            "Epoch 335/1200\n",
            "1/1 [==============================] - 0s 5ms/step - loss: 0.0225 - mae: 0.1289\n",
            "Epoch 336/1200\n",
            "1/1 [==============================] - 0s 5ms/step - loss: 0.0224 - mae: 0.1284\n",
            "Epoch 337/1200\n",
            "1/1 [==============================] - 0s 5ms/step - loss: 0.0222 - mae: 0.1280\n",
            "Epoch 338/1200\n",
            "1/1 [==============================] - 0s 10ms/step - loss: 0.0221 - mae: 0.1276\n",
            "Epoch 339/1200\n",
            "1/1 [==============================] - 0s 5ms/step - loss: 0.0219 - mae: 0.1271\n",
            "Epoch 340/1200\n",
            "1/1 [==============================] - 0s 5ms/step - loss: 0.0218 - mae: 0.1267\n",
            "Epoch 341/1200\n",
            "1/1 [==============================] - 0s 5ms/step - loss: 0.0216 - mae: 0.1263\n",
            "Epoch 342/1200\n",
            "1/1 [==============================] - 0s 5ms/step - loss: 0.0215 - mae: 0.1258\n",
            "Epoch 343/1200\n",
            "1/1 [==============================] - 0s 5ms/step - loss: 0.0213 - mae: 0.1254\n",
            "Epoch 344/1200\n",
            "1/1 [==============================] - 0s 5ms/step - loss: 0.0212 - mae: 0.1250\n",
            "Epoch 345/1200\n",
            "1/1 [==============================] - 0s 5ms/step - loss: 0.0211 - mae: 0.1246\n",
            "Epoch 346/1200\n",
            "1/1 [==============================] - 0s 5ms/step - loss: 0.0209 - mae: 0.1241\n",
            "Epoch 347/1200\n",
            "1/1 [==============================] - 0s 5ms/step - loss: 0.0208 - mae: 0.1237\n",
            "Epoch 348/1200\n",
            "1/1 [==============================] - 0s 5ms/step - loss: 0.0206 - mae: 0.1233\n",
            "Epoch 349/1200\n",
            "1/1 [==============================] - 0s 5ms/step - loss: 0.0205 - mae: 0.1229\n",
            "Epoch 350/1200\n",
            "1/1 [==============================] - 0s 5ms/step - loss: 0.0204 - mae: 0.1225\n",
            "Epoch 351/1200\n",
            "1/1 [==============================] - 0s 6ms/step - loss: 0.0202 - mae: 0.1221\n",
            "Epoch 352/1200\n",
            "1/1 [==============================] - 0s 7ms/step - loss: 0.0201 - mae: 0.1216\n",
            "Epoch 353/1200\n",
            "1/1 [==============================] - 0s 6ms/step - loss: 0.0200 - mae: 0.1212\n",
            "Epoch 354/1200\n",
            "1/1 [==============================] - 0s 13ms/step - loss: 0.0198 - mae: 0.1208\n",
            "Epoch 355/1200\n",
            "1/1 [==============================] - 0s 10ms/step - loss: 0.0197 - mae: 0.1204\n",
            "Epoch 356/1200\n",
            "1/1 [==============================] - 0s 9ms/step - loss: 0.0195 - mae: 0.1200\n",
            "Epoch 357/1200\n",
            "1/1 [==============================] - 0s 5ms/step - loss: 0.0194 - mae: 0.1196\n",
            "Epoch 358/1200\n",
            "1/1 [==============================] - 0s 8ms/step - loss: 0.0193 - mae: 0.1192\n",
            "Epoch 359/1200\n",
            "1/1 [==============================] - 0s 5ms/step - loss: 0.0192 - mae: 0.1188\n",
            "Epoch 360/1200\n",
            "1/1 [==============================] - 0s 5ms/step - loss: 0.0190 - mae: 0.1184\n",
            "Epoch 361/1200\n",
            "1/1 [==============================] - 0s 5ms/step - loss: 0.0189 - mae: 0.1180\n",
            "Epoch 362/1200\n",
            "1/1 [==============================] - 0s 5ms/step - loss: 0.0188 - mae: 0.1176\n",
            "Epoch 363/1200\n",
            "1/1 [==============================] - 0s 5ms/step - loss: 0.0186 - mae: 0.1172\n",
            "Epoch 364/1200\n",
            "1/1 [==============================] - 0s 5ms/step - loss: 0.0185 - mae: 0.1168\n",
            "Epoch 365/1200\n",
            "1/1 [==============================] - 0s 5ms/step - loss: 0.0184 - mae: 0.1164\n",
            "Epoch 366/1200\n",
            "1/1 [==============================] - 0s 5ms/step - loss: 0.0183 - mae: 0.1160\n",
            "Epoch 367/1200\n",
            "1/1 [==============================] - 0s 5ms/step - loss: 0.0181 - mae: 0.1156\n",
            "Epoch 368/1200\n",
            "1/1 [==============================] - 0s 5ms/step - loss: 0.0180 - mae: 0.1152\n",
            "Epoch 369/1200\n",
            "1/1 [==============================] - 0s 6ms/step - loss: 0.0179 - mae: 0.1148\n",
            "Epoch 370/1200\n",
            "1/1 [==============================] - 0s 6ms/step - loss: 0.0178 - mae: 0.1145\n",
            "Epoch 371/1200\n",
            "1/1 [==============================] - 0s 5ms/step - loss: 0.0177 - mae: 0.1141\n",
            "Epoch 372/1200\n",
            "1/1 [==============================] - 0s 5ms/step - loss: 0.0175 - mae: 0.1137\n",
            "Epoch 373/1200\n",
            "1/1 [==============================] - 0s 5ms/step - loss: 0.0174 - mae: 0.1133\n",
            "Epoch 374/1200\n",
            "1/1 [==============================] - 0s 6ms/step - loss: 0.0173 - mae: 0.1129\n",
            "Epoch 375/1200\n",
            "1/1 [==============================] - 0s 6ms/step - loss: 0.0172 - mae: 0.1125\n",
            "Epoch 376/1200\n",
            "1/1 [==============================] - 0s 6ms/step - loss: 0.0171 - mae: 0.1122\n",
            "Epoch 377/1200\n",
            "1/1 [==============================] - 0s 11ms/step - loss: 0.0170 - mae: 0.1118\n",
            "Epoch 378/1200\n",
            "1/1 [==============================] - 0s 5ms/step - loss: 0.0168 - mae: 0.1114\n",
            "Epoch 379/1200\n",
            "1/1 [==============================] - 0s 5ms/step - loss: 0.0167 - mae: 0.1110\n",
            "Epoch 380/1200\n",
            "1/1 [==============================] - 0s 5ms/step - loss: 0.0166 - mae: 0.1106\n",
            "Epoch 381/1200\n",
            "1/1 [==============================] - 0s 5ms/step - loss: 0.0165 - mae: 0.1103\n",
            "Epoch 382/1200\n",
            "1/1 [==============================] - 0s 5ms/step - loss: 0.0164 - mae: 0.1099\n",
            "Epoch 383/1200\n",
            "1/1 [==============================] - 0s 21ms/step - loss: 0.0163 - mae: 0.1095\n",
            "Epoch 384/1200\n",
            "1/1 [==============================] - 0s 8ms/step - loss: 0.0162 - mae: 0.1092\n",
            "Epoch 385/1200\n",
            "1/1 [==============================] - 0s 5ms/step - loss: 0.0161 - mae: 0.1088\n",
            "Epoch 386/1200\n",
            "1/1 [==============================] - 0s 5ms/step - loss: 0.0160 - mae: 0.1084\n",
            "Epoch 387/1200\n",
            "1/1 [==============================] - 0s 5ms/step - loss: 0.0158 - mae: 0.1080\n",
            "Epoch 388/1200\n",
            "1/1 [==============================] - 0s 6ms/step - loss: 0.0157 - mae: 0.1077\n",
            "Epoch 389/1200\n",
            "1/1 [==============================] - 0s 5ms/step - loss: 0.0156 - mae: 0.1073\n",
            "Epoch 390/1200\n",
            "1/1 [==============================] - 0s 5ms/step - loss: 0.0155 - mae: 0.1070\n",
            "Epoch 391/1200\n",
            "1/1 [==============================] - 0s 5ms/step - loss: 0.0154 - mae: 0.1066\n",
            "Epoch 392/1200\n",
            "1/1 [==============================] - 0s 5ms/step - loss: 0.0153 - mae: 0.1062\n",
            "Epoch 393/1200\n",
            "1/1 [==============================] - 0s 14ms/step - loss: 0.0152 - mae: 0.1059\n",
            "Epoch 394/1200\n",
            "1/1 [==============================] - 0s 8ms/step - loss: 0.0151 - mae: 0.1055\n",
            "Epoch 395/1200\n",
            "1/1 [==============================] - 0s 7ms/step - loss: 0.0150 - mae: 0.1052\n",
            "Epoch 396/1200\n",
            "1/1 [==============================] - 0s 8ms/step - loss: 0.0149 - mae: 0.1048\n",
            "Epoch 397/1200\n",
            "1/1 [==============================] - 0s 8ms/step - loss: 0.0148 - mae: 0.1045\n",
            "Epoch 398/1200\n",
            "1/1 [==============================] - 0s 8ms/step - loss: 0.0147 - mae: 0.1041\n",
            "Epoch 399/1200\n",
            "1/1 [==============================] - 0s 6ms/step - loss: 0.0146 - mae: 0.1037\n",
            "Epoch 400/1200\n",
            "1/1 [==============================] - 0s 6ms/step - loss: 0.0145 - mae: 0.1034\n",
            "Epoch 401/1200\n",
            "1/1 [==============================] - 0s 7ms/step - loss: 0.0144 - mae: 0.1030\n",
            "Epoch 402/1200\n",
            "1/1 [==============================] - 0s 6ms/step - loss: 0.0143 - mae: 0.1027\n",
            "Epoch 403/1200\n",
            "1/1 [==============================] - 0s 8ms/step - loss: 0.0142 - mae: 0.1024\n",
            "Epoch 404/1200\n",
            "1/1 [==============================] - 0s 6ms/step - loss: 0.0141 - mae: 0.1020\n",
            "Epoch 405/1200\n",
            "1/1 [==============================] - 0s 7ms/step - loss: 0.0140 - mae: 0.1017\n",
            "Epoch 406/1200\n",
            "1/1 [==============================] - 0s 7ms/step - loss: 0.0139 - mae: 0.1013\n",
            "Epoch 407/1200\n",
            "1/1 [==============================] - 0s 6ms/step - loss: 0.0138 - mae: 0.1010\n",
            "Epoch 408/1200\n",
            "1/1 [==============================] - 0s 8ms/step - loss: 0.0137 - mae: 0.1006\n",
            "Epoch 409/1200\n",
            "1/1 [==============================] - 0s 6ms/step - loss: 0.0137 - mae: 0.1003\n",
            "Epoch 410/1200\n",
            "1/1 [==============================] - 0s 7ms/step - loss: 0.0136 - mae: 0.1000\n",
            "Epoch 411/1200\n",
            "1/1 [==============================] - 0s 6ms/step - loss: 0.0135 - mae: 0.0996\n",
            "Epoch 412/1200\n",
            "1/1 [==============================] - 0s 8ms/step - loss: 0.0134 - mae: 0.0993\n",
            "Epoch 413/1200\n",
            "1/1 [==============================] - 0s 5ms/step - loss: 0.0133 - mae: 0.0989\n",
            "Epoch 414/1200\n",
            "1/1 [==============================] - 0s 8ms/step - loss: 0.0132 - mae: 0.0986\n",
            "Epoch 415/1200\n",
            "1/1 [==============================] - 0s 8ms/step - loss: 0.0131 - mae: 0.0983\n",
            "Epoch 416/1200\n",
            "1/1 [==============================] - 0s 9ms/step - loss: 0.0130 - mae: 0.0979\n",
            "Epoch 417/1200\n",
            "1/1 [==============================] - 0s 7ms/step - loss: 0.0129 - mae: 0.0976\n",
            "Epoch 418/1200\n",
            "1/1 [==============================] - 0s 6ms/step - loss: 0.0128 - mae: 0.0973\n",
            "Epoch 419/1200\n",
            "1/1 [==============================] - 0s 9ms/step - loss: 0.0128 - mae: 0.0970\n",
            "Epoch 420/1200\n",
            "1/1 [==============================] - 0s 7ms/step - loss: 0.0127 - mae: 0.0966\n",
            "Epoch 421/1200\n",
            "1/1 [==============================] - 0s 7ms/step - loss: 0.0126 - mae: 0.0963\n",
            "Epoch 422/1200\n",
            "1/1 [==============================] - 0s 8ms/step - loss: 0.0125 - mae: 0.0960\n",
            "Epoch 423/1200\n",
            "1/1 [==============================] - 0s 8ms/step - loss: 0.0124 - mae: 0.0956\n",
            "Epoch 424/1200\n",
            "1/1 [==============================] - 0s 10ms/step - loss: 0.0123 - mae: 0.0953\n",
            "Epoch 425/1200\n",
            "1/1 [==============================] - 0s 6ms/step - loss: 0.0123 - mae: 0.0950\n",
            "Epoch 426/1200\n",
            "1/1 [==============================] - 0s 6ms/step - loss: 0.0122 - mae: 0.0947\n",
            "Epoch 427/1200\n",
            "1/1 [==============================] - 0s 6ms/step - loss: 0.0121 - mae: 0.0944\n",
            "Epoch 428/1200\n",
            "1/1 [==============================] - 0s 8ms/step - loss: 0.0120 - mae: 0.0940\n",
            "Epoch 429/1200\n",
            "1/1 [==============================] - 0s 7ms/step - loss: 0.0119 - mae: 0.0937\n",
            "Epoch 430/1200\n",
            "1/1 [==============================] - 0s 6ms/step - loss: 0.0118 - mae: 0.0934\n",
            "Epoch 431/1200\n",
            "1/1 [==============================] - 0s 8ms/step - loss: 0.0118 - mae: 0.0931\n",
            "Epoch 432/1200\n",
            "1/1 [==============================] - 0s 11ms/step - loss: 0.0117 - mae: 0.0928\n",
            "Epoch 433/1200\n",
            "1/1 [==============================] - 0s 11ms/step - loss: 0.0116 - mae: 0.0925\n",
            "Epoch 434/1200\n",
            "1/1 [==============================] - 0s 7ms/step - loss: 0.0115 - mae: 0.0922\n",
            "Epoch 435/1200\n",
            "1/1 [==============================] - 0s 9ms/step - loss: 0.0114 - mae: 0.0918\n",
            "Epoch 436/1200\n",
            "1/1 [==============================] - 0s 7ms/step - loss: 0.0114 - mae: 0.0915\n",
            "Epoch 437/1200\n",
            "1/1 [==============================] - 0s 9ms/step - loss: 0.0113 - mae: 0.0912\n",
            "Epoch 438/1200\n",
            "1/1 [==============================] - 0s 7ms/step - loss: 0.0112 - mae: 0.0909\n",
            "Epoch 439/1200\n",
            "1/1 [==============================] - 0s 8ms/step - loss: 0.0111 - mae: 0.0906\n",
            "Epoch 440/1200\n",
            "1/1 [==============================] - 0s 7ms/step - loss: 0.0111 - mae: 0.0903\n",
            "Epoch 441/1200\n",
            "1/1 [==============================] - 0s 8ms/step - loss: 0.0110 - mae: 0.0900\n",
            "Epoch 442/1200\n",
            "1/1 [==============================] - 0s 9ms/step - loss: 0.0109 - mae: 0.0897\n",
            "Epoch 443/1200\n",
            "1/1 [==============================] - 0s 8ms/step - loss: 0.0108 - mae: 0.0894\n",
            "Epoch 444/1200\n",
            "1/1 [==============================] - 0s 10ms/step - loss: 0.0108 - mae: 0.0891\n",
            "Epoch 445/1200\n",
            "1/1 [==============================] - 0s 7ms/step - loss: 0.0107 - mae: 0.0888\n",
            "Epoch 446/1200\n",
            "1/1 [==============================] - 0s 8ms/step - loss: 0.0106 - mae: 0.0885\n",
            "Epoch 447/1200\n",
            "1/1 [==============================] - 0s 9ms/step - loss: 0.0106 - mae: 0.0882\n",
            "Epoch 448/1200\n",
            "1/1 [==============================] - 0s 8ms/step - loss: 0.0105 - mae: 0.0879\n",
            "Epoch 449/1200\n",
            "1/1 [==============================] - 0s 8ms/step - loss: 0.0104 - mae: 0.0876\n",
            "Epoch 450/1200\n",
            "1/1 [==============================] - 0s 10ms/step - loss: 0.0103 - mae: 0.0873\n",
            "Epoch 451/1200\n",
            "1/1 [==============================] - 0s 10ms/step - loss: 0.0103 - mae: 0.0870\n",
            "Epoch 452/1200\n",
            "1/1 [==============================] - 0s 10ms/step - loss: 0.0102 - mae: 0.0867\n",
            "Epoch 453/1200\n",
            "1/1 [==============================] - 0s 10ms/step - loss: 0.0101 - mae: 0.0864\n",
            "Epoch 454/1200\n",
            "1/1 [==============================] - 0s 14ms/step - loss: 0.0101 - mae: 0.0861\n",
            "Epoch 455/1200\n",
            "1/1 [==============================] - 0s 10ms/step - loss: 0.0100 - mae: 0.0858\n",
            "Epoch 456/1200\n",
            "1/1 [==============================] - 0s 9ms/step - loss: 0.0099 - mae: 0.0855\n",
            "Epoch 457/1200\n",
            "1/1 [==============================] - 0s 9ms/step - loss: 0.0099 - mae: 0.0852\n",
            "Epoch 458/1200\n",
            "1/1 [==============================] - 0s 9ms/step - loss: 0.0098 - mae: 0.0850\n",
            "Epoch 459/1200\n",
            "1/1 [==============================] - 0s 11ms/step - loss: 0.0097 - mae: 0.0847\n",
            "Epoch 460/1200\n",
            "1/1 [==============================] - 0s 17ms/step - loss: 0.0097 - mae: 0.0844\n",
            "Epoch 461/1200\n",
            "1/1 [==============================] - 0s 10ms/step - loss: 0.0096 - mae: 0.0841\n",
            "Epoch 462/1200\n",
            "1/1 [==============================] - 0s 8ms/step - loss: 0.0095 - mae: 0.0838\n",
            "Epoch 463/1200\n",
            "1/1 [==============================] - 0s 10ms/step - loss: 0.0095 - mae: 0.0835\n",
            "Epoch 464/1200\n",
            "1/1 [==============================] - 0s 7ms/step - loss: 0.0094 - mae: 0.0832\n",
            "Epoch 465/1200\n",
            "1/1 [==============================] - 0s 7ms/step - loss: 0.0093 - mae: 0.0830\n",
            "Epoch 466/1200\n",
            "1/1 [==============================] - 0s 9ms/step - loss: 0.0093 - mae: 0.0827\n",
            "Epoch 467/1200\n",
            "1/1 [==============================] - 0s 7ms/step - loss: 0.0092 - mae: 0.0824\n",
            "Epoch 468/1200\n",
            "1/1 [==============================] - 0s 10ms/step - loss: 0.0092 - mae: 0.0821\n",
            "Epoch 469/1200\n",
            "1/1 [==============================] - 0s 14ms/step - loss: 0.0091 - mae: 0.0819\n",
            "Epoch 470/1200\n",
            "1/1 [==============================] - 0s 8ms/step - loss: 0.0090 - mae: 0.0816\n",
            "Epoch 471/1200\n",
            "1/1 [==============================] - 0s 10ms/step - loss: 0.0090 - mae: 0.0813\n",
            "Epoch 472/1200\n",
            "1/1 [==============================] - 0s 11ms/step - loss: 0.0089 - mae: 0.0810\n",
            "Epoch 473/1200\n",
            "1/1 [==============================] - 0s 13ms/step - loss: 0.0089 - mae: 0.0807\n",
            "Epoch 474/1200\n",
            "1/1 [==============================] - 0s 12ms/step - loss: 0.0088 - mae: 0.0805\n",
            "Epoch 475/1200\n",
            "1/1 [==============================] - 0s 9ms/step - loss: 0.0087 - mae: 0.0802\n",
            "Epoch 476/1200\n",
            "1/1 [==============================] - 0s 10ms/step - loss: 0.0087 - mae: 0.0799\n",
            "Epoch 477/1200\n",
            "1/1 [==============================] - 0s 12ms/step - loss: 0.0086 - mae: 0.0797\n",
            "Epoch 478/1200\n",
            "1/1 [==============================] - 0s 8ms/step - loss: 0.0086 - mae: 0.0794\n",
            "Epoch 479/1200\n",
            "1/1 [==============================] - 0s 10ms/step - loss: 0.0085 - mae: 0.0791\n",
            "Epoch 480/1200\n",
            "1/1 [==============================] - 0s 11ms/step - loss: 0.0084 - mae: 0.0789\n",
            "Epoch 481/1200\n",
            "1/1 [==============================] - 0s 8ms/step - loss: 0.0084 - mae: 0.0786\n",
            "Epoch 482/1200\n",
            "1/1 [==============================] - 0s 8ms/step - loss: 0.0083 - mae: 0.0783\n",
            "Epoch 483/1200\n",
            "1/1 [==============================] - 0s 8ms/step - loss: 0.0083 - mae: 0.0781\n",
            "Epoch 484/1200\n",
            "1/1 [==============================] - 0s 11ms/step - loss: 0.0082 - mae: 0.0778\n",
            "Epoch 485/1200\n",
            "1/1 [==============================] - 0s 8ms/step - loss: 0.0082 - mae: 0.0775\n",
            "Epoch 486/1200\n",
            "1/1 [==============================] - 0s 10ms/step - loss: 0.0081 - mae: 0.0773\n",
            "Epoch 487/1200\n",
            "1/1 [==============================] - 0s 11ms/step - loss: 0.0080 - mae: 0.0770\n",
            "Epoch 488/1200\n",
            "1/1 [==============================] - 0s 8ms/step - loss: 0.0080 - mae: 0.0767\n",
            "Epoch 489/1200\n",
            "1/1 [==============================] - 0s 11ms/step - loss: 0.0079 - mae: 0.0765\n",
            "Epoch 490/1200\n",
            "1/1 [==============================] - 0s 12ms/step - loss: 0.0079 - mae: 0.0762\n",
            "Epoch 491/1200\n",
            "1/1 [==============================] - 0s 8ms/step - loss: 0.0078 - mae: 0.0760\n",
            "Epoch 492/1200\n",
            "1/1 [==============================] - 0s 14ms/step - loss: 0.0078 - mae: 0.0757\n",
            "Epoch 493/1200\n",
            "1/1 [==============================] - 0s 11ms/step - loss: 0.0077 - mae: 0.0755\n",
            "Epoch 494/1200\n",
            "1/1 [==============================] - 0s 12ms/step - loss: 0.0077 - mae: 0.0752\n",
            "Epoch 495/1200\n",
            "1/1 [==============================] - 0s 16ms/step - loss: 0.0076 - mae: 0.0750\n",
            "Epoch 496/1200\n",
            "1/1 [==============================] - 0s 10ms/step - loss: 0.0076 - mae: 0.0747\n",
            "Epoch 497/1200\n",
            "1/1 [==============================] - 0s 17ms/step - loss: 0.0075 - mae: 0.0744\n",
            "Epoch 498/1200\n",
            "1/1 [==============================] - 0s 15ms/step - loss: 0.0075 - mae: 0.0742\n",
            "Epoch 499/1200\n",
            "1/1 [==============================] - 0s 10ms/step - loss: 0.0074 - mae: 0.0739\n",
            "Epoch 500/1200\n",
            "1/1 [==============================] - 0s 16ms/step - loss: 0.0074 - mae: 0.0737\n",
            "Epoch 501/1200\n",
            "1/1 [==============================] - 0s 9ms/step - loss: 0.0073 - mae: 0.0734\n",
            "Epoch 502/1200\n",
            "1/1 [==============================] - 0s 15ms/step - loss: 0.0073 - mae: 0.0732\n",
            "Epoch 503/1200\n",
            "1/1 [==============================] - 0s 10ms/step - loss: 0.0072 - mae: 0.0729\n",
            "Epoch 504/1200\n",
            "1/1 [==============================] - 0s 15ms/step - loss: 0.0072 - mae: 0.0727\n",
            "Epoch 505/1200\n",
            "1/1 [==============================] - 0s 14ms/step - loss: 0.0071 - mae: 0.0725\n",
            "Epoch 506/1200\n",
            "1/1 [==============================] - 0s 12ms/step - loss: 0.0071 - mae: 0.0722\n",
            "Epoch 507/1200\n",
            "1/1 [==============================] - 0s 13ms/step - loss: 0.0070 - mae: 0.0720\n",
            "Epoch 508/1200\n",
            "1/1 [==============================] - 0s 8ms/step - loss: 0.0070 - mae: 0.0717\n",
            "Epoch 509/1200\n",
            "1/1 [==============================] - 0s 12ms/step - loss: 0.0069 - mae: 0.0715\n",
            "Epoch 510/1200\n",
            "1/1 [==============================] - 0s 11ms/step - loss: 0.0069 - mae: 0.0712\n",
            "Epoch 511/1200\n",
            "1/1 [==============================] - 0s 13ms/step - loss: 0.0068 - mae: 0.0710\n",
            "Epoch 512/1200\n",
            "1/1 [==============================] - 0s 9ms/step - loss: 0.0068 - mae: 0.0708\n",
            "Epoch 513/1200\n",
            "1/1 [==============================] - 0s 14ms/step - loss: 0.0068 - mae: 0.0705\n",
            "Epoch 514/1200\n",
            "1/1 [==============================] - 0s 13ms/step - loss: 0.0067 - mae: 0.0703\n",
            "Epoch 515/1200\n",
            "1/1 [==============================] - 0s 13ms/step - loss: 0.0067 - mae: 0.0700\n",
            "Epoch 516/1200\n",
            "1/1 [==============================] - 0s 13ms/step - loss: 0.0066 - mae: 0.0698\n",
            "Epoch 517/1200\n",
            "1/1 [==============================] - 0s 14ms/step - loss: 0.0066 - mae: 0.0696\n",
            "Epoch 518/1200\n",
            "1/1 [==============================] - 0s 11ms/step - loss: 0.0065 - mae: 0.0693\n",
            "Epoch 519/1200\n",
            "1/1 [==============================] - 0s 13ms/step - loss: 0.0065 - mae: 0.0691\n",
            "Epoch 520/1200\n",
            "1/1 [==============================] - 0s 13ms/step - loss: 0.0064 - mae: 0.0689\n",
            "Epoch 521/1200\n",
            "1/1 [==============================] - 0s 11ms/step - loss: 0.0064 - mae: 0.0686\n",
            "Epoch 522/1200\n",
            "1/1 [==============================] - 0s 8ms/step - loss: 0.0064 - mae: 0.0684\n",
            "Epoch 523/1200\n",
            "1/1 [==============================] - 0s 8ms/step - loss: 0.0063 - mae: 0.0682\n",
            "Epoch 524/1200\n",
            "1/1 [==============================] - 0s 11ms/step - loss: 0.0063 - mae: 0.0679\n",
            "Epoch 525/1200\n",
            "1/1 [==============================] - 0s 8ms/step - loss: 0.0062 - mae: 0.0677\n",
            "Epoch 526/1200\n",
            "1/1 [==============================] - 0s 10ms/step - loss: 0.0062 - mae: 0.0675\n",
            "Epoch 527/1200\n",
            "1/1 [==============================] - 0s 12ms/step - loss: 0.0061 - mae: 0.0673\n",
            "Epoch 528/1200\n",
            "1/1 [==============================] - 0s 13ms/step - loss: 0.0061 - mae: 0.0670\n",
            "Epoch 529/1200\n",
            "1/1 [==============================] - 0s 15ms/step - loss: 0.0061 - mae: 0.0668\n",
            "Epoch 530/1200\n",
            "1/1 [==============================] - 0s 11ms/step - loss: 0.0060 - mae: 0.0666\n",
            "Epoch 531/1200\n",
            "1/1 [==============================] - 0s 18ms/step - loss: 0.0060 - mae: 0.0663\n",
            "Epoch 532/1200\n",
            "1/1 [==============================] - 0s 12ms/step - loss: 0.0059 - mae: 0.0661\n",
            "Epoch 533/1200\n",
            "1/1 [==============================] - 0s 11ms/step - loss: 0.0059 - mae: 0.0659\n",
            "Epoch 534/1200\n",
            "1/1 [==============================] - 0s 13ms/step - loss: 0.0059 - mae: 0.0657\n",
            "Epoch 535/1200\n",
            "1/1 [==============================] - 0s 6ms/step - loss: 0.0058 - mae: 0.0655\n",
            "Epoch 536/1200\n",
            "1/1 [==============================] - 0s 7ms/step - loss: 0.0058 - mae: 0.0652\n",
            "Epoch 537/1200\n",
            "1/1 [==============================] - 0s 11ms/step - loss: 0.0057 - mae: 0.0650\n",
            "Epoch 538/1200\n",
            "1/1 [==============================] - 0s 7ms/step - loss: 0.0057 - mae: 0.0648\n",
            "Epoch 539/1200\n",
            "1/1 [==============================] - 0s 8ms/step - loss: 0.0057 - mae: 0.0646\n",
            "Epoch 540/1200\n",
            "1/1 [==============================] - 0s 7ms/step - loss: 0.0056 - mae: 0.0644\n",
            "Epoch 541/1200\n",
            "1/1 [==============================] - 0s 12ms/step - loss: 0.0056 - mae: 0.0641\n",
            "Epoch 542/1200\n",
            "1/1 [==============================] - 0s 7ms/step - loss: 0.0055 - mae: 0.0639\n",
            "Epoch 543/1200\n",
            "1/1 [==============================] - 0s 7ms/step - loss: 0.0055 - mae: 0.0637\n",
            "Epoch 544/1200\n",
            "1/1 [==============================] - 0s 9ms/step - loss: 0.0055 - mae: 0.0635\n",
            "Epoch 545/1200\n",
            "1/1 [==============================] - 0s 8ms/step - loss: 0.0054 - mae: 0.0633\n",
            "Epoch 546/1200\n",
            "1/1 [==============================] - 0s 11ms/step - loss: 0.0054 - mae: 0.0631\n",
            "Epoch 547/1200\n",
            "1/1 [==============================] - 0s 8ms/step - loss: 0.0054 - mae: 0.0628\n",
            "Epoch 548/1200\n",
            "1/1 [==============================] - 0s 8ms/step - loss: 0.0053 - mae: 0.0626\n",
            "Epoch 549/1200\n",
            "1/1 [==============================] - 0s 8ms/step - loss: 0.0053 - mae: 0.0624\n",
            "Epoch 550/1200\n",
            "1/1 [==============================] - 0s 8ms/step - loss: 0.0053 - mae: 0.0622\n",
            "Epoch 551/1200\n",
            "1/1 [==============================] - 0s 7ms/step - loss: 0.0052 - mae: 0.0620\n",
            "Epoch 552/1200\n",
            "1/1 [==============================] - 0s 7ms/step - loss: 0.0052 - mae: 0.0618\n",
            "Epoch 553/1200\n",
            "1/1 [==============================] - 0s 8ms/step - loss: 0.0051 - mae: 0.0616\n",
            "Epoch 554/1200\n",
            "1/1 [==============================] - 0s 9ms/step - loss: 0.0051 - mae: 0.0614\n",
            "Epoch 555/1200\n",
            "1/1 [==============================] - 0s 9ms/step - loss: 0.0051 - mae: 0.0612\n",
            "Epoch 556/1200\n",
            "1/1 [==============================] - 0s 6ms/step - loss: 0.0050 - mae: 0.0610\n",
            "Epoch 557/1200\n",
            "1/1 [==============================] - 0s 7ms/step - loss: 0.0050 - mae: 0.0608\n",
            "Epoch 558/1200\n",
            "1/1 [==============================] - 0s 8ms/step - loss: 0.0050 - mae: 0.0605\n",
            "Epoch 559/1200\n",
            "1/1 [==============================] - 0s 7ms/step - loss: 0.0049 - mae: 0.0603\n",
            "Epoch 560/1200\n",
            "1/1 [==============================] - 0s 8ms/step - loss: 0.0049 - mae: 0.0601\n",
            "Epoch 561/1200\n",
            "1/1 [==============================] - 0s 7ms/step - loss: 0.0049 - mae: 0.0599\n",
            "Epoch 562/1200\n",
            "1/1 [==============================] - 0s 7ms/step - loss: 0.0048 - mae: 0.0597\n",
            "Epoch 563/1200\n",
            "1/1 [==============================] - 0s 8ms/step - loss: 0.0048 - mae: 0.0595\n",
            "Epoch 564/1200\n",
            "1/1 [==============================] - 0s 6ms/step - loss: 0.0048 - mae: 0.0593\n",
            "Epoch 565/1200\n",
            "1/1 [==============================] - 0s 10ms/step - loss: 0.0047 - mae: 0.0591\n",
            "Epoch 566/1200\n",
            "1/1 [==============================] - 0s 9ms/step - loss: 0.0047 - mae: 0.0589\n",
            "Epoch 567/1200\n",
            "1/1 [==============================] - 0s 9ms/step - loss: 0.0047 - mae: 0.0587\n",
            "Epoch 568/1200\n",
            "1/1 [==============================] - 0s 10ms/step - loss: 0.0047 - mae: 0.0585\n",
            "Epoch 569/1200\n",
            "1/1 [==============================] - 0s 8ms/step - loss: 0.0046 - mae: 0.0583\n",
            "Epoch 570/1200\n",
            "1/1 [==============================] - 0s 9ms/step - loss: 0.0046 - mae: 0.0581\n",
            "Epoch 571/1200\n",
            "1/1 [==============================] - 0s 9ms/step - loss: 0.0046 - mae: 0.0579\n",
            "Epoch 572/1200\n",
            "1/1 [==============================] - 0s 7ms/step - loss: 0.0045 - mae: 0.0577\n",
            "Epoch 573/1200\n",
            "1/1 [==============================] - 0s 11ms/step - loss: 0.0045 - mae: 0.0576\n",
            "Epoch 574/1200\n",
            "1/1 [==============================] - 0s 11ms/step - loss: 0.0045 - mae: 0.0574\n",
            "Epoch 575/1200\n",
            "1/1 [==============================] - 0s 7ms/step - loss: 0.0044 - mae: 0.0572\n",
            "Epoch 576/1200\n",
            "1/1 [==============================] - 0s 11ms/step - loss: 0.0044 - mae: 0.0570\n",
            "Epoch 577/1200\n",
            "1/1 [==============================] - 0s 12ms/step - loss: 0.0044 - mae: 0.0568\n",
            "Epoch 578/1200\n",
            "1/1 [==============================] - 0s 10ms/step - loss: 0.0043 - mae: 0.0566\n",
            "Epoch 579/1200\n",
            "1/1 [==============================] - 0s 6ms/step - loss: 0.0043 - mae: 0.0564\n",
            "Epoch 580/1200\n",
            "1/1 [==============================] - 0s 9ms/step - loss: 0.0043 - mae: 0.0562\n",
            "Epoch 581/1200\n",
            "1/1 [==============================] - 0s 10ms/step - loss: 0.0043 - mae: 0.0560\n",
            "Epoch 582/1200\n",
            "1/1 [==============================] - 0s 10ms/step - loss: 0.0042 - mae: 0.0558\n",
            "Epoch 583/1200\n",
            "1/1 [==============================] - 0s 13ms/step - loss: 0.0042 - mae: 0.0556\n",
            "Epoch 584/1200\n",
            "1/1 [==============================] - 0s 7ms/step - loss: 0.0042 - mae: 0.0554\n",
            "Epoch 585/1200\n",
            "1/1 [==============================] - 0s 13ms/step - loss: 0.0041 - mae: 0.0553\n",
            "Epoch 586/1200\n",
            "1/1 [==============================] - 0s 12ms/step - loss: 0.0041 - mae: 0.0551\n",
            "Epoch 587/1200\n",
            "1/1 [==============================] - 0s 8ms/step - loss: 0.0041 - mae: 0.0549\n",
            "Epoch 588/1200\n",
            "1/1 [==============================] - 0s 10ms/step - loss: 0.0041 - mae: 0.0547\n",
            "Epoch 589/1200\n",
            "1/1 [==============================] - 0s 9ms/step - loss: 0.0040 - mae: 0.0545\n",
            "Epoch 590/1200\n",
            "1/1 [==============================] - 0s 9ms/step - loss: 0.0040 - mae: 0.0543\n",
            "Epoch 591/1200\n",
            "1/1 [==============================] - 0s 10ms/step - loss: 0.0040 - mae: 0.0541\n",
            "Epoch 592/1200\n",
            "1/1 [==============================] - 0s 8ms/step - loss: 0.0040 - mae: 0.0540\n",
            "Epoch 593/1200\n",
            "1/1 [==============================] - 0s 8ms/step - loss: 0.0039 - mae: 0.0538\n",
            "Epoch 594/1200\n",
            "1/1 [==============================] - 0s 7ms/step - loss: 0.0039 - mae: 0.0536\n",
            "Epoch 595/1200\n",
            "1/1 [==============================] - 0s 8ms/step - loss: 0.0039 - mae: 0.0534\n",
            "Epoch 596/1200\n",
            "1/1 [==============================] - 0s 7ms/step - loss: 0.0038 - mae: 0.0532\n",
            "Epoch 597/1200\n",
            "1/1 [==============================] - 0s 7ms/step - loss: 0.0038 - mae: 0.0531\n",
            "Epoch 598/1200\n",
            "1/1 [==============================] - 0s 7ms/step - loss: 0.0038 - mae: 0.0529\n",
            "Epoch 599/1200\n",
            "1/1 [==============================] - 0s 8ms/step - loss: 0.0038 - mae: 0.0527\n",
            "Epoch 600/1200\n",
            "1/1 [==============================] - 0s 9ms/step - loss: 0.0037 - mae: 0.0525\n",
            "Epoch 601/1200\n",
            "1/1 [==============================] - 0s 8ms/step - loss: 0.0037 - mae: 0.0523\n",
            "Epoch 602/1200\n",
            "1/1 [==============================] - 0s 9ms/step - loss: 0.0037 - mae: 0.0522\n",
            "Epoch 603/1200\n",
            "1/1 [==============================] - 0s 11ms/step - loss: 0.0037 - mae: 0.0520\n",
            "Epoch 604/1200\n",
            "1/1 [==============================] - 0s 8ms/step - loss: 0.0036 - mae: 0.0518\n",
            "Epoch 605/1200\n",
            "1/1 [==============================] - 0s 9ms/step - loss: 0.0036 - mae: 0.0516\n",
            "Epoch 606/1200\n",
            "1/1 [==============================] - 0s 8ms/step - loss: 0.0036 - mae: 0.0515\n",
            "Epoch 607/1200\n",
            "1/1 [==============================] - 0s 10ms/step - loss: 0.0036 - mae: 0.0513\n",
            "Epoch 608/1200\n",
            "1/1 [==============================] - 0s 7ms/step - loss: 0.0035 - mae: 0.0511\n",
            "Epoch 609/1200\n",
            "1/1 [==============================] - 0s 8ms/step - loss: 0.0035 - mae: 0.0509\n",
            "Epoch 610/1200\n",
            "1/1 [==============================] - 0s 9ms/step - loss: 0.0035 - mae: 0.0508\n",
            "Epoch 611/1200\n",
            "1/1 [==============================] - 0s 6ms/step - loss: 0.0035 - mae: 0.0506\n",
            "Epoch 612/1200\n",
            "1/1 [==============================] - 0s 7ms/step - loss: 0.0035 - mae: 0.0504\n",
            "Epoch 613/1200\n",
            "1/1 [==============================] - 0s 9ms/step - loss: 0.0034 - mae: 0.0503\n",
            "Epoch 614/1200\n",
            "1/1 [==============================] - 0s 11ms/step - loss: 0.0034 - mae: 0.0501\n",
            "Epoch 615/1200\n",
            "1/1 [==============================] - 0s 9ms/step - loss: 0.0034 - mae: 0.0499\n",
            "Epoch 616/1200\n",
            "1/1 [==============================] - 0s 7ms/step - loss: 0.0034 - mae: 0.0498\n",
            "Epoch 617/1200\n",
            "1/1 [==============================] - 0s 13ms/step - loss: 0.0033 - mae: 0.0496\n",
            "Epoch 618/1200\n",
            "1/1 [==============================] - 0s 8ms/step - loss: 0.0033 - mae: 0.0494\n",
            "Epoch 619/1200\n",
            "1/1 [==============================] - 0s 8ms/step - loss: 0.0033 - mae: 0.0492\n",
            "Epoch 620/1200\n",
            "1/1 [==============================] - 0s 8ms/step - loss: 0.0033 - mae: 0.0491\n",
            "Epoch 621/1200\n",
            "1/1 [==============================] - 0s 8ms/step - loss: 0.0032 - mae: 0.0489\n",
            "Epoch 622/1200\n",
            "1/1 [==============================] - 0s 8ms/step - loss: 0.0032 - mae: 0.0488\n",
            "Epoch 623/1200\n",
            "1/1 [==============================] - 0s 12ms/step - loss: 0.0032 - mae: 0.0486\n",
            "Epoch 624/1200\n",
            "1/1 [==============================] - 0s 13ms/step - loss: 0.0032 - mae: 0.0484\n",
            "Epoch 625/1200\n",
            "1/1 [==============================] - 0s 12ms/step - loss: 0.0032 - mae: 0.0483\n",
            "Epoch 626/1200\n",
            "1/1 [==============================] - 0s 16ms/step - loss: 0.0031 - mae: 0.0481\n",
            "Epoch 627/1200\n",
            "1/1 [==============================] - 0s 7ms/step - loss: 0.0031 - mae: 0.0479\n",
            "Epoch 628/1200\n",
            "1/1 [==============================] - 0s 8ms/step - loss: 0.0031 - mae: 0.0478\n",
            "Epoch 629/1200\n",
            "1/1 [==============================] - 0s 9ms/step - loss: 0.0031 - mae: 0.0476\n",
            "Epoch 630/1200\n",
            "1/1 [==============================] - 0s 7ms/step - loss: 0.0031 - mae: 0.0474\n",
            "Epoch 631/1200\n",
            "1/1 [==============================] - 0s 14ms/step - loss: 0.0030 - mae: 0.0473\n",
            "Epoch 632/1200\n",
            "1/1 [==============================] - 0s 11ms/step - loss: 0.0030 - mae: 0.0471\n",
            "Epoch 633/1200\n",
            "1/1 [==============================] - 0s 16ms/step - loss: 0.0030 - mae: 0.0470\n",
            "Epoch 634/1200\n",
            "1/1 [==============================] - 0s 11ms/step - loss: 0.0030 - mae: 0.0468\n",
            "Epoch 635/1200\n",
            "1/1 [==============================] - 0s 13ms/step - loss: 0.0030 - mae: 0.0467\n",
            "Epoch 636/1200\n",
            "1/1 [==============================] - 0s 7ms/step - loss: 0.0029 - mae: 0.0465\n",
            "Epoch 637/1200\n",
            "1/1 [==============================] - 0s 8ms/step - loss: 0.0029 - mae: 0.0463\n",
            "Epoch 638/1200\n",
            "1/1 [==============================] - 0s 6ms/step - loss: 0.0029 - mae: 0.0462\n",
            "Epoch 639/1200\n",
            "1/1 [==============================] - 0s 9ms/step - loss: 0.0029 - mae: 0.0460\n",
            "Epoch 640/1200\n",
            "1/1 [==============================] - 0s 6ms/step - loss: 0.0029 - mae: 0.0459\n",
            "Epoch 641/1200\n",
            "1/1 [==============================] - 0s 10ms/step - loss: 0.0028 - mae: 0.0457\n",
            "Epoch 642/1200\n",
            "1/1 [==============================] - 0s 6ms/step - loss: 0.0028 - mae: 0.0456\n",
            "Epoch 643/1200\n",
            "1/1 [==============================] - 0s 6ms/step - loss: 0.0028 - mae: 0.0454\n",
            "Epoch 644/1200\n",
            "1/1 [==============================] - 0s 9ms/step - loss: 0.0028 - mae: 0.0453\n",
            "Epoch 645/1200\n",
            "1/1 [==============================] - 0s 14ms/step - loss: 0.0028 - mae: 0.0451\n",
            "Epoch 646/1200\n",
            "1/1 [==============================] - 0s 10ms/step - loss: 0.0027 - mae: 0.0449\n",
            "Epoch 647/1200\n",
            "1/1 [==============================] - 0s 6ms/step - loss: 0.0027 - mae: 0.0448\n",
            "Epoch 648/1200\n",
            "1/1 [==============================] - 0s 8ms/step - loss: 0.0027 - mae: 0.0446\n",
            "Epoch 649/1200\n",
            "1/1 [==============================] - 0s 8ms/step - loss: 0.0027 - mae: 0.0445\n",
            "Epoch 650/1200\n",
            "1/1 [==============================] - 0s 9ms/step - loss: 0.0027 - mae: 0.0443\n",
            "Epoch 651/1200\n",
            "1/1 [==============================] - 0s 13ms/step - loss: 0.0027 - mae: 0.0442\n",
            "Epoch 652/1200\n",
            "1/1 [==============================] - 0s 10ms/step - loss: 0.0026 - mae: 0.0440\n",
            "Epoch 653/1200\n",
            "1/1 [==============================] - 0s 13ms/step - loss: 0.0026 - mae: 0.0439\n",
            "Epoch 654/1200\n",
            "1/1 [==============================] - 0s 9ms/step - loss: 0.0026 - mae: 0.0437\n",
            "Epoch 655/1200\n",
            "1/1 [==============================] - 0s 13ms/step - loss: 0.0026 - mae: 0.0436\n",
            "Epoch 656/1200\n",
            "1/1 [==============================] - 0s 13ms/step - loss: 0.0026 - mae: 0.0434\n",
            "Epoch 657/1200\n",
            "1/1 [==============================] - 0s 10ms/step - loss: 0.0025 - mae: 0.0433\n",
            "Epoch 658/1200\n",
            "1/1 [==============================] - 0s 14ms/step - loss: 0.0025 - mae: 0.0432\n",
            "Epoch 659/1200\n",
            "1/1 [==============================] - 0s 15ms/step - loss: 0.0025 - mae: 0.0430\n",
            "Epoch 660/1200\n",
            "1/1 [==============================] - 0s 14ms/step - loss: 0.0025 - mae: 0.0429\n",
            "Epoch 661/1200\n",
            "1/1 [==============================] - 0s 9ms/step - loss: 0.0025 - mae: 0.0427\n",
            "Epoch 662/1200\n",
            "1/1 [==============================] - 0s 9ms/step - loss: 0.0025 - mae: 0.0426\n",
            "Epoch 663/1200\n",
            "1/1 [==============================] - 0s 9ms/step - loss: 0.0024 - mae: 0.0424\n",
            "Epoch 664/1200\n",
            "1/1 [==============================] - 0s 13ms/step - loss: 0.0024 - mae: 0.0423\n",
            "Epoch 665/1200\n",
            "1/1 [==============================] - 0s 8ms/step - loss: 0.0024 - mae: 0.0421\n",
            "Epoch 666/1200\n",
            "1/1 [==============================] - 0s 9ms/step - loss: 0.0024 - mae: 0.0420\n",
            "Epoch 667/1200\n",
            "1/1 [==============================] - 0s 8ms/step - loss: 0.0024 - mae: 0.0419\n",
            "Epoch 668/1200\n",
            "1/1 [==============================] - 0s 9ms/step - loss: 0.0024 - mae: 0.0417\n",
            "Epoch 669/1200\n",
            "1/1 [==============================] - 0s 7ms/step - loss: 0.0023 - mae: 0.0416\n",
            "Epoch 670/1200\n",
            "1/1 [==============================] - 0s 7ms/step - loss: 0.0023 - mae: 0.0414\n",
            "Epoch 671/1200\n",
            "1/1 [==============================] - 0s 11ms/step - loss: 0.0023 - mae: 0.0413\n",
            "Epoch 672/1200\n",
            "1/1 [==============================] - 0s 8ms/step - loss: 0.0023 - mae: 0.0412\n",
            "Epoch 673/1200\n",
            "1/1 [==============================] - 0s 8ms/step - loss: 0.0023 - mae: 0.0410\n",
            "Epoch 674/1200\n",
            "1/1 [==============================] - 0s 8ms/step - loss: 0.0023 - mae: 0.0409\n",
            "Epoch 675/1200\n",
            "1/1 [==============================] - 0s 10ms/step - loss: 0.0023 - mae: 0.0407\n",
            "Epoch 676/1200\n",
            "1/1 [==============================] - 0s 11ms/step - loss: 0.0022 - mae: 0.0406\n",
            "Epoch 677/1200\n",
            "1/1 [==============================] - 0s 7ms/step - loss: 0.0022 - mae: 0.0405\n",
            "Epoch 678/1200\n",
            "1/1 [==============================] - 0s 8ms/step - loss: 0.0022 - mae: 0.0403\n",
            "Epoch 679/1200\n",
            "1/1 [==============================] - 0s 6ms/step - loss: 0.0022 - mae: 0.0402\n",
            "Epoch 680/1200\n",
            "1/1 [==============================] - 0s 10ms/step - loss: 0.0022 - mae: 0.0401\n",
            "Epoch 681/1200\n",
            "1/1 [==============================] - 0s 10ms/step - loss: 0.0022 - mae: 0.0399\n",
            "Epoch 682/1200\n",
            "1/1 [==============================] - 0s 9ms/step - loss: 0.0021 - mae: 0.0398\n",
            "Epoch 683/1200\n",
            "1/1 [==============================] - 0s 10ms/step - loss: 0.0021 - mae: 0.0397\n",
            "Epoch 684/1200\n",
            "1/1 [==============================] - 0s 8ms/step - loss: 0.0021 - mae: 0.0395\n",
            "Epoch 685/1200\n",
            "1/1 [==============================] - 0s 7ms/step - loss: 0.0021 - mae: 0.0394\n",
            "Epoch 686/1200\n",
            "1/1 [==============================] - 0s 12ms/step - loss: 0.0021 - mae: 0.0393\n",
            "Epoch 687/1200\n",
            "1/1 [==============================] - 0s 9ms/step - loss: 0.0021 - mae: 0.0391\n",
            "Epoch 688/1200\n",
            "1/1 [==============================] - 0s 8ms/step - loss: 0.0021 - mae: 0.0390\n",
            "Epoch 689/1200\n",
            "1/1 [==============================] - 0s 8ms/step - loss: 0.0020 - mae: 0.0389\n",
            "Epoch 690/1200\n",
            "1/1 [==============================] - 0s 8ms/step - loss: 0.0020 - mae: 0.0387\n",
            "Epoch 691/1200\n",
            "1/1 [==============================] - 0s 10ms/step - loss: 0.0020 - mae: 0.0386\n",
            "Epoch 692/1200\n",
            "1/1 [==============================] - 0s 10ms/step - loss: 0.0020 - mae: 0.0385\n",
            "Epoch 693/1200\n",
            "1/1 [==============================] - 0s 9ms/step - loss: 0.0020 - mae: 0.0383\n",
            "Epoch 694/1200\n",
            "1/1 [==============================] - 0s 11ms/step - loss: 0.0020 - mae: 0.0382\n",
            "Epoch 695/1200\n",
            "1/1 [==============================] - 0s 8ms/step - loss: 0.0020 - mae: 0.0381\n",
            "Epoch 696/1200\n",
            "1/1 [==============================] - 0s 10ms/step - loss: 0.0020 - mae: 0.0379\n",
            "Epoch 697/1200\n",
            "1/1 [==============================] - 0s 9ms/step - loss: 0.0019 - mae: 0.0378\n",
            "Epoch 698/1200\n",
            "1/1 [==============================] - 0s 6ms/step - loss: 0.0019 - mae: 0.0377\n",
            "Epoch 699/1200\n",
            "1/1 [==============================] - 0s 7ms/step - loss: 0.0019 - mae: 0.0376\n",
            "Epoch 700/1200\n",
            "1/1 [==============================] - 0s 12ms/step - loss: 0.0019 - mae: 0.0374\n",
            "Epoch 701/1200\n",
            "1/1 [==============================] - 0s 13ms/step - loss: 0.0019 - mae: 0.0373\n",
            "Epoch 702/1200\n",
            "1/1 [==============================] - 0s 9ms/step - loss: 0.0019 - mae: 0.0372\n",
            "Epoch 703/1200\n",
            "1/1 [==============================] - 0s 8ms/step - loss: 0.0019 - mae: 0.0371\n",
            "Epoch 704/1200\n",
            "1/1 [==============================] - 0s 7ms/step - loss: 0.0019 - mae: 0.0369\n",
            "Epoch 705/1200\n",
            "1/1 [==============================] - 0s 8ms/step - loss: 0.0018 - mae: 0.0368\n",
            "Epoch 706/1200\n",
            "1/1 [==============================] - 0s 9ms/step - loss: 0.0018 - mae: 0.0367\n",
            "Epoch 707/1200\n",
            "1/1 [==============================] - 0s 10ms/step - loss: 0.0018 - mae: 0.0366\n",
            "Epoch 708/1200\n",
            "1/1 [==============================] - 0s 10ms/step - loss: 0.0018 - mae: 0.0364\n",
            "Epoch 709/1200\n",
            "1/1 [==============================] - 0s 10ms/step - loss: 0.0018 - mae: 0.0363\n",
            "Epoch 710/1200\n",
            "1/1 [==============================] - 0s 8ms/step - loss: 0.0018 - mae: 0.0362\n",
            "Epoch 711/1200\n",
            "1/1 [==============================] - 0s 9ms/step - loss: 0.0018 - mae: 0.0361\n",
            "Epoch 712/1200\n",
            "1/1 [==============================] - 0s 8ms/step - loss: 0.0018 - mae: 0.0359\n",
            "Epoch 713/1200\n",
            "1/1 [==============================] - 0s 10ms/step - loss: 0.0017 - mae: 0.0358\n",
            "Epoch 714/1200\n",
            "1/1 [==============================] - 0s 11ms/step - loss: 0.0017 - mae: 0.0357\n",
            "Epoch 715/1200\n",
            "1/1 [==============================] - 0s 10ms/step - loss: 0.0017 - mae: 0.0356\n",
            "Epoch 716/1200\n",
            "1/1 [==============================] - 0s 9ms/step - loss: 0.0017 - mae: 0.0355\n",
            "Epoch 717/1200\n",
            "1/1 [==============================] - 0s 10ms/step - loss: 0.0017 - mae: 0.0353\n",
            "Epoch 718/1200\n",
            "1/1 [==============================] - 0s 9ms/step - loss: 0.0017 - mae: 0.0352\n",
            "Epoch 719/1200\n",
            "1/1 [==============================] - 0s 9ms/step - loss: 0.0017 - mae: 0.0351\n",
            "Epoch 720/1200\n",
            "1/1 [==============================] - 0s 9ms/step - loss: 0.0017 - mae: 0.0350\n",
            "Epoch 721/1200\n",
            "1/1 [==============================] - 0s 7ms/step - loss: 0.0016 - mae: 0.0349\n",
            "Epoch 722/1200\n",
            "1/1 [==============================] - 0s 8ms/step - loss: 0.0016 - mae: 0.0347\n",
            "Epoch 723/1200\n",
            "1/1 [==============================] - 0s 9ms/step - loss: 0.0016 - mae: 0.0346\n",
            "Epoch 724/1200\n",
            "1/1 [==============================] - 0s 7ms/step - loss: 0.0016 - mae: 0.0345\n",
            "Epoch 725/1200\n",
            "1/1 [==============================] - 0s 8ms/step - loss: 0.0016 - mae: 0.0344\n",
            "Epoch 726/1200\n",
            "1/1 [==============================] - 0s 10ms/step - loss: 0.0016 - mae: 0.0343\n",
            "Epoch 727/1200\n",
            "1/1 [==============================] - 0s 5ms/step - loss: 0.0016 - mae: 0.0342\n",
            "Epoch 728/1200\n",
            "1/1 [==============================] - 0s 5ms/step - loss: 0.0016 - mae: 0.0340\n",
            "Epoch 729/1200\n",
            "1/1 [==============================] - 0s 7ms/step - loss: 0.0016 - mae: 0.0339\n",
            "Epoch 730/1200\n",
            "1/1 [==============================] - 0s 9ms/step - loss: 0.0016 - mae: 0.0338\n",
            "Epoch 731/1200\n",
            "1/1 [==============================] - 0s 6ms/step - loss: 0.0015 - mae: 0.0337\n",
            "Epoch 732/1200\n",
            "1/1 [==============================] - 0s 20ms/step - loss: 0.0015 - mae: 0.0336\n",
            "Epoch 733/1200\n",
            "1/1 [==============================] - 0s 11ms/step - loss: 0.0015 - mae: 0.0335\n",
            "Epoch 734/1200\n",
            "1/1 [==============================] - 0s 11ms/step - loss: 0.0015 - mae: 0.0334\n",
            "Epoch 735/1200\n",
            "1/1 [==============================] - 0s 13ms/step - loss: 0.0015 - mae: 0.0332\n",
            "Epoch 736/1200\n",
            "1/1 [==============================] - 0s 10ms/step - loss: 0.0015 - mae: 0.0331\n",
            "Epoch 737/1200\n",
            "1/1 [==============================] - 0s 7ms/step - loss: 0.0015 - mae: 0.0330\n",
            "Epoch 738/1200\n",
            "1/1 [==============================] - 0s 7ms/step - loss: 0.0015 - mae: 0.0329\n",
            "Epoch 739/1200\n",
            "1/1 [==============================] - 0s 10ms/step - loss: 0.0015 - mae: 0.0328\n",
            "Epoch 740/1200\n",
            "1/1 [==============================] - 0s 10ms/step - loss: 0.0015 - mae: 0.0327\n",
            "Epoch 741/1200\n",
            "1/1 [==============================] - 0s 8ms/step - loss: 0.0014 - mae: 0.0326\n",
            "Epoch 742/1200\n",
            "1/1 [==============================] - 0s 9ms/step - loss: 0.0014 - mae: 0.0325\n",
            "Epoch 743/1200\n",
            "1/1 [==============================] - 0s 9ms/step - loss: 0.0014 - mae: 0.0324\n",
            "Epoch 744/1200\n",
            "1/1 [==============================] - 0s 9ms/step - loss: 0.0014 - mae: 0.0323\n",
            "Epoch 745/1200\n",
            "1/1 [==============================] - 0s 10ms/step - loss: 0.0014 - mae: 0.0321\n",
            "Epoch 746/1200\n",
            "1/1 [==============================] - 0s 11ms/step - loss: 0.0014 - mae: 0.0320\n",
            "Epoch 747/1200\n",
            "1/1 [==============================] - 0s 9ms/step - loss: 0.0014 - mae: 0.0319\n",
            "Epoch 748/1200\n",
            "1/1 [==============================] - 0s 7ms/step - loss: 0.0014 - mae: 0.0318\n",
            "Epoch 749/1200\n",
            "1/1 [==============================] - 0s 9ms/step - loss: 0.0014 - mae: 0.0317\n",
            "Epoch 750/1200\n",
            "1/1 [==============================] - 0s 8ms/step - loss: 0.0014 - mae: 0.0316\n",
            "Epoch 751/1200\n",
            "1/1 [==============================] - 0s 11ms/step - loss: 0.0013 - mae: 0.0315\n",
            "Epoch 752/1200\n",
            "1/1 [==============================] - 0s 9ms/step - loss: 0.0013 - mae: 0.0314\n",
            "Epoch 753/1200\n",
            "1/1 [==============================] - 0s 8ms/step - loss: 0.0013 - mae: 0.0313\n",
            "Epoch 754/1200\n",
            "1/1 [==============================] - 0s 9ms/step - loss: 0.0013 - mae: 0.0312\n",
            "Epoch 755/1200\n",
            "1/1 [==============================] - 0s 12ms/step - loss: 0.0013 - mae: 0.0311\n",
            "Epoch 756/1200\n",
            "1/1 [==============================] - 0s 8ms/step - loss: 0.0013 - mae: 0.0310\n",
            "Epoch 757/1200\n",
            "1/1 [==============================] - 0s 13ms/step - loss: 0.0013 - mae: 0.0309\n",
            "Epoch 758/1200\n",
            "1/1 [==============================] - 0s 8ms/step - loss: 0.0013 - mae: 0.0308\n",
            "Epoch 759/1200\n",
            "1/1 [==============================] - 0s 10ms/step - loss: 0.0013 - mae: 0.0307\n",
            "Epoch 760/1200\n",
            "1/1 [==============================] - 0s 8ms/step - loss: 0.0013 - mae: 0.0305\n",
            "Epoch 761/1200\n",
            "1/1 [==============================] - 0s 10ms/step - loss: 0.0013 - mae: 0.0304\n",
            "Epoch 762/1200\n",
            "1/1 [==============================] - 0s 8ms/step - loss: 0.0012 - mae: 0.0303\n",
            "Epoch 763/1200\n",
            "1/1 [==============================] - 0s 9ms/step - loss: 0.0012 - mae: 0.0302\n",
            "Epoch 764/1200\n",
            "1/1 [==============================] - 0s 8ms/step - loss: 0.0012 - mae: 0.0301\n",
            "Epoch 765/1200\n",
            "1/1 [==============================] - 0s 9ms/step - loss: 0.0012 - mae: 0.0300\n",
            "Epoch 766/1200\n",
            "1/1 [==============================] - 0s 9ms/step - loss: 0.0012 - mae: 0.0299\n",
            "Epoch 767/1200\n",
            "1/1 [==============================] - 0s 7ms/step - loss: 0.0012 - mae: 0.0298\n",
            "Epoch 768/1200\n",
            "1/1 [==============================] - 0s 7ms/step - loss: 0.0012 - mae: 0.0297\n",
            "Epoch 769/1200\n",
            "1/1 [==============================] - 0s 13ms/step - loss: 0.0012 - mae: 0.0296\n",
            "Epoch 770/1200\n",
            "1/1 [==============================] - 0s 7ms/step - loss: 0.0012 - mae: 0.0295\n",
            "Epoch 771/1200\n",
            "1/1 [==============================] - 0s 8ms/step - loss: 0.0012 - mae: 0.0294\n",
            "Epoch 772/1200\n",
            "1/1 [==============================] - 0s 9ms/step - loss: 0.0012 - mae: 0.0293\n",
            "Epoch 773/1200\n",
            "1/1 [==============================] - 0s 7ms/step - loss: 0.0012 - mae: 0.0292\n",
            "Epoch 774/1200\n",
            "1/1 [==============================] - 0s 7ms/step - loss: 0.0012 - mae: 0.0291\n",
            "Epoch 775/1200\n",
            "1/1 [==============================] - 0s 8ms/step - loss: 0.0011 - mae: 0.0290\n",
            "Epoch 776/1200\n",
            "1/1 [==============================] - 0s 10ms/step - loss: 0.0011 - mae: 0.0289\n",
            "Epoch 777/1200\n",
            "1/1 [==============================] - 0s 8ms/step - loss: 0.0011 - mae: 0.0288\n",
            "Epoch 778/1200\n",
            "1/1 [==============================] - 0s 7ms/step - loss: 0.0011 - mae: 0.0287\n",
            "Epoch 779/1200\n",
            "1/1 [==============================] - 0s 9ms/step - loss: 0.0011 - mae: 0.0286\n",
            "Epoch 780/1200\n",
            "1/1 [==============================] - 0s 11ms/step - loss: 0.0011 - mae: 0.0285\n",
            "Epoch 781/1200\n",
            "1/1 [==============================] - 0s 10ms/step - loss: 0.0011 - mae: 0.0285\n",
            "Epoch 782/1200\n",
            "1/1 [==============================] - 0s 10ms/step - loss: 0.0011 - mae: 0.0284\n",
            "Epoch 783/1200\n",
            "1/1 [==============================] - 0s 10ms/step - loss: 0.0011 - mae: 0.0283\n",
            "Epoch 784/1200\n",
            "1/1 [==============================] - 0s 11ms/step - loss: 0.0011 - mae: 0.0282\n",
            "Epoch 785/1200\n",
            "1/1 [==============================] - 0s 9ms/step - loss: 0.0011 - mae: 0.0281\n",
            "Epoch 786/1200\n",
            "1/1 [==============================] - 0s 7ms/step - loss: 0.0011 - mae: 0.0280\n",
            "Epoch 787/1200\n",
            "1/1 [==============================] - 0s 12ms/step - loss: 0.0011 - mae: 0.0279\n",
            "Epoch 788/1200\n",
            "1/1 [==============================] - 0s 12ms/step - loss: 0.0010 - mae: 0.0278\n",
            "Epoch 789/1200\n",
            "1/1 [==============================] - 0s 11ms/step - loss: 0.0010 - mae: 0.0277\n",
            "Epoch 790/1200\n",
            "1/1 [==============================] - 0s 13ms/step - loss: 0.0010 - mae: 0.0276\n",
            "Epoch 791/1200\n",
            "1/1 [==============================] - 0s 9ms/step - loss: 0.0010 - mae: 0.0275\n",
            "Epoch 792/1200\n",
            "1/1 [==============================] - 0s 11ms/step - loss: 0.0010 - mae: 0.0274\n",
            "Epoch 793/1200\n",
            "1/1 [==============================] - 0s 11ms/step - loss: 0.0010 - mae: 0.0273\n",
            "Epoch 794/1200\n",
            "1/1 [==============================] - 0s 6ms/step - loss: 0.0010 - mae: 0.0272\n",
            "Epoch 795/1200\n",
            "1/1 [==============================] - 0s 8ms/step - loss: 9.9946e-04 - mae: 0.0271\n",
            "Epoch 796/1200\n",
            "1/1 [==============================] - 0s 7ms/step - loss: 9.9273e-04 - mae: 0.0270\n",
            "Epoch 797/1200\n",
            "1/1 [==============================] - 0s 10ms/step - loss: 9.8602e-04 - mae: 0.0270\n",
            "Epoch 798/1200\n",
            "1/1 [==============================] - 0s 6ms/step - loss: 9.7936e-04 - mae: 0.0269\n",
            "Epoch 799/1200\n",
            "1/1 [==============================] - 0s 5ms/step - loss: 9.7275e-04 - mae: 0.0268\n",
            "Epoch 800/1200\n",
            "1/1 [==============================] - 0s 5ms/step - loss: 9.6619e-04 - mae: 0.0267\n",
            "Epoch 801/1200\n",
            "1/1 [==============================] - 0s 5ms/step - loss: 9.5968e-04 - mae: 0.0266\n",
            "Epoch 802/1200\n",
            "1/1 [==============================] - 0s 5ms/step - loss: 9.5320e-04 - mae: 0.0265\n",
            "Epoch 803/1200\n",
            "1/1 [==============================] - 0s 5ms/step - loss: 9.4675e-04 - mae: 0.0264\n",
            "Epoch 804/1200\n",
            "1/1 [==============================] - 0s 9ms/step - loss: 9.4036e-04 - mae: 0.0263\n",
            "Epoch 805/1200\n",
            "1/1 [==============================] - 0s 6ms/step - loss: 9.3403e-04 - mae: 0.0262\n",
            "Epoch 806/1200\n",
            "1/1 [==============================] - 0s 5ms/step - loss: 9.2771e-04 - mae: 0.0261\n",
            "Epoch 807/1200\n",
            "1/1 [==============================] - 0s 5ms/step - loss: 9.2145e-04 - mae: 0.0261\n",
            "Epoch 808/1200\n",
            "1/1 [==============================] - 0s 5ms/step - loss: 9.1522e-04 - mae: 0.0260\n",
            "Epoch 809/1200\n",
            "1/1 [==============================] - 0s 5ms/step - loss: 9.0905e-04 - mae: 0.0259\n",
            "Epoch 810/1200\n",
            "1/1 [==============================] - 0s 5ms/step - loss: 9.0293e-04 - mae: 0.0258\n",
            "Epoch 811/1200\n",
            "1/1 [==============================] - 0s 5ms/step - loss: 8.9683e-04 - mae: 0.0257\n",
            "Epoch 812/1200\n",
            "1/1 [==============================] - 0s 5ms/step - loss: 8.9076e-04 - mae: 0.0256\n",
            "Epoch 813/1200\n",
            "1/1 [==============================] - 0s 5ms/step - loss: 8.8474e-04 - mae: 0.0255\n",
            "Epoch 814/1200\n",
            "1/1 [==============================] - 0s 5ms/step - loss: 8.7878e-04 - mae: 0.0254\n",
            "Epoch 815/1200\n",
            "1/1 [==============================] - 0s 5ms/step - loss: 8.7284e-04 - mae: 0.0254\n",
            "Epoch 816/1200\n",
            "1/1 [==============================] - 0s 5ms/step - loss: 8.6695e-04 - mae: 0.0253\n",
            "Epoch 817/1200\n",
            "1/1 [==============================] - 0s 5ms/step - loss: 8.6110e-04 - mae: 0.0252\n",
            "Epoch 818/1200\n",
            "1/1 [==============================] - 0s 5ms/step - loss: 8.5528e-04 - mae: 0.0251\n",
            "Epoch 819/1200\n",
            "1/1 [==============================] - 0s 5ms/step - loss: 8.4953e-04 - mae: 0.0250\n",
            "Epoch 820/1200\n",
            "1/1 [==============================] - 0s 4ms/step - loss: 8.4378e-04 - mae: 0.0249\n",
            "Epoch 821/1200\n",
            "1/1 [==============================] - 0s 5ms/step - loss: 8.3808e-04 - mae: 0.0248\n",
            "Epoch 822/1200\n",
            "1/1 [==============================] - 0s 5ms/step - loss: 8.3242e-04 - mae: 0.0248\n",
            "Epoch 823/1200\n",
            "1/1 [==============================] - 0s 5ms/step - loss: 8.2681e-04 - mae: 0.0247\n",
            "Epoch 824/1200\n",
            "1/1 [==============================] - 0s 5ms/step - loss: 8.2122e-04 - mae: 0.0246\n",
            "Epoch 825/1200\n",
            "1/1 [==============================] - 0s 4ms/step - loss: 8.1568e-04 - mae: 0.0245\n",
            "Epoch 826/1200\n",
            "1/1 [==============================] - 0s 5ms/step - loss: 8.1017e-04 - mae: 0.0244\n",
            "Epoch 827/1200\n",
            "1/1 [==============================] - 0s 5ms/step - loss: 8.0471e-04 - mae: 0.0243\n",
            "Epoch 828/1200\n",
            "1/1 [==============================] - 0s 5ms/step - loss: 7.9926e-04 - mae: 0.0243\n",
            "Epoch 829/1200\n",
            "1/1 [==============================] - 0s 5ms/step - loss: 7.9389e-04 - mae: 0.0242\n",
            "Epoch 830/1200\n",
            "1/1 [==============================] - 0s 9ms/step - loss: 7.8852e-04 - mae: 0.0241\n",
            "Epoch 831/1200\n",
            "1/1 [==============================] - 0s 7ms/step - loss: 7.8320e-04 - mae: 0.0240\n",
            "Epoch 832/1200\n",
            "1/1 [==============================] - 0s 8ms/step - loss: 7.7790e-04 - mae: 0.0239\n",
            "Epoch 833/1200\n",
            "1/1 [==============================] - 0s 8ms/step - loss: 7.7264e-04 - mae: 0.0239\n",
            "Epoch 834/1200\n",
            "1/1 [==============================] - 0s 8ms/step - loss: 7.6744e-04 - mae: 0.0238\n",
            "Epoch 835/1200\n",
            "1/1 [==============================] - 0s 8ms/step - loss: 7.6227e-04 - mae: 0.0237\n",
            "Epoch 836/1200\n",
            "1/1 [==============================] - 0s 9ms/step - loss: 7.5713e-04 - mae: 0.0236\n",
            "Epoch 837/1200\n",
            "1/1 [==============================] - 0s 10ms/step - loss: 7.5201e-04 - mae: 0.0235\n",
            "Epoch 838/1200\n",
            "1/1 [==============================] - 0s 6ms/step - loss: 7.4692e-04 - mae: 0.0235\n",
            "Epoch 839/1200\n",
            "1/1 [==============================] - 0s 5ms/step - loss: 7.4188e-04 - mae: 0.0234\n",
            "Epoch 840/1200\n",
            "1/1 [==============================] - 0s 5ms/step - loss: 7.3689e-04 - mae: 0.0233\n",
            "Epoch 841/1200\n",
            "1/1 [==============================] - 0s 5ms/step - loss: 7.3190e-04 - mae: 0.0232\n",
            "Epoch 842/1200\n",
            "1/1 [==============================] - 0s 5ms/step - loss: 7.2696e-04 - mae: 0.0231\n",
            "Epoch 843/1200\n",
            "1/1 [==============================] - 0s 5ms/step - loss: 7.2205e-04 - mae: 0.0231\n",
            "Epoch 844/1200\n",
            "1/1 [==============================] - 0s 6ms/step - loss: 7.1719e-04 - mae: 0.0230\n",
            "Epoch 845/1200\n",
            "1/1 [==============================] - 0s 5ms/step - loss: 7.1233e-04 - mae: 0.0229\n",
            "Epoch 846/1200\n",
            "1/1 [==============================] - 0s 5ms/step - loss: 7.0754e-04 - mae: 0.0228\n",
            "Epoch 847/1200\n",
            "1/1 [==============================] - 0s 6ms/step - loss: 7.0275e-04 - mae: 0.0228\n",
            "Epoch 848/1200\n",
            "1/1 [==============================] - 0s 5ms/step - loss: 6.9802e-04 - mae: 0.0227\n",
            "Epoch 849/1200\n",
            "1/1 [==============================] - 0s 5ms/step - loss: 6.9329e-04 - mae: 0.0226\n",
            "Epoch 850/1200\n",
            "1/1 [==============================] - 0s 6ms/step - loss: 6.8861e-04 - mae: 0.0225\n",
            "Epoch 851/1200\n",
            "1/1 [==============================] - 0s 5ms/step - loss: 6.8397e-04 - mae: 0.0224\n",
            "Epoch 852/1200\n",
            "1/1 [==============================] - 0s 9ms/step - loss: 6.7935e-04 - mae: 0.0224\n",
            "Epoch 853/1200\n",
            "1/1 [==============================] - 0s 5ms/step - loss: 6.7477e-04 - mae: 0.0223\n",
            "Epoch 854/1200\n",
            "1/1 [==============================] - 0s 5ms/step - loss: 6.7021e-04 - mae: 0.0222\n",
            "Epoch 855/1200\n",
            "1/1 [==============================] - 0s 5ms/step - loss: 6.6567e-04 - mae: 0.0221\n",
            "Epoch 856/1200\n",
            "1/1 [==============================] - 0s 5ms/step - loss: 6.6119e-04 - mae: 0.0221\n",
            "Epoch 857/1200\n",
            "1/1 [==============================] - 0s 5ms/step - loss: 6.5673e-04 - mae: 0.0220\n",
            "Epoch 858/1200\n",
            "1/1 [==============================] - 0s 5ms/step - loss: 6.5230e-04 - mae: 0.0219\n",
            "Epoch 859/1200\n",
            "1/1 [==============================] - 0s 5ms/step - loss: 6.4790e-04 - mae: 0.0218\n",
            "Epoch 860/1200\n",
            "1/1 [==============================] - 0s 5ms/step - loss: 6.4353e-04 - mae: 0.0218\n",
            "Epoch 861/1200\n",
            "1/1 [==============================] - 0s 5ms/step - loss: 6.3918e-04 - mae: 0.0217\n",
            "Epoch 862/1200\n",
            "1/1 [==============================] - 0s 5ms/step - loss: 6.3486e-04 - mae: 0.0216\n",
            "Epoch 863/1200\n",
            "1/1 [==============================] - 0s 5ms/step - loss: 6.3057e-04 - mae: 0.0216\n",
            "Epoch 864/1200\n",
            "1/1 [==============================] - 0s 5ms/step - loss: 6.2632e-04 - mae: 0.0215\n",
            "Epoch 865/1200\n",
            "1/1 [==============================] - 0s 5ms/step - loss: 6.2209e-04 - mae: 0.0214\n",
            "Epoch 866/1200\n",
            "1/1 [==============================] - 0s 6ms/step - loss: 6.1789e-04 - mae: 0.0213\n",
            "Epoch 867/1200\n",
            "1/1 [==============================] - 0s 6ms/step - loss: 6.1372e-04 - mae: 0.0213\n",
            "Epoch 868/1200\n",
            "1/1 [==============================] - 0s 6ms/step - loss: 6.0958e-04 - mae: 0.0212\n",
            "Epoch 869/1200\n",
            "1/1 [==============================] - 0s 6ms/step - loss: 6.0546e-04 - mae: 0.0211\n",
            "Epoch 870/1200\n",
            "1/1 [==============================] - 0s 6ms/step - loss: 6.0137e-04 - mae: 0.0210\n",
            "Epoch 871/1200\n",
            "1/1 [==============================] - 0s 5ms/step - loss: 5.9732e-04 - mae: 0.0210\n",
            "Epoch 872/1200\n",
            "1/1 [==============================] - 0s 5ms/step - loss: 5.9329e-04 - mae: 0.0209\n",
            "Epoch 873/1200\n",
            "1/1 [==============================] - 0s 5ms/step - loss: 5.8928e-04 - mae: 0.0208\n",
            "Epoch 874/1200\n",
            "1/1 [==============================] - 0s 5ms/step - loss: 5.8531e-04 - mae: 0.0208\n",
            "Epoch 875/1200\n",
            "1/1 [==============================] - 0s 5ms/step - loss: 5.8135e-04 - mae: 0.0207\n",
            "Epoch 876/1200\n",
            "1/1 [==============================] - 0s 6ms/step - loss: 5.7742e-04 - mae: 0.0206\n",
            "Epoch 877/1200\n",
            "1/1 [==============================] - 0s 5ms/step - loss: 5.7353e-04 - mae: 0.0206\n",
            "Epoch 878/1200\n",
            "1/1 [==============================] - 0s 5ms/step - loss: 5.6966e-04 - mae: 0.0205\n",
            "Epoch 879/1200\n",
            "1/1 [==============================] - 0s 5ms/step - loss: 5.6581e-04 - mae: 0.0204\n",
            "Epoch 880/1200\n",
            "1/1 [==============================] - 0s 8ms/step - loss: 5.6199e-04 - mae: 0.0203\n",
            "Epoch 881/1200\n",
            "1/1 [==============================] - 0s 9ms/step - loss: 5.5820e-04 - mae: 0.0203\n",
            "Epoch 882/1200\n",
            "1/1 [==============================] - 0s 9ms/step - loss: 5.5443e-04 - mae: 0.0202\n",
            "Epoch 883/1200\n",
            "1/1 [==============================] - 0s 9ms/step - loss: 5.5069e-04 - mae: 0.0201\n",
            "Epoch 884/1200\n",
            "1/1 [==============================] - 0s 5ms/step - loss: 5.4696e-04 - mae: 0.0201\n",
            "Epoch 885/1200\n",
            "1/1 [==============================] - 0s 5ms/step - loss: 5.4328e-04 - mae: 0.0200\n",
            "Epoch 886/1200\n",
            "1/1 [==============================] - 0s 7ms/step - loss: 5.3961e-04 - mae: 0.0199\n",
            "Epoch 887/1200\n",
            "1/1 [==============================] - 0s 7ms/step - loss: 5.3596e-04 - mae: 0.0199\n",
            "Epoch 888/1200\n",
            "1/1 [==============================] - 0s 7ms/step - loss: 5.3235e-04 - mae: 0.0198\n",
            "Epoch 889/1200\n",
            "1/1 [==============================] - 0s 10ms/step - loss: 5.2876e-04 - mae: 0.0197\n",
            "Epoch 890/1200\n",
            "1/1 [==============================] - 0s 12ms/step - loss: 5.2519e-04 - mae: 0.0197\n",
            "Epoch 891/1200\n",
            "1/1 [==============================] - 0s 6ms/step - loss: 5.2163e-04 - mae: 0.0196\n",
            "Epoch 892/1200\n",
            "1/1 [==============================] - 0s 6ms/step - loss: 5.1812e-04 - mae: 0.0195\n",
            "Epoch 893/1200\n",
            "1/1 [==============================] - 0s 6ms/step - loss: 5.1462e-04 - mae: 0.0195\n",
            "Epoch 894/1200\n",
            "1/1 [==============================] - 0s 7ms/step - loss: 5.1115e-04 - mae: 0.0194\n",
            "Epoch 895/1200\n",
            "1/1 [==============================] - 0s 7ms/step - loss: 5.0769e-04 - mae: 0.0193\n",
            "Epoch 896/1200\n",
            "1/1 [==============================] - 0s 6ms/step - loss: 5.0427e-04 - mae: 0.0193\n",
            "Epoch 897/1200\n",
            "1/1 [==============================] - 0s 6ms/step - loss: 5.0087e-04 - mae: 0.0192\n",
            "Epoch 898/1200\n",
            "1/1 [==============================] - 0s 16ms/step - loss: 4.9748e-04 - mae: 0.0191\n",
            "Epoch 899/1200\n",
            "1/1 [==============================] - 0s 7ms/step - loss: 4.9412e-04 - mae: 0.0191\n",
            "Epoch 900/1200\n",
            "1/1 [==============================] - 0s 7ms/step - loss: 4.9080e-04 - mae: 0.0190\n",
            "Epoch 901/1200\n",
            "1/1 [==============================] - 0s 8ms/step - loss: 4.8748e-04 - mae: 0.0190\n",
            "Epoch 902/1200\n",
            "1/1 [==============================] - 0s 8ms/step - loss: 4.8419e-04 - mae: 0.0189\n",
            "Epoch 903/1200\n",
            "1/1 [==============================] - 0s 7ms/step - loss: 4.8091e-04 - mae: 0.0188\n",
            "Epoch 904/1200\n",
            "1/1 [==============================] - 0s 6ms/step - loss: 4.7766e-04 - mae: 0.0188\n",
            "Epoch 905/1200\n",
            "1/1 [==============================] - 0s 10ms/step - loss: 4.7444e-04 - mae: 0.0187\n",
            "Epoch 906/1200\n",
            "1/1 [==============================] - 0s 8ms/step - loss: 4.7124e-04 - mae: 0.0186\n",
            "Epoch 907/1200\n",
            "1/1 [==============================] - 0s 7ms/step - loss: 4.6806e-04 - mae: 0.0186\n",
            "Epoch 908/1200\n",
            "1/1 [==============================] - 0s 11ms/step - loss: 4.6489e-04 - mae: 0.0185\n",
            "Epoch 909/1200\n",
            "1/1 [==============================] - 0s 6ms/step - loss: 4.6177e-04 - mae: 0.0184\n",
            "Epoch 910/1200\n",
            "1/1 [==============================] - 0s 7ms/step - loss: 4.5864e-04 - mae: 0.0184\n",
            "Epoch 911/1200\n",
            "1/1 [==============================] - 0s 6ms/step - loss: 4.5555e-04 - mae: 0.0183\n",
            "Epoch 912/1200\n",
            "1/1 [==============================] - 0s 12ms/step - loss: 4.5247e-04 - mae: 0.0183\n",
            "Epoch 913/1200\n",
            "1/1 [==============================] - 0s 10ms/step - loss: 4.4942e-04 - mae: 0.0182\n",
            "Epoch 914/1200\n",
            "1/1 [==============================] - 0s 12ms/step - loss: 4.4638e-04 - mae: 0.0181\n",
            "Epoch 915/1200\n",
            "1/1 [==============================] - 0s 13ms/step - loss: 4.4337e-04 - mae: 0.0181\n",
            "Epoch 916/1200\n",
            "1/1 [==============================] - 0s 12ms/step - loss: 4.4037e-04 - mae: 0.0180\n",
            "Epoch 917/1200\n",
            "1/1 [==============================] - 0s 13ms/step - loss: 4.3741e-04 - mae: 0.0180\n",
            "Epoch 918/1200\n",
            "1/1 [==============================] - 0s 9ms/step - loss: 4.3447e-04 - mae: 0.0179\n",
            "Epoch 919/1200\n",
            "1/1 [==============================] - 0s 10ms/step - loss: 4.3152e-04 - mae: 0.0178\n",
            "Epoch 920/1200\n",
            "1/1 [==============================] - 0s 15ms/step - loss: 4.2861e-04 - mae: 0.0178\n",
            "Epoch 921/1200\n",
            "1/1 [==============================] - 0s 13ms/step - loss: 4.2571e-04 - mae: 0.0177\n",
            "Epoch 922/1200\n",
            "1/1 [==============================] - 0s 13ms/step - loss: 4.2283e-04 - mae: 0.0176\n",
            "Epoch 923/1200\n",
            "1/1 [==============================] - 0s 10ms/step - loss: 4.1999e-04 - mae: 0.0176\n",
            "Epoch 924/1200\n",
            "1/1 [==============================] - 0s 10ms/step - loss: 4.1715e-04 - mae: 0.0175\n",
            "Epoch 925/1200\n",
            "1/1 [==============================] - 0s 10ms/step - loss: 4.1434e-04 - mae: 0.0175\n",
            "Epoch 926/1200\n",
            "1/1 [==============================] - 0s 13ms/step - loss: 4.1154e-04 - mae: 0.0174\n",
            "Epoch 927/1200\n",
            "1/1 [==============================] - 0s 12ms/step - loss: 4.0877e-04 - mae: 0.0174\n",
            "Epoch 928/1200\n",
            "1/1 [==============================] - 0s 15ms/step - loss: 4.0600e-04 - mae: 0.0173\n",
            "Epoch 929/1200\n",
            "1/1 [==============================] - 0s 16ms/step - loss: 4.0326e-04 - mae: 0.0172\n",
            "Epoch 930/1200\n",
            "1/1 [==============================] - 0s 13ms/step - loss: 4.0053e-04 - mae: 0.0172\n",
            "Epoch 931/1200\n",
            "1/1 [==============================] - 0s 9ms/step - loss: 3.9783e-04 - mae: 0.0171\n",
            "Epoch 932/1200\n",
            "1/1 [==============================] - 0s 13ms/step - loss: 3.9515e-04 - mae: 0.0171\n",
            "Epoch 933/1200\n",
            "1/1 [==============================] - 0s 13ms/step - loss: 3.9249e-04 - mae: 0.0170\n",
            "Epoch 934/1200\n",
            "1/1 [==============================] - 0s 10ms/step - loss: 3.8984e-04 - mae: 0.0169\n",
            "Epoch 935/1200\n",
            "1/1 [==============================] - 0s 11ms/step - loss: 3.8720e-04 - mae: 0.0169\n",
            "Epoch 936/1200\n",
            "1/1 [==============================] - 0s 9ms/step - loss: 3.8458e-04 - mae: 0.0168\n",
            "Epoch 937/1200\n",
            "1/1 [==============================] - 0s 10ms/step - loss: 3.8199e-04 - mae: 0.0168\n",
            "Epoch 938/1200\n",
            "1/1 [==============================] - 0s 11ms/step - loss: 3.7942e-04 - mae: 0.0167\n",
            "Epoch 939/1200\n",
            "1/1 [==============================] - 0s 9ms/step - loss: 3.7685e-04 - mae: 0.0167\n",
            "Epoch 940/1200\n",
            "1/1 [==============================] - 0s 16ms/step - loss: 3.7432e-04 - mae: 0.0166\n",
            "Epoch 941/1200\n",
            "1/1 [==============================] - 0s 15ms/step - loss: 3.7177e-04 - mae: 0.0165\n",
            "Epoch 942/1200\n",
            "1/1 [==============================] - 0s 10ms/step - loss: 3.6927e-04 - mae: 0.0165\n",
            "Epoch 943/1200\n",
            "1/1 [==============================] - 0s 9ms/step - loss: 3.6678e-04 - mae: 0.0164\n",
            "Epoch 944/1200\n",
            "1/1 [==============================] - 0s 10ms/step - loss: 3.6431e-04 - mae: 0.0164\n",
            "Epoch 945/1200\n",
            "1/1 [==============================] - 0s 14ms/step - loss: 3.6185e-04 - mae: 0.0163\n",
            "Epoch 946/1200\n",
            "1/1 [==============================] - 0s 14ms/step - loss: 3.5941e-04 - mae: 0.0163\n",
            "Epoch 947/1200\n",
            "1/1 [==============================] - 0s 13ms/step - loss: 3.5697e-04 - mae: 0.0162\n",
            "Epoch 948/1200\n",
            "1/1 [==============================] - 0s 11ms/step - loss: 3.5457e-04 - mae: 0.0162\n",
            "Epoch 949/1200\n",
            "1/1 [==============================] - 0s 9ms/step - loss: 3.5218e-04 - mae: 0.0161\n",
            "Epoch 950/1200\n",
            "1/1 [==============================] - 0s 9ms/step - loss: 3.4979e-04 - mae: 0.0161\n",
            "Epoch 951/1200\n",
            "1/1 [==============================] - 0s 11ms/step - loss: 3.4743e-04 - mae: 0.0160\n",
            "Epoch 952/1200\n",
            "1/1 [==============================] - 0s 9ms/step - loss: 3.4509e-04 - mae: 0.0159\n",
            "Epoch 953/1200\n",
            "1/1 [==============================] - 0s 7ms/step - loss: 3.4277e-04 - mae: 0.0159\n",
            "Epoch 954/1200\n",
            "1/1 [==============================] - 0s 8ms/step - loss: 3.4045e-04 - mae: 0.0158\n",
            "Epoch 955/1200\n",
            "1/1 [==============================] - 0s 11ms/step - loss: 3.3814e-04 - mae: 0.0158\n",
            "Epoch 956/1200\n",
            "1/1 [==============================] - 0s 11ms/step - loss: 3.3586e-04 - mae: 0.0157\n",
            "Epoch 957/1200\n",
            "1/1 [==============================] - 0s 10ms/step - loss: 3.3360e-04 - mae: 0.0157\n",
            "Epoch 958/1200\n",
            "1/1 [==============================] - 0s 7ms/step - loss: 3.3136e-04 - mae: 0.0156\n",
            "Epoch 959/1200\n",
            "1/1 [==============================] - 0s 10ms/step - loss: 3.2911e-04 - mae: 0.0156\n",
            "Epoch 960/1200\n",
            "1/1 [==============================] - 0s 10ms/step - loss: 3.2688e-04 - mae: 0.0155\n",
            "Epoch 961/1200\n",
            "1/1 [==============================] - 0s 10ms/step - loss: 3.2469e-04 - mae: 0.0155\n",
            "Epoch 962/1200\n",
            "1/1 [==============================] - 0s 12ms/step - loss: 3.2249e-04 - mae: 0.0154\n",
            "Epoch 963/1200\n",
            "1/1 [==============================] - 0s 8ms/step - loss: 3.2031e-04 - mae: 0.0154\n",
            "Epoch 964/1200\n",
            "1/1 [==============================] - 0s 9ms/step - loss: 3.1815e-04 - mae: 0.0153\n",
            "Epoch 965/1200\n",
            "1/1 [==============================] - 0s 10ms/step - loss: 3.1600e-04 - mae: 0.0153\n",
            "Epoch 966/1200\n",
            "1/1 [==============================] - 0s 8ms/step - loss: 3.1387e-04 - mae: 0.0152\n",
            "Epoch 967/1200\n",
            "1/1 [==============================] - 0s 8ms/step - loss: 3.1175e-04 - mae: 0.0152\n",
            "Epoch 968/1200\n",
            "1/1 [==============================] - 0s 9ms/step - loss: 3.0964e-04 - mae: 0.0151\n",
            "Epoch 969/1200\n",
            "1/1 [==============================] - 0s 9ms/step - loss: 3.0756e-04 - mae: 0.0151\n",
            "Epoch 970/1200\n",
            "1/1 [==============================] - 0s 12ms/step - loss: 3.0547e-04 - mae: 0.0150\n",
            "Epoch 971/1200\n",
            "1/1 [==============================] - 0s 17ms/step - loss: 3.0341e-04 - mae: 0.0150\n",
            "Epoch 972/1200\n",
            "1/1 [==============================] - 0s 14ms/step - loss: 3.0137e-04 - mae: 0.0149\n",
            "Epoch 973/1200\n",
            "1/1 [==============================] - 0s 20ms/step - loss: 2.9933e-04 - mae: 0.0149\n",
            "Epoch 974/1200\n",
            "1/1 [==============================] - 0s 11ms/step - loss: 2.9730e-04 - mae: 0.0148\n",
            "Epoch 975/1200\n",
            "1/1 [==============================] - 0s 10ms/step - loss: 2.9530e-04 - mae: 0.0147\n",
            "Epoch 976/1200\n",
            "1/1 [==============================] - 0s 10ms/step - loss: 2.9331e-04 - mae: 0.0147\n",
            "Epoch 977/1200\n",
            "1/1 [==============================] - 0s 8ms/step - loss: 2.9134e-04 - mae: 0.0147\n",
            "Epoch 978/1200\n",
            "1/1 [==============================] - 0s 8ms/step - loss: 2.8936e-04 - mae: 0.0146\n",
            "Epoch 979/1200\n",
            "1/1 [==============================] - 0s 9ms/step - loss: 2.8740e-04 - mae: 0.0146\n",
            "Epoch 980/1200\n",
            "1/1 [==============================] - 0s 7ms/step - loss: 2.8546e-04 - mae: 0.0145\n",
            "Epoch 981/1200\n",
            "1/1 [==============================] - 0s 7ms/step - loss: 2.8354e-04 - mae: 0.0145\n",
            "Epoch 982/1200\n",
            "1/1 [==============================] - 0s 9ms/step - loss: 2.8162e-04 - mae: 0.0144\n",
            "Epoch 983/1200\n",
            "1/1 [==============================] - 0s 13ms/step - loss: 2.7973e-04 - mae: 0.0144\n",
            "Epoch 984/1200\n",
            "1/1 [==============================] - 0s 8ms/step - loss: 2.7783e-04 - mae: 0.0143\n",
            "Epoch 985/1200\n",
            "1/1 [==============================] - 0s 8ms/step - loss: 2.7596e-04 - mae: 0.0143\n",
            "Epoch 986/1200\n",
            "1/1 [==============================] - 0s 10ms/step - loss: 2.7411e-04 - mae: 0.0142\n",
            "Epoch 987/1200\n",
            "1/1 [==============================] - 0s 11ms/step - loss: 2.7224e-04 - mae: 0.0142\n",
            "Epoch 988/1200\n",
            "1/1 [==============================] - 0s 9ms/step - loss: 2.7041e-04 - mae: 0.0141\n",
            "Epoch 989/1200\n",
            "1/1 [==============================] - 0s 9ms/step - loss: 2.6859e-04 - mae: 0.0141\n",
            "Epoch 990/1200\n",
            "1/1 [==============================] - 0s 8ms/step - loss: 2.6678e-04 - mae: 0.0140\n",
            "Epoch 991/1200\n",
            "1/1 [==============================] - 0s 9ms/step - loss: 2.6497e-04 - mae: 0.0140\n",
            "Epoch 992/1200\n",
            "1/1 [==============================] - 0s 10ms/step - loss: 2.6319e-04 - mae: 0.0139\n",
            "Epoch 993/1200\n",
            "1/1 [==============================] - 0s 6ms/step - loss: 2.6141e-04 - mae: 0.0139\n",
            "Epoch 994/1200\n",
            "1/1 [==============================] - 0s 9ms/step - loss: 2.5964e-04 - mae: 0.0138\n",
            "Epoch 995/1200\n",
            "1/1 [==============================] - 0s 8ms/step - loss: 2.5788e-04 - mae: 0.0138\n",
            "Epoch 996/1200\n",
            "1/1 [==============================] - 0s 8ms/step - loss: 2.5615e-04 - mae: 0.0137\n",
            "Epoch 997/1200\n",
            "1/1 [==============================] - 0s 8ms/step - loss: 2.5443e-04 - mae: 0.0137\n",
            "Epoch 998/1200\n",
            "1/1 [==============================] - 0s 7ms/step - loss: 2.5271e-04 - mae: 0.0136\n",
            "Epoch 999/1200\n",
            "1/1 [==============================] - 0s 7ms/step - loss: 2.5100e-04 - mae: 0.0136\n",
            "Epoch 1000/1200\n",
            "1/1 [==============================] - 0s 8ms/step - loss: 2.4931e-04 - mae: 0.0136\n",
            "Epoch 1001/1200\n",
            "1/1 [==============================] - 0s 7ms/step - loss: 2.4761e-04 - mae: 0.0135\n",
            "Epoch 1002/1200\n",
            "1/1 [==============================] - 0s 11ms/step - loss: 2.4594e-04 - mae: 0.0135\n",
            "Epoch 1003/1200\n",
            "1/1 [==============================] - 0s 9ms/step - loss: 2.4428e-04 - mae: 0.0134\n",
            "Epoch 1004/1200\n",
            "1/1 [==============================] - 0s 10ms/step - loss: 2.4263e-04 - mae: 0.0134\n",
            "Epoch 1005/1200\n",
            "1/1 [==============================] - 0s 7ms/step - loss: 2.4100e-04 - mae: 0.0133\n",
            "Epoch 1006/1200\n",
            "1/1 [==============================] - 0s 7ms/step - loss: 2.3937e-04 - mae: 0.0133\n",
            "Epoch 1007/1200\n",
            "1/1 [==============================] - 0s 8ms/step - loss: 2.3776e-04 - mae: 0.0132\n",
            "Epoch 1008/1200\n",
            "1/1 [==============================] - 0s 11ms/step - loss: 2.3615e-04 - mae: 0.0132\n",
            "Epoch 1009/1200\n",
            "1/1 [==============================] - 0s 8ms/step - loss: 2.3456e-04 - mae: 0.0131\n",
            "Epoch 1010/1200\n",
            "1/1 [==============================] - 0s 8ms/step - loss: 2.3297e-04 - mae: 0.0131\n",
            "Epoch 1011/1200\n",
            "1/1 [==============================] - 0s 10ms/step - loss: 2.3141e-04 - mae: 0.0131\n",
            "Epoch 1012/1200\n",
            "1/1 [==============================] - 0s 10ms/step - loss: 2.2984e-04 - mae: 0.0130\n",
            "Epoch 1013/1200\n",
            "1/1 [==============================] - 0s 9ms/step - loss: 2.2829e-04 - mae: 0.0130\n",
            "Epoch 1014/1200\n",
            "1/1 [==============================] - 0s 9ms/step - loss: 2.2675e-04 - mae: 0.0129\n",
            "Epoch 1015/1200\n",
            "1/1 [==============================] - 0s 7ms/step - loss: 2.2521e-04 - mae: 0.0129\n",
            "Epoch 1016/1200\n",
            "1/1 [==============================] - 0s 12ms/step - loss: 2.2370e-04 - mae: 0.0128\n",
            "Epoch 1017/1200\n",
            "1/1 [==============================] - 0s 10ms/step - loss: 2.2218e-04 - mae: 0.0128\n",
            "Epoch 1018/1200\n",
            "1/1 [==============================] - 0s 7ms/step - loss: 2.2069e-04 - mae: 0.0128\n",
            "Epoch 1019/1200\n",
            "1/1 [==============================] - 0s 8ms/step - loss: 2.1920e-04 - mae: 0.0127\n",
            "Epoch 1020/1200\n",
            "1/1 [==============================] - 0s 8ms/step - loss: 2.1771e-04 - mae: 0.0127\n",
            "Epoch 1021/1200\n",
            "1/1 [==============================] - 0s 6ms/step - loss: 2.1625e-04 - mae: 0.0126\n",
            "Epoch 1022/1200\n",
            "1/1 [==============================] - 0s 6ms/step - loss: 2.1478e-04 - mae: 0.0126\n",
            "Epoch 1023/1200\n",
            "1/1 [==============================] - 0s 8ms/step - loss: 2.1333e-04 - mae: 0.0125\n",
            "Epoch 1024/1200\n",
            "1/1 [==============================] - 0s 8ms/step - loss: 2.1190e-04 - mae: 0.0125\n",
            "Epoch 1025/1200\n",
            "1/1 [==============================] - 0s 6ms/step - loss: 2.1046e-04 - mae: 0.0125\n",
            "Epoch 1026/1200\n",
            "1/1 [==============================] - 0s 10ms/step - loss: 2.0905e-04 - mae: 0.0124\n",
            "Epoch 1027/1200\n",
            "1/1 [==============================] - 0s 9ms/step - loss: 2.0764e-04 - mae: 0.0124\n",
            "Epoch 1028/1200\n",
            "1/1 [==============================] - 0s 7ms/step - loss: 2.0623e-04 - mae: 0.0123\n",
            "Epoch 1029/1200\n",
            "1/1 [==============================] - 0s 7ms/step - loss: 2.0484e-04 - mae: 0.0123\n",
            "Epoch 1030/1200\n",
            "1/1 [==============================] - 0s 10ms/step - loss: 2.0346e-04 - mae: 0.0122\n",
            "Epoch 1031/1200\n",
            "1/1 [==============================] - 0s 11ms/step - loss: 2.0208e-04 - mae: 0.0122\n",
            "Epoch 1032/1200\n",
            "1/1 [==============================] - 0s 7ms/step - loss: 2.0073e-04 - mae: 0.0122\n",
            "Epoch 1033/1200\n",
            "1/1 [==============================] - 0s 10ms/step - loss: 1.9937e-04 - mae: 0.0121\n",
            "Epoch 1034/1200\n",
            "1/1 [==============================] - 0s 7ms/step - loss: 1.9802e-04 - mae: 0.0121\n",
            "Epoch 1035/1200\n",
            "1/1 [==============================] - 0s 8ms/step - loss: 1.9669e-04 - mae: 0.0120\n",
            "Epoch 1036/1200\n",
            "1/1 [==============================] - 0s 7ms/step - loss: 1.9535e-04 - mae: 0.0120\n",
            "Epoch 1037/1200\n",
            "1/1 [==============================] - 0s 7ms/step - loss: 1.9404e-04 - mae: 0.0120\n",
            "Epoch 1038/1200\n",
            "1/1 [==============================] - 0s 8ms/step - loss: 1.9273e-04 - mae: 0.0119\n",
            "Epoch 1039/1200\n",
            "1/1 [==============================] - 0s 9ms/step - loss: 1.9142e-04 - mae: 0.0119\n",
            "Epoch 1040/1200\n",
            "1/1 [==============================] - 0s 8ms/step - loss: 1.9013e-04 - mae: 0.0118\n",
            "Epoch 1041/1200\n",
            "1/1 [==============================] - 0s 7ms/step - loss: 1.8885e-04 - mae: 0.0118\n",
            "Epoch 1042/1200\n",
            "1/1 [==============================] - 0s 8ms/step - loss: 1.8758e-04 - mae: 0.0118\n",
            "Epoch 1043/1200\n",
            "1/1 [==============================] - 0s 8ms/step - loss: 1.8631e-04 - mae: 0.0117\n",
            "Epoch 1044/1200\n",
            "1/1 [==============================] - 0s 7ms/step - loss: 1.8505e-04 - mae: 0.0117\n",
            "Epoch 1045/1200\n",
            "1/1 [==============================] - 0s 7ms/step - loss: 1.8380e-04 - mae: 0.0116\n",
            "Epoch 1046/1200\n",
            "1/1 [==============================] - 0s 10ms/step - loss: 1.8256e-04 - mae: 0.0116\n",
            "Epoch 1047/1200\n",
            "1/1 [==============================] - 0s 7ms/step - loss: 1.8133e-04 - mae: 0.0116\n",
            "Epoch 1048/1200\n",
            "1/1 [==============================] - 0s 7ms/step - loss: 1.8010e-04 - mae: 0.0115\n",
            "Epoch 1049/1200\n",
            "1/1 [==============================] - 0s 6ms/step - loss: 1.7889e-04 - mae: 0.0115\n",
            "Epoch 1050/1200\n",
            "1/1 [==============================] - 0s 7ms/step - loss: 1.7768e-04 - mae: 0.0114\n",
            "Epoch 1051/1200\n",
            "1/1 [==============================] - 0s 6ms/step - loss: 1.7648e-04 - mae: 0.0114\n",
            "Epoch 1052/1200\n",
            "1/1 [==============================] - 0s 7ms/step - loss: 1.7530e-04 - mae: 0.0114\n",
            "Epoch 1053/1200\n",
            "1/1 [==============================] - 0s 7ms/step - loss: 1.7412e-04 - mae: 0.0113\n",
            "Epoch 1054/1200\n",
            "1/1 [==============================] - 0s 7ms/step - loss: 1.7293e-04 - mae: 0.0113\n",
            "Epoch 1055/1200\n",
            "1/1 [==============================] - 0s 7ms/step - loss: 1.7177e-04 - mae: 0.0112\n",
            "Epoch 1056/1200\n",
            "1/1 [==============================] - 0s 6ms/step - loss: 1.7061e-04 - mae: 0.0112\n",
            "Epoch 1057/1200\n",
            "1/1 [==============================] - 0s 12ms/step - loss: 1.6946e-04 - mae: 0.0112\n",
            "Epoch 1058/1200\n",
            "1/1 [==============================] - 0s 7ms/step - loss: 1.6831e-04 - mae: 0.0111\n",
            "Epoch 1059/1200\n",
            "1/1 [==============================] - 0s 6ms/step - loss: 1.6718e-04 - mae: 0.0111\n",
            "Epoch 1060/1200\n",
            "1/1 [==============================] - 0s 4ms/step - loss: 1.6605e-04 - mae: 0.0111\n",
            "Epoch 1061/1200\n",
            "1/1 [==============================] - 0s 4ms/step - loss: 1.6493e-04 - mae: 0.0110\n",
            "Epoch 1062/1200\n",
            "1/1 [==============================] - 0s 5ms/step - loss: 1.6381e-04 - mae: 0.0110\n",
            "Epoch 1063/1200\n",
            "1/1 [==============================] - 0s 4ms/step - loss: 1.6271e-04 - mae: 0.0109\n",
            "Epoch 1064/1200\n",
            "1/1 [==============================] - 0s 5ms/step - loss: 1.6161e-04 - mae: 0.0109\n",
            "Epoch 1065/1200\n",
            "1/1 [==============================] - 0s 6ms/step - loss: 1.6052e-04 - mae: 0.0109\n",
            "Epoch 1066/1200\n",
            "1/1 [==============================] - 0s 5ms/step - loss: 1.5944e-04 - mae: 0.0108\n",
            "Epoch 1067/1200\n",
            "1/1 [==============================] - 0s 5ms/step - loss: 1.5835e-04 - mae: 0.0108\n",
            "Epoch 1068/1200\n",
            "1/1 [==============================] - 0s 5ms/step - loss: 1.5729e-04 - mae: 0.0108\n",
            "Epoch 1069/1200\n",
            "1/1 [==============================] - 0s 5ms/step - loss: 1.5622e-04 - mae: 0.0107\n",
            "Epoch 1070/1200\n",
            "1/1 [==============================] - 0s 5ms/step - loss: 1.5517e-04 - mae: 0.0107\n",
            "Epoch 1071/1200\n",
            "1/1 [==============================] - 0s 5ms/step - loss: 1.5413e-04 - mae: 0.0107\n",
            "Epoch 1072/1200\n",
            "1/1 [==============================] - 0s 11ms/step - loss: 1.5309e-04 - mae: 0.0106\n",
            "Epoch 1073/1200\n",
            "1/1 [==============================] - 0s 7ms/step - loss: 1.5206e-04 - mae: 0.0106\n",
            "Epoch 1074/1200\n",
            "1/1 [==============================] - 0s 5ms/step - loss: 1.5103e-04 - mae: 0.0105\n",
            "Epoch 1075/1200\n",
            "1/1 [==============================] - 0s 5ms/step - loss: 1.5001e-04 - mae: 0.0105\n",
            "Epoch 1076/1200\n",
            "1/1 [==============================] - 0s 5ms/step - loss: 1.4900e-04 - mae: 0.0105\n",
            "Epoch 1077/1200\n",
            "1/1 [==============================] - 0s 5ms/step - loss: 1.4799e-04 - mae: 0.0104\n",
            "Epoch 1078/1200\n",
            "1/1 [==============================] - 0s 5ms/step - loss: 1.4699e-04 - mae: 0.0104\n",
            "Epoch 1079/1200\n",
            "1/1 [==============================] - 0s 5ms/step - loss: 1.4600e-04 - mae: 0.0104\n",
            "Epoch 1080/1200\n",
            "1/1 [==============================] - 0s 4ms/step - loss: 1.4501e-04 - mae: 0.0103\n",
            "Epoch 1081/1200\n",
            "1/1 [==============================] - 0s 5ms/step - loss: 1.4404e-04 - mae: 0.0103\n",
            "Epoch 1082/1200\n",
            "1/1 [==============================] - 0s 5ms/step - loss: 1.4306e-04 - mae: 0.0103\n",
            "Epoch 1083/1200\n",
            "1/1 [==============================] - 0s 5ms/step - loss: 1.4210e-04 - mae: 0.0102\n",
            "Epoch 1084/1200\n",
            "1/1 [==============================] - 0s 5ms/step - loss: 1.4114e-04 - mae: 0.0102\n",
            "Epoch 1085/1200\n",
            "1/1 [==============================] - 0s 5ms/step - loss: 1.4019e-04 - mae: 0.0102\n",
            "Epoch 1086/1200\n",
            "1/1 [==============================] - 0s 5ms/step - loss: 1.3924e-04 - mae: 0.0101\n",
            "Epoch 1087/1200\n",
            "1/1 [==============================] - 0s 4ms/step - loss: 1.3830e-04 - mae: 0.0101\n",
            "Epoch 1088/1200\n",
            "1/1 [==============================] - 0s 5ms/step - loss: 1.3736e-04 - mae: 0.0101\n",
            "Epoch 1089/1200\n",
            "1/1 [==============================] - 0s 5ms/step - loss: 1.3643e-04 - mae: 0.0100\n",
            "Epoch 1090/1200\n",
            "1/1 [==============================] - 0s 16ms/step - loss: 1.3551e-04 - mae: 0.0100\n",
            "Epoch 1091/1200\n",
            "1/1 [==============================] - 0s 7ms/step - loss: 1.3460e-04 - mae: 0.0100\n",
            "Epoch 1092/1200\n",
            "1/1 [==============================] - 0s 5ms/step - loss: 1.3369e-04 - mae: 0.0099\n",
            "Epoch 1093/1200\n",
            "1/1 [==============================] - 0s 7ms/step - loss: 1.3279e-04 - mae: 0.0099\n",
            "Epoch 1094/1200\n",
            "1/1 [==============================] - 0s 7ms/step - loss: 1.3189e-04 - mae: 0.0099\n",
            "Epoch 1095/1200\n",
            "1/1 [==============================] - 0s 8ms/step - loss: 1.3100e-04 - mae: 0.0098\n",
            "Epoch 1096/1200\n",
            "1/1 [==============================] - 0s 9ms/step - loss: 1.3012e-04 - mae: 0.0098\n",
            "Epoch 1097/1200\n",
            "1/1 [==============================] - 0s 8ms/step - loss: 1.2924e-04 - mae: 0.0098\n",
            "Epoch 1098/1200\n",
            "1/1 [==============================] - 0s 7ms/step - loss: 1.2837e-04 - mae: 0.0097\n",
            "Epoch 1099/1200\n",
            "1/1 [==============================] - 0s 6ms/step - loss: 1.2750e-04 - mae: 0.0097\n",
            "Epoch 1100/1200\n",
            "1/1 [==============================] - 0s 9ms/step - loss: 1.2664e-04 - mae: 0.0097\n",
            "Epoch 1101/1200\n",
            "1/1 [==============================] - 0s 6ms/step - loss: 1.2578e-04 - mae: 0.0096\n",
            "Epoch 1102/1200\n",
            "1/1 [==============================] - 0s 8ms/step - loss: 1.2493e-04 - mae: 0.0096\n",
            "Epoch 1103/1200\n",
            "1/1 [==============================] - 0s 6ms/step - loss: 1.2410e-04 - mae: 0.0096\n",
            "Epoch 1104/1200\n",
            "1/1 [==============================] - 0s 7ms/step - loss: 1.2325e-04 - mae: 0.0095\n",
            "Epoch 1105/1200\n",
            "1/1 [==============================] - 0s 16ms/step - loss: 1.2242e-04 - mae: 0.0095\n",
            "Epoch 1106/1200\n",
            "1/1 [==============================] - 0s 9ms/step - loss: 1.2160e-04 - mae: 0.0095\n",
            "Epoch 1107/1200\n",
            "1/1 [==============================] - 0s 9ms/step - loss: 1.2078e-04 - mae: 0.0094\n",
            "Epoch 1108/1200\n",
            "1/1 [==============================] - 0s 9ms/step - loss: 1.1996e-04 - mae: 0.0094\n",
            "Epoch 1109/1200\n",
            "1/1 [==============================] - 0s 13ms/step - loss: 1.1915e-04 - mae: 0.0094\n",
            "Epoch 1110/1200\n",
            "1/1 [==============================] - 0s 14ms/step - loss: 1.1834e-04 - mae: 0.0093\n",
            "Epoch 1111/1200\n",
            "1/1 [==============================] - 0s 11ms/step - loss: 1.1755e-04 - mae: 0.0093\n",
            "Epoch 1112/1200\n",
            "1/1 [==============================] - 0s 5ms/step - loss: 1.1676e-04 - mae: 0.0093\n",
            "Epoch 1113/1200\n",
            "1/1 [==============================] - 0s 25ms/step - loss: 1.1596e-04 - mae: 0.0092\n",
            "Epoch 1114/1200\n",
            "1/1 [==============================] - 0s 6ms/step - loss: 1.1518e-04 - mae: 0.0092\n",
            "Epoch 1115/1200\n",
            "1/1 [==============================] - 0s 15ms/step - loss: 1.1441e-04 - mae: 0.0092\n",
            "Epoch 1116/1200\n",
            "1/1 [==============================] - 0s 12ms/step - loss: 1.1363e-04 - mae: 0.0091\n",
            "Epoch 1117/1200\n",
            "1/1 [==============================] - 0s 31ms/step - loss: 1.1287e-04 - mae: 0.0091\n",
            "Epoch 1118/1200\n",
            "1/1 [==============================] - 0s 22ms/step - loss: 1.1210e-04 - mae: 0.0091\n",
            "Epoch 1119/1200\n",
            "1/1 [==============================] - 0s 29ms/step - loss: 1.1135e-04 - mae: 0.0091\n",
            "Epoch 1120/1200\n",
            "1/1 [==============================] - 0s 18ms/step - loss: 1.1059e-04 - mae: 0.0090\n",
            "Epoch 1121/1200\n",
            "1/1 [==============================] - 0s 12ms/step - loss: 1.0985e-04 - mae: 0.0090\n",
            "Epoch 1122/1200\n",
            "1/1 [==============================] - 0s 15ms/step - loss: 1.0911e-04 - mae: 0.0090\n",
            "Epoch 1123/1200\n",
            "1/1 [==============================] - 0s 20ms/step - loss: 1.0838e-04 - mae: 0.0089\n",
            "Epoch 1124/1200\n",
            "1/1 [==============================] - 0s 13ms/step - loss: 1.0764e-04 - mae: 0.0089\n",
            "Epoch 1125/1200\n",
            "1/1 [==============================] - 0s 13ms/step - loss: 1.0691e-04 - mae: 0.0089\n",
            "Epoch 1126/1200\n",
            "1/1 [==============================] - 0s 19ms/step - loss: 1.0619e-04 - mae: 0.0088\n",
            "Epoch 1127/1200\n",
            "1/1 [==============================] - 0s 9ms/step - loss: 1.0547e-04 - mae: 0.0088\n",
            "Epoch 1128/1200\n",
            "1/1 [==============================] - 0s 18ms/step - loss: 1.0476e-04 - mae: 0.0088\n",
            "Epoch 1129/1200\n",
            "1/1 [==============================] - 0s 11ms/step - loss: 1.0405e-04 - mae: 0.0088\n",
            "Epoch 1130/1200\n",
            "1/1 [==============================] - 0s 12ms/step - loss: 1.0335e-04 - mae: 0.0087\n",
            "Epoch 1131/1200\n",
            "1/1 [==============================] - 0s 14ms/step - loss: 1.0266e-04 - mae: 0.0087\n",
            "Epoch 1132/1200\n",
            "1/1 [==============================] - 0s 16ms/step - loss: 1.0196e-04 - mae: 0.0087\n",
            "Epoch 1133/1200\n",
            "1/1 [==============================] - 0s 16ms/step - loss: 1.0128e-04 - mae: 0.0086\n",
            "Epoch 1134/1200\n",
            "1/1 [==============================] - 0s 10ms/step - loss: 1.0059e-04 - mae: 0.0086\n",
            "Epoch 1135/1200\n",
            "1/1 [==============================] - 0s 15ms/step - loss: 9.9915e-05 - mae: 0.0086\n",
            "Epoch 1136/1200\n",
            "1/1 [==============================] - 0s 7ms/step - loss: 9.9241e-05 - mae: 0.0086\n",
            "Epoch 1137/1200\n",
            "1/1 [==============================] - 0s 9ms/step - loss: 9.8566e-05 - mae: 0.0085\n",
            "Epoch 1138/1200\n",
            "1/1 [==============================] - 0s 7ms/step - loss: 9.7903e-05 - mae: 0.0085\n",
            "Epoch 1139/1200\n",
            "1/1 [==============================] - 0s 9ms/step - loss: 9.7241e-05 - mae: 0.0085\n",
            "Epoch 1140/1200\n",
            "1/1 [==============================] - 0s 6ms/step - loss: 9.6584e-05 - mae: 0.0084\n",
            "Epoch 1141/1200\n",
            "1/1 [==============================] - 0s 6ms/step - loss: 9.5934e-05 - mae: 0.0084\n",
            "Epoch 1142/1200\n",
            "1/1 [==============================] - 0s 10ms/step - loss: 9.5282e-05 - mae: 0.0084\n",
            "Epoch 1143/1200\n",
            "1/1 [==============================] - 0s 6ms/step - loss: 9.4644e-05 - mae: 0.0084\n",
            "Epoch 1144/1200\n",
            "1/1 [==============================] - 0s 11ms/step - loss: 9.4002e-05 - mae: 0.0083\n",
            "Epoch 1145/1200\n",
            "1/1 [==============================] - 0s 11ms/step - loss: 9.3372e-05 - mae: 0.0083\n",
            "Epoch 1146/1200\n",
            "1/1 [==============================] - 0s 12ms/step - loss: 9.2739e-05 - mae: 0.0083\n",
            "Epoch 1147/1200\n",
            "1/1 [==============================] - 0s 6ms/step - loss: 9.2116e-05 - mae: 0.0082\n",
            "Epoch 1148/1200\n",
            "1/1 [==============================] - 0s 12ms/step - loss: 9.1497e-05 - mae: 0.0082\n",
            "Epoch 1149/1200\n",
            "1/1 [==============================] - 0s 18ms/step - loss: 9.0874e-05 - mae: 0.0082\n",
            "Epoch 1150/1200\n",
            "1/1 [==============================] - 0s 11ms/step - loss: 9.0260e-05 - mae: 0.0082\n",
            "Epoch 1151/1200\n",
            "1/1 [==============================] - 0s 16ms/step - loss: 8.9651e-05 - mae: 0.0081\n",
            "Epoch 1152/1200\n",
            "1/1 [==============================] - 0s 12ms/step - loss: 8.9046e-05 - mae: 0.0081\n",
            "Epoch 1153/1200\n",
            "1/1 [==============================] - 0s 20ms/step - loss: 8.8440e-05 - mae: 0.0081\n",
            "Epoch 1154/1200\n",
            "1/1 [==============================] - 0s 12ms/step - loss: 8.7845e-05 - mae: 0.0080\n",
            "Epoch 1155/1200\n",
            "1/1 [==============================] - 0s 11ms/step - loss: 8.7250e-05 - mae: 0.0080\n",
            "Epoch 1156/1200\n",
            "1/1 [==============================] - 0s 11ms/step - loss: 8.6669e-05 - mae: 0.0080\n",
            "Epoch 1157/1200\n",
            "1/1 [==============================] - 0s 20ms/step - loss: 8.6076e-05 - mae: 0.0080\n",
            "Epoch 1158/1200\n",
            "1/1 [==============================] - 0s 9ms/step - loss: 8.5498e-05 - mae: 0.0079\n",
            "Epoch 1159/1200\n",
            "1/1 [==============================] - 0s 7ms/step - loss: 8.4920e-05 - mae: 0.0079\n",
            "Epoch 1160/1200\n",
            "1/1 [==============================] - 0s 6ms/step - loss: 8.4344e-05 - mae: 0.0079\n",
            "Epoch 1161/1200\n",
            "1/1 [==============================] - 0s 6ms/step - loss: 8.3778e-05 - mae: 0.0079\n",
            "Epoch 1162/1200\n",
            "1/1 [==============================] - 0s 10ms/step - loss: 8.3209e-05 - mae: 0.0078\n",
            "Epoch 1163/1200\n",
            "1/1 [==============================] - 0s 9ms/step - loss: 8.2651e-05 - mae: 0.0078\n",
            "Epoch 1164/1200\n",
            "1/1 [==============================] - 0s 7ms/step - loss: 8.2092e-05 - mae: 0.0078\n",
            "Epoch 1165/1200\n",
            "1/1 [==============================] - 0s 7ms/step - loss: 8.1540e-05 - mae: 0.0078\n",
            "Epoch 1166/1200\n",
            "1/1 [==============================] - 0s 18ms/step - loss: 8.0994e-05 - mae: 0.0077\n",
            "Epoch 1167/1200\n",
            "1/1 [==============================] - 0s 11ms/step - loss: 8.0444e-05 - mae: 0.0077\n",
            "Epoch 1168/1200\n",
            "1/1 [==============================] - 0s 12ms/step - loss: 7.9897e-05 - mae: 0.0077\n",
            "Epoch 1169/1200\n",
            "1/1 [==============================] - 0s 20ms/step - loss: 7.9360e-05 - mae: 0.0076\n",
            "Epoch 1170/1200\n",
            "1/1 [==============================] - 0s 14ms/step - loss: 7.8825e-05 - mae: 0.0076\n",
            "Epoch 1171/1200\n",
            "1/1 [==============================] - 0s 13ms/step - loss: 7.8296e-05 - mae: 0.0076\n",
            "Epoch 1172/1200\n",
            "1/1 [==============================] - 0s 22ms/step - loss: 7.7764e-05 - mae: 0.0076\n",
            "Epoch 1173/1200\n",
            "1/1 [==============================] - 0s 15ms/step - loss: 7.7239e-05 - mae: 0.0075\n",
            "Epoch 1174/1200\n",
            "1/1 [==============================] - 0s 11ms/step - loss: 7.6720e-05 - mae: 0.0075\n",
            "Epoch 1175/1200\n",
            "1/1 [==============================] - 0s 13ms/step - loss: 7.6203e-05 - mae: 0.0075\n",
            "Epoch 1176/1200\n",
            "1/1 [==============================] - 0s 11ms/step - loss: 7.5687e-05 - mae: 0.0075\n",
            "Epoch 1177/1200\n",
            "1/1 [==============================] - 0s 12ms/step - loss: 7.5174e-05 - mae: 0.0074\n",
            "Epoch 1178/1200\n",
            "1/1 [==============================] - 0s 11ms/step - loss: 7.4667e-05 - mae: 0.0074\n",
            "Epoch 1179/1200\n",
            "1/1 [==============================] - 0s 11ms/step - loss: 7.4168e-05 - mae: 0.0074\n",
            "Epoch 1180/1200\n",
            "1/1 [==============================] - 0s 9ms/step - loss: 7.3667e-05 - mae: 0.0074\n",
            "Epoch 1181/1200\n",
            "1/1 [==============================] - 0s 12ms/step - loss: 7.3166e-05 - mae: 0.0073\n",
            "Epoch 1182/1200\n",
            "1/1 [==============================] - 0s 13ms/step - loss: 7.2678e-05 - mae: 0.0073\n",
            "Epoch 1183/1200\n",
            "1/1 [==============================] - 0s 9ms/step - loss: 7.2187e-05 - mae: 0.0073\n",
            "Epoch 1184/1200\n",
            "1/1 [==============================] - 0s 10ms/step - loss: 7.1694e-05 - mae: 0.0073\n",
            "Epoch 1185/1200\n",
            "1/1 [==============================] - 0s 9ms/step - loss: 7.1215e-05 - mae: 0.0072\n",
            "Epoch 1186/1200\n",
            "1/1 [==============================] - 0s 15ms/step - loss: 7.0730e-05 - mae: 0.0072\n",
            "Epoch 1187/1200\n",
            "1/1 [==============================] - 0s 10ms/step - loss: 7.0255e-05 - mae: 0.0072\n",
            "Epoch 1188/1200\n",
            "1/1 [==============================] - 0s 9ms/step - loss: 6.9783e-05 - mae: 0.0072\n",
            "Epoch 1189/1200\n",
            "1/1 [==============================] - 0s 17ms/step - loss: 6.9310e-05 - mae: 0.0071\n",
            "Epoch 1190/1200\n",
            "1/1 [==============================] - 0s 12ms/step - loss: 6.8838e-05 - mae: 0.0071\n",
            "Epoch 1191/1200\n",
            "1/1 [==============================] - 0s 8ms/step - loss: 6.8373e-05 - mae: 0.0071\n",
            "Epoch 1192/1200\n",
            "1/1 [==============================] - 0s 15ms/step - loss: 6.7913e-05 - mae: 0.0071\n",
            "Epoch 1193/1200\n",
            "1/1 [==============================] - 0s 13ms/step - loss: 6.7455e-05 - mae: 0.0070\n",
            "Epoch 1194/1200\n",
            "1/1 [==============================] - 0s 17ms/step - loss: 6.7002e-05 - mae: 0.0070\n",
            "Epoch 1195/1200\n",
            "1/1 [==============================] - 0s 9ms/step - loss: 6.6551e-05 - mae: 0.0070\n",
            "Epoch 1196/1200\n",
            "1/1 [==============================] - 0s 11ms/step - loss: 6.6101e-05 - mae: 0.0070\n",
            "Epoch 1197/1200\n",
            "1/1 [==============================] - 0s 6ms/step - loss: 6.5654e-05 - mae: 0.0070\n",
            "Epoch 1198/1200\n",
            "1/1 [==============================] - 0s 11ms/step - loss: 6.5207e-05 - mae: 0.0069\n",
            "Epoch 1199/1200\n",
            "1/1 [==============================] - 0s 5ms/step - loss: 6.4771e-05 - mae: 0.0069\n",
            "Epoch 1200/1200\n",
            "1/1 [==============================] - 0s 5ms/step - loss: 6.4333e-05 - mae: 0.0069\n"
          ]
        }
      ]
    },
    {
      "cell_type": "code",
      "source": [
        "import matplotlib.pyplot as plt\n",
        "\n",
        "# 20 에포크까지 Loss 수렴에 대한 시각화\n",
        "plt.plot(history.history['loss'], label='loss')\n",
        "plt.plot(history.history['mae'], label='mae')\n",
        "plt.xlim(-1, 20)\n",
        "plt.title('Loss')\n",
        "plt.legend()\n",
        "plt.show()"
      ],
      "metadata": {
        "colab": {
          "base_uri": "https://localhost:8080/",
          "height": 281
        },
        "id": "KmhTHTlgpR7g",
        "outputId": "43bf9a53-c9ce-4990-a955-72c3e4099d39"
      },
      "execution_count": null,
      "outputs": [
        {
          "output_type": "display_data",
          "data": {
            "text/plain": [
              "<Figure size 432x288 with 1 Axes>"
            ],
            "image/png": "[encoded data removed]"
          },
          "metadata": {
            "needs_background": "light"
          }
        }
      ]
    },
    {
      "cell_type": "markdown",
      "source": [
        "> 첫 10 epoch까지 손실이 급격히 감소함"
      ],
      "metadata": {
        "id": "QJ2yOUZrpXS3"
      }
    },
    {
      "cell_type": "markdown",
      "source": [
        "**검증**\n",
        "\n",
        "`evaluate()`"
      ],
      "metadata": {
        "id": "dVpG5smWpb1S"
      }
    },
    {
      "cell_type": "code",
      "source": [
        "# 검증\n",
        "model.evaluate(x, y)"
      ],
      "metadata": {
        "colab": {
          "base_uri": "https://localhost:8080/"
        },
        "id": "u0FMzRhtpe73",
        "outputId": "5853e454-4cc8-4476-a155-0dce27ebecfb"
      },
      "execution_count": null,
      "outputs": [
        {
          "output_type": "stream",
          "name": "stdout",
          "text": [
            "1/1 [==============================] - 0s 203ms/step - loss: 6.3899e-05 - mae: 0.0069\n"
          ]
        },
        {
          "output_type": "execute_result",
          "data": {
            "text/plain": [
              "[6.389857298927382e-05, 0.0068611144088208675]"
            ]
          },
          "metadata": {},
          "execution_count": 21
        }
      ]
    },
    {
      "cell_type": "markdown",
      "source": [
        "**예측**\n",
        "\n",
        "`predict(x인자)`"
      ],
      "metadata": {
        "id": "kuB_8Mxpph9X"
      }
    },
    {
      "cell_type": "code",
      "source": [
        "# 예측\n",
        "model.predict([10])"
      ],
      "metadata": {
        "colab": {
          "base_uri": "https://localhost:8080/"
        },
        "id": "C3gFlQ6zphFa",
        "outputId": "b0287e7b-0592-4f03-a2ad-b786e4d01ea5"
      },
      "execution_count": null,
      "outputs": [
        {
          "output_type": "execute_result",
          "data": {
            "text/plain": [
              "array([[32.03316]], dtype=float32)"
            ]
          },
          "metadata": {},
          "execution_count": 22
        }
      ]
    },
    {
      "cell_type": "markdown",
      "source": [
        "> x=10일 때, y=3x+2, y=32 감안하면 정답에 꽤 근사한 값임"
      ],
      "metadata": {
        "id": "IhkGiHEdpovh"
      }
    },
    {
      "cell_type": "markdown",
      "source": [
        "### 3.3 심층 신경망으로 이미지 분류\n",
        "\n",
        "#### 케라스 내장 데이터셋 로드\n",
        "\n",
        "<`tensorflow.keras.datasets` 서브패키지 지원 샘플 데이터셋>\n",
        "- boston_housing : 보스톤 주택 가격 데이터셋(회귀) \n",
        "- cifar10 : CIFAR10 이미지 분류 데이터셋(분류) \n",
        "- cifar100 : CIFAR100 이미지 분류 데이터셋(분류) \n",
        "- mnist : mnist 손글씨 데이터셋(분류) \n",
        "- fashion_mnist : 의류 데이터셋(분류) \n",
        "- imdb : IMDb 영화 데이터셋(분류) \n",
        "- reuters : Reuters 뉴스 토픽(분류)"
      ],
      "metadata": {
        "id": "WxCb9PvapvBc"
      }
    },
    {
      "cell_type": "code",
      "source": [
        "import tensorflow as tf\n",
        "\n",
        "# 케라스의 내장 데이터셋에서 mnist 데이터셋을 로드\n",
        "mnist = tf.keras.datasets.mnist"
      ],
      "metadata": {
        "id": "nS4rQvcApnUC"
      },
      "execution_count": null,
      "outputs": []
    },
    {
      "cell_type": "code",
      "source": [
        "# load_data()로 데이터셋을 로드 합니다.\n",
        "(x_train, y_train), (x_test, y_test) = mnist.load_data()"
      ],
      "metadata": {
        "colab": {
          "base_uri": "https://localhost:8080/"
        },
        "id": "8phF5G0bqP-k",
        "outputId": "760a2723-d84f-4c64-e265-b6a5da3fd840"
      },
      "execution_count": null,
      "outputs": [
        {
          "output_type": "stream",
          "name": "stdout",
          "text": [
            "Downloading data from https://storage.googleapis.com/tensorflow/tf-keras-datasets/mnist.npz\n",
            "11493376/11490434 [==============================] - 0s 0us/step\n",
            "11501568/11490434 [==============================] - 0s 0us/step\n"
          ]
        }
      ]
    },
    {
      "cell_type": "code",
      "source": [
        "# 로드된 데이터셋 확인\n",
        "print('train set: ', x_train.shape, y_train.shape)\n",
        "print('test  set: ', x_test.shape, y_test.shape)"
      ],
      "metadata": {
        "colab": {
          "base_uri": "https://localhost:8080/"
        },
        "id": "sAlAnxtbqSLw",
        "outputId": "869041ac-0af9-4174-f599-dacf58882a47"
      },
      "execution_count": null,
      "outputs": [
        {
          "output_type": "stream",
          "name": "stdout",
          "text": [
            "train set:  (60000, 28, 28) (60000,)\n",
            "test  set:  (10000, 28, 28) (10000,)\n"
          ]
        }
      ]
    },
    {
      "cell_type": "code",
      "source": [
        "# 데이터 시각화\n",
        "import matplotlib.pyplot as plt\n",
        "\n",
        "# canvas 생성\n",
        "fig, axes = plt.subplots(3, 5)\n",
        "fig.set_size_inches(8, 5)\n",
        "\n",
        "for i in range(15):\n",
        "    ax = axes[i//5, i%5]\n",
        "    # imshow로 이미지 시각화\n",
        "    ax.imshow(x_train[i], cmap='gray')\n",
        "    ax.axis('off')\n",
        "    ax.set_title(str(y_train[i]))\n",
        "\n",
        "plt.tight_layout()\n",
        "plt.show()"
      ],
      "metadata": {
        "colab": {
          "base_uri": "https://localhost:8080/",
          "height": 371
        },
        "id": "OB5rDbkWqTeN",
        "outputId": "d8fc2d25-a4fc-492a-f2e9-e9aeaeb38a9d"
      },
      "execution_count": null,
      "outputs": [
        {
          "output_type": "display_data",
          "data": {
            "text/plain": [
              "<Figure size 576x360 with 15 Axes>"
            ],
            "image/png": "[encoded data removed]"
          },
          "metadata": {
            "needs_background": "light"
          }
        }
      ]
    },
    {
      "cell_type": "markdown",
      "source": [
        "> 0~9까지 총 10개의 정답 레이블로 구성\n",
        "\n",
        "#### 데이터 전처리"
      ],
      "metadata": {
        "id": "CgK4ZWDiqW2q"
      }
    },
    {
      "cell_type": "code",
      "source": [
        "# x_train 배열의 데이터 확인\n",
        "x_train[0, 10:15, 10:15]"
      ],
      "metadata": {
        "colab": {
          "base_uri": "https://localhost:8080/"
        },
        "id": "xgNokEE6qU5-",
        "outputId": "9f338962-3266-4a24-a79e-66340ba3fcf2"
      },
      "execution_count": null,
      "outputs": [
        {
          "output_type": "execute_result",
          "data": {
            "text/plain": [
              "array([[  1, 154, 253,  90,   0],\n",
              "       [  0, 139, 253, 190,   2],\n",
              "       [  0,  11, 190, 253,  70],\n",
              "       [  0,   0,  35, 241, 225],\n",
              "       [  0,   0,   0,  81, 240]], dtype=uint8)"
            ]
          },
          "metadata": {},
          "execution_count": 27
        }
      ]
    },
    {
      "cell_type": "markdown",
      "source": [
        "> 0~255 범위의 값으로 이루어진 이미지를 구성하는 하나의 픽셀 값과 매칭되는 원소"
      ],
      "metadata": {
        "id": "LA8U3BG_qe3U"
      }
    },
    {
      "cell_type": "code",
      "source": [
        "# 픽셀 값의 최소/최대 값 확인\n",
        "print(f'정규화 전] 최소값: {x_train.min()}, 최대값: {x_train.max()}')\n",
        "\n",
        "# 데이터 정규화\n",
        "x_train = x_train / x_train.max()\n",
        "\n",
        "# 정규화 후 최소/최대 값 확인\n",
        "print(f'정규화 후] 최소값: {x_train.min()}, 최대값: {x_train.max()}')"
      ],
      "metadata": {
        "colab": {
          "base_uri": "https://localhost:8080/"
        },
        "id": "rwB90h7TqdMQ",
        "outputId": "c6cdb582-d750-4c9c-e505-9ac880c1fb6e"
      },
      "execution_count": null,
      "outputs": [
        {
          "output_type": "stream",
          "name": "stdout",
          "text": [
            "정규화 전] 최소값: 0, 최대값: 255\n",
            "정규화 후] 최소값: 0.0, 최대값: 1.0\n"
          ]
        }
      ]
    },
    {
      "cell_type": "code",
      "source": [
        "# test 셋에도 정규화 동일 적용\n",
        "x_test = x_test / x_test.max()"
      ],
      "metadata": {
        "id": "qMgrT3Y2ql8q"
      },
      "execution_count": null,
      "outputs": []
    },
    {
      "cell_type": "code",
      "source": [
        "# 변환 후 x_train 배열의 데이터 확인\n",
        "x_train[0, 10:15, 10:15]"
      ],
      "metadata": {
        "colab": {
          "base_uri": "https://localhost:8080/"
        },
        "id": "YU9LUGZMqnM5",
        "outputId": "6844b19f-39e0-4d12-962a-c6511aaf7806"
      },
      "execution_count": null,
      "outputs": [
        {
          "output_type": "execute_result",
          "data": {
            "text/plain": [
              "array([[0.00392157, 0.60392157, 0.99215686, 0.35294118, 0.        ],\n",
              "       [0.        , 0.54509804, 0.99215686, 0.74509804, 0.00784314],\n",
              "       [0.        , 0.04313725, 0.74509804, 0.99215686, 0.2745098 ],\n",
              "       [0.        , 0.        , 0.1372549 , 0.94509804, 0.88235294],\n",
              "       [0.        , 0.        , 0.        , 0.31764706, 0.94117647]])"
            ]
          },
          "metadata": {},
          "execution_count": 30
        }
      ]
    },
    {
      "cell_type": "markdown",
      "source": [
        "#### Faltten 레이어\n",
        "\n",
        ": 다차원의 데이터를 1차원으로 펼쳐주는 방법 (Dense 레이어에 2차원 이상 데이터를 입력값으로 넣을 수 없기 때문)"
      ],
      "metadata": {
        "id": "9uxhZfkhqosW"
      }
    },
    {
      "cell_type": "code",
      "source": [
        "print(f'변경전 shape: {x_train.shape}')\n",
        "print(f'1D으로 shape 변경 후: {x_train.reshape(60000, -1).shape}')"
      ],
      "metadata": {
        "colab": {
          "base_uri": "https://localhost:8080/"
        },
        "id": "ugDPmiilqoFJ",
        "outputId": "3ff485ff-e0b0-4949-8ce8-4f8df256a9ad"
      },
      "execution_count": null,
      "outputs": [
        {
          "output_type": "stream",
          "name": "stdout",
          "text": [
            "변경전 shape: (60000, 28, 28)\n",
            "1D으로 shape 변경 후: (60000, 784)\n"
          ]
        }
      ]
    },
    {
      "cell_type": "code",
      "source": [
        "print(f'변경전 shape: {x_train.shape}')\n",
        "\n",
        "# Flatten 레이어 적용 후 shape 확인\n",
        "print(f'Flatten 적용 후: {tf.keras.layers.Flatten()(x_train).shape}')"
      ],
      "metadata": {
        "colab": {
          "base_uri": "https://localhost:8080/"
        },
        "id": "BSC505q4q5Iz",
        "outputId": "9a595080-49ea-43e2-ee33-206a509c8ec7"
      },
      "execution_count": null,
      "outputs": [
        {
          "output_type": "stream",
          "name": "stdout",
          "text": [
            "변경전 shape: (60000, 28, 28)\n",
            "Flatten 적용 후: (60000, 784)\n"
          ]
        }
      ]
    },
    {
      "cell_type": "markdown",
      "source": [
        "#### 활성화 함수\n",
        "\n",
        ": 입력을 비선형 출력으로 변환해주는 함수\n",
        "\n",
        "- `Sigmoid`\n",
        "- `tanh`\n",
        "- `ReLU`\n",
        "- `Leaky ReLU`"
      ],
      "metadata": {
        "id": "EJTtQgZaq7ML"
      }
    },
    {
      "cell_type": "code",
      "source": [
        "# Dense 레이어에 relu 활성화 함수를 적용한 경우\n",
        "tf.keras.layers.Dense(128, activation='relu')"
      ],
      "metadata": {
        "colab": {
          "base_uri": "https://localhost:8080/"
        },
        "id": "6wTu9ZGZq6sO",
        "outputId": "b59fe69a-7132-42bc-c507-6031cdca335b"
      },
      "execution_count": null,
      "outputs": [
        {
          "output_type": "execute_result",
          "data": {
            "text/plain": [
              "<keras.layers.core.dense.Dense at 0x7f3b61e00490>"
            ]
          },
          "metadata": {},
          "execution_count": 33
        }
      ]
    },
    {
      "cell_type": "code",
      "source": [
        "# Dense 레이어에 relu 활성화 함수를 적용한 경우\n",
        "model = tf.keras.Sequential([\n",
        "    tf.keras.layers.Dense(128), \n",
        "    tf.keras.layers.Activation('relu')\n",
        "])\n",
        "\n",
        "#배치 정규화를 적용한 후 활성화 함수를 적용하기"
      ],
      "metadata": {
        "id": "LHn92yUfrIOo"
      },
      "execution_count": null,
      "outputs": []
    },
    {
      "cell_type": "markdown",
      "source": [
        "**입력과 출력**"
      ],
      "metadata": {
        "id": "glDzNpzIrT4e"
      }
    },
    {
      "cell_type": "code",
      "source": [
        "model = tf.keras.Sequential([\n",
        "    tf.keras.layers.Flatten(input_shape=(28, 28)), \n",
        "    tf.keras.layers.Dense(256, activation='relu'), \n",
        "    tf.keras.layers.Dense(64, activation='relu'), \n",
        "    tf.keras.layers.Dense(32, activation='relu'), \n",
        "    # 노드=10개 (클래스 개수와 동일)\n",
        "    tf.keras.layers.Dense(10, activation='softmax'), \n",
        "])"
      ],
      "metadata": {
        "id": "Zo184_f1rSo6"
      },
      "execution_count": null,
      "outputs": []
    },
    {
      "cell_type": "code",
      "source": [
        "# 출력층 노드 = 1인 경우, sigmoid\n",
        "tf.keras.layers.Dense(1, activation='sigmoid')\n",
        "\n",
        "# 출력층 노드 = 2개 이상인 경우, softmax\n",
        "tf.keras.layers.Dense(10, activation='softmax')"
      ],
      "metadata": {
        "colab": {
          "base_uri": "https://localhost:8080/"
        },
        "id": "kPuqsK5BrarJ",
        "outputId": "767282b4-6fca-4074-ea33-bcb1b3b4661c"
      },
      "execution_count": null,
      "outputs": [
        {
          "output_type": "execute_result",
          "data": {
            "text/plain": [
              "<keras.layers.core.dense.Dense at 0x7f3b63edea50>"
            ]
          },
          "metadata": {},
          "execution_count": 36
        }
      ]
    },
    {
      "cell_type": "markdown",
      "source": [
        "#### 손실함수\n",
        "\n",
        "![image.png](data:image/png;base64,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)"
      ],
      "metadata": {
        "id": "dJAnRGkVrfHK"
      }
    },
    {
      "cell_type": "code",
      "source": [
        "# 이진 분류 (출력 노드 개수 = 1, sigmoid 인 경우)\n",
        "model.compile(loss='binary_crossentropy')"
      ],
      "metadata": {
        "id": "HaiiyXpmrem6"
      },
      "execution_count": null,
      "outputs": []
    },
    {
      "cell_type": "code",
      "source": [
        "# y가 원 핫 벡터인 경우\n",
        "# [0., 0., 0., 0., 0., 1., 0., 0., 0., 0.]\n",
        "model.compile(loss='categorical_crossentropy')\n",
        "\n",
        "# y가 원 핫 벡터가 아닌경우\n",
        "# [5]\n",
        "model.compile(loss='sparse_categorical_crossentropy')"
      ],
      "metadata": {
        "id": "p2aP4xPqrvK7"
      },
      "execution_count": null,
      "outputs": []
    },
    {
      "cell_type": "markdown",
      "source": [
        "**옵티마이저**\n",
        "\n",
        ": 손실을 낮추기 위해서, 신경망의 가중치와 합습률과 같은 신경망의 속성을 변경하는 데 사용되는 최적화 방법\n",
        "\n",
        "- SGD\n",
        "- Adam\n",
        "- Adagrad\n",
        "- Nadam\n",
        "- RMSprop\n",
        "- Adadelta\n",
        "- Adamax\n",
        "- Ftrl"
      ],
      "metadata": {
        "id": "Rop7X0KarxF5"
      }
    },
    {
      "cell_type": "code",
      "source": [
        "# 클래스 인스턴스로 지정\n",
        "adam = tf.keras.optimizers.Adam(lr=0.001)\n",
        "model.compile(optimizer=adam)\n",
        "\n",
        "# 문자열로 지정\n",
        "model.compile(optimizer='adam')"
      ],
      "metadata": {
        "colab": {
          "base_uri": "https://localhost:8080/"
        },
        "id": "VwU0GcD-rwIE",
        "outputId": "b2afbf00-284b-4d15-ec2d-f657bcedd875"
      },
      "execution_count": null,
      "outputs": [
        {
          "output_type": "stream",
          "name": "stderr",
          "text": [
            "/usr/local/lib/python3.7/dist-packages/keras/optimizer_v2/adam.py:105: UserWarning: The `lr` argument is deprecated, use `learning_rate` instead.\n",
            "  super(Adam, self).__init__(name, **kwargs)\n"
          ]
        }
      ]
    },
    {
      "cell_type": "markdown",
      "source": [
        "#### 평가지표\n",
        "\n",
        "- `accuracy('acc')`\n",
        "- `auc`\n",
        "- `precision`\n",
        "- `recall`"
      ],
      "metadata": {
        "id": "jDJA1__TsAWo"
      }
    },
    {
      "cell_type": "code",
      "source": [
        "# 클래스 인스턴스로 지정\n",
        "acc = tf.keras.metrics.SparseCategoricalAccuracy()\n",
        "\n",
        "model.compile(optimizer='adam', \n",
        "              loss='sparse_categorical_crossentropy', \n",
        "              metrics=[acc])"
      ],
      "metadata": {
        "id": "Ssu5oNwRr_rM"
      },
      "execution_count": null,
      "outputs": []
    },
    {
      "cell_type": "code",
      "source": [
        "# 문자열로 지정\n",
        "model.compile(optimizer='adam', \n",
        "              loss='sparse_categorical_crossentropy', \n",
        "              metrics=['accuracy'])"
      ],
      "metadata": {
        "id": "lzsWaQMwsKGm"
      },
      "execution_count": null,
      "outputs": []
    },
    {
      "cell_type": "markdown",
      "source": [
        "#### 훈련"
      ],
      "metadata": {
        "id": "5RLEFnXOsLZM"
      }
    },
    {
      "cell_type": "code",
      "source": [
        "# 훈련\n",
        "model.fit(x_train, y_train, \n",
        "          # 검증셋 지정\n",
        "          validation_data=(x_test, y_test), \n",
        "          epochs=10, \n",
        "          )"
      ],
      "metadata": {
        "colab": {
          "base_uri": "https://localhost:8080/"
        },
        "id": "RCWDQBxZsK21",
        "outputId": "5b783261-4371-4d44-9279-afacdbd71513"
      },
      "execution_count": null,
      "outputs": [
        {
          "output_type": "stream",
          "name": "stdout",
          "text": [
            "Epoch 1/10\n",
            "1875/1875 [==============================] - 10s 5ms/step - loss: 0.2308 - accuracy: 0.9315 - val_loss: 0.1194 - val_accuracy: 0.9632\n",
            "Epoch 2/10\n",
            "1875/1875 [==============================] - 7s 4ms/step - loss: 0.0965 - accuracy: 0.9697 - val_loss: 0.1005 - val_accuracy: 0.9683\n",
            "Epoch 3/10\n",
            "1875/1875 [==============================] - 7s 4ms/step - loss: 0.0658 - accuracy: 0.9792 - val_loss: 0.0846 - val_accuracy: 0.9731\n",
            "Epoch 4/10\n",
            "1875/1875 [==============================] - 8s 4ms/step - loss: 0.0489 - accuracy: 0.9841 - val_loss: 0.0766 - val_accuracy: 0.9780\n",
            "Epoch 5/10\n",
            "1875/1875 [==============================] - 7s 4ms/step - loss: 0.0428 - accuracy: 0.9860 - val_loss: 0.0810 - val_accuracy: 0.9763\n",
            "Epoch 6/10\n",
            "1875/1875 [==============================] - 7s 4ms/step - loss: 0.0336 - accuracy: 0.9895 - val_loss: 0.0849 - val_accuracy: 0.9771\n",
            "Epoch 7/10\n",
            "1875/1875 [==============================] - 8s 4ms/step - loss: 0.0293 - accuracy: 0.9904 - val_loss: 0.0816 - val_accuracy: 0.9785\n",
            "Epoch 8/10\n",
            "1875/1875 [==============================] - 7s 4ms/step - loss: 0.0248 - accuracy: 0.9920 - val_loss: 0.0703 - val_accuracy: 0.9822\n",
            "Epoch 9/10\n",
            "1875/1875 [==============================] - 7s 4ms/step - loss: 0.0210 - accuracy: 0.9934 - val_loss: 0.0824 - val_accuracy: 0.9789\n",
            "Epoch 10/10\n",
            "1875/1875 [==============================] - 7s 4ms/step - loss: 0.0193 - accuracy: 0.9936 - val_loss: 0.0805 - val_accuracy: 0.9813\n"
          ]
        },
        {
          "output_type": "execute_result",
          "data": {
            "text/plain": [
              "<keras.callbacks.History at 0x7f3b61d3df90>"
            ]
          },
          "metadata": {},
          "execution_count": 42
        }
      ]
    },
    {
      "cell_type": "markdown",
      "source": [
        "#### 평가"
      ],
      "metadata": {
        "id": "IYQs1DBTsVwq"
      }
    },
    {
      "cell_type": "code",
      "source": [
        "# 검증\n",
        "test_loss, test_acc = model.evaluate(x_test,  y_test)\n",
        "\n",
        "print('검증셋 정확도:', test_acc)"
      ],
      "metadata": {
        "colab": {
          "base_uri": "https://localhost:8080/"
        },
        "id": "B90jfyJrsUpj",
        "outputId": "859a3e79-b698-463a-9b3f-972ab2a08bf0"
      },
      "execution_count": null,
      "outputs": [
        {
          "output_type": "stream",
          "name": "stdout",
          "text": [
            "313/313 [==============================] - 1s 2ms/step - loss: 0.0805 - accuracy: 0.9813\n",
            "검증셋 정확도: 0.9812999963760376\n"
          ]
        }
      ]
    },
    {
      "cell_type": "markdown",
      "source": [
        "#### 예측\n",
        "\n",
        ": 훈련된 모델로 새로운 이미지에 대한 분류 값을 예측하는 작업"
      ],
      "metadata": {
        "id": "vvvpQUjwsbD7"
      }
    },
    {
      "cell_type": "code",
      "source": [
        "# 예측\n",
        "predictions = model.predict(x_test)"
      ],
      "metadata": {
        "id": "JKGs4oVZseq6"
      },
      "execution_count": null,
      "outputs": []
    },
    {
      "cell_type": "code",
      "source": [
        "# 예측 결과 출력\n",
        "predictions[0]"
      ],
      "metadata": {
        "colab": {
          "base_uri": "https://localhost:8080/"
        },
        "id": "TL50Pa_Vsg5h",
        "outputId": "d21c43e9-5361-44b9-cf7b-9e190ea28d92"
      },
      "execution_count": null,
      "outputs": [
        {
          "output_type": "execute_result",
          "data": {
            "text/plain": [
              "array([1.9323430e-11, 5.1118469e-08, 4.5321125e-15, 1.4917665e-08,\n",
              "       3.6240593e-09, 7.3235029e-11, 1.9158183e-14, 9.9999976e-01,\n",
              "       3.4239853e-13, 2.6859036e-07], dtype=float32)"
            ]
          },
          "metadata": {},
          "execution_count": 45
        }
      ]
    },
    {
      "cell_type": "markdown",
      "source": [
        "가장 높은 확률 값을 가진 클래스가 최종 예측된 클래스: `argmax()`사용"
      ],
      "metadata": {
        "id": "8MaG1BVKsk0B"
      }
    },
    {
      "cell_type": "code",
      "source": [
        "import numpy as np\n",
        "\n",
        "# 0번 index에 대한 예측 클래스 출력\n",
        "print(np.argmax(predictions[0]))\n",
        "\n",
        "# 첫 10개 index에 대한 예측 클래스 출력\n",
        "print(np.argmax(predictions[:10], axis=1))"
      ],
      "metadata": {
        "colab": {
          "base_uri": "https://localhost:8080/"
        },
        "id": "ZOK0EIHxsnMF",
        "outputId": "c90a9d7c-2a0c-4251-9a2e-05fd457d940c"
      },
      "execution_count": null,
      "outputs": [
        {
          "output_type": "stream",
          "name": "stdout",
          "text": [
            "7\n",
            "[7 2 1 0 4 1 4 9 5 9]\n"
          ]
        }
      ]
    },
    {
      "cell_type": "code",
      "source": [
        "# 데이터 시각화\n",
        "import matplotlib.pyplot as plt\n",
        "\n",
        "def get_one_result(idx):\n",
        "    img, y_true, y_pred, confidence = x_test[idx], y_test[idx], np.argmax(predictions[idx]), 100*np.max(predictions[idx])\n",
        "    return img, y_true, y_pred, confidence\n",
        "    \n",
        "# canvas 생성\n",
        "fig, axes = plt.subplots(3, 5)\n",
        "fig.set_size_inches(12, 10)\n",
        "\n",
        "for i in range(15):\n",
        "    ax = axes[i//5, i%5]\n",
        "\n",
        "    img, y_true, y_pred, confidence = get_one_result(i)\n",
        "\n",
        "    # imshow로 이미지 시각화\n",
        "    ax.imshow(img, cmap='gray')\n",
        "    ax.set_xticks([])\n",
        "    ax.set_yticks([])\n",
        "    ax.set_title(f'True: {y_true}')\n",
        "    ax.set_xlabel(f'Prediction: {y_pred}\\nConfidence: ({confidence:.2f} %)')\n",
        "\n",
        "plt.tight_layout()\n",
        "plt.show()"
      ],
      "metadata": {
        "colab": {
          "base_uri": "https://localhost:8080/",
          "height": 530
        },
        "id": "M6dItwIysr4l",
        "outputId": "bf7df316-20d7-463f-c92a-d7653422e8cd"
      },
      "execution_count": null,
      "outputs": [
        {
          "output_type": "display_data",
          "data": {
            "text/plain": [
              "<Figure size 864x720 with 15 Axes>"
            ],
            "image/png": "[encoded data removed]"
          },
          "metadata": {}
        }
      ]
    },
    {
      "cell_type": "markdown",
      "source": [
        "### 3.4 모델 세부 설정"
      ],
      "metadata": {
        "id": "rp3jqArisud1"
      }
    },
    {
      "cell_type": "code",
      "source": [
        "import tensorflow as tf\n",
        "\n",
        "# 케라스의 내장 데이터셋에서 mnist 데이터셋을 로드\n",
        "mnist = tf.keras.datasets.mnist\n",
        "\n",
        "# load_data()로 데이터셋을 로드 합니다.\n",
        "(x_train, y_train), (x_test, y_test) = mnist.load_data()\n",
        "\n",
        "# 로드된 데이터셋 확인\n",
        "print('train set: ', x_train.shape, y_train.shape)\n",
        "print('test  set: ', x_test.shape, y_test.shape)\n",
        "\n",
        "# 데이터 정규화\n",
        "x_train = x_train / x_train.max() # max: 255\n",
        "x_test = x_test / x_test.max() # max: 255"
      ],
      "metadata": {
        "colab": {
          "base_uri": "https://localhost:8080/"
        },
        "id": "TualEAnust7O",
        "outputId": "f40ada39-71d6-432d-9a65-7e17e98aa72d"
      },
      "execution_count": null,
      "outputs": [
        {
          "output_type": "stream",
          "name": "stdout",
          "text": [
            "train set:  (60000, 28, 28) (60000,)\n",
            "test  set:  (10000, 28, 28) (10000,)\n"
          ]
        }
      ]
    },
    {
      "cell_type": "markdown",
      "source": [
        "#### 초기값 설정"
      ],
      "metadata": {
        "id": "LWM-T_u6s0zL"
      }
    },
    {
      "cell_type": "code",
      "source": [
        "dense = tf.keras.layers.Dense(256, activation='relu')\n",
        "dense.get_config()['kernel_initializer']"
      ],
      "metadata": {
        "colab": {
          "base_uri": "https://localhost:8080/"
        },
        "id": "spT9Rx2MszDw",
        "outputId": "efdb8037-7120-4241-b595-f88b5ea87baa"
      },
      "execution_count": null,
      "outputs": [
        {
          "output_type": "execute_result",
          "data": {
            "text/plain": [
              "{'class_name': 'GlorotUniform', 'config': {'seed': None}}"
            ]
          },
          "metadata": {},
          "execution_count": 49
        }
      ]
    },
    {
      "cell_type": "code",
      "source": [
        "# he normal 초기화\n",
        "## 방법 1. 문자열 초기화\n",
        "dense = tf.keras.layers.Dense(256, kernel_initializer='he_normal', activation='relu')\n",
        "dense.get_config()['kernel_initializer']"
      ],
      "metadata": {
        "colab": {
          "base_uri": "https://localhost:8080/"
        },
        "id": "2LfkrWaUvSvX",
        "outputId": "96817949-5de3-4a7e-df0b-337242400f09"
      },
      "execution_count": null,
      "outputs": [
        {
          "output_type": "execute_result",
          "data": {
            "text/plain": [
              "{'class_name': 'HeNormal', 'config': {'seed': None}}"
            ]
          },
          "metadata": {},
          "execution_count": 50
        }
      ]
    },
    {
      "cell_type": "code",
      "source": [
        "## 방법2. 클래스 인스턴스 초기화\n",
        "he_normal = tf.keras.initializers.HeNormal()\n",
        "dense = tf.keras.layers.Dense(256, kernel_initializer=he_normal, activation='relu')\n",
        "dense.get_config()['kernel_initializer']"
      ],
      "metadata": {
        "colab": {
          "base_uri": "https://localhost:8080/"
        },
        "id": "Yb1KYWUavVM_",
        "outputId": "9bb38ef1-8bd8-4f3d-bdec-ca3b5f59f93d"
      },
      "execution_count": null,
      "outputs": [
        {
          "output_type": "execute_result",
          "data": {
            "text/plain": [
              "{'class_name': 'HeNormal', 'config': {'seed': None}}"
            ]
          },
          "metadata": {},
          "execution_count": 51
        }
      ]
    },
    {
      "cell_type": "markdown",
      "source": [
        "- `glorot_normal`, `glorot_uniform`: 글로럿 초기화\n",
        "- `lecun_normal`, `lecun_uniform`: Yann Lecun 초기화\n",
        "- `he_normal`, `he_uniform`: He 초기화\n",
        "- `random_normal`, `random_uniform`: 정규 분포, 연속균등 분포 초기화"
      ],
      "metadata": {
        "id": "SP721QgpvZcj"
      }
    },
    {
      "cell_type": "markdown",
      "source": [
        "#### 규제(Regularization)"
      ],
      "metadata": {
        "id": "2rXi9Td6vq9Z"
      }
    },
    {
      "cell_type": "code",
      "source": [
        "# 기본 값\n",
        "dense = tf.keras.layers.Dense(256, activation='relu')\n",
        "dense.get_config()"
      ],
      "metadata": {
        "colab": {
          "base_uri": "https://localhost:8080/"
        },
        "id": "LRYF1r0svXz9",
        "outputId": "a23ec6a2-4c0c-4dc4-a996-cde9b0ea658f"
      },
      "execution_count": null,
      "outputs": [
        {
          "output_type": "execute_result",
          "data": {
            "text/plain": [
              "{'activation': 'relu',\n",
              " 'activity_regularizer': None,\n",
              " 'bias_constraint': None,\n",
              " 'bias_initializer': {'class_name': 'Zeros', 'config': {}},\n",
              " 'bias_regularizer': None,\n",
              " 'dtype': 'float32',\n",
              " 'kernel_constraint': None,\n",
              " 'kernel_initializer': {'class_name': 'GlorotUniform',\n",
              "  'config': {'seed': None}},\n",
              " 'kernel_regularizer': None,\n",
              " 'name': 'dense_23',\n",
              " 'trainable': True,\n",
              " 'units': 256,\n",
              " 'use_bias': True}"
            ]
          },
          "metadata": {},
          "execution_count": 52
        }
      ]
    },
    {
      "cell_type": "markdown",
      "source": [
        "> 'kernel_regularizer': None"
      ],
      "metadata": {
        "id": "AK6Fo3WyvwSS"
      }
    },
    {
      "cell_type": "code",
      "source": [
        "# l1 규제 적용\n",
        "dense = tf.keras.layers.Dense(256, kernel_regularizer='l1', activation='relu')\n",
        "print(dense.get_config()['kernel_regularizer'])\n",
        "\n",
        "# 클래스 인스턴스 적용, alpha 값 변경\n",
        "regularizer = tf.keras.regularizers.l1(l1=0.1)\n",
        "dense = tf.keras.layers.Dense(256, kernel_regularizer=regularizer, activation='relu')\n",
        "print(dense.get_config()['kernel_regularizer'])"
      ],
      "metadata": {
        "colab": {
          "base_uri": "https://localhost:8080/"
        },
        "id": "WytmXPPSvvQX",
        "outputId": "c4985a79-89b2-4cf6-a1c1-a7346be0cf09"
      },
      "execution_count": null,
      "outputs": [
        {
          "output_type": "stream",
          "name": "stdout",
          "text": [
            "{'class_name': 'L1', 'config': {'l1': 0.009999999776482582}}\n",
            "{'class_name': 'L1', 'config': {'l1': 0.10000000149011612}}\n"
          ]
        }
      ]
    },
    {
      "cell_type": "markdown",
      "source": [
        "#### 드롭아웃(Dropout)\n",
        "\n",
        ": 모델의 과대적합 문제를 해결하기 위해 확률적으로 몇 개의 신호를 삭제"
      ],
      "metadata": {
        "id": "PqjQDsi9v0dU"
      }
    },
    {
      "cell_type": "code",
      "source": [
        "# Dropout 25% 비율 적용 (25%의 노드가 삭제)\n",
        "tf.keras.layers.Dropout(0.25)"
      ],
      "metadata": {
        "colab": {
          "base_uri": "https://localhost:8080/"
        },
        "id": "DaDk3cVRvzsj",
        "outputId": "8ad75ac0-17ca-4a8b-c6af-ca974ad80a3d"
      },
      "execution_count": null,
      "outputs": [
        {
          "output_type": "execute_result",
          "data": {
            "text/plain": [
              "<keras.layers.core.dropout.Dropout at 0x7f3b5f30f090>"
            ]
          },
          "metadata": {},
          "execution_count": 54
        }
      ]
    },
    {
      "cell_type": "markdown",
      "source": [
        "#### 배치 정규화(Batch Normalization)\n",
        "\n",
        ": 각 층에서 활성화 함수를 통과하기 전 미니 배치의 스케일을 정규화 함"
      ],
      "metadata": {
        "id": "etDbr5YIwAJn"
      }
    },
    {
      "cell_type": "code",
      "source": [
        "# Model A: Dense + ReLU\n",
        "model_a = tf.keras.Sequential([\n",
        "    tf.keras.layers.Flatten(input_shape=(28, 28)),\n",
        "    tf.keras.layers.Dense(64, activation='relu'),\n",
        "    tf.keras.layers.Dense(32, activation='relu'),\n",
        "    tf.keras.layers.Dense(10, activation='softmax'),\n",
        "])\n",
        "model_a.summary()"
      ],
      "metadata": {
        "colab": {
          "base_uri": "https://localhost:8080/"
        },
        "id": "jzfh9BA9v_oE",
        "outputId": "20e1a8a5-0aa6-495a-8097-2fb69b710410"
      },
      "execution_count": null,
      "outputs": [
        {
          "output_type": "stream",
          "name": "stdout",
          "text": [
            "Model: \"sequential_8\"\n",
            "_________________________________________________________________\n",
            " Layer (type)                Output Shape              Param #   \n",
            "=================================================================\n",
            " flatten_2 (Flatten)         (None, 784)               0         \n",
            "                                                                 \n",
            " dense_26 (Dense)            (None, 64)                50240     \n",
            "                                                                 \n",
            " dense_27 (Dense)            (None, 32)                2080      \n",
            "                                                                 \n",
            " dense_28 (Dense)            (None, 10)                330       \n",
            "                                                                 \n",
            "=================================================================\n",
            "Total params: 52,650\n",
            "Trainable params: 52,650\n",
            "Non-trainable params: 0\n",
            "_________________________________________________________________\n"
          ]
        }
      ]
    },
    {
      "cell_type": "code",
      "source": [
        "# Model B: Dense + BatchNorm + ReLU\n",
        "model_b = tf.keras.Sequential([\n",
        "    tf.keras.layers.Flatten(input_shape=(28, 28)),\n",
        "    tf.keras.layers.Dense(64),\n",
        "    # 배치정규화 적용\n",
        "    tf.keras.layers.BatchNormalization(),\n",
        "    # 배치정규화 후 활성화 함수 적용\n",
        "    tf.keras.layers.Activation('relu'),\n",
        "\n",
        "    tf.keras.layers.Dense(32),\n",
        "    # 배치정규화 적용\n",
        "    tf.keras.layers.BatchNormalization(),\n",
        "    # 배치정규화 후 활성화 함수 적용\n",
        "    tf.keras.layers.Activation('relu'),\n",
        "\n",
        "    tf.keras.layers.Dense(10, activation='softmax'),\n",
        "])\n",
        "model_b.summary()"
      ],
      "metadata": {
        "colab": {
          "base_uri": "https://localhost:8080/"
        },
        "id": "p4ZNB6fzwOaX",
        "outputId": "9dd1bfb7-4e4b-4a95-bcdc-f9cd5016a674"
      },
      "execution_count": null,
      "outputs": [
        {
          "output_type": "stream",
          "name": "stdout",
          "text": [
            "Model: \"sequential_9\"\n",
            "_________________________________________________________________\n",
            " Layer (type)                Output Shape              Param #   \n",
            "=================================================================\n",
            " flatten_3 (Flatten)         (None, 784)               0         \n",
            "                                                                 \n",
            " dense_29 (Dense)            (None, 64)                50240     \n",
            "                                                                 \n",
            " batch_normalization (BatchN  (None, 64)               256       \n",
            " ormalization)                                                   \n",
            "                                                                 \n",
            " activation_1 (Activation)   (None, 64)                0         \n",
            "                                                                 \n",
            " dense_30 (Dense)            (None, 32)                2080      \n",
            "                                                                 \n",
            " batch_normalization_1 (Batc  (None, 32)               128       \n",
            " hNormalization)                                                 \n",
            "                                                                 \n",
            " activation_2 (Activation)   (None, 32)                0         \n",
            "                                                                 \n",
            " dense_31 (Dense)            (None, 10)                330       \n",
            "                                                                 \n",
            "=================================================================\n",
            "Total params: 53,034\n",
            "Trainable params: 52,842\n",
            "Non-trainable params: 192\n",
            "_________________________________________________________________\n"
          ]
        }
      ]
    },
    {
      "cell_type": "markdown",
      "source": [
        "> 배치 정규화가 추가한 보델이 이전 대비 더 안정적이고 빠르게 수렴함"
      ],
      "metadata": {
        "id": "4PkbBX9MwSuX"
      }
    },
    {
      "cell_type": "markdown",
      "source": [
        "#### 활성화(activation) 함수\n"
      ],
      "metadata": {
        "id": "OLu2EWs8wWcy"
      }
    },
    {
      "cell_type": "code",
      "source": [
        "# LeakyReLU 기본 설정\n",
        "tf.keras.layers.LeakyReLU()\n",
        "\n",
        "# LeakyReLU, alpha=0.2 로 변경\n",
        "tf.keras.layers.LeakyReLU(alpha=0.2)"
      ],
      "metadata": {
        "colab": {
          "base_uri": "https://localhost:8080/"
        },
        "id": "u5KDE-YNwQFy",
        "outputId": "033979c5-2a1e-4a95-9d93-fcf8d49864f7"
      },
      "execution_count": null,
      "outputs": [
        {
          "output_type": "execute_result",
          "data": {
            "text/plain": [
              "<keras.layers.advanced_activations.LeakyReLU at 0x7f3b5f28f8d0>"
            ]
          },
          "metadata": {},
          "execution_count": 57
        }
      ]
    },
    {
      "cell_type": "code",
      "source": [
        "# Model C: Dense + BatchNorm + LeakyReLU(0.2)\n",
        "model_c = tf.keras.Sequential([\n",
        "    tf.keras.layers.Flatten(input_shape=(28, 28)),\n",
        "    tf.keras.layers.Dense(64),\n",
        "    # 배치정규화 적용\n",
        "    tf.keras.layers.BatchNormalization(),\n",
        "    # LeakyReLU, alpha=0.2 적용\n",
        "    tf.keras.layers.LeakyReLU(alpha=0.2),\n",
        "\n",
        "    tf.keras.layers.Dense(32),\n",
        "    # 배치정규화 적용\n",
        "    tf.keras.layers.BatchNormalization(),\n",
        "    # LeakyReLU, alpha=0.2 적용\n",
        "    tf.keras.layers.LeakyReLU(alpha=0.2),\n",
        "\n",
        "    tf.keras.layers.Dense(10, activation='softmax'),\n",
        "])\n",
        "\n",
        "# 모델 요약\n",
        "model_c.summary()"
      ],
      "metadata": {
        "colab": {
          "base_uri": "https://localhost:8080/"
        },
        "id": "IbJA2318wcUQ",
        "outputId": "66c51060-8526-499e-a69c-d2ed2bae3b60"
      },
      "execution_count": null,
      "outputs": [
        {
          "output_type": "stream",
          "name": "stdout",
          "text": [
            "Model: \"sequential_10\"\n",
            "_________________________________________________________________\n",
            " Layer (type)                Output Shape              Param #   \n",
            "=================================================================\n",
            " flatten_4 (Flatten)         (None, 784)               0         \n",
            "                                                                 \n",
            " dense_32 (Dense)            (None, 64)                50240     \n",
            "                                                                 \n",
            " batch_normalization_2 (Batc  (None, 64)               256       \n",
            " hNormalization)                                                 \n",
            "                                                                 \n",
            " leaky_re_lu_2 (LeakyReLU)   (None, 64)                0         \n",
            "                                                                 \n",
            " dense_33 (Dense)            (None, 32)                2080      \n",
            "                                                                 \n",
            " batch_normalization_3 (Batc  (None, 32)               128       \n",
            " hNormalization)                                                 \n",
            "                                                                 \n",
            " leaky_re_lu_3 (LeakyReLU)   (None, 32)                0         \n",
            "                                                                 \n",
            " dense_34 (Dense)            (None, 10)                330       \n",
            "                                                                 \n",
            "=================================================================\n",
            "Total params: 53,034\n",
            "Trainable params: 52,842\n",
            "Non-trainable params: 192\n",
            "_________________________________________________________________\n"
          ]
        }
      ]
    },
    {
      "cell_type": "code",
      "source": [
        "# 서로 다른 세 모델 성능 비교\n",
        "\n",
        "model_a.compile(optimizer='adam', loss='sparse_categorical_crossentropy', metrics=['accuracy'])\n",
        "model_b.compile(optimizer='adam', loss='sparse_categorical_crossentropy', metrics=['accuracy'])\n",
        "model_c.compile(optimizer='adam', loss='sparse_categorical_crossentropy', metrics=['accuracy'])\n",
        "\n",
        "# Model A: Dense + ReLU\n",
        "history_a = model_a.fit(x_train, y_train, \n",
        "                        validation_data=(x_test, y_test), \n",
        "                        epochs=10)\n",
        "\n",
        "# Model B: Dense + BatchNorm + ReLU\n",
        "history_b = model_b.fit(x_train, y_train, \n",
        "                        validation_data=(x_test, y_test), \n",
        "                        epochs=10)\n",
        "\n",
        "# Model C: Dense + BatchNorm + LeakyReLU(0.2)\n",
        "history_c = model_c.fit(x_train, y_train, \n",
        "                        validation_data=(x_test, y_test), \n",
        "                        epochs=10)"
      ],
      "metadata": {
        "colab": {
          "base_uri": "https://localhost:8080/"
        },
        "id": "FiQRWYCBwdSj",
        "outputId": "b3ca3aed-0bae-4cc2-d2c9-fc5bf3eeb965"
      },
      "execution_count": null,
      "outputs": [
        {
          "output_type": "stream",
          "name": "stdout",
          "text": [
            "Epoch 1/10\n",
            "1875/1875 [==============================] - 6s 3ms/step - loss: 0.2898 - accuracy: 0.9140 - val_loss: 0.1623 - val_accuracy: 0.9526\n",
            "Epoch 2/10\n",
            "1875/1875 [==============================] - 4s 2ms/step - loss: 0.1303 - accuracy: 0.9610 - val_loss: 0.1177 - val_accuracy: 0.9653\n",
            "Epoch 3/10\n",
            "1875/1875 [==============================] - 4s 2ms/step - loss: 0.0966 - accuracy: 0.9707 - val_loss: 0.1149 - val_accuracy: 0.9650\n",
            "Epoch 4/10\n",
            "1875/1875 [==============================] - 5s 3ms/step - loss: 0.0771 - accuracy: 0.9764 - val_loss: 0.0907 - val_accuracy: 0.9716\n",
            "Epoch 5/10\n",
            "1875/1875 [==============================] - 4s 2ms/step - loss: 0.0649 - accuracy: 0.9798 - val_loss: 0.1041 - val_accuracy: 0.9685\n",
            "Epoch 6/10\n",
            "1875/1875 [==============================] - 4s 2ms/step - loss: 0.0545 - accuracy: 0.9829 - val_loss: 0.1078 - val_accuracy: 0.9694\n",
            "Epoch 7/10\n",
            "1875/1875 [==============================] - 4s 2ms/step - loss: 0.0471 - accuracy: 0.9847 - val_loss: 0.0902 - val_accuracy: 0.9749\n",
            "Epoch 8/10\n",
            "1875/1875 [==============================] - 4s 2ms/step - loss: 0.0394 - accuracy: 0.9878 - val_loss: 0.0968 - val_accuracy: 0.9738\n",
            "Epoch 9/10\n",
            "1875/1875 [==============================] - 4s 2ms/step - loss: 0.0361 - accuracy: 0.9886 - val_loss: 0.0932 - val_accuracy: 0.9742\n",
            "Epoch 10/10\n",
            "1875/1875 [==============================] - 4s 2ms/step - loss: 0.0308 - accuracy: 0.9899 - val_loss: 0.0978 - val_accuracy: 0.9751\n",
            "Epoch 1/10\n",
            "1875/1875 [==============================] - 6s 3ms/step - loss: 0.3197 - accuracy: 0.9124 - val_loss: 0.1361 - val_accuracy: 0.9595\n",
            "Epoch 2/10\n",
            "1875/1875 [==============================] - 5s 3ms/step - loss: 0.1415 - accuracy: 0.9567 - val_loss: 0.0977 - val_accuracy: 0.9704\n",
            "Epoch 3/10\n",
            "1875/1875 [==============================] - 5s 3ms/step - loss: 0.1074 - accuracy: 0.9671 - val_loss: 0.0860 - val_accuracy: 0.9739\n",
            "Epoch 4/10\n",
            "1875/1875 [==============================] - 5s 3ms/step - loss: 0.0906 - accuracy: 0.9725 - val_loss: 0.0842 - val_accuracy: 0.9735\n",
            "Epoch 5/10\n",
            "1875/1875 [==============================] - 5s 2ms/step - loss: 0.0771 - accuracy: 0.9750 - val_loss: 0.0827 - val_accuracy: 0.9749\n",
            "Epoch 6/10\n",
            "1875/1875 [==============================] - 5s 3ms/step - loss: 0.0722 - accuracy: 0.9768 - val_loss: 0.0763 - val_accuracy: 0.9754\n",
            "Epoch 7/10\n",
            "1875/1875 [==============================] - 5s 3ms/step - loss: 0.0637 - accuracy: 0.9796 - val_loss: 0.0756 - val_accuracy: 0.9767\n",
            "Epoch 8/10\n",
            "1875/1875 [==============================] - 5s 3ms/step - loss: 0.0586 - accuracy: 0.9810 - val_loss: 0.0742 - val_accuracy: 0.9785\n",
            "Epoch 9/10\n",
            "1875/1875 [==============================] - 5s 2ms/step - loss: 0.0557 - accuracy: 0.9810 - val_loss: 0.0782 - val_accuracy: 0.9774\n",
            "Epoch 10/10\n",
            "1875/1875 [==============================] - 5s 2ms/step - loss: 0.0519 - accuracy: 0.9836 - val_loss: 0.0737 - val_accuracy: 0.9778\n",
            "Epoch 1/10\n",
            "1875/1875 [==============================] - 6s 3ms/step - loss: 0.3280 - accuracy: 0.9094 - val_loss: 0.1485 - val_accuracy: 0.9535\n",
            "Epoch 2/10\n",
            "1875/1875 [==============================] - 5s 2ms/step - loss: 0.1594 - accuracy: 0.9516 - val_loss: 0.1187 - val_accuracy: 0.9634\n",
            "Epoch 3/10\n",
            "1875/1875 [==============================] - 5s 3ms/step - loss: 0.1223 - accuracy: 0.9626 - val_loss: 0.1043 - val_accuracy: 0.9681\n",
            "Epoch 4/10\n",
            "1875/1875 [==============================] - 5s 2ms/step - loss: 0.1080 - accuracy: 0.9658 - val_loss: 0.1004 - val_accuracy: 0.9683\n",
            "Epoch 5/10\n",
            "1875/1875 [==============================] - 5s 3ms/step - loss: 0.0933 - accuracy: 0.9704 - val_loss: 0.0924 - val_accuracy: 0.9699\n",
            "Epoch 6/10\n",
            "1875/1875 [==============================] - 5s 3ms/step - loss: 0.0869 - accuracy: 0.9725 - val_loss: 0.0990 - val_accuracy: 0.9707\n",
            "Epoch 7/10\n",
            "1875/1875 [==============================] - 5s 3ms/step - loss: 0.0806 - accuracy: 0.9744 - val_loss: 0.0809 - val_accuracy: 0.9760\n",
            "Epoch 8/10\n",
            "1875/1875 [==============================] - 5s 3ms/step - loss: 0.0723 - accuracy: 0.9766 - val_loss: 0.0788 - val_accuracy: 0.9768\n",
            "Epoch 9/10\n",
            "1875/1875 [==============================] - 5s 3ms/step - loss: 0.0696 - accuracy: 0.9771 - val_loss: 0.0802 - val_accuracy: 0.9757\n",
            "Epoch 10/10\n",
            "1875/1875 [==============================] - 5s 3ms/step - loss: 0.0628 - accuracy: 0.9792 - val_loss: 0.0776 - val_accuracy: 0.9762\n"
          ]
        }
      ]
    },
    {
      "cell_type": "code",
      "source": [
        "import matplotlib.pyplot as plt\n",
        "import numpy as np\n",
        "\n",
        "plt.figure(figsize=(12, 9))\n",
        "plt.plot(np.arange(1, 11), history_a.history['val_loss'], color='navy', linestyle=':')\n",
        "plt.plot(np.arange(1, 11), history_b.history['val_loss'], color='tomato', linestyle='-.')\n",
        "plt.plot(np.arange(1, 11), history_c.history['val_loss'], color='green', linestyle='-')\n",
        "\n",
        "plt.title('Losses', fontsize=20)\n",
        "plt.xlabel('Epochs')\n",
        "plt.ylabel('Losses')\n",
        "plt.legend(['ReLU', 'BatchNorm + ReLU','batchnorm + LeakyReLU'], fontsize=12)\n",
        "plt.show()"
      ],
      "metadata": {
        "colab": {
          "base_uri": "https://localhost:8080/",
          "height": 510
        },
        "id": "3m1avkR7wj80",
        "outputId": "b5245aaf-5166-4594-b66e-48b36cacd7fa"
      },
      "execution_count": null,
      "outputs": [
        {
          "output_type": "display_data",
          "data": {
            "text/plain": [
              "<Figure size 864x648 with 1 Axes>"
            ],
            "image/png": "[encoded data removed]"
          },
          "metadata": {
            "needs_background": "light"
          }
        }
      ]
    },
    {
      "cell_type": "markdown",
      "source": [
        "> mnist 데이터셋은 모델별 차이가 크진 않지만, 배치 정규화를 추가한 모델이 활성화 함수를 단독으로 사용한 경우보다 더 나을 것이라고 유추할 수 있음"
      ],
      "metadata": {
        "id": "9QACHjQ3wn2P"
      }
    }
  ]
}