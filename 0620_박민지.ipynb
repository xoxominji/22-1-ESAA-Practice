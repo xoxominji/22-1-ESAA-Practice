{
  "nbformat": 4,
  "nbformat_minor": 0,
  "metadata": {
    "colab": {
      "name": "0620_박민지",
      "provenance": [],
      "authorship_tag": "ABX9TyMsoKrS45qHphdKGyij0EPN",
      "include_colab_link": true
    },
    "kernelspec": {
      "name": "python3",
      "display_name": "Python 3"
    },
    "language_info": {
      "name": "python"
    }
  },
  "cells": [
    {
      "cell_type": "markdown",
      "metadata": {
        "id": "view-in-github",
        "colab_type": "text"
      },
      "source": [
        "<a href=\"https://colab.research.google.com/github/xoxominji/22-1-ESAA-Practice/blob/main/0620_%EB%B0%95%EB%AF%BC%EC%A7%80.ipynb\" target=\"_parent\"><img src=\"https://colab.research.google.com/assets/colab-badge.svg\" alt=\"Open In Colab\"/></a>"
      ]
    },
    {
      "cell_type": "markdown",
      "source": [
        "# [필사]\n",
        "\n",
        "## 파이썬 딥러닝 텐서플로 PART04 합성곱 신경망(CNN)\n",
        "\n",
        "### 3.1 합성곱 신경망\n",
        "\n",
        "CNN(Convolutional Neural Network): 데이터가 가진 특징들의 패턴을 합습하는 알고리즘\n",
        "\n",
        "<예시>\n",
        "- 이미지 분류: 클래스 예측\n",
        "- 객체 탐지(미지이에서 특정한 객체를 인식하고 이미지의 어디에 있는지 위치를 파악하는 기술): 위치 좌표는 회귀분석, 클래스 예측은 분류\n",
        "- 스타일 전이: 콘텐츠 이미지 + 스타일 참조 이미지 이용해 콘텐츠의 기본 ㅕㅇ태를 유지하고 스타일을 입혀서 새로운 이미지를 생성하는 기술"
      ],
      "metadata": {
        "id": "QLXQ04PSNAb-"
      }
    },
    {
      "cell_type": "markdown",
      "source": [
        "#### **1) 이미지 표현**\n",
        "\n",
        ": 이미지(영상)을 컴퓨터가 이해할 수 있도록 숫자로 표현\n",
        "\n",
        "- 픽셀의 화소 값: 0(검) ~ 255(흰)-이미지 강도\n",
        "   - 컬러: R G B\n",
        "\n",
        "#### **2) 합성곱(Convolution)**\n",
        "\n",
        ": 입력 이미지에 대한 특성 추출 -> \"특성맵(feature map)\"\n",
        "\n",
        "- 입력 이미지(n*n)와 \n",
        "커널(m*m)이 겹치는 부분에 대한 합성곱 연산 수행 (n>m)\n",
        "  - 합성곱 연산: element-wise 곱셈 연산의 합\n",
        "- n^2개의 가중치로 커널의 가중치 업데이트\n",
        "\n",
        "\n",
        "#### **3) 채널(channel)**\n",
        "\n",
        ": 입력 이미지를 구성하는 2차원 배열의 개수\n",
        "\n",
        "- 흑백: 채널 1개\n",
        "- 컬러: 채널 R,G,B 3개\n",
        "\n",
        "입력 이미지의 채널 개수만큼 합성곱 연산이 진행, 만약 2개 이상이면 합성곱 연산 결과 값을 element-wise 덧셈 연산으로 최종 특성맵 생성\n",
        "\n",
        "\n",
        "가중치 그래디언트 수 = 입력 이미지 shape x 입력 이미지 채널 개수 x 출력 필터 개수 + bias\n",
        "\n",
        "#### **4) 스트라이드(stride)**\n",
        "\n",
        ": 커널이 좌측에서 우측으로 이동하면서 합성곱 연산을 할 때의 이동 간격\n",
        "\n",
        "움직이는만큼 특성맵의 크기가 1/n으로 감소\n",
        "\n",
        "\n",
        "#### **5) 패딩(padding)**\n",
        ": 특성맵의 크기가 입력 임이지 대비 줄어들지 않도록 \n",
        "\n",
        "기존) 입력 이미지(n*n) -> \n",
        "커널(m*m) -> \n",
        "특성맵(n-m+1)*(n-m+1) if stride=1\n",
        "\n",
        "#### **6) 특성맵(feature map) 사이즈**\n",
        "\n",
        "$(Output Height, Output Width)=(\\frac{Image Height + 2P - Kernel Height}{S}+1, \\frac{Image Height + 2P - Kernel Height}{S}+1)$\n",
        "\n",
        "#### **7) 풀링(pooling)**\n",
        "\n",
        ": 추츨된 특성맵을 다운 샘플링하여 이미지 크기를 축소하는 레이어\n",
        "\n",
        "효과: 과대적합 방지, 연산량 감소\n",
        "\n",
        "<종류>\n",
        "- 최대 풀링(max pooling)\n",
        "- 평균 풀링(average pooling)\n",
        "\n",
        "스트라이드 설정 가능"
      ],
      "metadata": {
        "id": "rSM_5w6mO5lV"
      }
    },
    {
      "cell_type": "markdown",
      "source": [
        "### 3.2 간단한 모델 생성\n",
        "\n",
        "#### 데이터 로드 및 전처리"
      ],
      "metadata": {
        "id": "Wn3ztxUBuawc"
      }
    },
    {
      "cell_type": "code",
      "execution_count": 1,
      "metadata": {
        "id": "NygagHVaMYBJ"
      },
      "outputs": [],
      "source": [
        "# tensorflow 모듈 import \n",
        "import tensorflow as tf"
      ]
    },
    {
      "cell_type": "code",
      "source": [
        "# MNIST 손글씨 이미지 데이터 로드\n",
        "mnist = tf.keras.datasets.mnist\n",
        "(x_train, y_train), (x_valid, y_valid) = mnist.load_data()\n",
        "\n",
        "print(x_train.shape, y_train.shape)\n",
        "print(x_valid.shape, y_valid.shape)"
      ],
      "metadata": {
        "colab": {
          "base_uri": "https://localhost:8080/"
        },
        "id": "1y48505NvKMY",
        "outputId": "d5470d45-9a09-49bf-dd1f-8ea1e69ae0f8"
      },
      "execution_count": 2,
      "outputs": [
        {
          "output_type": "stream",
          "name": "stdout",
          "text": [
            "Downloading data from https://storage.googleapis.com/tensorflow/tf-keras-datasets/mnist.npz\n",
            "11493376/11490434 [==============================] - 0s 0us/step\n",
            "11501568/11490434 [==============================] - 0s 0us/step\n",
            "(60000, 28, 28) (60000,)\n",
            "(10000, 28, 28) (10000,)\n"
          ]
        }
      ]
    },
    {
      "cell_type": "code",
      "source": [
        "# 샘플 이미지 출력\n",
        "import matplotlib.pylab as plt\n",
        "\n",
        "def plot_image(data, idx):\n",
        "    plt.figure(figsize=(5, 5))\n",
        "    plt.imshow(data[idx], cmap=\"gray\")\n",
        "    plt.axis(\"off\")\n",
        "    plt.show()\n",
        "\n",
        "plot_image(x_train, 0)"
      ],
      "metadata": {
        "colab": {
          "base_uri": "https://localhost:8080/",
          "height": 303
        },
        "id": "BLssidYLvOgo",
        "outputId": "a76d3d28-8cd3-42ac-81c6-114cc9874e25"
      },
      "execution_count": 3,
      "outputs": [
        {
          "output_type": "display_data",
          "data": {
            "text/plain": [
              "<Figure size 360x360 with 1 Axes>"
            ],
            "image/png": "[encoded data removed]"
          },
          "metadata": {
            "needs_background": "light"
          }
        }
      ]
    },
    {
      "cell_type": "code",
      "source": [
        "print(x_train.min(), x_train.max())\n",
        "print(x_valid.min(), x_valid.max())"
      ],
      "metadata": {
        "colab": {
          "base_uri": "https://localhost:8080/"
        },
        "id": "uIbazfHrvQVI",
        "outputId": "397bc185-cf4f-400d-d6fc-5f0a513f0ccf"
      },
      "execution_count": 4,
      "outputs": [
        {
          "output_type": "stream",
          "name": "stdout",
          "text": [
            "0 255\n",
            "0 255\n"
          ]
        }
      ]
    },
    {
      "cell_type": "code",
      "source": [
        "# 정규화(Normalization): 모델의 안정적인 학습을 위해\n",
        "x_train = x_train / 255.0\n",
        "x_valid = x_valid / 255.0\n",
        "\n",
        "print(x_train.min(), x_train.max())\n",
        "print(x_valid.min(), x_valid.max())"
      ],
      "metadata": {
        "colab": {
          "base_uri": "https://localhost:8080/"
        },
        "id": "BZBHs8vOvSe-",
        "outputId": "d3e0d2d9-933c-44e1-f758-919997565fe4"
      },
      "execution_count": 5,
      "outputs": [
        {
          "output_type": "stream",
          "name": "stdout",
          "text": [
            "0.0 1.0\n",
            "0.0 1.0\n"
          ]
        }
      ]
    },
    {
      "cell_type": "code",
      "source": [
        "# 채널 추가\n",
        "print(x_train.shape, x_valid.shape)\n",
        "\n",
        "x_train_in = x_train[..., tf.newaxis] #축 추가\n",
        "x_valid_in = x_valid[..., tf.newaxis]\n",
        "\n",
        "print(x_train_in.shape, x_valid_in.shape)"
      ],
      "metadata": {
        "colab": {
          "base_uri": "https://localhost:8080/"
        },
        "id": "XzWmyHQUvVZ1",
        "outputId": "c6f794a5-117f-4288-f6c5-1e938fa5ba5b"
      },
      "execution_count": 6,
      "outputs": [
        {
          "output_type": "stream",
          "name": "stdout",
          "text": [
            "(60000, 28, 28) (10000, 28, 28)\n",
            "(60000, 28, 28, 1) (10000, 28, 28, 1)\n"
          ]
        }
      ]
    },
    {
      "cell_type": "markdown",
      "source": [
        "#### Sequential API로 모델 생성 및 학습\n",
        "\n",
        "- 합성곱 레이어 1개: `tf.keras.layers.Conv2D(커널 수, (가로, 세로), ...)`\n",
        "- 풀링 레이어 1개(최대 풀링): `tf.keras.layers.MaxPooling2D((가로, 세로))`\n",
        "- 1차원 배열: 분류 위함 `tf.keras.layers.Flatten()` \n",
        "- 분류기: `tf.keras.layers.Dense(분류 수, 활성화함수)`\n"
      ],
      "metadata": {
        "id": "Qaogm74Bu5MJ"
      }
    },
    {
      "cell_type": "code",
      "source": [
        "# Sequential API를 사용하여 샘플 모델 생성\n",
        "model = tf.keras.Sequential([\n",
        "    # Convolution 적용 (32 filters)\n",
        "    tf.keras.layers.Conv2D(32, (3, 3), activation='relu', \n",
        "                           input_shape=(28, 28, 1), name='conv'),\n",
        "    # Max Pooling 적용\n",
        "    tf.keras.layers.MaxPooling2D((2, 2), name='pool'),\n",
        "    # Classifier 출력층 \n",
        "    tf.keras.layers.Flatten(),\n",
        "    tf.keras.layers.Dense(10, activation='softmax'),\n",
        "])"
      ],
      "metadata": {
        "id": "khv53d1outVS"
      },
      "execution_count": 7,
      "outputs": []
    },
    {
      "cell_type": "code",
      "source": [
        "# 모델 컴파일\n",
        "model.compile(optimizer='adam', loss='sparse_categorical_crossentropy', metrics=['accuracy'])\n",
        "\n",
        "# 모델 훈련\n",
        "history = model.fit(x_train_in, y_train, \n",
        "                    validation_data=(x_valid_in, y_valid), \n",
        "                    epochs=10)"
      ],
      "metadata": {
        "colab": {
          "base_uri": "https://localhost:8080/"
        },
        "id": "pM8FiPJnwX4O",
        "outputId": "18004555-28aa-4245-e108-feb011578950"
      },
      "execution_count": 8,
      "outputs": [
        {
          "output_type": "stream",
          "name": "stdout",
          "text": [
            "Epoch 1/10\n",
            "1875/1875 [==============================] - 20s 10ms/step - loss: 0.2094 - accuracy: 0.9406 - val_loss: 0.0978 - val_accuracy: 0.9705\n",
            "Epoch 2/10\n",
            "1875/1875 [==============================] - 20s 10ms/step - loss: 0.0789 - accuracy: 0.9771 - val_loss: 0.0651 - val_accuracy: 0.9799\n",
            "Epoch 3/10\n",
            "1875/1875 [==============================] - 19s 10ms/step - loss: 0.0600 - accuracy: 0.9826 - val_loss: 0.0577 - val_accuracy: 0.9817\n",
            "Epoch 4/10\n",
            "1875/1875 [==============================] - 19s 10ms/step - loss: 0.0494 - accuracy: 0.9854 - val_loss: 0.0519 - val_accuracy: 0.9823\n",
            "Epoch 5/10\n",
            "1875/1875 [==============================] - 18s 10ms/step - loss: 0.0423 - accuracy: 0.9876 - val_loss: 0.0546 - val_accuracy: 0.9826\n",
            "Epoch 6/10\n",
            "1875/1875 [==============================] - 19s 10ms/step - loss: 0.0359 - accuracy: 0.9890 - val_loss: 0.0520 - val_accuracy: 0.9827\n",
            "Epoch 7/10\n",
            "1875/1875 [==============================] - 18s 10ms/step - loss: 0.0305 - accuracy: 0.9908 - val_loss: 0.0535 - val_accuracy: 0.9827\n",
            "Epoch 8/10\n",
            "1875/1875 [==============================] - 21s 11ms/step - loss: 0.0255 - accuracy: 0.9926 - val_loss: 0.0550 - val_accuracy: 0.9839\n",
            "Epoch 9/10\n",
            "1875/1875 [==============================] - 20s 10ms/step - loss: 0.0219 - accuracy: 0.9936 - val_loss: 0.0519 - val_accuracy: 0.9849\n",
            "Epoch 10/10\n",
            "1875/1875 [==============================] - 20s 11ms/step - loss: 0.0189 - accuracy: 0.9942 - val_loss: 0.0553 - val_accuracy: 0.9838\n"
          ]
        }
      ]
    },
    {
      "cell_type": "code",
      "source": [
        "model.evaluate(x_valid_in, y_valid)"
      ],
      "metadata": {
        "colab": {
          "base_uri": "https://localhost:8080/"
        },
        "id": "5_87u3gywZ7C",
        "outputId": "06ffa828-b480-4832-a6c8-eff7c8c27a9e"
      },
      "execution_count": 9,
      "outputs": [
        {
          "output_type": "stream",
          "name": "stdout",
          "text": [
            "313/313 [==============================] - 1s 4ms/step - loss: 0.0553 - accuracy: 0.9838\n"
          ]
        },
        {
          "output_type": "execute_result",
          "data": {
            "text/plain": [
              "[0.05527438223361969, 0.9837999939918518]"
            ]
          },
          "metadata": {},
          "execution_count": 9
        }
      ]
    },
    {
      "cell_type": "code",
      "source": [
        "def plot_loss_acc(history, epoch):\n",
        "\n",
        "    loss, val_loss = history.history['loss'], history.history['val_loss']\n",
        "    acc, val_acc = history.history['accuracy'], history.history['val_accuracy']\n",
        "\n",
        "    fig, axes = plt.subplots(1, 2, figsize=(12, 4))\n",
        "\n",
        "    axes[0].plot(range(1, epoch + 1), loss, label='Training')\n",
        "    axes[0].plot(range(1, epoch + 1), val_loss, label='Validation')\n",
        "    axes[0].legend(loc='best')\n",
        "    axes[0].set_title('Loss')\n",
        "\n",
        "    axes[1].plot(range(1, epoch + 1), acc, label='Training')\n",
        "    axes[1].plot(range(1, epoch + 1), val_acc, label='Validation')\n",
        "    axes[1].legend(loc='best')\n",
        "    axes[1].set_title('Accuracy')\n",
        "\n",
        "    plt.show()\n",
        "\n",
        "plot_loss_acc(history, 10)"
      ],
      "metadata": {
        "colab": {
          "base_uri": "https://localhost:8080/",
          "height": 254
        },
        "id": "JjIdiagwwfdK",
        "outputId": "428cdac7-6146-438e-b6f2-d4398cfd37f3"
      },
      "execution_count": 10,
      "outputs": [
        {
          "output_type": "display_data",
          "data": {
            "text/plain": [
              "<Figure size 864x288 with 2 Axes>"
            ],
            "image/png": "[encoded data removed]"
          },
          "metadata": {
            "needs_background": "light"
          }
        }
      ]
    },
    {
      "cell_type": "markdown",
      "source": [
        "> 4 epoch 이후부터 모델 과대적합"
      ],
      "metadata": {
        "id": "pAxPVD82wgob"
      }
    },
    {
      "cell_type": "markdown",
      "source": [
        "#### 모델 구조 파악"
      ],
      "metadata": {
        "id": "xnXxmx6gu-NO"
      }
    },
    {
      "cell_type": "code",
      "source": [
        "# 모델 구조 \n",
        "model.summary()"
      ],
      "metadata": {
        "colab": {
          "base_uri": "https://localhost:8080/"
        },
        "id": "5UoziGVfu-BV",
        "outputId": "6d3913c9-419c-4a73-8a6f-ab5458ef597d"
      },
      "execution_count": 11,
      "outputs": [
        {
          "output_type": "stream",
          "name": "stdout",
          "text": [
            "Model: \"sequential\"\n",
            "_________________________________________________________________\n",
            " Layer (type)                Output Shape              Param #   \n",
            "=================================================================\n",
            " conv (Conv2D)               (None, 26, 26, 32)        320       \n",
            "                                                                 \n",
            " pool (MaxPooling2D)         (None, 13, 13, 32)        0         \n",
            "                                                                 \n",
            " flatten (Flatten)           (None, 5408)              0         \n",
            "                                                                 \n",
            " dense (Dense)               (None, 10)                54090     \n",
            "                                                                 \n",
            "=================================================================\n",
            "Total params: 54,410\n",
            "Trainable params: 54,410\n",
            "Non-trainable params: 0\n",
            "_________________________________________________________________\n"
          ]
        }
      ]
    },
    {
      "cell_type": "code",
      "source": [
        "# 입력 텐서 형태 \n",
        "model.input\n",
        "#None= 배치 크기가 들어오는 위치로 어떤 값이든 가능"
      ],
      "metadata": {
        "colab": {
          "base_uri": "https://localhost:8080/"
        },
        "id": "z7ZrRMCYwwAq",
        "outputId": "2fac4b30-7a63-4d8b-f6c9-0c13e37b11b8"
      },
      "execution_count": 12,
      "outputs": [
        {
          "output_type": "execute_result",
          "data": {
            "text/plain": [
              "<KerasTensor: shape=(None, 28, 28, 1) dtype=float32 (created by layer 'conv_input')>"
            ]
          },
          "metadata": {},
          "execution_count": 12
        }
      ]
    },
    {
      "cell_type": "code",
      "source": [
        "# 출력 텐서 형태 \n",
        "model.output"
      ],
      "metadata": {
        "colab": {
          "base_uri": "https://localhost:8080/"
        },
        "id": "BomP4J6Aw9Sy",
        "outputId": "80f263e1-6f91-4762-eab1-d3ce188eddd1"
      },
      "execution_count": 13,
      "outputs": [
        {
          "output_type": "execute_result",
          "data": {
            "text/plain": [
              "<KerasTensor: shape=(None, 10) dtype=float32 (created by layer 'dense')>"
            ]
          },
          "metadata": {},
          "execution_count": 13
        }
      ]
    },
    {
      "cell_type": "code",
      "source": [
        "# 레이어 \n",
        "model.layers\n",
        "#파이썬 리스트 형태로"
      ],
      "metadata": {
        "colab": {
          "base_uri": "https://localhost:8080/"
        },
        "id": "m3AAC0TOw-6o",
        "outputId": "2b780122-3aa5-4fc4-97fc-fb5bf3929150"
      },
      "execution_count": 14,
      "outputs": [
        {
          "output_type": "execute_result",
          "data": {
            "text/plain": [
              "[<keras.layers.convolutional.Conv2D at 0x7f976cbe9250>,\n",
              " <keras.layers.pooling.MaxPooling2D at 0x7f976c241950>,\n",
              " <keras.layers.core.flatten.Flatten at 0x7f976c1ce0d0>,\n",
              " <keras.layers.core.dense.Dense at 0x7f976c1ce350>]"
            ]
          },
          "metadata": {},
          "execution_count": 14
        }
      ]
    },
    {
      "cell_type": "code",
      "source": [
        "# 첫번째 레이어 선택\n",
        "model.layers[0]"
      ],
      "metadata": {
        "colab": {
          "base_uri": "https://localhost:8080/"
        },
        "id": "ncSt50MrxCIl",
        "outputId": "7c04e487-20a2-40e2-a6f7-539908f8487a"
      },
      "execution_count": 15,
      "outputs": [
        {
          "output_type": "execute_result",
          "data": {
            "text/plain": [
              "<keras.layers.convolutional.Conv2D at 0x7f976cbe9250>"
            ]
          },
          "metadata": {},
          "execution_count": 15
        }
      ]
    },
    {
      "cell_type": "code",
      "source": [
        "# 첫번째 레이어 입력\n",
        "model.layers[0].input"
      ],
      "metadata": {
        "colab": {
          "base_uri": "https://localhost:8080/"
        },
        "id": "t0z_KLscxC_Q",
        "outputId": "1833b908-5fa7-4ddb-c7a2-f18de82cb1d8"
      },
      "execution_count": 16,
      "outputs": [
        {
          "output_type": "execute_result",
          "data": {
            "text/plain": [
              "<KerasTensor: shape=(None, 28, 28, 1) dtype=float32 (created by layer 'conv_input')>"
            ]
          },
          "metadata": {},
          "execution_count": 16
        }
      ]
    },
    {
      "cell_type": "code",
      "source": [
        "# 첫번째 레이어 출력\n",
        "model.layers[0].output"
      ],
      "metadata": {
        "colab": {
          "base_uri": "https://localhost:8080/"
        },
        "id": "ZvAln8wlxEEX",
        "outputId": "3341faad-9f3b-43e1-9cb2-1bedc1629fd1"
      },
      "execution_count": 17,
      "outputs": [
        {
          "output_type": "execute_result",
          "data": {
            "text/plain": [
              "<KerasTensor: shape=(None, 26, 26, 32) dtype=float32 (created by layer 'conv')>"
            ]
          },
          "metadata": {},
          "execution_count": 17
        }
      ]
    },
    {
      "cell_type": "code",
      "source": [
        "# 첫번째 레이어 가중치\n",
        "model.layers[0].weights"
      ],
      "metadata": {
        "colab": {
          "base_uri": "https://localhost:8080/"
        },
        "id": "-yk1phutxEv0",
        "outputId": "5c53b859-fa2b-4240-b5fa-ce94bde445d6"
      },
      "execution_count": 18,
      "outputs": [
        {
          "output_type": "execute_result",
          "data": {
            "text/plain": [
              "[<tf.Variable 'conv/kernel:0' shape=(3, 3, 1, 32) dtype=float32, numpy=\n",
              " array([[[[-0.8032573 , -0.09383649,  0.3798673 ,  0.24732338,\n",
              "            0.37135324,  0.1857117 ,  0.08701344, -1.1203039 ,\n",
              "           -0.63546056, -0.12824273,  0.25932577,  0.71917105,\n",
              "           -0.48705775,  0.4978883 ,  0.26045915,  0.2745909 ,\n",
              "           -0.07341665, -0.6397793 , -0.7127322 , -0.306933  ,\n",
              "           -0.62649226, -0.5317066 ,  0.1210734 ,  0.02616824,\n",
              "            0.24343488, -0.67697793, -0.06470305,  0.18021119,\n",
              "            0.08812284,  0.31613407, -1.1291407 , -0.44175798]],\n",
              " \n",
              "         [[-0.3518155 , -0.08830106,  0.19208896,  0.10535999,\n",
              "            0.50199604, -0.5192895 ,  0.44693223, -0.6419748 ,\n",
              "           -0.03376039,  0.39609417,  0.26585844,  0.50301474,\n",
              "            0.10885861, -0.12109557,  0.15572208,  0.16540946,\n",
              "            0.2354637 ,  0.14469588, -0.6439225 ,  0.1579534 ,\n",
              "           -0.68760633, -0.16931273,  0.48374748,  0.58964473,\n",
              "            0.33725625, -0.7640292 ,  0.12448678,  0.09395584,\n",
              "            0.21312281,  0.21349   , -0.14296952,  0.04355891]],\n",
              " \n",
              "         [[ 0.29518032, -0.08917911, -0.2914075 , -0.00860133,\n",
              "           -0.0475788 , -0.33253396,  0.35715708, -0.06528108,\n",
              "            0.5306794 , -0.18574005, -0.41563624, -0.28054214,\n",
              "           -0.05465475, -0.93701166, -0.09270639, -0.7465528 ,\n",
              "            0.21624376,  0.34340778, -0.5034962 ,  0.30079904,\n",
              "           -0.79097134,  0.2207622 , -0.41817755,  0.59336084,\n",
              "            0.3501332 , -0.77424884,  0.08470453, -0.584801  ,\n",
              "           -0.23499821, -0.08264148,  0.7553216 ,  0.17390087]]],\n",
              " \n",
              " \n",
              "        [[[-0.40536195, -0.02685575, -0.2742727 , -0.44547015,\n",
              "            0.33962002,  0.40876737, -0.00197698, -0.611328  ,\n",
              "           -0.80803376,  0.01394621,  0.4448103 , -0.46085182,\n",
              "            0.18686523,  0.58446115,  0.03855321,  0.21920308,\n",
              "            0.14416517, -0.5619612 ,  0.0184448 ,  0.14047241,\n",
              "           -0.14590348,  0.09094225, -0.3797423 , -0.3496814 ,\n",
              "            0.00863103,  0.59586483,  0.0948912 ,  0.26198685,\n",
              "            0.05427447, -0.22713687, -0.9830196 ,  0.04270807]],\n",
              " \n",
              "         [[ 0.40582007, -0.09325828, -0.17274898, -0.25244635,\n",
              "            0.3045423 ,  0.29657277, -0.03488227,  0.19272156,\n",
              "           -0.09972347,  0.25308785,  0.29430398, -1.1335413 ,\n",
              "            0.3084152 , -0.10666272, -0.05267935,  0.33715233,\n",
              "           -0.05319119,  0.5154258 ,  0.1038838 ,  0.2172864 ,\n",
              "           -0.10651981,  0.39223474,  0.49918067,  0.08427937,\n",
              "            0.5278837 , -0.0087872 ,  0.32007867,  0.30499107,\n",
              "            0.25452214,  0.22777693, -0.5728394 ,  0.41079006]],\n",
              " \n",
              "         [[ 0.36903763, -0.13325642,  0.19948047,  0.18637587,\n",
              "           -0.6884019 ,  0.34255   ,  0.08041102,  0.3317481 ,\n",
              "            0.4987335 , -0.5034919 , -0.8532988 , -0.8034655 ,\n",
              "            0.1360496 , -0.78682935, -0.28807342, -0.17360547,\n",
              "           -0.47780976,  0.12257451,  0.1587859 , -0.33381814,\n",
              "           -0.04662279,  0.10198528, -0.2389326 ,  0.39415815,\n",
              "           -0.043581  , -1.1386775 ,  0.4378035 ,  0.33212206,\n",
              "           -0.480303  ,  0.26172212,  0.53135216, -0.40678856]]],\n",
              " \n",
              " \n",
              "        [[[ 0.13101411, -0.09578654, -0.00463269,  0.22294101,\n",
              "           -0.7444818 , -0.38356107, -0.65460616, -0.3279116 ,\n",
              "           -0.37396106, -0.10855856,  0.4971588 , -0.6773623 ,\n",
              "            0.1088071 ,  0.3330187 , -0.06577063, -0.41201073,\n",
              "            0.06231814, -0.13804369,  0.5639851 ,  0.23890628,\n",
              "            0.52933663,  0.1094283 , -0.43043146, -0.8699267 ,\n",
              "           -1.1822027 ,  0.91924006, -0.54708266, -0.5026484 ,\n",
              "           -0.38071215, -0.51463425, -0.34681615,  0.426026  ]],\n",
              " \n",
              "         [[ 0.3120548 , -0.00249211,  0.1898904 ,  0.15237589,\n",
              "           -0.8312588 ,  0.12504914, -0.37941313,  0.44053155,\n",
              "           -0.26123556,  0.2875317 ,  0.03972558,  0.5073448 ,\n",
              "           -0.25705174, -0.97132915,  0.15196955,  0.221401  ,\n",
              "            0.05775132,  0.39552534,  0.35677016, -0.19109294,\n",
              "            0.5618796 ,  0.17905666,  0.33570713, -0.89737964,\n",
              "           -0.63599664,  0.65407395, -0.6003787 , -0.19320503,\n",
              "            0.30783653, -0.29116005, -0.6253821 ,  0.16238442]],\n",
              " \n",
              "         [[-0.08998155, -0.0890333 ,  0.15826046,  0.10011043,\n",
              "           -1.1845688 , -0.01299386,  0.21679273,  0.11730578,\n",
              "            0.40492988,  0.10315987, -0.83203536,  0.77954733,\n",
              "           -0.24439369, -0.9468823 ,  0.3945895 ,  0.38971114,\n",
              "            0.20292982, -0.09113636, -0.13267207, -0.0233007 ,\n",
              "            0.37638322, -0.51358384,  0.14299308, -0.686244  ,\n",
              "           -1.1588602 , -0.22739075, -0.28591233,  0.28238747,\n",
              "            0.2978131 ,  0.289964  ,  0.37813944, -0.7407917 ]]]],\n",
              "       dtype=float32)>,\n",
              " <tf.Variable 'conv/bias:0' shape=(32,) dtype=float32, numpy=\n",
              " array([-0.22169752,  0.        , -0.22387472, -0.23547764, -0.00627422,\n",
              "        -0.13574724, -0.19897297, -0.07563835, -0.06812058, -0.22889408,\n",
              "        -0.13895006,  0.07964161, -0.06622268,  0.09643019, -0.38858423,\n",
              "        -0.33375335, -0.2723358 , -0.16304934, -0.02811637, -0.25709856,\n",
              "        -0.01597718, -0.1972587 , -0.1867187 , -0.01359723,  0.01381236,\n",
              "         0.10452874, -0.17505886, -0.2527127 , -0.2592407 , -0.38877133,\n",
              "        -0.05182672, -0.06065455], dtype=float32)>]"
            ]
          },
          "metadata": {},
          "execution_count": 18
        }
      ]
    },
    {
      "cell_type": "code",
      "source": [
        "# 첫번째 레이어 커널 가중치\n",
        "model.layers[0].kernel"
      ],
      "metadata": {
        "colab": {
          "base_uri": "https://localhost:8080/"
        },
        "id": "1XDK-6ptxRCk",
        "outputId": "ceff2bc8-44d6-47fb-d660-c29eb0ca305b"
      },
      "execution_count": 19,
      "outputs": [
        {
          "output_type": "execute_result",
          "data": {
            "text/plain": [
              "<tf.Variable 'conv/kernel:0' shape=(3, 3, 1, 32) dtype=float32, numpy=\n",
              "array([[[[-0.8032573 , -0.09383649,  0.3798673 ,  0.24732338,\n",
              "           0.37135324,  0.1857117 ,  0.08701344, -1.1203039 ,\n",
              "          -0.63546056, -0.12824273,  0.25932577,  0.71917105,\n",
              "          -0.48705775,  0.4978883 ,  0.26045915,  0.2745909 ,\n",
              "          -0.07341665, -0.6397793 , -0.7127322 , -0.306933  ,\n",
              "          -0.62649226, -0.5317066 ,  0.1210734 ,  0.02616824,\n",
              "           0.24343488, -0.67697793, -0.06470305,  0.18021119,\n",
              "           0.08812284,  0.31613407, -1.1291407 , -0.44175798]],\n",
              "\n",
              "        [[-0.3518155 , -0.08830106,  0.19208896,  0.10535999,\n",
              "           0.50199604, -0.5192895 ,  0.44693223, -0.6419748 ,\n",
              "          -0.03376039,  0.39609417,  0.26585844,  0.50301474,\n",
              "           0.10885861, -0.12109557,  0.15572208,  0.16540946,\n",
              "           0.2354637 ,  0.14469588, -0.6439225 ,  0.1579534 ,\n",
              "          -0.68760633, -0.16931273,  0.48374748,  0.58964473,\n",
              "           0.33725625, -0.7640292 ,  0.12448678,  0.09395584,\n",
              "           0.21312281,  0.21349   , -0.14296952,  0.04355891]],\n",
              "\n",
              "        [[ 0.29518032, -0.08917911, -0.2914075 , -0.00860133,\n",
              "          -0.0475788 , -0.33253396,  0.35715708, -0.06528108,\n",
              "           0.5306794 , -0.18574005, -0.41563624, -0.28054214,\n",
              "          -0.05465475, -0.93701166, -0.09270639, -0.7465528 ,\n",
              "           0.21624376,  0.34340778, -0.5034962 ,  0.30079904,\n",
              "          -0.79097134,  0.2207622 , -0.41817755,  0.59336084,\n",
              "           0.3501332 , -0.77424884,  0.08470453, -0.584801  ,\n",
              "          -0.23499821, -0.08264148,  0.7553216 ,  0.17390087]]],\n",
              "\n",
              "\n",
              "       [[[-0.40536195, -0.02685575, -0.2742727 , -0.44547015,\n",
              "           0.33962002,  0.40876737, -0.00197698, -0.611328  ,\n",
              "          -0.80803376,  0.01394621,  0.4448103 , -0.46085182,\n",
              "           0.18686523,  0.58446115,  0.03855321,  0.21920308,\n",
              "           0.14416517, -0.5619612 ,  0.0184448 ,  0.14047241,\n",
              "          -0.14590348,  0.09094225, -0.3797423 , -0.3496814 ,\n",
              "           0.00863103,  0.59586483,  0.0948912 ,  0.26198685,\n",
              "           0.05427447, -0.22713687, -0.9830196 ,  0.04270807]],\n",
              "\n",
              "        [[ 0.40582007, -0.09325828, -0.17274898, -0.25244635,\n",
              "           0.3045423 ,  0.29657277, -0.03488227,  0.19272156,\n",
              "          -0.09972347,  0.25308785,  0.29430398, -1.1335413 ,\n",
              "           0.3084152 , -0.10666272, -0.05267935,  0.33715233,\n",
              "          -0.05319119,  0.5154258 ,  0.1038838 ,  0.2172864 ,\n",
              "          -0.10651981,  0.39223474,  0.49918067,  0.08427937,\n",
              "           0.5278837 , -0.0087872 ,  0.32007867,  0.30499107,\n",
              "           0.25452214,  0.22777693, -0.5728394 ,  0.41079006]],\n",
              "\n",
              "        [[ 0.36903763, -0.13325642,  0.19948047,  0.18637587,\n",
              "          -0.6884019 ,  0.34255   ,  0.08041102,  0.3317481 ,\n",
              "           0.4987335 , -0.5034919 , -0.8532988 , -0.8034655 ,\n",
              "           0.1360496 , -0.78682935, -0.28807342, -0.17360547,\n",
              "          -0.47780976,  0.12257451,  0.1587859 , -0.33381814,\n",
              "          -0.04662279,  0.10198528, -0.2389326 ,  0.39415815,\n",
              "          -0.043581  , -1.1386775 ,  0.4378035 ,  0.33212206,\n",
              "          -0.480303  ,  0.26172212,  0.53135216, -0.40678856]]],\n",
              "\n",
              "\n",
              "       [[[ 0.13101411, -0.09578654, -0.00463269,  0.22294101,\n",
              "          -0.7444818 , -0.38356107, -0.65460616, -0.3279116 ,\n",
              "          -0.37396106, -0.10855856,  0.4971588 , -0.6773623 ,\n",
              "           0.1088071 ,  0.3330187 , -0.06577063, -0.41201073,\n",
              "           0.06231814, -0.13804369,  0.5639851 ,  0.23890628,\n",
              "           0.52933663,  0.1094283 , -0.43043146, -0.8699267 ,\n",
              "          -1.1822027 ,  0.91924006, -0.54708266, -0.5026484 ,\n",
              "          -0.38071215, -0.51463425, -0.34681615,  0.426026  ]],\n",
              "\n",
              "        [[ 0.3120548 , -0.00249211,  0.1898904 ,  0.15237589,\n",
              "          -0.8312588 ,  0.12504914, -0.37941313,  0.44053155,\n",
              "          -0.26123556,  0.2875317 ,  0.03972558,  0.5073448 ,\n",
              "          -0.25705174, -0.97132915,  0.15196955,  0.221401  ,\n",
              "           0.05775132,  0.39552534,  0.35677016, -0.19109294,\n",
              "           0.5618796 ,  0.17905666,  0.33570713, -0.89737964,\n",
              "          -0.63599664,  0.65407395, -0.6003787 , -0.19320503,\n",
              "           0.30783653, -0.29116005, -0.6253821 ,  0.16238442]],\n",
              "\n",
              "        [[-0.08998155, -0.0890333 ,  0.15826046,  0.10011043,\n",
              "          -1.1845688 , -0.01299386,  0.21679273,  0.11730578,\n",
              "           0.40492988,  0.10315987, -0.83203536,  0.77954733,\n",
              "          -0.24439369, -0.9468823 ,  0.3945895 ,  0.38971114,\n",
              "           0.20292982, -0.09113636, -0.13267207, -0.0233007 ,\n",
              "           0.37638322, -0.51358384,  0.14299308, -0.686244  ,\n",
              "          -1.1588602 , -0.22739075, -0.28591233,  0.28238747,\n",
              "           0.2978131 ,  0.289964  ,  0.37813944, -0.7407917 ]]]],\n",
              "      dtype=float32)>"
            ]
          },
          "metadata": {},
          "execution_count": 19
        }
      ]
    },
    {
      "cell_type": "code",
      "source": [
        "# 첫번째 레이어 bias 가중치\n",
        "model.layers[0].bias"
      ],
      "metadata": {
        "colab": {
          "base_uri": "https://localhost:8080/"
        },
        "id": "Grzr2vEsxNhC",
        "outputId": "346253c9-ad68-4da5-d7fe-f8e995b9055b"
      },
      "execution_count": 20,
      "outputs": [
        {
          "output_type": "execute_result",
          "data": {
            "text/plain": [
              "<tf.Variable 'conv/bias:0' shape=(32,) dtype=float32, numpy=\n",
              "array([-0.22169752,  0.        , -0.22387472, -0.23547764, -0.00627422,\n",
              "       -0.13574724, -0.19897297, -0.07563835, -0.06812058, -0.22889408,\n",
              "       -0.13895006,  0.07964161, -0.06622268,  0.09643019, -0.38858423,\n",
              "       -0.33375335, -0.2723358 , -0.16304934, -0.02811637, -0.25709856,\n",
              "       -0.01597718, -0.1972587 , -0.1867187 , -0.01359723,  0.01381236,\n",
              "        0.10452874, -0.17505886, -0.2527127 , -0.2592407 , -0.38877133,\n",
              "       -0.05182672, -0.06065455], dtype=float32)>"
            ]
          },
          "metadata": {},
          "execution_count": 20
        }
      ]
    },
    {
      "cell_type": "code",
      "source": [
        "# 레이어 이름 사용하여 레이어 선택\n",
        "model.get_layer('conv')"
      ],
      "metadata": {
        "colab": {
          "base_uri": "https://localhost:8080/"
        },
        "id": "DDHSiT1hxVBp",
        "outputId": "3a492cc0-50a4-4463-e94d-768999e61dae"
      },
      "execution_count": 21,
      "outputs": [
        {
          "output_type": "execute_result",
          "data": {
            "text/plain": [
              "<keras.layers.convolutional.Conv2D at 0x7f976cbe9250>"
            ]
          },
          "metadata": {},
          "execution_count": 21
        }
      ]
    },
    {
      "cell_type": "code",
      "source": [
        "# 샘플 이미지의 레이어별 출력을 리스트에 추가 (첫번째, 두번째 레이어)\n",
        "activator = tf.keras.Model(inputs=model.input, \n",
        "                           outputs=[layer.output for layer in model.layers[:2]] ) \n",
        "activations = activator.predict(x_train_in[0][tf.newaxis, ...]) \n",
        "\n",
        "len(activations)"
      ],
      "metadata": {
        "colab": {
          "base_uri": "https://localhost:8080/"
        },
        "id": "nMAWE_82xW93",
        "outputId": "d8f42ceb-46fc-4d32-925d-71e0433d5abc"
      },
      "execution_count": 22,
      "outputs": [
        {
          "output_type": "execute_result",
          "data": {
            "text/plain": [
              "2"
            ]
          },
          "metadata": {},
          "execution_count": 22
        }
      ]
    },
    {
      "cell_type": "code",
      "source": [
        "# 첫 번째 레이어(conv) 출력층 \n",
        "conv_activation = activations[0]\n",
        "conv_activation.shape"
      ],
      "metadata": {
        "colab": {
          "base_uri": "https://localhost:8080/"
        },
        "id": "_ZiqiVysxb7H",
        "outputId": "12253fa8-6f08-49be-e7bd-b64653f57cbe"
      },
      "execution_count": 23,
      "outputs": [
        {
          "output_type": "execute_result",
          "data": {
            "text/plain": [
              "(1, 26, 26, 32)"
            ]
          },
          "metadata": {},
          "execution_count": 23
        }
      ]
    },
    {
      "cell_type": "code",
      "source": [
        "# Convolution 시각화\n",
        "fig, axes = plt.subplots(4, 8)\n",
        "fig.set_size_inches(10, 5)\n",
        "\n",
        "for i in range(32):\n",
        "    axes[i//8, i%8].matshow(conv_activation[0, :, :, i], cmap='viridis')\n",
        "    axes[i//8, i%8].set_title('kernel %s'%str(i), fontsize=10)\n",
        "    plt.setp( axes[i//8, i%8].get_xticklabels(), visible=False)\n",
        "    plt.setp( axes[i//8, i%8].get_yticklabels(), visible=False)\n",
        "\n",
        "plt.tight_layout()\n",
        "plt.show()"
      ],
      "metadata": {
        "colab": {
          "base_uri": "https://localhost:8080/",
          "height": 344
        },
        "id": "HwtjcKQdxdpi",
        "outputId": "18de55da-430c-4172-d716-96f43a0f4a70"
      },
      "execution_count": 24,
      "outputs": [
        {
          "output_type": "display_data",
          "data": {
            "text/plain": [
              "<Figure size 720x360 with 32 Axes>"
            ],
            "image/png": "[encoded data removed]"
          },
          "metadata": {}
        }
      ]
    },
    {
      "cell_type": "code",
      "source": [
        "# 두 번째 레이어(pool) 출력층 \n",
        "pooling_activation = activations[1]\n",
        "print(pooling_activation.shape)"
      ],
      "metadata": {
        "colab": {
          "base_uri": "https://localhost:8080/"
        },
        "id": "oA-p34Nqxfp_",
        "outputId": "d33124ae-922a-4cbd-ece0-895b396cd224"
      },
      "execution_count": 25,
      "outputs": [
        {
          "output_type": "stream",
          "name": "stdout",
          "text": [
            "(1, 13, 13, 32)\n"
          ]
        }
      ]
    },
    {
      "cell_type": "code",
      "source": [
        "# 시각화\n",
        "fig, axes = plt.subplots(4, 8)\n",
        "fig.set_size_inches(10, 5)\n",
        "\n",
        "for i in range(32):\n",
        "    axes[i//8, i%8].matshow(pooling_activation[0, :, :, i], cmap='viridis')\n",
        "    axes[i//8, i%8].set_title('kernel %s'%str(i), fontsize=10)\n",
        "    plt.setp( axes[i//8, i%8].get_xticklabels(), visible=False)\n",
        "    plt.setp( axes[i//8, i%8].get_yticklabels(), visible=False)\n",
        "\n",
        "plt.tight_layout()\n",
        "plt.show()"
      ],
      "metadata": {
        "colab": {
          "base_uri": "https://localhost:8080/",
          "height": 344
        },
        "id": "AjboNWxfxhMO",
        "outputId": "da63163f-4faa-4e94-f191-7e4d738f6a76"
      },
      "execution_count": 26,
      "outputs": [
        {
          "output_type": "display_data",
          "data": {
            "text/plain": [
              "<Figure size 720x360 with 32 Axes>"
            ],
            "image/png": "[encoded data removed]"
          },
          "metadata": {}
        }
      ]
    },
    {
      "cell_type": "markdown",
      "source": [
        "### 3.3 복잡한 모델 생성 : Functional API"
      ],
      "metadata": {
        "id": "Aac56mmYvB9_"
      }
    },
    {
      "cell_type": "markdown",
      "source": [
        "#### 1) 데이터셋 준비"
      ],
      "metadata": {
        "id": "rX11FyybxqaJ"
      }
    },
    {
      "cell_type": "code",
      "source": [
        "import tensorflow as tf\n",
        "import numpy as np"
      ],
      "metadata": {
        "id": "iy27wdo6vETg"
      },
      "execution_count": 27,
      "outputs": []
    },
    {
      "cell_type": "code",
      "source": [
        "# MNIST 손글씨 이미지 데이터 로드\n",
        "mnist = tf.keras.datasets.mnist\n",
        "(x_train, y_train), (x_valid, y_valid) = mnist.load_data()\n",
        "\n",
        "print(x_train.shape, y_train.shape)\n",
        "print(x_valid.shape, y_valid.shape)"
      ],
      "metadata": {
        "colab": {
          "base_uri": "https://localhost:8080/"
        },
        "id": "HeURhU_wxtCG",
        "outputId": "8a26fd9a-fb90-42f6-86f0-12e95263e461"
      },
      "execution_count": 28,
      "outputs": [
        {
          "output_type": "stream",
          "name": "stdout",
          "text": [
            "(60000, 28, 28) (60000,)\n",
            "(10000, 28, 28) (10000,)\n"
          ]
        }
      ]
    },
    {
      "cell_type": "code",
      "source": [
        "# 새로운 출력값 배열을 생성 (홀수: 1, 짝수: 0)\n",
        "y_train_odd = []\n",
        "for y in y_train:\n",
        "    if y % 2==0:\n",
        "        y_train_odd.append(0)\n",
        "    else:\n",
        "        y_train_odd.append(1)\n",
        "\n",
        "y_train_odd = np.array(y_train_odd)\n",
        "y_train_odd.shape"
      ],
      "metadata": {
        "colab": {
          "base_uri": "https://localhost:8080/"
        },
        "id": "8yS5FbsHxt0S",
        "outputId": "92694f59-4283-4efa-a693-d6e67e15ff33"
      },
      "execution_count": 29,
      "outputs": [
        {
          "output_type": "execute_result",
          "data": {
            "text/plain": [
              "(60000,)"
            ]
          },
          "metadata": {},
          "execution_count": 29
        }
      ]
    },
    {
      "cell_type": "code",
      "source": [
        "print(y_train[:10])\n",
        "print(y_train_odd[:10])"
      ],
      "metadata": {
        "colab": {
          "base_uri": "https://localhost:8080/"
        },
        "id": "9s762011x6Ns",
        "outputId": "c737b755-a21a-4923-db59-e0c346fe507c"
      },
      "execution_count": 31,
      "outputs": [
        {
          "output_type": "stream",
          "name": "stdout",
          "text": [
            "[5 0 4 1 9 2 1 3 1 4]\n",
            "[1 0 0 1 1 0 1 1 1 0]\n"
          ]
        }
      ]
    },
    {
      "cell_type": "code",
      "source": [
        "# Validation 데이터셋 처리\n",
        "y_valid_odd = []\n",
        "for y in y_valid:\n",
        "    if y % 2==0:\n",
        "        y_valid_odd.append(0)\n",
        "    else:\n",
        "        y_valid_odd.append(1)\n",
        "\n",
        "y_valid_odd = np.array(y_valid_odd)\n",
        "y_valid_odd.shape"
      ],
      "metadata": {
        "colab": {
          "base_uri": "https://localhost:8080/"
        },
        "id": "M10MPwZ-xxMJ",
        "outputId": "d6243bdd-998d-451b-9ff1-9b46ab06806f"
      },
      "execution_count": 30,
      "outputs": [
        {
          "output_type": "execute_result",
          "data": {
            "text/plain": [
              "(10000,)"
            ]
          },
          "metadata": {},
          "execution_count": 30
        }
      ]
    },
    {
      "cell_type": "code",
      "source": [
        "# 정규화(Normalization)\n",
        "x_train = x_train / 255.0\n",
        "x_valid = x_valid / 255.0\n",
        "\n",
        "# 채널 추가\n",
        "x_train_in = tf.expand_dims(x_train, -1)\n",
        "x_valid_in = tf.expand_dims(x_valid, -1)\n",
        "\n",
        "print(x_train_in.shape, x_valid_in.shape)"
      ],
      "metadata": {
        "colab": {
          "base_uri": "https://localhost:8080/"
        },
        "id": "3cmQRIbLx1Gv",
        "outputId": "b1108f05-2522-4f0c-c92c-b9e79b359b1e"
      },
      "execution_count": 32,
      "outputs": [
        {
          "output_type": "stream",
          "name": "stdout",
          "text": [
            "(60000, 28, 28, 1) (10000, 28, 28, 1)\n"
          ]
        }
      ]
    },
    {
      "cell_type": "markdown",
      "source": [
        "#### 2) Functional API로 다중 입력, 다중 출력 레이어 생성"
      ],
      "metadata": {
        "id": "cT6d7-uyx-0D"
      }
    },
    {
      "cell_type": "code",
      "source": [
        "# Functional API를 사용하여 모델 생성\n",
        "\n",
        "inputs = tf.keras.layers.Input(shape=(28, 28, 1))\n",
        "\n",
        "conv = tf.keras.layers.Conv2D(32, (3, 3), activation='relu')(inputs) #1st출력\n",
        "pool = tf.keras.layers.MaxPooling2D((2, 2))(conv)\n",
        "flat = tf.keras.layers.Flatten()(pool)\n",
        "\n",
        "flat_inputs = tf.keras.layers.Flatten()(inputs) #2nd출력\n",
        "concat = tf.keras.layers.Concatenate()([flat, flat_inputs]) #두 출력 합쳐지기\n",
        "outputs = tf.keras.layers.Dense(10, activation='softmax')(concat)\n",
        "\n",
        "model = tf.keras.models.Model(inputs=inputs, outputs=outputs)\n",
        "\n",
        "model.summary()"
      ],
      "metadata": {
        "colab": {
          "base_uri": "https://localhost:8080/"
        },
        "id": "3Cuj2vaIx9V4",
        "outputId": "c583a6ec-9e08-4ab6-f093-3a808aa8947a"
      },
      "execution_count": 33,
      "outputs": [
        {
          "output_type": "stream",
          "name": "stdout",
          "text": [
            "Model: \"model_1\"\n",
            "__________________________________________________________________________________________________\n",
            " Layer (type)                   Output Shape         Param #     Connected to                     \n",
            "==================================================================================================\n",
            " input_1 (InputLayer)           [(None, 28, 28, 1)]  0           []                               \n",
            "                                                                                                  \n",
            " conv2d (Conv2D)                (None, 26, 26, 32)   320         ['input_1[0][0]']                \n",
            "                                                                                                  \n",
            " max_pooling2d (MaxPooling2D)   (None, 13, 13, 32)   0           ['conv2d[0][0]']                 \n",
            "                                                                                                  \n",
            " flatten_1 (Flatten)            (None, 5408)         0           ['max_pooling2d[0][0]']          \n",
            "                                                                                                  \n",
            " flatten_2 (Flatten)            (None, 784)          0           ['input_1[0][0]']                \n",
            "                                                                                                  \n",
            " concatenate (Concatenate)      (None, 6192)         0           ['flatten_1[0][0]',              \n",
            "                                                                  'flatten_2[0][0]']              \n",
            "                                                                                                  \n",
            " dense_1 (Dense)                (None, 10)           61930       ['concatenate[0][0]']            \n",
            "                                                                                                  \n",
            "==================================================================================================\n",
            "Total params: 62,250\n",
            "Trainable params: 62,250\n",
            "Non-trainable params: 0\n",
            "__________________________________________________________________________________________________\n"
          ]
        }
      ]
    },
    {
      "cell_type": "code",
      "source": [
        "# 모델 구조 출력 및 이미지 파일로 저장\n",
        "from keras.utils.vis_utils import plot_model\n",
        "plot_model(model, show_shapes=True, show_layer_names=True, to_file='functional_cnn.png')"
      ],
      "metadata": {
        "colab": {
          "base_uri": "https://localhost:8080/",
          "height": 410
        },
        "id": "lr2Xjnjo1E2h",
        "outputId": "adce8744-f5bc-42d6-f04e-38ee409a503f"
      },
      "execution_count": 36,
      "outputs": [
        {
          "output_type": "execute_result",
          "data": {
            "text/plain": [
              "<IPython.core.display.Image object>"
            ],
            "image/png": "[encoded data removed]"
          },
          "metadata": {},
          "execution_count": 36
        }
      ]
    },
    {
      "cell_type": "code",
      "source": [
        "# 모델 컴파일\n",
        "model.compile(optimizer='adam', loss='sparse_categorical_crossentropy', metrics=['accuracy'])\n",
        "\n",
        "# 모델 훈련\n",
        "history = model.fit(x_train_in, y_train, \n",
        "                    validation_data=(x_valid_in, y_valid), \n",
        "                    epochs=10)\n",
        "\n",
        "# 모델 성능\n",
        "val_loss, val_acc = model.evaluate(x_valid_in, y_valid)\n",
        "print(val_loss, val_acc)"
      ],
      "metadata": {
        "colab": {
          "base_uri": "https://localhost:8080/"
        },
        "id": "SQr09K-d1HAb",
        "outputId": "8beac118-5141-45f1-a802-44a0c207648a"
      },
      "execution_count": 37,
      "outputs": [
        {
          "output_type": "stream",
          "name": "stdout",
          "text": [
            "Epoch 1/10\n",
            "1875/1875 [==============================] - 21s 11ms/step - loss: 0.1924 - accuracy: 0.9460 - val_loss: 0.0786 - val_accuracy: 0.9769\n",
            "Epoch 2/10\n",
            "1875/1875 [==============================] - 19s 10ms/step - loss: 0.0739 - accuracy: 0.9781 - val_loss: 0.0643 - val_accuracy: 0.9810\n",
            "Epoch 3/10\n",
            "1875/1875 [==============================] - 21s 11ms/step - loss: 0.0582 - accuracy: 0.9826 - val_loss: 0.0644 - val_accuracy: 0.9783\n",
            "Epoch 4/10\n",
            "1875/1875 [==============================] - 20s 11ms/step - loss: 0.0473 - accuracy: 0.9858 - val_loss: 0.0574 - val_accuracy: 0.9814\n",
            "Epoch 5/10\n",
            "1875/1875 [==============================] - 20s 11ms/step - loss: 0.0396 - accuracy: 0.9882 - val_loss: 0.0549 - val_accuracy: 0.9826\n",
            "Epoch 6/10\n",
            "1875/1875 [==============================] - 23s 12ms/step - loss: 0.0333 - accuracy: 0.9895 - val_loss: 0.0594 - val_accuracy: 0.9827\n",
            "Epoch 7/10\n",
            "1875/1875 [==============================] - 22s 12ms/step - loss: 0.0282 - accuracy: 0.9911 - val_loss: 0.0632 - val_accuracy: 0.9803\n",
            "Epoch 8/10\n",
            "1875/1875 [==============================] - 20s 11ms/step - loss: 0.0237 - accuracy: 0.9926 - val_loss: 0.0592 - val_accuracy: 0.9817\n",
            "Epoch 9/10\n",
            "1875/1875 [==============================] - 20s 10ms/step - loss: 0.0210 - accuracy: 0.9934 - val_loss: 0.0585 - val_accuracy: 0.9817\n",
            "Epoch 10/10\n",
            "1875/1875 [==============================] - 20s 10ms/step - loss: 0.0171 - accuracy: 0.9948 - val_loss: 0.0633 - val_accuracy: 0.9821\n",
            "313/313 [==============================] - 1s 4ms/step - loss: 0.0633 - accuracy: 0.9821\n",
            "0.06330125778913498 0.9821000099182129\n"
          ]
        }
      ]
    },
    {
      "cell_type": "markdown",
      "source": [
        "#### 3) 다중 출력 분류 모델\n",
        "\n",
        "- 출력 1 : 0 ~ 9 까지 숫자 예측\n",
        "- 출력 2: 각 숫자가 홀수인지 짝수인지 예측"
      ],
      "metadata": {
        "id": "cvZ4v5C12H_4"
      }
    },
    {
      "cell_type": "code",
      "source": [
        "# Functional API를 사용하여 모델 생성\n",
        "\n",
        "inputs = tf.keras.layers.Input(shape=(28, 28, 1), name='inputs')\n",
        "\n",
        "conv = tf.keras.layers.Conv2D(32, (3, 3), activation='relu', name='conv2d_layer')(inputs)\n",
        "pool = tf.keras.layers.MaxPooling2D((2, 2), name='maxpool_layer')(conv)\n",
        "flat = tf.keras.layers.Flatten(name='flatten_layer')(pool)\n",
        "\n",
        "flat_inputs = tf.keras.layers.Flatten()(inputs)\n",
        "concat = tf.keras.layers.Concatenate()([flat, flat_inputs])\n",
        "digit_outputs = tf.keras.layers.Dense(10, activation='softmax', name='digit_dense')(concat)\n",
        "\n",
        "odd_outputs = tf.keras.layers.Dense(1, activation='sigmoid', name='odd_dense')(flat_inputs)\n",
        "\n",
        "model = tf.keras.models.Model(inputs=inputs, outputs=[digit_outputs, odd_outputs])\n",
        "\n",
        "model.summary()"
      ],
      "metadata": {
        "colab": {
          "base_uri": "https://localhost:8080/"
        },
        "id": "2Vf6jiZy2EYG",
        "outputId": "0a6239d1-f83e-4b9a-af33-31201aa3aa7b"
      },
      "execution_count": 38,
      "outputs": [
        {
          "output_type": "stream",
          "name": "stdout",
          "text": [
            "Model: \"model_2\"\n",
            "__________________________________________________________________________________________________\n",
            " Layer (type)                   Output Shape         Param #     Connected to                     \n",
            "==================================================================================================\n",
            " inputs (InputLayer)            [(None, 28, 28, 1)]  0           []                               \n",
            "                                                                                                  \n",
            " conv2d_layer (Conv2D)          (None, 26, 26, 32)   320         ['inputs[0][0]']                 \n",
            "                                                                                                  \n",
            " maxpool_layer (MaxPooling2D)   (None, 13, 13, 32)   0           ['conv2d_layer[0][0]']           \n",
            "                                                                                                  \n",
            " flatten_layer (Flatten)        (None, 5408)         0           ['maxpool_layer[0][0]']          \n",
            "                                                                                                  \n",
            " flatten_3 (Flatten)            (None, 784)          0           ['inputs[0][0]']                 \n",
            "                                                                                                  \n",
            " concatenate_1 (Concatenate)    (None, 6192)         0           ['flatten_layer[0][0]',          \n",
            "                                                                  'flatten_3[0][0]']              \n",
            "                                                                                                  \n",
            " digit_dense (Dense)            (None, 10)           61930       ['concatenate_1[0][0]']          \n",
            "                                                                                                  \n",
            " odd_dense (Dense)              (None, 1)            785         ['flatten_3[0][0]']              \n",
            "                                                                                                  \n",
            "==================================================================================================\n",
            "Total params: 63,035\n",
            "Trainable params: 63,035\n",
            "Non-trainable params: 0\n",
            "__________________________________________________________________________________________________\n"
          ]
        }
      ]
    },
    {
      "cell_type": "code",
      "source": [
        "# 모델의 입력과 출력을 나타내는 텐서\n",
        "print(model.input)\n",
        "print(model.output)"
      ],
      "metadata": {
        "colab": {
          "base_uri": "https://localhost:8080/"
        },
        "id": "jjkWmnUE2RxS",
        "outputId": "5cdf43e8-a805-499a-dad8-6e73adcd6375"
      },
      "execution_count": 39,
      "outputs": [
        {
          "output_type": "stream",
          "name": "stdout",
          "text": [
            "KerasTensor(type_spec=TensorSpec(shape=(None, 28, 28, 1), dtype=tf.float32, name='inputs'), name='inputs', description=\"created by layer 'inputs'\")\n",
            "[<KerasTensor: shape=(None, 10) dtype=float32 (created by layer 'digit_dense')>, <KerasTensor: shape=(None, 1) dtype=float32 (created by layer 'odd_dense')>]\n"
          ]
        }
      ]
    },
    {
      "cell_type": "code",
      "source": [
        "plot_model(model, show_shapes=True, show_layer_names=True, to_file='multi_output_cnn.png')"
      ],
      "metadata": {
        "colab": {
          "base_uri": "https://localhost:8080/",
          "height": 409
        },
        "id": "fZgxX_k42Tg7",
        "outputId": "32c432ed-c640-48c1-ea22-268f005d3e59"
      },
      "execution_count": 40,
      "outputs": [
        {
          "output_type": "execute_result",
          "data": {
            "text/plain": [
              "<IPython.core.display.Image object>"
            ],
            "image/png": "[encoded data removed]"
          },
          "metadata": {},
          "execution_count": 40
        }
      ]
    },
    {
      "cell_type": "code",
      "source": [
        "# 모델 컴파일\n",
        "model.compile(optimizer='adam', \n",
        "              loss={'digit_dense': 'sparse_categorical_crossentropy', 'odd_dense': 'binary_crossentropy'}, \n",
        "              loss_weights={'digit_dense': 1, 'odd_dense': 0.5}, # loss = 1.0 *sparse_categorical_crossentropy + 0.5*binary_crossentropy\n",
        "              metrics=['accuracy'])\n",
        "\n",
        "# 모델 훈련\n",
        "history = model.fit({'inputs': x_train_in}, {'digit_dense': y_train, 'odd_dense': y_train_odd}, \n",
        "                    validation_data=({'inputs': x_valid_in},  {'digit_dense': y_valid, 'odd_dense': y_valid_odd}), \n",
        "                    epochs=10)"
      ],
      "metadata": {
        "colab": {
          "base_uri": "https://localhost:8080/"
        },
        "id": "cd5I0BoM2V5y",
        "outputId": "acef8555-46c6-449f-dbf5-b377aa045d18"
      },
      "execution_count": 41,
      "outputs": [
        {
          "output_type": "stream",
          "name": "stdout",
          "text": [
            "Epoch 1/10\n",
            "1875/1875 [==============================] - 21s 11ms/step - loss: 0.3571 - digit_dense_loss: 0.1920 - odd_dense_loss: 0.3303 - digit_dense_accuracy: 0.9463 - odd_dense_accuracy: 0.8608 - val_loss: 0.2330 - val_digit_dense_loss: 0.0936 - val_odd_dense_loss: 0.2787 - val_digit_dense_accuracy: 0.9721 - val_odd_dense_accuracy: 0.8897\n",
            "Epoch 2/10\n",
            "1875/1875 [==============================] - 21s 11ms/step - loss: 0.2086 - digit_dense_loss: 0.0724 - odd_dense_loss: 0.2724 - digit_dense_accuracy: 0.9788 - odd_dense_accuracy: 0.8909 - val_loss: 0.1910 - val_digit_dense_loss: 0.0598 - val_odd_dense_loss: 0.2625 - val_digit_dense_accuracy: 0.9803 - val_odd_dense_accuracy: 0.8981\n",
            "Epoch 3/10\n",
            "1875/1875 [==============================] - 21s 11ms/step - loss: 0.1865 - digit_dense_loss: 0.0550 - odd_dense_loss: 0.2631 - digit_dense_accuracy: 0.9830 - odd_dense_accuracy: 0.8946 - val_loss: 0.1928 - val_digit_dense_loss: 0.0628 - val_odd_dense_loss: 0.2600 - val_digit_dense_accuracy: 0.9798 - val_odd_dense_accuracy: 0.8990\n",
            "Epoch 4/10\n",
            "1875/1875 [==============================] - 21s 11ms/step - loss: 0.1750 - digit_dense_loss: 0.0453 - odd_dense_loss: 0.2594 - digit_dense_accuracy: 0.9861 - odd_dense_accuracy: 0.8976 - val_loss: 0.1878 - val_digit_dense_loss: 0.0569 - val_odd_dense_loss: 0.2618 - val_digit_dense_accuracy: 0.9827 - val_odd_dense_accuracy: 0.8966\n",
            "Epoch 5/10\n",
            "1875/1875 [==============================] - 22s 12ms/step - loss: 0.1665 - digit_dense_loss: 0.0380 - odd_dense_loss: 0.2569 - digit_dense_accuracy: 0.9883 - odd_dense_accuracy: 0.8991 - val_loss: 0.1863 - val_digit_dense_loss: 0.0580 - val_odd_dense_loss: 0.2567 - val_digit_dense_accuracy: 0.9810 - val_odd_dense_accuracy: 0.9018\n",
            "Epoch 6/10\n",
            "1875/1875 [==============================] - 22s 12ms/step - loss: 0.1591 - digit_dense_loss: 0.0313 - odd_dense_loss: 0.2557 - digit_dense_accuracy: 0.9899 - odd_dense_accuracy: 0.8995 - val_loss: 0.1850 - val_digit_dense_loss: 0.0567 - val_odd_dense_loss: 0.2566 - val_digit_dense_accuracy: 0.9825 - val_odd_dense_accuracy: 0.9010\n",
            "Epoch 7/10\n",
            "1875/1875 [==============================] - 20s 11ms/step - loss: 0.1539 - digit_dense_loss: 0.0264 - odd_dense_loss: 0.2549 - digit_dense_accuracy: 0.9918 - odd_dense_accuracy: 0.9000 - val_loss: 0.1834 - val_digit_dense_loss: 0.0555 - val_odd_dense_loss: 0.2558 - val_digit_dense_accuracy: 0.9828 - val_odd_dense_accuracy: 0.9011\n",
            "Epoch 8/10\n",
            "1875/1875 [==============================] - 21s 11ms/step - loss: 0.1493 - digit_dense_loss: 0.0222 - odd_dense_loss: 0.2543 - digit_dense_accuracy: 0.9932 - odd_dense_accuracy: 0.9009 - val_loss: 0.1892 - val_digit_dense_loss: 0.0612 - val_odd_dense_loss: 0.2560 - val_digit_dense_accuracy: 0.9818 - val_odd_dense_accuracy: 0.9008\n",
            "Epoch 9/10\n",
            "1875/1875 [==============================] - 20s 11ms/step - loss: 0.1455 - digit_dense_loss: 0.0187 - odd_dense_loss: 0.2536 - digit_dense_accuracy: 0.9940 - odd_dense_accuracy: 0.9013 - val_loss: 0.1872 - val_digit_dense_loss: 0.0593 - val_odd_dense_loss: 0.2558 - val_digit_dense_accuracy: 0.9826 - val_odd_dense_accuracy: 0.9024\n",
            "Epoch 10/10\n",
            "1875/1875 [==============================] - 20s 11ms/step - loss: 0.1424 - digit_dense_loss: 0.0157 - odd_dense_loss: 0.2533 - digit_dense_accuracy: 0.9950 - odd_dense_accuracy: 0.9012 - val_loss: 0.1863 - val_digit_dense_loss: 0.0587 - val_odd_dense_loss: 0.2551 - val_digit_dense_accuracy: 0.9840 - val_odd_dense_accuracy: 0.9022\n"
          ]
        }
      ]
    },
    {
      "cell_type": "code",
      "source": [
        "# 모델 성능\n",
        "model.evaluate({'inputs': x_valid_in}, {'digit_dense': y_valid, 'odd_dense': y_valid_odd})"
      ],
      "metadata": {
        "colab": {
          "base_uri": "https://localhost:8080/"
        },
        "id": "E0cxYDEw2Yyk",
        "outputId": "f6c7e5d1-835b-40cc-a877-0ab8afc67af3"
      },
      "execution_count": 42,
      "outputs": [
        {
          "output_type": "stream",
          "name": "stdout",
          "text": [
            "313/313 [==============================] - 1s 4ms/step - loss: 0.1863 - digit_dense_loss: 0.0587 - odd_dense_loss: 0.2551 - digit_dense_accuracy: 0.9840 - odd_dense_accuracy: 0.9022\n"
          ]
        },
        {
          "output_type": "execute_result",
          "data": {
            "text/plain": [
              "[0.1862504482269287,\n",
              " 0.05869436636567116,\n",
              " 0.25511205196380615,\n",
              " 0.984000027179718,\n",
              " 0.9021999835968018]"
            ]
          },
          "metadata": {},
          "execution_count": 42
        }
      ]
    },
    {
      "cell_type": "code",
      "source": [
        "# 샘플 이미지 출력\n",
        "import matplotlib.pylab as plt\n",
        "\n",
        "def plot_image(data, idx):\n",
        "    plt.figure(figsize=(5, 5))\n",
        "    plt.imshow(data[idx])\n",
        "    plt.axis(\"off\")\n",
        "    plt.show()\n",
        "\n",
        "plot_image(x_valid, 0)"
      ],
      "metadata": {
        "colab": {
          "base_uri": "https://localhost:8080/",
          "height": 303
        },
        "id": "ujXyOaBl2bNh",
        "outputId": "49e380f8-44cd-47a3-80cd-23c85cc5a94f"
      },
      "execution_count": 43,
      "outputs": [
        {
          "output_type": "display_data",
          "data": {
            "text/plain": [
              "<Figure size 360x360 with 1 Axes>"
            ],
            "image/png": "[encoded data removed]"
          },
          "metadata": {
            "needs_background": "light"
          }
        }
      ]
    },
    {
      "cell_type": "code",
      "source": [
        "digit_preds, odd_preds = model.predict(x_valid_in)\n",
        "print(digit_preds[0]) #10개 분류 레이블에 대한 확률\n",
        "print(odd_preds[0]) #홀수일 확률"
      ],
      "metadata": {
        "colab": {
          "base_uri": "https://localhost:8080/"
        },
        "id": "P_C8CTAU2dnR",
        "outputId": "1bc7a9d2-8a44-4ba4-c6cc-b1c6fc5d0e6b"
      },
      "execution_count": 44,
      "outputs": [
        {
          "output_type": "stream",
          "name": "stdout",
          "text": [
            "[2.9883954e-13 9.3947472e-10 5.6243660e-10 2.4097469e-06 3.3520079e-12\n",
            " 6.9600321e-13 4.9535081e-21 9.9999762e-01 1.5041768e-09 1.1245032e-08]\n",
            "[0.99953425]\n"
          ]
        }
      ]
    },
    {
      "cell_type": "code",
      "source": [
        "digit_labels = np.argmax(digit_preds, axis=-1)\n",
        "digit_labels[0:10]"
      ],
      "metadata": {
        "colab": {
          "base_uri": "https://localhost:8080/"
        },
        "id": "jnWEzFvv2li2",
        "outputId": "d25e929f-4f6c-42a1-8d94-b18e864caaad"
      },
      "execution_count": 45,
      "outputs": [
        {
          "output_type": "execute_result",
          "data": {
            "text/plain": [
              "array([7, 2, 1, 0, 4, 1, 4, 9, 5, 9])"
            ]
          },
          "metadata": {},
          "execution_count": 45
        }
      ]
    },
    {
      "cell_type": "code",
      "source": [
        "odd_labels = (odd_preds > 0.5).astype(np.int).reshape(1, -1)[0]\n",
        "odd_labels[0:10]"
      ],
      "metadata": {
        "colab": {
          "base_uri": "https://localhost:8080/"
        },
        "id": "zjksGpmf2n2u",
        "outputId": "e4dce5ac-50cb-495b-cb76-71d1ee9fa7b5"
      },
      "execution_count": 46,
      "outputs": [
        {
          "output_type": "stream",
          "name": "stderr",
          "text": [
            "/usr/local/lib/python3.7/dist-packages/ipykernel_launcher.py:1: DeprecationWarning: `np.int` is a deprecated alias for the builtin `int`. To silence this warning, use `int` by itself. Doing this will not modify any behavior and is safe. When replacing `np.int`, you may wish to use e.g. `np.int64` or `np.int32` to specify the precision. If you wish to review your current use, check the release note link for additional information.\n",
            "Deprecated in NumPy 1.20; for more details and guidance: https://numpy.org/devdocs/release/1.20.0-notes.html#deprecations\n",
            "  \"\"\"Entry point for launching an IPython kernel.\n"
          ]
        },
        {
          "output_type": "execute_result",
          "data": {
            "text/plain": [
              "array([1, 0, 1, 0, 0, 1, 0, 1, 0, 1])"
            ]
          },
          "metadata": {},
          "execution_count": 46
        }
      ]
    },
    {
      "cell_type": "markdown",
      "source": [
        "#### 4) 전이 학습(Transfer Learning)\n",
        "\n",
        ": 기존에 학습된 모델을 활용해 새로운 모델을 만들어내기 (by 최종 출력층만 새롭게 추가)"
      ],
      "metadata": {
        "id": "EMEb_0Pf2opE"
      }
    },
    {
      "cell_type": "code",
      "source": [
        "# 앞의 모델에서 flatten_layer 출력을 추출\n",
        "base_model_output = model.get_layer('flatten_layer').output\n",
        "\n",
        "# 앞의 출력을 출력으로 하는 모델 정의\n",
        "base_model = tf.keras.models.Model(inputs=model.input, outputs=base_model_output, name='base')\n",
        "base_model.summary()"
      ],
      "metadata": {
        "colab": {
          "base_uri": "https://localhost:8080/"
        },
        "id": "6i7vEAPJ22rN",
        "outputId": "55b78cd6-43d9-451f-cc17-e7699cec4c13"
      },
      "execution_count": 47,
      "outputs": [
        {
          "output_type": "stream",
          "name": "stdout",
          "text": [
            "Model: \"base\"\n",
            "_________________________________________________________________\n",
            " Layer (type)                Output Shape              Param #   \n",
            "=================================================================\n",
            " inputs (InputLayer)         [(None, 28, 28, 1)]       0         \n",
            "                                                                 \n",
            " conv2d_layer (Conv2D)       (None, 26, 26, 32)        320       \n",
            "                                                                 \n",
            " maxpool_layer (MaxPooling2D  (None, 13, 13, 32)       0         \n",
            " )                                                               \n",
            "                                                                 \n",
            " flatten_layer (Flatten)     (None, 5408)              0         \n",
            "                                                                 \n",
            "=================================================================\n",
            "Total params: 320\n",
            "Trainable params: 320\n",
            "Non-trainable params: 0\n",
            "_________________________________________________________________\n"
          ]
        }
      ]
    },
    {
      "cell_type": "code",
      "source": [
        "plot_model(base_model, show_shapes=True, show_layer_names=True, to_file='base_model.png')"
      ],
      "metadata": {
        "colab": {
          "base_uri": "https://localhost:8080/",
          "height": 422
        },
        "id": "4A0b9STs24xj",
        "outputId": "d2834521-739a-45ef-fb72-45c1b78ac2a6"
      },
      "execution_count": 48,
      "outputs": [
        {
          "output_type": "execute_result",
          "data": {
            "text/plain": [
              "<IPython.core.display.Image object>"
            ],
            "image/png": "[encoded data removed]"
          },
          "metadata": {},
          "execution_count": 48
        }
      ]
    },
    {
      "cell_type": "code",
      "source": [
        "# Sequential API 적용\n",
        "digit_model = tf.keras.Sequential([\n",
        "                                   base_model,\n",
        "                                   tf.keras.layers.Dense(10, activation='softmax'),\n",
        "                                   ])\n",
        "digit_model.summary()"
      ],
      "metadata": {
        "colab": {
          "base_uri": "https://localhost:8080/"
        },
        "id": "vny_NXQY26Vf",
        "outputId": "bd54292a-bfee-4569-c9ab-ab34cf178c7a"
      },
      "execution_count": 49,
      "outputs": [
        {
          "output_type": "stream",
          "name": "stdout",
          "text": [
            "Model: \"sequential_1\"\n",
            "_________________________________________________________________\n",
            " Layer (type)                Output Shape              Param #   \n",
            "=================================================================\n",
            " base (Functional)           (None, 5408)              320       \n",
            "                                                                 \n",
            " dense_2 (Dense)             (None, 10)                54090     \n",
            "                                                                 \n",
            "=================================================================\n",
            "Total params: 54,410\n",
            "Trainable params: 54,410\n",
            "Non-trainable params: 0\n",
            "_________________________________________________________________\n"
          ]
        }
      ]
    },
    {
      "cell_type": "code",
      "source": [
        "plot_model(digit_model, show_shapes=True, show_layer_names=True, to_file='digit_model.png')"
      ],
      "metadata": {
        "colab": {
          "base_uri": "https://localhost:8080/",
          "height": 312
        },
        "id": "ECtPQEkz28gP",
        "outputId": "b2210756-9177-4a3e-a918-88a9a27c04d0"
      },
      "execution_count": 50,
      "outputs": [
        {
          "output_type": "execute_result",
          "data": {
            "text/plain": [
              "<IPython.core.display.Image object>"
            ],
            "image/png": "[encoded data removed]"
          },
          "metadata": {},
          "execution_count": 50
        }
      ]
    },
    {
      "cell_type": "code",
      "source": [
        "# 모델 컴파일\n",
        "digit_model.compile(optimizer='adam', loss='sparse_categorical_crossentropy', metrics=['accuracy'])\n",
        "\n",
        "# 모델 훈련\n",
        "history = digit_model.fit(x_train_in, y_train, \n",
        "                    validation_data=(x_valid_in, y_valid), \n",
        "                    epochs=10)"
      ],
      "metadata": {
        "colab": {
          "base_uri": "https://localhost:8080/"
        },
        "id": "3cXUBt6P3FXr",
        "outputId": "6ba21d97-b032-4a31-a83b-9e64d59b65af"
      },
      "execution_count": 51,
      "outputs": [
        {
          "output_type": "stream",
          "name": "stdout",
          "text": [
            "Epoch 1/10\n",
            "1875/1875 [==============================] - 20s 10ms/step - loss: 0.1254 - accuracy: 0.9656 - val_loss: 0.0621 - val_accuracy: 0.9797\n",
            "Epoch 2/10\n",
            "1875/1875 [==============================] - 19s 10ms/step - loss: 0.0563 - accuracy: 0.9831 - val_loss: 0.0567 - val_accuracy: 0.9818\n",
            "Epoch 3/10\n",
            "1875/1875 [==============================] - 19s 10ms/step - loss: 0.0426 - accuracy: 0.9868 - val_loss: 0.0559 - val_accuracy: 0.9810\n",
            "Epoch 4/10\n",
            "1875/1875 [==============================] - 19s 10ms/step - loss: 0.0342 - accuracy: 0.9893 - val_loss: 0.0540 - val_accuracy: 0.9824\n",
            "Epoch 5/10\n",
            "1875/1875 [==============================] - 19s 10ms/step - loss: 0.0281 - accuracy: 0.9910 - val_loss: 0.0542 - val_accuracy: 0.9822\n",
            "Epoch 6/10\n",
            "1875/1875 [==============================] - 19s 10ms/step - loss: 0.0226 - accuracy: 0.9932 - val_loss: 0.0513 - val_accuracy: 0.9829\n",
            "Epoch 7/10\n",
            "1875/1875 [==============================] - 20s 10ms/step - loss: 0.0187 - accuracy: 0.9941 - val_loss: 0.0544 - val_accuracy: 0.9831\n",
            "Epoch 8/10\n",
            "1875/1875 [==============================] - 19s 10ms/step - loss: 0.0153 - accuracy: 0.9954 - val_loss: 0.0641 - val_accuracy: 0.9812\n",
            "Epoch 9/10\n",
            "1875/1875 [==============================] - 20s 11ms/step - loss: 0.0136 - accuracy: 0.9958 - val_loss: 0.0593 - val_accuracy: 0.9831\n",
            "Epoch 10/10\n",
            "1875/1875 [==============================] - 20s 10ms/step - loss: 0.0109 - accuracy: 0.9969 - val_loss: 0.0574 - val_accuracy: 0.9848\n"
          ]
        }
      ]
    },
    {
      "cell_type": "code",
      "source": [
        "# 베이스 모델의 가중치를 고정 (Freeze Model)\n",
        "\n",
        "base_model_frozen = tf.keras.models.Model(inputs=model.input, outputs=base_model_output, name='base_frozen')\n",
        "base_model_frozen.trainable = False\n",
        "base_model_frozen.summary()"
      ],
      "metadata": {
        "colab": {
          "base_uri": "https://localhost:8080/"
        },
        "id": "O3FsfbEW3Ic2",
        "outputId": "3d04e477-e5c4-49a4-c6b4-36c837f3fc25"
      },
      "execution_count": 52,
      "outputs": [
        {
          "output_type": "stream",
          "name": "stdout",
          "text": [
            "Model: \"base_frozen\"\n",
            "_________________________________________________________________\n",
            " Layer (type)                Output Shape              Param #   \n",
            "=================================================================\n",
            " inputs (InputLayer)         [(None, 28, 28, 1)]       0         \n",
            "                                                                 \n",
            " conv2d_layer (Conv2D)       (None, 26, 26, 32)        320       \n",
            "                                                                 \n",
            " maxpool_layer (MaxPooling2D  (None, 13, 13, 32)       0         \n",
            " )                                                               \n",
            "                                                                 \n",
            " flatten_layer (Flatten)     (None, 5408)              0         \n",
            "                                                                 \n",
            "=================================================================\n",
            "Total params: 320\n",
            "Trainable params: 0\n",
            "Non-trainable params: 320\n",
            "_________________________________________________________________\n"
          ]
        }
      ]
    },
    {
      "cell_type": "markdown",
      "source": [
        "Flatten 레이어 이전의 Conv2D 레이어의 파라미터는 훈련에 포함시킬 수 없음"
      ],
      "metadata": {
        "id": "tNg4I_bz3Q2s"
      }
    },
    {
      "cell_type": "code",
      "source": [
        "# Functional API 적용\n",
        "dense_output = tf.keras.layers.Dense(10, activation='softmax')(base_model_frozen.output)\n",
        "digit_model_frozen = tf.keras.models.Model(inputs=base_model_frozen.input, outputs=dense_output)\n",
        "digit_model_frozen.summary()"
      ],
      "metadata": {
        "colab": {
          "base_uri": "https://localhost:8080/"
        },
        "id": "Gl7TvUYF3Xyl",
        "outputId": "bd1d335d-f6af-4eaa-c052-129d47d96f97"
      },
      "execution_count": 53,
      "outputs": [
        {
          "output_type": "stream",
          "name": "stdout",
          "text": [
            "Model: \"model_3\"\n",
            "_________________________________________________________________\n",
            " Layer (type)                Output Shape              Param #   \n",
            "=================================================================\n",
            " inputs (InputLayer)         [(None, 28, 28, 1)]       0         \n",
            "                                                                 \n",
            " conv2d_layer (Conv2D)       (None, 26, 26, 32)        320       \n",
            "                                                                 \n",
            " maxpool_layer (MaxPooling2D  (None, 13, 13, 32)       0         \n",
            " )                                                               \n",
            "                                                                 \n",
            " flatten_layer (Flatten)     (None, 5408)              0         \n",
            "                                                                 \n",
            " dense_3 (Dense)             (None, 10)                54090     \n",
            "                                                                 \n",
            "=================================================================\n",
            "Total params: 54,410\n",
            "Trainable params: 54,090\n",
            "Non-trainable params: 320\n",
            "_________________________________________________________________\n"
          ]
        }
      ]
    },
    {
      "cell_type": "code",
      "source": [
        "# 모델 컴파일\n",
        "digit_model_frozen.compile(optimizer='adam', loss='sparse_categorical_crossentropy', metrics=['accuracy'])\n",
        "\n",
        "# 모델 훈련\n",
        "history = digit_model_frozen.fit(x_train_in, y_train, \n",
        "                    validation_data=(x_valid_in, y_valid), \n",
        "                    epochs=10)"
      ],
      "metadata": {
        "colab": {
          "base_uri": "https://localhost:8080/"
        },
        "id": "WmdqV7_D3ZAr",
        "outputId": "79bffe03-8e52-4bfe-8783-b838cb618610"
      },
      "execution_count": 54,
      "outputs": [
        {
          "output_type": "stream",
          "name": "stdout",
          "text": [
            "Epoch 1/10\n",
            "1875/1875 [==============================] - 10s 5ms/step - loss: 0.1140 - accuracy: 0.9692 - val_loss: 0.0587 - val_accuracy: 0.9816\n",
            "Epoch 2/10\n",
            "1875/1875 [==============================] - 10s 5ms/step - loss: 0.0475 - accuracy: 0.9860 - val_loss: 0.0512 - val_accuracy: 0.9842\n",
            "Epoch 3/10\n",
            "1875/1875 [==============================] - 10s 5ms/step - loss: 0.0346 - accuracy: 0.9895 - val_loss: 0.0520 - val_accuracy: 0.9835\n",
            "Epoch 4/10\n",
            "1875/1875 [==============================] - 10s 5ms/step - loss: 0.0264 - accuracy: 0.9919 - val_loss: 0.0534 - val_accuracy: 0.9832\n",
            "Epoch 5/10\n",
            "1875/1875 [==============================] - 10s 5ms/step - loss: 0.0214 - accuracy: 0.9937 - val_loss: 0.0511 - val_accuracy: 0.9850\n",
            "Epoch 6/10\n",
            "1875/1875 [==============================] - 9s 5ms/step - loss: 0.0168 - accuracy: 0.9951 - val_loss: 0.0542 - val_accuracy: 0.9840\n",
            "Epoch 7/10\n",
            "1875/1875 [==============================] - 10s 5ms/step - loss: 0.0139 - accuracy: 0.9957 - val_loss: 0.0541 - val_accuracy: 0.9833\n",
            "Epoch 8/10\n",
            "1875/1875 [==============================] - 10s 5ms/step - loss: 0.0117 - accuracy: 0.9966 - val_loss: 0.0622 - val_accuracy: 0.9814\n",
            "Epoch 9/10\n",
            "1875/1875 [==============================] - 10s 5ms/step - loss: 0.0096 - accuracy: 0.9974 - val_loss: 0.0603 - val_accuracy: 0.9835\n",
            "Epoch 10/10\n",
            "1875/1875 [==============================] - 10s 5ms/step - loss: 0.0080 - accuracy: 0.9979 - val_loss: 0.0626 - val_accuracy: 0.9840\n"
          ]
        }
      ]
    },
    {
      "cell_type": "code",
      "source": [
        "# 베이스 모델의 Conv2D 레이어의 가중치만 고정 (Freeze Layer)\n",
        "base_model_frozen2 = tf.keras.models.Model(inputs=model.input, outputs=base_model_output, name='base_frozen2')\n",
        "base_model_frozen2.get_layer('conv2d_layer').trainable = False\n",
        "base_model_frozen2.summary()"
      ],
      "metadata": {
        "colab": {
          "base_uri": "https://localhost:8080/"
        },
        "id": "qSvRft5y3bRD",
        "outputId": "627a4249-7d0d-44e6-bb37-359d8c770698"
      },
      "execution_count": 55,
      "outputs": [
        {
          "output_type": "stream",
          "name": "stdout",
          "text": [
            "Model: \"base_frozen2\"\n",
            "_________________________________________________________________\n",
            " Layer (type)                Output Shape              Param #   \n",
            "=================================================================\n",
            " inputs (InputLayer)         [(None, 28, 28, 1)]       0         \n",
            "                                                                 \n",
            " conv2d_layer (Conv2D)       (None, 26, 26, 32)        320       \n",
            "                                                                 \n",
            " maxpool_layer (MaxPooling2D  (None, 13, 13, 32)       0         \n",
            " )                                                               \n",
            "                                                                 \n",
            " flatten_layer (Flatten)     (None, 5408)              0         \n",
            "                                                                 \n",
            "=================================================================\n",
            "Total params: 320\n",
            "Trainable params: 0\n",
            "Non-trainable params: 320\n",
            "_________________________________________________________________\n"
          ]
        }
      ]
    },
    {
      "cell_type": "code",
      "source": [
        "# Functional API 적용\n",
        "dense_output2 = tf.keras.layers.Dense(10, activation='softmax')(base_model_frozen2.output)\n",
        "digit_model_frozen2 = tf.keras.models.Model(inputs=base_model_frozen2.input, outputs=dense_output2)\n",
        "digit_model_frozen2.summary()"
      ],
      "metadata": {
        "colab": {
          "base_uri": "https://localhost:8080/"
        },
        "id": "5hagIQJO3c2I",
        "outputId": "47fca807-e4c2-4675-9bdb-ceb10a49de66"
      },
      "execution_count": 56,
      "outputs": [
        {
          "output_type": "stream",
          "name": "stdout",
          "text": [
            "Model: \"model_4\"\n",
            "_________________________________________________________________\n",
            " Layer (type)                Output Shape              Param #   \n",
            "=================================================================\n",
            " inputs (InputLayer)         [(None, 28, 28, 1)]       0         \n",
            "                                                                 \n",
            " conv2d_layer (Conv2D)       (None, 26, 26, 32)        320       \n",
            "                                                                 \n",
            " maxpool_layer (MaxPooling2D  (None, 13, 13, 32)       0         \n",
            " )                                                               \n",
            "                                                                 \n",
            " flatten_layer (Flatten)     (None, 5408)              0         \n",
            "                                                                 \n",
            " dense_4 (Dense)             (None, 10)                54090     \n",
            "                                                                 \n",
            "=================================================================\n",
            "Total params: 54,410\n",
            "Trainable params: 54,090\n",
            "Non-trainable params: 320\n",
            "_________________________________________________________________\n"
          ]
        }
      ]
    },
    {
      "cell_type": "code",
      "source": [
        "# 모델 컴파일\n",
        "digit_model_frozen2.compile(optimizer='adam', loss='sparse_categorical_crossentropy', metrics=['accuracy'])\n",
        "\n",
        "# 모델 훈련\n",
        "history = digit_model_frozen2.fit(x_train_in, y_train, \n",
        "                    validation_data=(x_valid_in, y_valid), \n",
        "                    epochs=10)"
      ],
      "metadata": {
        "colab": {
          "base_uri": "https://localhost:8080/"
        },
        "id": "E5OG5Cr23eog",
        "outputId": "077703fc-683c-4358-ae3c-76c0cf6b80b4"
      },
      "execution_count": 57,
      "outputs": [
        {
          "output_type": "stream",
          "name": "stdout",
          "text": [
            "Epoch 1/10\n",
            "1875/1875 [==============================] - 10s 5ms/step - loss: 0.1132 - accuracy: 0.9693 - val_loss: 0.0604 - val_accuracy: 0.9806\n",
            "Epoch 2/10\n",
            "1875/1875 [==============================] - 9s 5ms/step - loss: 0.0471 - accuracy: 0.9860 - val_loss: 0.0514 - val_accuracy: 0.9824\n",
            "Epoch 3/10\n",
            "1875/1875 [==============================] - 10s 5ms/step - loss: 0.0351 - accuracy: 0.9891 - val_loss: 0.0501 - val_accuracy: 0.9837\n",
            "Epoch 4/10\n",
            "1875/1875 [==============================] - 10s 5ms/step - loss: 0.0261 - accuracy: 0.9920 - val_loss: 0.0543 - val_accuracy: 0.9832\n",
            "Epoch 5/10\n",
            "1875/1875 [==============================] - 10s 5ms/step - loss: 0.0212 - accuracy: 0.9933 - val_loss: 0.0512 - val_accuracy: 0.9845\n",
            "Epoch 6/10\n",
            "1875/1875 [==============================] - 10s 5ms/step - loss: 0.0171 - accuracy: 0.9946 - val_loss: 0.0513 - val_accuracy: 0.9844\n",
            "Epoch 7/10\n",
            "1875/1875 [==============================] - 10s 6ms/step - loss: 0.0135 - accuracy: 0.9961 - val_loss: 0.0576 - val_accuracy: 0.9828\n",
            "Epoch 8/10\n",
            "1875/1875 [==============================] - 10s 5ms/step - loss: 0.0113 - accuracy: 0.9966 - val_loss: 0.0579 - val_accuracy: 0.9845\n",
            "Epoch 9/10\n",
            "1875/1875 [==============================] - 10s 5ms/step - loss: 0.0096 - accuracy: 0.9971 - val_loss: 0.0637 - val_accuracy: 0.9828\n",
            "Epoch 10/10\n",
            "1875/1875 [==============================] - 10s 5ms/step - loss: 0.0084 - accuracy: 0.9977 - val_loss: 0.0562 - val_accuracy: 0.9846\n"
          ]
        }
      ]
    }
  ]
}