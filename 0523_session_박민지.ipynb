{
  "nbformat": 4,
  "nbformat_minor": 0,
  "metadata": {
    "colab": {
      "name": "0523_session_박민지.ipynb",
      "provenance": [],
      "mount_file_id": "1uoPyrds5JLjF2AQEwjYzqSoro72-xXQW",
      "authorship_tag": "ABX9TyODkJ6heB7XRULy3aE4705I",
      "include_colab_link": true
    },
    "kernelspec": {
      "name": "python3",
      "display_name": "Python 3"
    },
    "language_info": {
      "name": "python"
    }
  },
  "cells": [
    {
      "cell_type": "markdown",
      "metadata": {
        "id": "view-in-github",
        "colab_type": "text"
      },
      "source": [
        "<a href=\"https://colab.research.google.com/github/xoxominji/22-1-ESAA-Practice/blob/main/0523_session_%EB%B0%95%EB%AF%BC%EC%A7%80.ipynb\" target=\"_parent\"><img src=\"https://colab.research.google.com/assets/colab-badge.svg\" alt=\"Open In Colab\"/></a>"
      ]
    },
    {
      "cell_type": "markdown",
      "source": [
        "# Amazon Reviews를 이용한 추천시스템 실습 - surprise패키지 사용(36~)"
      ],
      "metadata": {
        "id": "CLrpBz7ioAyF"
      }
    },
    {
      "cell_type": "code",
      "source": [
        "import numpy as np # linear algebra\n",
        "import pandas as pd # data processing, CSV file I/O (e.g. pd.read_csv)\n",
        "import os\n",
        "from IPython.core.interactiveshell import InteractiveShell\n",
        "InteractiveShell.ast_node_interactivity = \"all\"\n",
        "import math\n",
        "import json\n",
        "import time\n",
        "import matplotlib.pyplot as plt\n",
        "import seaborn as sns\n",
        "from sklearn.metrics.pairwise import cosine_similarity\n",
        "from sklearn.model_selection import train_test_split\n",
        "from sklearn.neighbors import NearestNeighbors\n",
        "# from sklearn.externals import joblib\n",
        "import scipy.sparse\n",
        "from scipy.sparse import csr_matrix\n",
        "from scipy.sparse.linalg import svds\n",
        "import warnings; warnings.simplefilter('ignore')\n",
        "%matplotlib inline\n",
        "\n",
        "for dirname, _, filenames in os.walk('/kaggle/input'):\n",
        "    for filename in filenames:\n",
        "        print(os.path.join(dirname, filename))"
      ],
      "metadata": {
        "id": "87XBFWxqQ60f"
      },
      "execution_count": null,
      "outputs": []
    },
    {
      "cell_type": "code",
      "source": [
        "electronics_data = pd.read_csv(\"/content/drive/MyDrive/2022-1 ESAA/데이터/ratings_Electronics (1).csv\",names=['userId', 'productId','Rating','timestamp'])"
      ],
      "metadata": {
        "id": "4GYOP_Z3RDe9"
      },
      "execution_count": null,
      "outputs": []
    },
    {
      "cell_type": "code",
      "source": [
        "# 평가가 50번 이상 된 상품들만 추출\n",
        "new_df=electronics_data.groupby(\"productId\").filter(lambda x:x['Rating'].count() >=50)"
      ],
      "metadata": {
        "id": "018e9wx4RGg9"
      },
      "execution_count": null,
      "outputs": []
    },
    {
      "cell_type": "markdown",
      "source": [
        "## **Collaborative Filtering 이용**"
      ],
      "metadata": {
        "id": "TTh9YIiEQ6bJ"
      }
    },
    {
      "cell_type": "code",
      "execution_count": null,
      "metadata": {
        "colab": {
          "base_uri": "https://localhost:8080/"
        },
        "id": "6pX6JGPGnP_-",
        "outputId": "a1a92a3c-ef05-4915-c9fc-e8a1ef38ce2f"
      },
      "outputs": [
        {
          "output_type": "stream",
          "name": "stdout",
          "text": [
            "Collecting surprise\n",
            "  Downloading surprise-0.1-py2.py3-none-any.whl (1.8 kB)\n",
            "Collecting scikit-surprise\n",
            "  Downloading scikit-surprise-1.1.1.tar.gz (11.8 MB)\n",
            "\u001b[K     |████████████████████████████████| 11.8 MB 7.5 MB/s \n",
            "\u001b[?25hRequirement already satisfied: joblib>=0.11 in /usr/local/lib/python3.7/dist-packages (from scikit-surprise->surprise) (1.1.0)\n",
            "Requirement already satisfied: numpy>=1.11.2 in /usr/local/lib/python3.7/dist-packages (from scikit-surprise->surprise) (1.21.6)\n",
            "Requirement already satisfied: scipy>=1.0.0 in /usr/local/lib/python3.7/dist-packages (from scikit-surprise->surprise) (1.4.1)\n",
            "Requirement already satisfied: six>=1.10.0 in /usr/local/lib/python3.7/dist-packages (from scikit-surprise->surprise) (1.15.0)\n",
            "Building wheels for collected packages: scikit-surprise\n",
            "  Building wheel for scikit-surprise (setup.py) ... \u001b[?25l\u001b[?25hdone\n",
            "  Created wheel for scikit-surprise: filename=scikit_surprise-1.1.1-cp37-cp37m-linux_x86_64.whl size=1633688 sha256=588bcd0cfcde9a29fa07050a117626dca5c9487185d2893e45eeb6b572f3bfd4\n",
            "  Stored in directory: /root/.cache/pip/wheels/76/44/74/b498c42be47b2406bd27994e16c5188e337c657025ab400c1c\n",
            "Successfully built scikit-surprise\n",
            "Installing collected packages: scikit-surprise, surprise\n",
            "Successfully installed scikit-surprise-1.1.1 surprise-0.1\n"
          ]
        }
      ],
      "source": [
        "pip install surprise"
      ]
    },
    {
      "cell_type": "code",
      "source": [
        "from surprise import KNNWithMeans\n",
        "from surprise import Dataset\n",
        "from surprise import accuracy\n",
        "from surprise import Reader\n",
        "import os\n",
        "from surprise.model_selection import train_test_split"
      ],
      "metadata": {
        "id": "wutLBKVUQrEA"
      },
      "execution_count": null,
      "outputs": []
    },
    {
      "cell_type": "markdown",
      "source": [
        "### 1) Data 가져오기"
      ],
      "metadata": {
        "id": "AMyJnUMwRe2k"
      }
    },
    {
      "cell_type": "code",
      "source": [
        "new_df.drop(['timestamp'],axis = 1, inplace = True)"
      ],
      "metadata": {
        "id": "s34-d4-fQuEG"
      },
      "execution_count": null,
      "outputs": []
    },
    {
      "cell_type": "code",
      "source": [
        "reader = Reader(rating_scale=(1,5)) #단위 1, 최대 5\n",
        "data = Dataset.load_from_df(new_df, reader)"
      ],
      "metadata": {
        "id": "tk05qGW2RiSV"
      },
      "execution_count": null,
      "outputs": []
    },
    {
      "cell_type": "markdown",
      "source": [
        "### 2) Trainset, Testset으로 나누기"
      ],
      "metadata": {
        "id": "Ohxe0ETDRjv8"
      }
    },
    {
      "cell_type": "code",
      "source": [
        "trainset, testset = train_test_split(data, test_size = 0.3, random_state=10)"
      ],
      "metadata": {
        "id": "2KzZEsuyRjVY"
      },
      "execution_count": null,
      "outputs": []
    },
    {
      "cell_type": "markdown",
      "source": [
        "### 3) KNN을 이용 trainset에 파라미터 맞추기"
      ],
      "metadata": {
        "id": "2KmvV3BQRpvM"
      }
    },
    {
      "cell_type": "code",
      "source": [
        "algo = KNNWithMeans(k=5, sim_options = {'name': 'pearson_baseline', 'user_based':False})\n",
        "algo.fit(trainset)"
      ],
      "metadata": {
        "id": "KojFUQ8mWCd3"
      },
      "execution_count": null,
      "outputs": []
    },
    {
      "cell_type": "code",
      "source": [
        "algo = KNNWithMeans(k = 5, sim_options = {'name': 'pearson_baseline', 'user_based':False})\n",
        "algo.fit(trainset)"
      ],
      "metadata": {
        "colab": {
          "base_uri": "https://localhost:8080/"
        },
        "id": "z0z-RVrSXvaH",
        "outputId": "d0023831-cfd8-4de8-d98e-ca38e8cef9c5"
      },
      "execution_count": null,
      "outputs": [
        {
          "output_type": "stream",
          "name": "stdout",
          "text": [
            "Estimating biases using als...\n",
            "Computing the pearson_baseline similarity matrix...\n",
            "Done computing similarity matrix.\n"
          ]
        },
        {
          "output_type": "execute_result",
          "data": {
            "text/plain": [
              "<surprise.prediction_algorithms.knns.KNNWithMeans at 0x7fd2f5b1a510>"
            ]
          },
          "metadata": {},
          "execution_count": 12
        }
      ]
    },
    {
      "cell_type": "markdown",
      "source": [
        "### 4) Test accuracy 측정"
      ],
      "metadata": {
        "id": "xhZrIBSMRy1F"
      }
    },
    {
      "cell_type": "code",
      "source": [
        "test_pred = algo.test(testset)"
      ],
      "metadata": {
        "id": "j5IEDRcZYFdt"
      },
      "execution_count": null,
      "outputs": []
    },
    {
      "cell_type": "code",
      "source": [
        "print('Item-based Model : Test Set')\n",
        "accuracy.rmse(test_pred, verbose = True)"
      ],
      "metadata": {
        "colab": {
          "base_uri": "https://localhost:8080/"
        },
        "id": "kBly4kv8YJDN",
        "outputId": "6526552f-1a8e-470e-aaa3-b7c4e42975ee"
      },
      "execution_count": null,
      "outputs": [
        {
          "output_type": "stream",
          "name": "stdout",
          "text": [
            "Item-based Model : Test Set\n",
            "RMSE: 1.3386\n"
          ]
        },
        {
          "output_type": "execute_result",
          "data": {
            "text/plain": [
              "1.3385712631956137"
            ]
          },
          "metadata": {},
          "execution_count": 14
        }
      ]
    },
    {
      "cell_type": "markdown",
      "source": [
        "## Model-based collaborative filtering system (모델 기반 협업 필터링)"
      ],
      "metadata": {
        "id": "gRJNYQg_TFG-"
      }
    },
    {
      "cell_type": "code",
      "source": [
        "# 대량의 상품, 많은 사용자들에게 추천 가능, sparse한 matrices에도 사용가능"
      ],
      "metadata": {
        "id": "HIG-ae9rTJCK"
      },
      "execution_count": null,
      "outputs": []
    },
    {
      "cell_type": "code",
      "source": [
        "new_df1 = new_df.head(10000)\n",
        "ratings_matrix = new_df1.pivot_table(values ='Rating', index ='userId', columns ='productId',fill_value =0)\n",
        "ratings_matrix.head()"
      ],
      "metadata": {
        "colab": {
          "base_uri": "https://localhost:8080/",
          "height": 331
        },
        "id": "O2ez65qOTLAl",
        "outputId": "8a5f2ddc-fc7f-4c2a-c574-f5df96370d53"
      },
      "execution_count": null,
      "outputs": [
        {
          "output_type": "execute_result",
          "data": {
            "text/plain": [
              "productId              0972683275  1400501466  1400501520  1400501776  \\\n",
              "userId                                                                  \n",
              "A01852072Z7B68UHLI5UG           0           0           0           0   \n",
              "A0266076X6KPZ6CCHGVS            0           0           0           0   \n",
              "A0293130VTX2ZXA70JQS            5           0           0           0   \n",
              "A030530627MK66BD8V4LN           4           0           0           0   \n",
              "A0571176384K8RBNKGF8O           0           0           0           0   \n",
              "\n",
              "productId              1400532620  1400532655  140053271X  1400532736  \\\n",
              "userId                                                                  \n",
              "A01852072Z7B68UHLI5UG           0           0           0           0   \n",
              "A0266076X6KPZ6CCHGVS            0           0           0           0   \n",
              "A0293130VTX2ZXA70JQS            0           0           0           0   \n",
              "A030530627MK66BD8V4LN           0           0           0           0   \n",
              "A0571176384K8RBNKGF8O           0           0           0           0   \n",
              "\n",
              "productId              1400599997  1400698987  ...  B00000JFMK  B00000JHWX  \\\n",
              "userId                                         ...                           \n",
              "A01852072Z7B68UHLI5UG           0           0  ...           0           0   \n",
              "A0266076X6KPZ6CCHGVS            0           0  ...           0           0   \n",
              "A0293130VTX2ZXA70JQS            0           0  ...           0           0   \n",
              "A030530627MK66BD8V4LN           0           0  ...           0           0   \n",
              "A0571176384K8RBNKGF8O           0           0  ...           0           0   \n",
              "\n",
              "productId              B00000JI4F  B00000JII6  B00000JMUG  B00000JPPI  \\\n",
              "userId                                                                  \n",
              "A01852072Z7B68UHLI5UG           0           0           0           0   \n",
              "A0266076X6KPZ6CCHGVS            0           0           0           0   \n",
              "A0293130VTX2ZXA70JQS            0           0           0           0   \n",
              "A030530627MK66BD8V4LN           0           0           0           0   \n",
              "A0571176384K8RBNKGF8O           0           0           0           0   \n",
              "\n",
              "productId              B00000JSGF  B00000JYLO  B00000JYWQ  B00000K135  \n",
              "userId                                                                 \n",
              "A01852072Z7B68UHLI5UG           0           0           0           0  \n",
              "A0266076X6KPZ6CCHGVS            0           0           0           0  \n",
              "A0293130VTX2ZXA70JQS            0           0           0           0  \n",
              "A030530627MK66BD8V4LN           0           0           0           0  \n",
              "A0571176384K8RBNKGF8O           0           0           0           0  \n",
              "\n",
              "[5 rows x 76 columns]"
            ],
            "text/html": [
              "\n",
              "  <div id=\"df-4114c3c2-bf04-4332-8b60-fc5f6729a961\">\n",
              "    <div class=\"colab-df-container\">\n",
              "      <div>\n",
              "<style scoped>\n",
              "    .dataframe tbody tr th:only-of-type {\n",
              "        vertical-align: middle;\n",
              "    }\n",
              "\n",
              "    .dataframe tbody tr th {\n",
              "        vertical-align: top;\n",
              "    }\n",
              "\n",
              "    .dataframe thead th {\n",
              "        text-align: right;\n",
              "    }\n",
              "</style>\n",
              "<table border=\"1\" class=\"dataframe\">\n",
              "  <thead>\n",
              "    <tr style=\"text-align: right;\">\n",
              "      <th>productId</th>\n",
              "      <th>0972683275</th>\n",
              "      <th>1400501466</th>\n",
              "      <th>1400501520</th>\n",
              "      <th>1400501776</th>\n",
              "      <th>1400532620</th>\n",
              "      <th>1400532655</th>\n",
              "      <th>140053271X</th>\n",
              "      <th>1400532736</th>\n",
              "      <th>1400599997</th>\n",
              "      <th>1400698987</th>\n",
              "      <th>...</th>\n",
              "      <th>B00000JFMK</th>\n",
              "      <th>B00000JHWX</th>\n",
              "      <th>B00000JI4F</th>\n",
              "      <th>B00000JII6</th>\n",
              "      <th>B00000JMUG</th>\n",
              "      <th>B00000JPPI</th>\n",
              "      <th>B00000JSGF</th>\n",
              "      <th>B00000JYLO</th>\n",
              "      <th>B00000JYWQ</th>\n",
              "      <th>B00000K135</th>\n",
              "    </tr>\n",
              "    <tr>\n",
              "      <th>userId</th>\n",
              "      <th></th>\n",
              "      <th></th>\n",
              "      <th></th>\n",
              "      <th></th>\n",
              "      <th></th>\n",
              "      <th></th>\n",
              "      <th></th>\n",
              "      <th></th>\n",
              "      <th></th>\n",
              "      <th></th>\n",
              "      <th></th>\n",
              "      <th></th>\n",
              "      <th></th>\n",
              "      <th></th>\n",
              "      <th></th>\n",
              "      <th></th>\n",
              "      <th></th>\n",
              "      <th></th>\n",
              "      <th></th>\n",
              "      <th></th>\n",
              "      <th></th>\n",
              "    </tr>\n",
              "  </thead>\n",
              "  <tbody>\n",
              "    <tr>\n",
              "      <th>A01852072Z7B68UHLI5UG</th>\n",
              "      <td>0</td>\n",
              "      <td>0</td>\n",
              "      <td>0</td>\n",
              "      <td>0</td>\n",
              "      <td>0</td>\n",
              "      <td>0</td>\n",
              "      <td>0</td>\n",
              "      <td>0</td>\n",
              "      <td>0</td>\n",
              "      <td>0</td>\n",
              "      <td>...</td>\n",
              "      <td>0</td>\n",
              "      <td>0</td>\n",
              "      <td>0</td>\n",
              "      <td>0</td>\n",
              "      <td>0</td>\n",
              "      <td>0</td>\n",
              "      <td>0</td>\n",
              "      <td>0</td>\n",
              "      <td>0</td>\n",
              "      <td>0</td>\n",
              "    </tr>\n",
              "    <tr>\n",
              "      <th>A0266076X6KPZ6CCHGVS</th>\n",
              "      <td>0</td>\n",
              "      <td>0</td>\n",
              "      <td>0</td>\n",
              "      <td>0</td>\n",
              "      <td>0</td>\n",
              "      <td>0</td>\n",
              "      <td>0</td>\n",
              "      <td>0</td>\n",
              "      <td>0</td>\n",
              "      <td>0</td>\n",
              "      <td>...</td>\n",
              "      <td>0</td>\n",
              "      <td>0</td>\n",
              "      <td>0</td>\n",
              "      <td>0</td>\n",
              "      <td>0</td>\n",
              "      <td>0</td>\n",
              "      <td>0</td>\n",
              "      <td>0</td>\n",
              "      <td>0</td>\n",
              "      <td>0</td>\n",
              "    </tr>\n",
              "    <tr>\n",
              "      <th>A0293130VTX2ZXA70JQS</th>\n",
              "      <td>5</td>\n",
              "      <td>0</td>\n",
              "      <td>0</td>\n",
              "      <td>0</td>\n",
              "      <td>0</td>\n",
              "      <td>0</td>\n",
              "      <td>0</td>\n",
              "      <td>0</td>\n",
              "      <td>0</td>\n",
              "      <td>0</td>\n",
              "      <td>...</td>\n",
              "      <td>0</td>\n",
              "      <td>0</td>\n",
              "      <td>0</td>\n",
              "      <td>0</td>\n",
              "      <td>0</td>\n",
              "      <td>0</td>\n",
              "      <td>0</td>\n",
              "      <td>0</td>\n",
              "      <td>0</td>\n",
              "      <td>0</td>\n",
              "    </tr>\n",
              "    <tr>\n",
              "      <th>A030530627MK66BD8V4LN</th>\n",
              "      <td>4</td>\n",
              "      <td>0</td>\n",
              "      <td>0</td>\n",
              "      <td>0</td>\n",
              "      <td>0</td>\n",
              "      <td>0</td>\n",
              "      <td>0</td>\n",
              "      <td>0</td>\n",
              "      <td>0</td>\n",
              "      <td>0</td>\n",
              "      <td>...</td>\n",
              "      <td>0</td>\n",
              "      <td>0</td>\n",
              "      <td>0</td>\n",
              "      <td>0</td>\n",
              "      <td>0</td>\n",
              "      <td>0</td>\n",
              "      <td>0</td>\n",
              "      <td>0</td>\n",
              "      <td>0</td>\n",
              "      <td>0</td>\n",
              "    </tr>\n",
              "    <tr>\n",
              "      <th>A0571176384K8RBNKGF8O</th>\n",
              "      <td>0</td>\n",
              "      <td>0</td>\n",
              "      <td>0</td>\n",
              "      <td>0</td>\n",
              "      <td>0</td>\n",
              "      <td>0</td>\n",
              "      <td>0</td>\n",
              "      <td>0</td>\n",
              "      <td>0</td>\n",
              "      <td>0</td>\n",
              "      <td>...</td>\n",
              "      <td>0</td>\n",
              "      <td>0</td>\n",
              "      <td>0</td>\n",
              "      <td>0</td>\n",
              "      <td>0</td>\n",
              "      <td>0</td>\n",
              "      <td>0</td>\n",
              "      <td>0</td>\n",
              "      <td>0</td>\n",
              "      <td>0</td>\n",
              "    </tr>\n",
              "  </tbody>\n",
              "</table>\n",
              "<p>5 rows × 76 columns</p>\n",
              "</div>\n",
              "      <button class=\"colab-df-convert\" onclick=\"convertToInteractive('df-4114c3c2-bf04-4332-8b60-fc5f6729a961')\"\n",
              "              title=\"Convert this dataframe to an interactive table.\"\n",
              "              style=\"display:none;\">\n",
              "        \n",
              "  <svg xmlns=\"http://www.w3.org/2000/svg\" height=\"24px\"viewBox=\"0 0 24 24\"\n",
              "       width=\"24px\">\n",
              "    <path d=\"M0 0h24v24H0V0z\" fill=\"none\"/>\n",
              "    <path d=\"M18.56 5.44l.94 2.06.94-2.06 2.06-.94-2.06-.94-.94-2.06-.94 2.06-2.06.94zm-11 1L8.5 8.5l.94-2.06 2.06-.94-2.06-.94L8.5 2.5l-.94 2.06-2.06.94zm10 10l.94 2.06.94-2.06 2.06-.94-2.06-.94-.94-2.06-.94 2.06-2.06.94z\"/><path d=\"M17.41 7.96l-1.37-1.37c-.4-.4-.92-.59-1.43-.59-.52 0-1.04.2-1.43.59L10.3 9.45l-7.72 7.72c-.78.78-.78 2.05 0 2.83L4 21.41c.39.39.9.59 1.41.59.51 0 1.02-.2 1.41-.59l7.78-7.78 2.81-2.81c.8-.78.8-2.07 0-2.86zM5.41 20L4 18.59l7.72-7.72 1.47 1.35L5.41 20z\"/>\n",
              "  </svg>\n",
              "      </button>\n",
              "      \n",
              "  <style>\n",
              "    .colab-df-container {\n",
              "      display:flex;\n",
              "      flex-wrap:wrap;\n",
              "      gap: 12px;\n",
              "    }\n",
              "\n",
              "    .colab-df-convert {\n",
              "      background-color: #E8F0FE;\n",
              "      border: none;\n",
              "      border-radius: 50%;\n",
              "      cursor: pointer;\n",
              "      display: none;\n",
              "      fill: #1967D2;\n",
              "      height: 32px;\n",
              "      padding: 0 0 0 0;\n",
              "      width: 32px;\n",
              "    }\n",
              "\n",
              "    .colab-df-convert:hover {\n",
              "      background-color: #E2EBFA;\n",
              "      box-shadow: 0px 1px 2px rgba(60, 64, 67, 0.3), 0px 1px 3px 1px rgba(60, 64, 67, 0.15);\n",
              "      fill: #174EA6;\n",
              "    }\n",
              "\n",
              "    [theme=dark] .colab-df-convert {\n",
              "      background-color: #3B4455;\n",
              "      fill: #D2E3FC;\n",
              "    }\n",
              "\n",
              "    [theme=dark] .colab-df-convert:hover {\n",
              "      background-color: #434B5C;\n",
              "      box-shadow: 0px 1px 3px 1px rgba(0, 0, 0, 0.15);\n",
              "      filter: drop-shadow(0px 1px 2px rgba(0, 0, 0, 0.3));\n",
              "      fill: #FFFFFF;\n",
              "    }\n",
              "  </style>\n",
              "\n",
              "      <script>\n",
              "        const buttonEl =\n",
              "          document.querySelector('#df-4114c3c2-bf04-4332-8b60-fc5f6729a961 button.colab-df-convert');\n",
              "        buttonEl.style.display =\n",
              "          google.colab.kernel.accessAllowed ? 'block' : 'none';\n",
              "\n",
              "        async function convertToInteractive(key) {\n",
              "          const element = document.querySelector('#df-4114c3c2-bf04-4332-8b60-fc5f6729a961');\n",
              "          const dataTable =\n",
              "            await google.colab.kernel.invokeFunction('convertToInteractive',\n",
              "                                                     [key], {});\n",
              "          if (!dataTable) return;\n",
              "\n",
              "          const docLinkHtml = 'Like what you see? Visit the ' +\n",
              "            '<a target=\"_blank\" href=https://colab.research.google.com/notebooks/data_table.ipynb>data table notebook</a>'\n",
              "            + ' to learn more about interactive tables.';\n",
              "          element.innerHTML = '';\n",
              "          dataTable['output_type'] = 'display_data';\n",
              "          await google.colab.output.renderOutput(dataTable, element);\n",
              "          const docLink = document.createElement('div');\n",
              "          docLink.innerHTML = docLinkHtml;\n",
              "          element.appendChild(docLink);\n",
              "        }\n",
              "      </script>\n",
              "    </div>\n",
              "  </div>\n",
              "  "
            ]
          },
          "metadata": {},
          "execution_count": 12
        }
      ]
    },
    {
      "cell_type": "code",
      "source": [
        "ratings_matrix.shape"
      ],
      "metadata": {
        "colab": {
          "base_uri": "https://localhost:8080/"
        },
        "id": "PKiUW_iHWF56",
        "outputId": "4c3ce1e5-30aa-46a4-a061-b1ded75688f7"
      },
      "execution_count": null,
      "outputs": [
        {
          "output_type": "execute_result",
          "data": {
            "text/plain": [
              "(9832, 76)"
            ]
          },
          "metadata": {},
          "execution_count": 13
        }
      ]
    },
    {
      "cell_type": "code",
      "source": [
        "X = ratings_matrix.T\n",
        "X.head()"
      ],
      "metadata": {
        "colab": {
          "base_uri": "https://localhost:8080/",
          "height": 331
        },
        "id": "O1DFbdRSWG-d",
        "outputId": "c798f30e-c996-495c-cb9a-3f3f4a7ecbd0"
      },
      "execution_count": null,
      "outputs": [
        {
          "output_type": "execute_result",
          "data": {
            "text/plain": [
              "userId      A01852072Z7B68UHLI5UG  A0266076X6KPZ6CCHGVS  A0293130VTX2ZXA70JQS  \\\n",
              "productId                                                                       \n",
              "0972683275                      0                     0                     5   \n",
              "1400501466                      0                     0                     0   \n",
              "1400501520                      0                     0                     0   \n",
              "1400501776                      0                     0                     0   \n",
              "1400532620                      0                     0                     0   \n",
              "\n",
              "userId      A030530627MK66BD8V4LN  A0571176384K8RBNKGF8O  \\\n",
              "productId                                                  \n",
              "0972683275                      4                      0   \n",
              "1400501466                      0                      0   \n",
              "1400501520                      0                      0   \n",
              "1400501776                      0                      0   \n",
              "1400532620                      0                      0   \n",
              "\n",
              "userId      A0590501PZ7HOWJKBGQ4  A0641581307AKT5MAOU0Q  \\\n",
              "productId                                                 \n",
              "0972683275                     0                      0   \n",
              "1400501466                     0                      0   \n",
              "1400501520                     0                      0   \n",
              "1400501776                     0                      0   \n",
              "1400532620                     0                      0   \n",
              "\n",
              "userId      A076219533YHEV2LJO988  A0821988FXKFYX53V4QG  \\\n",
              "productId                                                 \n",
              "0972683275                      0                     0   \n",
              "1400501466                      0                     0   \n",
              "1400501520                      0                     0   \n",
              "1400501776                      0                     0   \n",
              "1400532620                      0                     0   \n",
              "\n",
              "userId      A099626739FNCRNHIKBCG  ...  AZWOPBY75SGAM  AZX0ZDVAFMN78  \\\n",
              "productId                          ...                                 \n",
              "0972683275                      0  ...              0              0   \n",
              "1400501466                      0  ...              0              0   \n",
              "1400501520                      3  ...              0              0   \n",
              "1400501776                      0  ...              0              0   \n",
              "1400532620                      0  ...              0              0   \n",
              "\n",
              "userId      AZX5LAN9JEAFF  AZX7I110AF0W2  AZXKUK895VGSM  AZXP46IB63PU8  \\\n",
              "productId                                                                \n",
              "0972683275              0              0              0              0   \n",
              "1400501466              0              0              0              0   \n",
              "1400501520              0              0              0              0   \n",
              "1400501776              0              0              0              0   \n",
              "1400532620              0              0              0              0   \n",
              "\n",
              "userId      AZYTSU42BZ7TP  AZZGJ2KMWB7R  AZZMV5VT9W7Y8  AZZST8OYL5P4Q  \n",
              "productId                                                              \n",
              "0972683275              0             0              0              0  \n",
              "1400501466              0             0              0              0  \n",
              "1400501520              0             0              0              0  \n",
              "1400501776              0             0              1              0  \n",
              "1400532620              0             0              0              0  \n",
              "\n",
              "[5 rows x 9832 columns]"
            ],
            "text/html": [
              "\n",
              "  <div id=\"df-5187f578-b575-49f2-adbe-0e70dbdf16e8\">\n",
              "    <div class=\"colab-df-container\">\n",
              "      <div>\n",
              "<style scoped>\n",
              "    .dataframe tbody tr th:only-of-type {\n",
              "        vertical-align: middle;\n",
              "    }\n",
              "\n",
              "    .dataframe tbody tr th {\n",
              "        vertical-align: top;\n",
              "    }\n",
              "\n",
              "    .dataframe thead th {\n",
              "        text-align: right;\n",
              "    }\n",
              "</style>\n",
              "<table border=\"1\" class=\"dataframe\">\n",
              "  <thead>\n",
              "    <tr style=\"text-align: right;\">\n",
              "      <th>userId</th>\n",
              "      <th>A01852072Z7B68UHLI5UG</th>\n",
              "      <th>A0266076X6KPZ6CCHGVS</th>\n",
              "      <th>A0293130VTX2ZXA70JQS</th>\n",
              "      <th>A030530627MK66BD8V4LN</th>\n",
              "      <th>A0571176384K8RBNKGF8O</th>\n",
              "      <th>A0590501PZ7HOWJKBGQ4</th>\n",
              "      <th>A0641581307AKT5MAOU0Q</th>\n",
              "      <th>A076219533YHEV2LJO988</th>\n",
              "      <th>A0821988FXKFYX53V4QG</th>\n",
              "      <th>A099626739FNCRNHIKBCG</th>\n",
              "      <th>...</th>\n",
              "      <th>AZWOPBY75SGAM</th>\n",
              "      <th>AZX0ZDVAFMN78</th>\n",
              "      <th>AZX5LAN9JEAFF</th>\n",
              "      <th>AZX7I110AF0W2</th>\n",
              "      <th>AZXKUK895VGSM</th>\n",
              "      <th>AZXP46IB63PU8</th>\n",
              "      <th>AZYTSU42BZ7TP</th>\n",
              "      <th>AZZGJ2KMWB7R</th>\n",
              "      <th>AZZMV5VT9W7Y8</th>\n",
              "      <th>AZZST8OYL5P4Q</th>\n",
              "    </tr>\n",
              "    <tr>\n",
              "      <th>productId</th>\n",
              "      <th></th>\n",
              "      <th></th>\n",
              "      <th></th>\n",
              "      <th></th>\n",
              "      <th></th>\n",
              "      <th></th>\n",
              "      <th></th>\n",
              "      <th></th>\n",
              "      <th></th>\n",
              "      <th></th>\n",
              "      <th></th>\n",
              "      <th></th>\n",
              "      <th></th>\n",
              "      <th></th>\n",
              "      <th></th>\n",
              "      <th></th>\n",
              "      <th></th>\n",
              "      <th></th>\n",
              "      <th></th>\n",
              "      <th></th>\n",
              "      <th></th>\n",
              "    </tr>\n",
              "  </thead>\n",
              "  <tbody>\n",
              "    <tr>\n",
              "      <th>0972683275</th>\n",
              "      <td>0</td>\n",
              "      <td>0</td>\n",
              "      <td>5</td>\n",
              "      <td>4</td>\n",
              "      <td>0</td>\n",
              "      <td>0</td>\n",
              "      <td>0</td>\n",
              "      <td>0</td>\n",
              "      <td>0</td>\n",
              "      <td>0</td>\n",
              "      <td>...</td>\n",
              "      <td>0</td>\n",
              "      <td>0</td>\n",
              "      <td>0</td>\n",
              "      <td>0</td>\n",
              "      <td>0</td>\n",
              "      <td>0</td>\n",
              "      <td>0</td>\n",
              "      <td>0</td>\n",
              "      <td>0</td>\n",
              "      <td>0</td>\n",
              "    </tr>\n",
              "    <tr>\n",
              "      <th>1400501466</th>\n",
              "      <td>0</td>\n",
              "      <td>0</td>\n",
              "      <td>0</td>\n",
              "      <td>0</td>\n",
              "      <td>0</td>\n",
              "      <td>0</td>\n",
              "      <td>0</td>\n",
              "      <td>0</td>\n",
              "      <td>0</td>\n",
              "      <td>0</td>\n",
              "      <td>...</td>\n",
              "      <td>0</td>\n",
              "      <td>0</td>\n",
              "      <td>0</td>\n",
              "      <td>0</td>\n",
              "      <td>0</td>\n",
              "      <td>0</td>\n",
              "      <td>0</td>\n",
              "      <td>0</td>\n",
              "      <td>0</td>\n",
              "      <td>0</td>\n",
              "    </tr>\n",
              "    <tr>\n",
              "      <th>1400501520</th>\n",
              "      <td>0</td>\n",
              "      <td>0</td>\n",
              "      <td>0</td>\n",
              "      <td>0</td>\n",
              "      <td>0</td>\n",
              "      <td>0</td>\n",
              "      <td>0</td>\n",
              "      <td>0</td>\n",
              "      <td>0</td>\n",
              "      <td>3</td>\n",
              "      <td>...</td>\n",
              "      <td>0</td>\n",
              "      <td>0</td>\n",
              "      <td>0</td>\n",
              "      <td>0</td>\n",
              "      <td>0</td>\n",
              "      <td>0</td>\n",
              "      <td>0</td>\n",
              "      <td>0</td>\n",
              "      <td>0</td>\n",
              "      <td>0</td>\n",
              "    </tr>\n",
              "    <tr>\n",
              "      <th>1400501776</th>\n",
              "      <td>0</td>\n",
              "      <td>0</td>\n",
              "      <td>0</td>\n",
              "      <td>0</td>\n",
              "      <td>0</td>\n",
              "      <td>0</td>\n",
              "      <td>0</td>\n",
              "      <td>0</td>\n",
              "      <td>0</td>\n",
              "      <td>0</td>\n",
              "      <td>...</td>\n",
              "      <td>0</td>\n",
              "      <td>0</td>\n",
              "      <td>0</td>\n",
              "      <td>0</td>\n",
              "      <td>0</td>\n",
              "      <td>0</td>\n",
              "      <td>0</td>\n",
              "      <td>0</td>\n",
              "      <td>1</td>\n",
              "      <td>0</td>\n",
              "    </tr>\n",
              "    <tr>\n",
              "      <th>1400532620</th>\n",
              "      <td>0</td>\n",
              "      <td>0</td>\n",
              "      <td>0</td>\n",
              "      <td>0</td>\n",
              "      <td>0</td>\n",
              "      <td>0</td>\n",
              "      <td>0</td>\n",
              "      <td>0</td>\n",
              "      <td>0</td>\n",
              "      <td>0</td>\n",
              "      <td>...</td>\n",
              "      <td>0</td>\n",
              "      <td>0</td>\n",
              "      <td>0</td>\n",
              "      <td>0</td>\n",
              "      <td>0</td>\n",
              "      <td>0</td>\n",
              "      <td>0</td>\n",
              "      <td>0</td>\n",
              "      <td>0</td>\n",
              "      <td>0</td>\n",
              "    </tr>\n",
              "  </tbody>\n",
              "</table>\n",
              "<p>5 rows × 9832 columns</p>\n",
              "</div>\n",
              "      <button class=\"colab-df-convert\" onclick=\"convertToInteractive('df-5187f578-b575-49f2-adbe-0e70dbdf16e8')\"\n",
              "              title=\"Convert this dataframe to an interactive table.\"\n",
              "              style=\"display:none;\">\n",
              "        \n",
              "  <svg xmlns=\"http://www.w3.org/2000/svg\" height=\"24px\"viewBox=\"0 0 24 24\"\n",
              "       width=\"24px\">\n",
              "    <path d=\"M0 0h24v24H0V0z\" fill=\"none\"/>\n",
              "    <path d=\"M18.56 5.44l.94 2.06.94-2.06 2.06-.94-2.06-.94-.94-2.06-.94 2.06-2.06.94zm-11 1L8.5 8.5l.94-2.06 2.06-.94-2.06-.94L8.5 2.5l-.94 2.06-2.06.94zm10 10l.94 2.06.94-2.06 2.06-.94-2.06-.94-.94-2.06-.94 2.06-2.06.94z\"/><path d=\"M17.41 7.96l-1.37-1.37c-.4-.4-.92-.59-1.43-.59-.52 0-1.04.2-1.43.59L10.3 9.45l-7.72 7.72c-.78.78-.78 2.05 0 2.83L4 21.41c.39.39.9.59 1.41.59.51 0 1.02-.2 1.41-.59l7.78-7.78 2.81-2.81c.8-.78.8-2.07 0-2.86zM5.41 20L4 18.59l7.72-7.72 1.47 1.35L5.41 20z\"/>\n",
              "  </svg>\n",
              "      </button>\n",
              "      \n",
              "  <style>\n",
              "    .colab-df-container {\n",
              "      display:flex;\n",
              "      flex-wrap:wrap;\n",
              "      gap: 12px;\n",
              "    }\n",
              "\n",
              "    .colab-df-convert {\n",
              "      background-color: #E8F0FE;\n",
              "      border: none;\n",
              "      border-radius: 50%;\n",
              "      cursor: pointer;\n",
              "      display: none;\n",
              "      fill: #1967D2;\n",
              "      height: 32px;\n",
              "      padding: 0 0 0 0;\n",
              "      width: 32px;\n",
              "    }\n",
              "\n",
              "    .colab-df-convert:hover {\n",
              "      background-color: #E2EBFA;\n",
              "      box-shadow: 0px 1px 2px rgba(60, 64, 67, 0.3), 0px 1px 3px 1px rgba(60, 64, 67, 0.15);\n",
              "      fill: #174EA6;\n",
              "    }\n",
              "\n",
              "    [theme=dark] .colab-df-convert {\n",
              "      background-color: #3B4455;\n",
              "      fill: #D2E3FC;\n",
              "    }\n",
              "\n",
              "    [theme=dark] .colab-df-convert:hover {\n",
              "      background-color: #434B5C;\n",
              "      box-shadow: 0px 1px 3px 1px rgba(0, 0, 0, 0.15);\n",
              "      filter: drop-shadow(0px 1px 2px rgba(0, 0, 0, 0.3));\n",
              "      fill: #FFFFFF;\n",
              "    }\n",
              "  </style>\n",
              "\n",
              "      <script>\n",
              "        const buttonEl =\n",
              "          document.querySelector('#df-5187f578-b575-49f2-adbe-0e70dbdf16e8 button.colab-df-convert');\n",
              "        buttonEl.style.display =\n",
              "          google.colab.kernel.accessAllowed ? 'block' : 'none';\n",
              "\n",
              "        async function convertToInteractive(key) {\n",
              "          const element = document.querySelector('#df-5187f578-b575-49f2-adbe-0e70dbdf16e8');\n",
              "          const dataTable =\n",
              "            await google.colab.kernel.invokeFunction('convertToInteractive',\n",
              "                                                     [key], {});\n",
              "          if (!dataTable) return;\n",
              "\n",
              "          const docLinkHtml = 'Like what you see? Visit the ' +\n",
              "            '<a target=\"_blank\" href=https://colab.research.google.com/notebooks/data_table.ipynb>data table notebook</a>'\n",
              "            + ' to learn more about interactive tables.';\n",
              "          element.innerHTML = '';\n",
              "          dataTable['output_type'] = 'display_data';\n",
              "          await google.colab.output.renderOutput(dataTable, element);\n",
              "          const docLink = document.createElement('div');\n",
              "          docLink.innerHTML = docLinkHtml;\n",
              "          element.appendChild(docLink);\n",
              "        }\n",
              "      </script>\n",
              "    </div>\n",
              "  </div>\n",
              "  "
            ]
          },
          "metadata": {},
          "execution_count": 14
        }
      ]
    },
    {
      "cell_type": "code",
      "source": [
        "X.shape"
      ],
      "metadata": {
        "colab": {
          "base_uri": "https://localhost:8080/"
        },
        "id": "7B2PRd43WIDQ",
        "outputId": "b127fffd-7489-406e-cf05-e17ad09e42c3"
      },
      "execution_count": null,
      "outputs": [
        {
          "output_type": "execute_result",
          "data": {
            "text/plain": [
              "(76, 9832)"
            ]
          },
          "metadata": {},
          "execution_count": 15
        }
      ]
    },
    {
      "cell_type": "code",
      "source": [
        "X.index #product ID"
      ],
      "metadata": {
        "colab": {
          "base_uri": "https://localhost:8080/"
        },
        "id": "xzCHGKizWN5N",
        "outputId": "d5468635-11fa-439f-baef-c683ad8a09c8"
      },
      "execution_count": null,
      "outputs": [
        {
          "output_type": "execute_result",
          "data": {
            "text/plain": [
              "Index(['0972683275', '1400501466', '1400501520', '1400501776', '1400532620',\n",
              "       '1400532655', '140053271X', '1400532736', '1400599997', '1400698987',\n",
              "       '3744295508', '6301977173', '7214047977', '8862935293', '9573212919',\n",
              "       '9575871979', '9625993428', '9888002198', '9966694544', '9983891212',\n",
              "       '9984984354', '9985511476', 'B000001OM4', 'B000001OM5', 'B000001OMI',\n",
              "       'B000001ON6', 'B00000DM9W', 'B00000IGBF', 'B00000J05A', 'B00000J061',\n",
              "       'B00000J08Q', 'B00000J0D2', 'B00000J0D5', 'B00000J0D8', 'B00000J1EJ',\n",
              "       'B00000J1EP', 'B00000J1EQ', 'B00000J1F3', 'B00000J1GA', 'B00000J1QK',\n",
              "       'B00000J1QR', 'B00000J1SC', 'B00000J1TX', 'B00000J1U8', 'B00000J1UQ',\n",
              "       'B00000J1V3', 'B00000J1V5', 'B00000J3NF', 'B00000J3Q7', 'B00000J3UJ',\n",
              "       'B00000J434', 'B00000J4EY', 'B00000J4FS', 'B00000J4GE', 'B00000J6WY',\n",
              "       'B00000JBAT', 'B00000JBHP', 'B00000JBPB', 'B00000JCT8', 'B00000JCTO',\n",
              "       'B00000JD34', 'B00000JDF5', 'B00000JDF6', 'B00000JDHV', 'B00000JFE3',\n",
              "       'B00000JFIF', 'B00000JFMK', 'B00000JHWX', 'B00000JI4F', 'B00000JII6',\n",
              "       'B00000JMUG', 'B00000JPPI', 'B00000JSGF', 'B00000JYLO', 'B00000JYWQ',\n",
              "       'B00000K135'],\n",
              "      dtype='object', name='productId')"
            ]
          },
          "metadata": {},
          "execution_count": 16
        }
      ]
    },
    {
      "cell_type": "code",
      "source": [
        "X1 = X"
      ],
      "metadata": {
        "id": "7BSiIV9YWOSl"
      },
      "execution_count": null,
      "outputs": []
    },
    {
      "cell_type": "code",
      "source": [
        "from sklearn.decomposition import TruncatedSVD \n",
        "SVD = TruncatedSVD(n_components=10)\n",
        "decomposed_matrix = SVD.fit_transform(X)\n",
        "decomposed_matrix.shape"
      ],
      "metadata": {
        "colab": {
          "base_uri": "https://localhost:8080/"
        },
        "id": "dB_A41CeYKEa",
        "outputId": "bc6c37df-66dc-4218-e539-83f8517e4d7f"
      },
      "execution_count": null,
      "outputs": [
        {
          "output_type": "execute_result",
          "data": {
            "text/plain": [
              "(76, 10)"
            ]
          },
          "metadata": {},
          "execution_count": 18
        }
      ]
    },
    {
      "cell_type": "markdown",
      "source": [
        "> Truncated SVD는 ∑의 대각 원소 중 상위 몇 개만 추출하고 여기에 대응하는 U와 V의 원소도 함께 제거해 차원을 줄인 것"
      ],
      "metadata": {
        "id": "eZ9EL7yKYa6z"
      }
    },
    {
      "cell_type": "code",
      "source": [
        "decomposed_matrix #차원 축소된 행렬"
      ],
      "metadata": {
        "colab": {
          "base_uri": "https://localhost:8080/"
        },
        "id": "0rxf0JRkYMPq",
        "outputId": "3074a1ce-9327-48a2-8c46-e1cbe3858eb5"
      },
      "execution_count": null,
      "outputs": [
        {
          "output_type": "execute_result",
          "data": {
            "text/plain": [
              "array([[ 1.48104508e+02, -1.54647509e-01,  2.45173275e-02,\n",
              "         4.41034474e-05, -1.34192251e-01, -5.15620995e-06,\n",
              "         4.61244041e-02, -5.01481315e-04,  2.57435335e-03,\n",
              "        -8.02459302e-02],\n",
              "       [ 6.70213005e-04,  1.28730971e+00,  1.48003190e+00,\n",
              "         2.00382938e-01,  6.32146414e-04, -1.05683062e-03,\n",
              "         8.76003073e-03,  6.57658611e-02,  6.14718360e+01,\n",
              "         7.26930783e-01],\n",
              "       [ 4.49410877e-05,  9.53330278e-02,  3.14825601e-01,\n",
              "         5.96994838e-03, -6.60895803e-03,  1.77939588e-03,\n",
              "         1.50013536e-02,  1.22913029e-02,  1.52374206e+00,\n",
              "        -2.77054619e-01],\n",
              "       [ 5.67764984e-04,  7.69362088e-01,  4.98361142e-01,\n",
              "         1.66133138e-02,  1.06064423e-02,  1.00733163e-02,\n",
              "        -5.82029372e-02,  6.02341575e-02,  4.48061508e+00,\n",
              "        -5.20938427e-02],\n",
              "       [ 4.66645763e-04,  7.95687332e-01,  1.05372861e+00,\n",
              "        -2.17052137e-03, -2.68788807e-02, -4.67343110e-02,\n",
              "         5.25195180e-02, -2.33115968e-01, -5.37324227e-01,\n",
              "         8.88796453e-01],\n",
              "       [ 2.62251131e-01,  8.72493345e+01, -1.42222085e+01,\n",
              "        -8.71067639e-03,  3.17137985e-03,  1.84698857e-04,\n",
              "        -7.39806984e-03, -1.10018385e-03, -7.61321545e-01,\n",
              "         5.64636310e-04],\n",
              "       [ 1.02324126e-03,  1.45183514e+01,  8.52282966e+01,\n",
              "        -5.71744897e-02, -2.40333064e-02,  2.05324246e-03,\n",
              "        -1.35921917e-02,  6.29604112e-03, -1.24033632e+00,\n",
              "        -2.78637785e-02],\n",
              "       [-3.33936925e-06,  6.43574836e-02,  4.03316013e-01,\n",
              "        -2.10592715e-03, -3.46891483e-03, -7.16091507e-03,\n",
              "         3.38549740e-03, -4.67710207e-02,  5.84704939e-01,\n",
              "         1.24774628e-01],\n",
              "       [ 5.56747267e-04,  7.96922717e-01, -8.78185705e-02,\n",
              "         2.49624121e-02, -1.69646144e-02, -3.63056766e-03,\n",
              "         2.81038553e-02,  4.00314148e-01,  1.15008623e+00,\n",
              "        -1.74015855e+00],\n",
              "       [ 4.01021398e-04,  5.63700143e-01,  7.00779586e-01,\n",
              "        -2.81063775e-03,  1.00157833e-01, -3.98738205e-02,\n",
              "         5.45742253e-01, -3.26902195e-01,  2.28919012e+00,\n",
              "         1.59510307e-01],\n",
              "       [ 2.52230128e-07,  4.27347607e-04, -1.61051380e-04,\n",
              "        -2.50156070e-04,  9.96113110e-05,  2.95212958e-04,\n",
              "        -4.97548272e-04, -3.46976273e-04,  1.96743888e-02,\n",
              "        -1.26378034e-02],\n",
              "       [ 2.57690456e-07, -1.80278369e-03,  2.12745028e-03,\n",
              "         6.93611798e-04, -2.19982643e-03,  5.28369711e-03,\n",
              "        -4.83301693e-03,  4.05198149e-03, -7.83225326e-02,\n",
              "        -5.46981232e-02],\n",
              "       [-3.96024880e-06,  2.18914731e-02, -3.73142635e-02,\n",
              "        -7.57803788e-03,  1.89675653e-02, -6.21105956e-02,\n",
              "         1.02613848e-03, -7.63254530e-01,  1.17409052e-01,\n",
              "         9.71792751e-01],\n",
              "       [-1.58088579e-05, -7.47187991e-04, -9.17560411e-03,\n",
              "         4.96017196e-04, -1.92293534e-03, -1.21736932e-02,\n",
              "        -1.13893552e-02, -8.41430621e-02,  1.49745168e-01,\n",
              "         1.92718336e-01],\n",
              "       [ 3.96771001e-06,  7.57558406e-04,  2.83650657e-03,\n",
              "        -1.31490393e-03,  7.28602211e-03,  2.63939015e-03,\n",
              "         7.97006896e-04, -8.04404413e-02,  6.37614943e-01,\n",
              "         3.82851570e-01],\n",
              "       [ 1.85505184e-05, -3.63744405e-02,  6.41327905e-04,\n",
              "        -3.16521717e-02, -1.94024670e-02,  3.66571821e-03,\n",
              "         3.39222474e-02,  2.55156728e-02,  2.97196415e-01,\n",
              "        -6.42075356e-02],\n",
              "       [ 2.61643337e-05, -6.89441334e-04,  6.15342835e-03,\n",
              "         6.59986750e-03,  3.21995986e-03,  1.46490929e-02,\n",
              "        -8.11846693e-04,  6.13341166e-02, -7.25610538e-02,\n",
              "        -1.15622922e-01],\n",
              "       [ 1.08568205e-06, -2.15829325e-05,  9.02404525e-04,\n",
              "         2.54555542e-04,  1.73856733e-04,  5.17035818e-04,\n",
              "        -1.49390868e-03,  6.55090113e-03,  1.08717155e-02,\n",
              "        -7.92211149e-03],\n",
              "       [ 1.12870686e-06, -5.18038188e-04, -1.00536853e-03,\n",
              "        -9.12149133e-04, -2.61919863e-04, -3.73671621e-04,\n",
              "        -2.59041169e-03, -6.09751541e-03,  1.50549156e-02,\n",
              "         3.29103998e-02],\n",
              "       [ 2.02715145e-01,  1.71370888e-03,  4.41932436e-03,\n",
              "         3.44065309e-03,  3.63099101e-04,  1.50611474e-02,\n",
              "        -4.92231969e-03,  1.88073788e-01, -7.18302357e-01,\n",
              "         6.03860767e+01],\n",
              "       [-1.32562427e-06, -1.66026019e-05, -4.13886915e-04,\n",
              "         2.73458306e-04, -3.66687603e-04, -9.30085182e-05,\n",
              "        -1.69772272e-03, -4.53978368e-03, -1.31974191e-02,\n",
              "         1.14062744e-02],\n",
              "       [-1.79103448e-06,  1.54273429e-03, -2.05704042e-04,\n",
              "         3.68877136e-04,  1.03294671e-04, -7.76251015e-04,\n",
              "        -6.89897195e-03,  5.13695345e-03,  3.54630861e-02,\n",
              "         1.21568508e-04],\n",
              "       [-1.78405593e-05,  1.52093333e-02,  1.20501653e-04,\n",
              "         1.21607573e-02,  2.93948846e-03, -2.63454793e-02,\n",
              "        -9.99262524e-03, -8.17480529e-02, -7.91790203e-02,\n",
              "         4.88906304e-01],\n",
              "       [ 1.86528102e-01,  3.06486965e-02,  1.98824489e-02,\n",
              "         6.12344355e-03,  3.90581688e-01,  5.02552115e-02,\n",
              "        -1.87830717e-01,  1.91331071e-01, -4.28651786e-01,\n",
              "        -1.91884839e+00],\n",
              "       [ 1.85129215e-07,  1.14550279e-04,  6.75456582e-04,\n",
              "         6.58555740e-03, -3.31512091e-04,  1.89520567e-03,\n",
              "        -2.45834888e-05,  4.43200485e-01,  6.01277448e-03,\n",
              "        -3.90012518e-03],\n",
              "       [ 3.69685741e-04,  6.62737782e-03, -5.95183693e-03,\n",
              "         4.22468532e-03,  1.84455927e-02,  5.97292559e-01,\n",
              "        -3.09623738e-02, -4.11558922e-02, -1.31799068e-02,\n",
              "         8.45767613e-01],\n",
              "       [ 2.27986127e-07,  1.52621119e-02,  5.23496047e-02,\n",
              "         8.50827459e+01,  2.65409699e-02, -2.39520826e-02,\n",
              "        -9.77457609e-04, -1.37202773e+00, -1.44632836e-01,\n",
              "        -5.14952517e-04],\n",
              "       [-1.08437762e-06, -6.83123598e-04,  1.03439392e-03,\n",
              "        -7.55486567e-04, -2.61595243e-04,  4.30685127e-04,\n",
              "         2.49082390e-03, -6.13990305e-04,  7.89004964e-03,\n",
              "         4.28382656e-03],\n",
              "       [ 5.23451987e-07, -3.58994897e-05, -1.64593015e-04,\n",
              "        -8.10017932e-05,  9.03166026e-04, -3.65234031e-04,\n",
              "         5.55362903e-03, -4.93539941e-03, -4.54482483e-04,\n",
              "         1.41059082e-02],\n",
              "       [-1.76438761e-06, -1.05500688e-03, -1.80901451e-03,\n",
              "         1.69598825e+00, -8.19418499e-04,  3.59184801e-01,\n",
              "         8.20423009e-03,  6.87859404e+01, -4.56038920e-02,\n",
              "        -1.13119009e-01],\n",
              "       [ 1.03313521e-06,  2.14779008e-04,  3.00718689e-04,\n",
              "         2.01259037e-04, -1.16361612e-05,  5.54225541e-04,\n",
              "         6.23326966e-04,  3.77255176e-03, -5.47330910e-03,\n",
              "         1.47908356e-02],\n",
              "       [-1.20931587e-06,  2.63476481e-04, -3.36248716e-04,\n",
              "         1.64547210e-04, -2.33973400e-04, -7.89259983e-04,\n",
              "        -4.48017789e-04, -5.10635083e-03,  3.03608411e-04,\n",
              "         1.59858818e-02],\n",
              "       [-1.09444965e-06,  5.64873777e-04,  1.05042302e-04,\n",
              "         4.96130005e-04,  3.81248904e-04, -1.14997246e-03,\n",
              "        -1.58333086e-04, -2.26585197e-03, -9.38519812e-05,\n",
              "         2.70911769e-02],\n",
              "       [ 4.31436699e-09, -2.55342333e-06,  4.19619023e-06,\n",
              "         2.60589375e-06, -8.61779658e-07,  2.10152931e-06,\n",
              "        -2.79289718e-06,  3.77853092e-05,  1.32655746e-04,\n",
              "        -1.73926450e-04],\n",
              "       [ 1.06990620e-06,  1.14686319e-04, -7.47623267e-04,\n",
              "        -1.12160713e-04, -5.28613878e-04,  1.95656672e-04,\n",
              "        -1.36893812e-03, -1.06727636e-05, -2.04991008e-02,\n",
              "         2.10179973e-02],\n",
              "       [-5.51332945e-06,  1.40098392e-04, -2.11064002e-03,\n",
              "        -4.25963542e-03,  2.15430421e-03,  9.36843184e-03,\n",
              "        -4.35942651e-04, -5.88423275e-03,  9.60564596e-02,\n",
              "         2.03768796e-01],\n",
              "       [ 1.21923596e-05,  1.05134735e-02,  6.02034128e-03,\n",
              "         9.54677865e-03,  3.79508706e-02,  4.13115439e-02,\n",
              "        -7.32808384e-02,  1.60587749e-01,  2.81338802e-01,\n",
              "        -4.62320711e-01],\n",
              "       [ 1.14276514e-06,  1.37194097e-04, -5.14409731e-05,\n",
              "        -1.32991245e-04,  1.89500434e-03,  9.62305678e-03,\n",
              "        -4.29416734e-03,  7.26037716e-03,  1.30166143e-02,\n",
              "         1.58945413e-02],\n",
              "       [ 2.33802714e-04, -4.56689402e-04,  1.80717791e-04,\n",
              "        -5.63851414e-04,  2.42671739e-01,  1.56286575e-03,\n",
              "        -1.10271032e-01, -2.05578987e-03,  5.40239456e-03,\n",
              "         7.22787677e-03],\n",
              "       [ 8.10684936e-05, -9.05657206e-03,  8.80682026e-03,\n",
              "        -2.50662001e-03,  1.44654671e-02,  5.56513793e-02,\n",
              "         4.75209859e-03,  2.50670095e-01,  4.12690443e-02,\n",
              "        -9.69546218e-01],\n",
              "       [ 2.31271092e-04,  1.42837792e-03, -8.02127865e-04,\n",
              "         2.12601105e-04,  1.12371989e-01, -3.96500165e-04,\n",
              "         3.09551898e-01, -1.45412411e-02,  2.84507243e-04,\n",
              "        -1.14933015e-02],\n",
              "       [-2.57285086e-05, -6.72904386e-03, -8.91062036e-03,\n",
              "        -2.21166255e-02,  2.11952034e-03, -4.10890290e-02,\n",
              "         7.11052596e-02, -5.06843638e-01,  4.56247055e-01,\n",
              "         1.31595021e+00],\n",
              "       [-3.54253941e-05,  4.51383898e-04,  8.73268835e-03,\n",
              "        -5.96656675e-03,  4.61228617e-02,  2.29464764e-02,\n",
              "        -7.56519625e-02,  8.88228048e-03,  5.98056114e-01,\n",
              "         2.56335462e-01],\n",
              "       [ 1.38879955e-06,  3.04713029e-05,  2.32608192e-04,\n",
              "         1.59282660e-03, -1.56911756e-04,  2.11706649e-04,\n",
              "        -1.39125966e-03,  6.66961044e-03, -2.55036255e-02,\n",
              "        -1.52040675e-02],\n",
              "       [ 7.09330081e-05, -2.84943797e-02,  5.63629066e-03,\n",
              "        -2.92229614e-02, -9.54725205e-03,  7.87368249e-03,\n",
              "         4.44430478e-02, -4.82780094e-01,  1.34281778e+00,\n",
              "         3.61355901e-01],\n",
              "       [ 2.37300839e-05,  2.63459853e-02,  1.08374904e-02,\n",
              "         2.33466930e-02,  4.16289884e-02,  1.35613286e-02,\n",
              "         1.46470427e-02,  2.11878805e-01,  2.87750557e-02,\n",
              "         5.63616719e-02],\n",
              "       [ 2.49016453e-01, -2.15069010e-03,  1.89132541e-02,\n",
              "        -2.45351945e-02,  7.85336545e+01, -4.98292602e-02,\n",
              "        -2.94108589e+01,  3.68052801e-03, -8.41406737e-04,\n",
              "         4.40480776e-03],\n",
              "       [ 3.62844179e-06,  1.84342610e-03,  1.25243949e-03,\n",
              "         1.17786025e-03,  4.16776205e-03,  1.42792574e-03,\n",
              "         5.78931610e-03,  2.26279800e-02, -2.10411193e-04,\n",
              "        -3.26785444e-02],\n",
              "       [-9.20368661e-07,  4.38942884e-03,  5.95365263e-03,\n",
              "         9.24844611e-03,  5.70116561e-03,  3.12450577e-03,\n",
              "         7.95716933e-03,  4.64536370e-01, -4.15200451e-02,\n",
              "        -4.30704900e-02],\n",
              "       [-1.54269427e-06,  1.03879358e-05, -4.61202658e-04,\n",
              "        -2.27308173e-04, -3.56302823e-04, -8.28489208e-04,\n",
              "         2.12397748e-04, -5.21398444e-03,  9.39571508e-03,\n",
              "         2.63788600e-02],\n",
              "       [-1.10641653e-05, -3.62319583e-03,  7.61472114e-03,\n",
              "        -4.91863368e-03,  1.14679987e-03, -1.95108881e-03,\n",
              "         3.27742909e-02, -2.92184896e-02,  1.34751884e-02,\n",
              "         1.07628543e-01],\n",
              "       [-1.03727739e-05,  3.47360640e-03, -2.49012505e-03,\n",
              "         4.76783430e-04,  1.34129356e-03, -9.83139582e-03,\n",
              "         6.77415957e-03,  1.73051476e-02,  1.18468232e-01,\n",
              "         1.09487831e-01],\n",
              "       [-5.06533515e-05, -1.88382588e-02,  3.37838735e-02,\n",
              "        -2.43105503e-02, -7.54865863e-04, -4.68938462e-03,\n",
              "         1.26304543e-01, -9.25614017e-02,  1.64660263e-01,\n",
              "         4.01352329e-01],\n",
              "       [ 1.76841469e-04, -1.07947331e-02, -3.40136028e-03,\n",
              "        -1.13071567e-02,  8.04336832e-03,  7.09916000e-03,\n",
              "         1.51272130e-02, -4.71047485e-02,  3.07240105e-01,\n",
              "        -3.85422854e-03],\n",
              "       [-1.18899249e-06, -6.31445123e-03,  4.05848861e-04,\n",
              "        -3.73159702e-03, -3.46154480e-03, -3.83260607e-03,\n",
              "        -2.85844358e-03, -5.08977810e-02, -8.67878145e-02,\n",
              "        -2.19936591e-02],\n",
              "       [-1.77990683e-05,  3.81791238e-03,  4.66070254e-03,\n",
              "         1.78429042e-03, -1.14043337e-02,  7.68676637e-03,\n",
              "        -1.38012868e-02,  5.59666887e-04,  3.35778571e-02,\n",
              "         2.94101432e-01],\n",
              "       [ 1.28415622e-06, -1.30138713e-04,  1.01891576e-03,\n",
              "         6.48706182e-04,  5.69519073e-04,  1.52629920e-03,\n",
              "         8.83874454e-04,  9.72251486e-03,  2.21656138e-03,\n",
              "        -3.16384545e-02],\n",
              "       [-1.17979674e-06,  4.12409352e-04, -4.23558846e-04,\n",
              "         5.51322334e-03,  2.56680008e-04,  5.16904857e-04,\n",
              "         8.65752042e-05,  3.57162362e-01,  5.46757522e-03,\n",
              "         1.82342202e-02],\n",
              "       [ 1.14745611e-06, -1.96630908e-04,  3.42137344e-04,\n",
              "         5.73586109e-04,  3.72755223e-04,  8.44604760e-04,\n",
              "         2.02065255e-04, -6.42764952e-04,  1.72527162e-02,\n",
              "         6.49707637e-03],\n",
              "       [ 6.04202424e-06,  5.58593241e-04, -1.14759119e-03,\n",
              "        -9.05807453e-04,  1.53756140e-03,  3.67742800e-03,\n",
              "         6.81925943e-03,  1.11818472e-03,  5.06033322e-02,\n",
              "         2.46972221e-03],\n",
              "       [-1.06217059e-05,  1.63144854e-04, -2.54285438e-03,\n",
              "         1.54531536e-03, -1.21670115e-03, -1.05439879e-02,\n",
              "        -1.09418016e-02, -6.67934826e-02, -6.42736176e-02,\n",
              "         2.63668749e-01],\n",
              "       [ 7.48062165e-03,  6.49440912e-03,  1.68935170e-02,\n",
              "        -9.02741421e-03,  3.25906311e+01,  7.47777467e-03,\n",
              "         7.08418777e+01,  3.38757203e-04, -8.76245423e-03,\n",
              "        -2.24340616e-02],\n",
              "       [ 5.68384480e-04, -3.61426114e-02,  9.13273378e-03,\n",
              "        -4.05779928e-02,  1.15324259e+00,  5.04456107e-01,\n",
              "         5.82138651e-01, -1.92116358e-01,  4.82224520e-01,\n",
              "         6.67057839e-01],\n",
              "       [ 4.72230298e-07,  1.40866538e-04, -1.36479800e-04,\n",
              "         5.16862034e-05,  6.26818055e-04, -3.35887552e-04,\n",
              "         4.47673353e-03, -2.23234058e-03, -1.36899605e-02,\n",
              "         4.81032097e-04],\n",
              "       [-1.00563730e-07, -1.62305825e-04, -1.77742942e-05,\n",
              "        -4.40790389e-05, -4.21594711e-05,  2.35197302e-05,\n",
              "        -2.06384677e-04, -9.30484421e-05,  3.83896053e-04,\n",
              "        -2.09154502e-03],\n",
              "       [-9.09437271e-07,  2.50545766e-04, -8.57985652e-04,\n",
              "         5.78615250e-04,  1.02698980e-04, -4.78334492e-04,\n",
              "        -1.48111741e-03, -9.05959874e-03, -9.47375772e-03,\n",
              "         2.63980286e-02],\n",
              "       [ 1.96294961e-06, -2.61706418e-03,  6.65260463e-03,\n",
              "        -3.45919830e-03, -6.91739998e-04,  4.12999242e-03,\n",
              "         2.03439925e-02, -1.03848025e-02, -1.15971462e-01,\n",
              "         1.71273232e-02],\n",
              "       [-1.26510485e-06,  1.07636026e-03, -1.64867717e-04,\n",
              "         1.26059410e-03,  6.85615376e-03,  1.90695376e-03,\n",
              "         2.00158453e-03,  3.09231958e-03,  2.15773501e-02,\n",
              "         5.76406665e-02],\n",
              "       [ 1.94728153e-06,  3.24820138e-04, -1.25147346e-03,\n",
              "         1.79434756e-02,  3.81428575e-02,  8.05145131e+01,\n",
              "        -2.71212036e-02, -3.07433569e-01, -2.12903634e-03,\n",
              "        -1.65054762e-02],\n",
              "       [-1.58670279e-07,  8.33136308e-07, -9.01716550e-05,\n",
              "         2.02969977e-05,  5.11803110e-06, -7.51939467e-05,\n",
              "         1.90016335e-05, -7.03748479e-04, -5.60054432e-04,\n",
              "         2.63069901e-03],\n",
              "       [-2.91783899e-07,  7.77352679e-05, -2.47948122e-05,\n",
              "         6.24185127e-05, -3.88084850e-06, -7.70075697e-05,\n",
              "        -7.44153922e-05, -7.73369473e-04, -4.07764081e-04,\n",
              "         3.93227157e-03],\n",
              "       [ 1.50499539e-07,  1.94741429e-06, -8.26204772e-06,\n",
              "         5.13739729e-05,  9.02864284e-05,  1.60296345e-03,\n",
              "        -3.01307377e-04, -7.10403419e-04, -1.91008273e-03,\n",
              "         4.59372720e-03],\n",
              "       [ 2.23591031e-06,  1.81788383e-02, -1.74467459e-02,\n",
              "         1.79045788e-02,  2.96344351e-01, -4.50319615e-02,\n",
              "         1.06746011e+00, -7.76520673e-02, -1.31967922e+00,\n",
              "         9.84158103e-01],\n",
              "       [ 1.82751275e-04,  3.23877367e-03,  2.38293687e-04,\n",
              "         2.13222285e-04,  1.24421632e-03,  5.43958803e-04,\n",
              "         3.95801132e-03, -3.39742959e-03, -4.91357377e-02,\n",
              "        -7.84751039e-02],\n",
              "       [-3.99948239e-07,  2.29915439e-03, -3.31887340e-05,\n",
              "        -2.73762010e-05,  1.48660800e-03, -2.88855669e-05,\n",
              "         9.56851891e-03, -3.96482971e-03,  2.05395762e-02,\n",
              "         4.94498553e-02],\n",
              "       [-1.49923787e-06,  3.49888363e-04, -8.49376067e-04,\n",
              "        -3.73925302e-04, -1.21658600e-03, -3.90467561e-04,\n",
              "        -9.81156041e-04,  5.73444969e-03, -2.89185557e-03,\n",
              "         2.10286677e-02]])"
            ]
          },
          "metadata": {},
          "execution_count": 19
        }
      ]
    },
    {
      "cell_type": "code",
      "source": [
        "correlation_matrix = np.corrcoef(decomposed_matrix)\n",
        "correlation_matrix.shape"
      ],
      "metadata": {
        "colab": {
          "base_uri": "https://localhost:8080/"
        },
        "id": "E9TVT5QQYfD-",
        "outputId": "6045b437-ce08-40a0-87b7-976b16de9a7c"
      },
      "execution_count": null,
      "outputs": [
        {
          "output_type": "execute_result",
          "data": {
            "text/plain": [
              "(76, 76)"
            ]
          },
          "metadata": {},
          "execution_count": 20
        }
      ]
    },
    {
      "cell_type": "code",
      "source": [
        "X.index[75]"
      ],
      "metadata": {
        "colab": {
          "base_uri": "https://localhost:8080/",
          "height": 35
        },
        "id": "OqNJhuonYjzs",
        "outputId": "9964a473-e25f-4aac-fcbd-18d79ba3e58b"
      },
      "execution_count": null,
      "outputs": [
        {
          "output_type": "execute_result",
          "data": {
            "text/plain": [
              "'B00000K135'"
            ],
            "application/vnd.google.colaboratory.intrinsic+json": {
              "type": "string"
            }
          },
          "metadata": {},
          "execution_count": 21
        }
      ]
    },
    {
      "cell_type": "code",
      "source": [
        "i = X.index[75]\n",
        "\n",
        "product_names = list(X.index)\n",
        "product_ID = product_names.index(i) #index구하기\n",
        "product_ID"
      ],
      "metadata": {
        "colab": {
          "base_uri": "https://localhost:8080/"
        },
        "id": "zfqCvIFhYlWV",
        "outputId": "20bfecaf-7246-428b-9ecb-932c548c5082"
      },
      "execution_count": null,
      "outputs": [
        {
          "output_type": "execute_result",
          "data": {
            "text/plain": [
              "75"
            ]
          },
          "metadata": {},
          "execution_count": 22
        }
      ]
    },
    {
      "cell_type": "code",
      "source": [
        "correlation_product_ID = correlation_matrix[product_ID]\n",
        "correlation_product_ID.shape"
      ],
      "metadata": {
        "colab": {
          "base_uri": "https://localhost:8080/"
        },
        "id": "ATcNd1c5YnQB",
        "outputId": "722df378-68d1-4281-a0c5-95190b93cdce"
      },
      "execution_count": null,
      "outputs": [
        {
          "output_type": "execute_result",
          "data": {
            "text/plain": [
              "(76,)"
            ]
          },
          "metadata": {},
          "execution_count": 23
        }
      ]
    },
    {
      "cell_type": "code",
      "source": [
        "correlation_product_ID"
      ],
      "metadata": {
        "colab": {
          "base_uri": "https://localhost:8080/"
        },
        "id": "wWK6xfkvYsQt",
        "outputId": "66852be1-8161-4ffc-f8bc-5abdd9f85367"
      },
      "execution_count": null,
      "outputs": [
        {
          "output_type": "execute_result",
          "data": {
            "text/plain": [
              "array([-0.10233945, -0.24216919, -0.43999116, -0.28810319,  0.42886399,\n",
              "       -0.05725723, -0.15565915, -0.14508945, -0.80399319, -0.30659782,\n",
              "       -0.68615325, -0.34584928,  0.58148823,  0.51501301,  0.26216567,\n",
              "       -0.38979736, -0.54211551, -0.57931797,  0.73610553,  0.95089546,\n",
              "        0.71980151, -0.1824852 ,  0.90406504, -0.84354801,  0.17080679,\n",
              "        0.7330074 , -0.12304221,  0.18302771,  0.72364552,  0.17996943,\n",
              "        0.96634251,  0.82376286,  0.92040494, -0.81617631,  0.81839061,\n",
              "        0.7774342 , -0.7977821 ,  0.58657258, -0.06435138, -0.86001175,\n",
              "       -0.24465357,  0.69023108,  0.15530716, -0.22962574, -0.05214684,\n",
              "        0.3503531 , -0.09616001, -0.67941491,  0.10594832,  0.77168856,\n",
              "        0.75557152,  0.51575275,  0.67921687, -0.28316693, -0.0711231 ,\n",
              "        0.92735259, -0.8473428 ,  0.22886298,  0.08517713, -0.23021316,\n",
              "        0.87725695, -0.21466845,  0.10908302,  0.17903405, -0.95537502,\n",
              "        0.8367673 ,  0.31793042,  0.83962064, -0.12232849,  0.86750527,\n",
              "        0.89064731,  0.8301839 ,  0.50169813, -0.72044899,  0.76733678,\n",
              "        1.        ])"
            ]
          },
          "metadata": {},
          "execution_count": 24
        }
      ]
    },
    {
      "cell_type": "code",
      "source": [
        "Recommend = list(X.index[correlation_product_ID > 0.65]) #피어슨 상관계수가 0.65보다 큰 상품들의 index의 list return\n",
        "\n",
        "Recommend.remove(i) # 이미 구입한 상품은 뺀다\n",
        "\n",
        "Recommend[0:24] #상위 24개 추천"
      ],
      "metadata": {
        "colab": {
          "base_uri": "https://localhost:8080/"
        },
        "id": "W9ukEQjVYtzK",
        "outputId": "e27cc1d2-d659-4d54-f6ce-de36248db3a2"
      },
      "execution_count": null,
      "outputs": [
        {
          "output_type": "execute_result",
          "data": {
            "text/plain": [
              "['9966694544',\n",
              " '9983891212',\n",
              " '9984984354',\n",
              " 'B000001OM4',\n",
              " 'B000001ON6',\n",
              " 'B00000J05A',\n",
              " 'B00000J08Q',\n",
              " 'B00000J0D2',\n",
              " 'B00000J0D5',\n",
              " 'B00000J1EJ',\n",
              " 'B00000J1EP',\n",
              " 'B00000J1SC',\n",
              " 'B00000J3UJ',\n",
              " 'B00000J434',\n",
              " 'B00000J4FS',\n",
              " 'B00000JBAT',\n",
              " 'B00000JD34',\n",
              " 'B00000JFIF',\n",
              " 'B00000JHWX',\n",
              " 'B00000JII6',\n",
              " 'B00000JMUG',\n",
              " 'B00000JPPI',\n",
              " 'B00000JYWQ']"
            ]
          },
          "metadata": {},
          "execution_count": 25
        }
      ]
    },
    {
      "cell_type": "code",
      "source": [
        "Recommend"
      ],
      "metadata": {
        "colab": {
          "base_uri": "https://localhost:8080/"
        },
        "id": "qzQ9V2SXYvFN",
        "outputId": "9b670272-40d8-4ed0-bd6e-5803a9ca213d"
      },
      "execution_count": null,
      "outputs": [
        {
          "output_type": "execute_result",
          "data": {
            "text/plain": [
              "['9966694544',\n",
              " '9983891212',\n",
              " '9984984354',\n",
              " 'B000001OM4',\n",
              " 'B000001ON6',\n",
              " 'B00000J05A',\n",
              " 'B00000J08Q',\n",
              " 'B00000J0D2',\n",
              " 'B00000J0D5',\n",
              " 'B00000J1EJ',\n",
              " 'B00000J1EP',\n",
              " 'B00000J1SC',\n",
              " 'B00000J3UJ',\n",
              " 'B00000J434',\n",
              " 'B00000J4FS',\n",
              " 'B00000JBAT',\n",
              " 'B00000JD34',\n",
              " 'B00000JFIF',\n",
              " 'B00000JHWX',\n",
              " 'B00000JII6',\n",
              " 'B00000JMUG',\n",
              " 'B00000JPPI',\n",
              " 'B00000JYWQ']"
            ]
          },
          "metadata": {},
          "execution_count": 26
        }
      ]
    },
    {
      "cell_type": "code",
      "source": [
        ""
      ],
      "metadata": {
        "id": "xrcWI9YqZcxH"
      },
      "execution_count": null,
      "outputs": []
    }
  ]
}