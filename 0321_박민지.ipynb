{
  "nbformat": 4,
  "nbformat_minor": 0,
  "metadata": {
    "colab": {
      "name": "0321_박민지",
      "provenance": [],
      "collapsed_sections": [],
      "authorship_tag": "ABX9TyN9bUfD7/T0bcgD9QygL0Ng",
      "include_colab_link": true
    },
    "kernelspec": {
      "name": "python3",
      "display_name": "Python 3"
    },
    "language_info": {
      "name": "python"
    }
  },
  "cells": [
    {
      "cell_type": "markdown",
      "metadata": {
        "id": "view-in-github",
        "colab_type": "text"
      },
      "source": [
        "<a href=\"https://colab.research.google.com/github/xoxominji/22-1-ESAA-Practice/blob/main/0321_%EB%B0%95%EB%AF%BC%EC%A7%80.ipynb\" target=\"_parent\"><img src=\"https://colab.research.google.com/assets/colab-badge.svg\" alt=\"Open In Colab\"/></a>"
      ]
    },
    {
      "cell_type": "markdown",
      "source": [
        "# [개념정리]\n",
        "\n",
        "## 핸즈온 Chapter 4. 분류 p.157~202\n",
        "\n",
        "<선형 회귀 모델 훈련 방법>\n",
        "\n",
        "1. 계산 가능한 공식 사용하여 비용함수를 최소화 하는 모델 파라미터 구하기\n",
        "2. 경사 하강법(GD) 최적화 방식을 사용하여 비용함수 최소화\n",
        "\n",
        "> 결국 비용함수를 최소화 하는 파라미터를 찾아 최적화된 모델 찾기"
      ],
      "metadata": {
        "id": "h_DmJmMUTnBF"
      }
    },
    {
      "cell_type": "markdown",
      "source": [
        "### 4.1 선형 회귀\n",
        "\n",
        "대표적인 성능 측정 지표: 평균제곱근 오차(RMSE)\n",
        "\n",
        "#### 4.1.1 정규방정식\n",
        "\n",
        "$\\hat{\\theta}= (X_b^TX_b)^{-1}X_b^Ty$\n",
        "\n",
        "    np.linalg.inv(X_b.T.dot(X_b)).dot(X_b.T).dot(y) #dot: 행렬곱셈\n",
        "\n",
        "LinearRegression클래스의 기반 비용 함수: SVD 특잇값 분해 기법을 사용해 게산된 유사역행렬을 사용하여 계산\n",
        "    \n",
        "    scipy.linalg.lstsq(X-b, y)\n",
        "\n",
        "    np.linalg.pinv(X_b).dot(y)#와 동일; 유사역행렬\n",
        "\n",
        "\n",
        "#### 4.1.2 계산 복잡도\n",
        "\n",
        "정규방정식 >> SVD\n",
        "\n",
        "예측 계산 복잡도는 샘플 수와 특성 수의 비례\n"
      ],
      "metadata": {
        "id": "FCU-tNtyUI6Z"
      }
    },
    {
      "cell_type": "markdown",
      "source": [
        "### 4.2 경사 하강법\n",
        "\n",
        ": 학습 과정을 통해 파라미터가 무작위하게 초기화된 후 반복적으로 수정하며 비용 함수를 최소화 (파라미터 공간 찾기)\n",
        "\n",
        "<파라미터>\n",
        "- 학습률(learning rate): 스탭의 크기\n",
        "\n",
        "<경사 하강법의 문제점>\n",
        "- 왼쪽 시작시 global minimum보다 local minimum에 수렴될 가능성\n",
        "- 오른쪽 시작시 평지를 뛰어넘지 못하고 global minimum에 도달 못함\n",
        "\n",
        "> StandardScaler 등을 사용해야 함"
      ],
      "metadata": {
        "id": "fSPe0R0u_4Ml"
      }
    },
    {
      "cell_type": "markdown",
      "source": [
        "#### 4.2.1 배치 경사 하강법\n",
        "\n",
        ": 매 경사 경사 하강법 스텝에서 전체 훈련 세트 X에 대해 계산\n",
        "\n",
        "단점: 큰 훈련 세트에서 속도 느림\n",
        "\n",
        "장점: 특성 수에 민감하지 않음 (bette than 정규방정식, SVD 분해)"
      ],
      "metadata": {
        "id": "kuSN7yizDC4W"
      }
    },
    {
      "cell_type": "markdown",
      "source": [
        "#### 4.2.2 확률적 경사 하강법\n",
        "\n",
        ": 매 스텝 한 개의 샘플을 무작위로 선택하여 그레이디언트 계산\n",
        "\n",
        "장점: 빠름\n",
        "\n",
        "단점: 불안정, 요동치면서 평균적으로 감소, 최솟값에 안착하지 못하는 경우 많음\n",
        "\n",
        "해결방안: **학습률을 점진적으로 감소 (학습 스케줄)**\n",
        "\n",
        "\n",
        "\n",
        "```\n",
        "from sklearn.linear_model import SGDRegressor\n",
        "SGDRegressor(max_iter=1000, tol=1e-3, penalty=None, eta0=0.1)\n",
        "```\n",
        "\n"
      ],
      "metadata": {
        "id": "H0UnEBxCGaRb"
      }
    },
    {
      "cell_type": "markdown",
      "source": [
        "#### 4.2.3 미니배치 경사 하강법\n",
        "\n",
        ": 임의의 작음 샘플 세트에 대해 그레이디언트 계산\n",
        "\n",
        "장점: GPU 사용에서 얻는 성능 향상(행렬 연산에 용이), SGD보다 덜 불규칙\n",
        "\n",
        "단점: local minimum 극복 어려움"
      ],
      "metadata": {
        "id": "Zxd6xJi5ISnM"
      }
    },
    {
      "cell_type": "markdown",
      "source": [
        "### 4.3 다항 회귀\n",
        "\n",
        "\n",
        "\n",
        "```\n",
        "from sklearn.preprocessing import PolynomialFeatures\n",
        "PolynomialFeatures(degree=#, include_bias=False)\n",
        "```\n",
        "degree=3일 때, $a^2, a^3, b^2, b^3, ab, a^2b, ab^2$도 추가\n"
      ],
      "metadata": {
        "id": "1Zitf0CGI0SQ"
      }
    },
    {
      "cell_type": "markdown",
      "source": [
        "### 4.4 학습 곡선\n",
        "\n",
        ": 모델의 과대적합, 과소적합 확인\n",
        "\n",
        "훈련 세트에서 크기가 다른 서브 세트를 만들어 모델을 여러 번 훈련\n",
        "\n",
        "<편향/분산 트레이트오프>\n",
        "- 모델의 복잡도 커지면 분산 up, 편향 down\n",
        "- 모델의 복잡도 줄어들면 편향 up, 분산 down\n",
        "> \"트레이드 오프\" "
      ],
      "metadata": {
        "id": "TKwuCPyMKPGZ"
      }
    },
    {
      "cell_type": "markdown",
      "source": [
        "### 4.5 규제가 있는 선형 모델\n",
        "\n",
        "가중치 제한 방식에 따른 여러 규제 모델\n",
        "\n",
        "#### 4.5.1 릿지 회귀\n",
        "\n",
        "비용함수 $J(\\theta)=MSE(\\theta) + \\alpha\\frac{1}{2}\\Sigma\\theta_i^2$\n",
        "\n",
        "\n",
        "\n",
        "```\n",
        "#StandardScaler 사용 후\n",
        "from sklearn.linear_model import Ridge\n",
        "Ridge(alpha=0~1, solver=\"cholesky\")\n",
        "\n",
        "SGDRegressor(penalty=\"l2\")#와 동일\n",
        "\n",
        "```\n",
        "\n",
        "#### 4.5.2 라쏘 회귀\n",
        "비용함수 $J(\\theta)=MSE(\\theta) + \\alpha\\Sigma|\\theta_i|$\n",
        "\n",
        "덜 중요한 특성의 가중치 제거, 특성 선택 후 희소 모델 만듦\n",
        "\n",
        "```\n",
        "from sklearn.linear_model import Lasso\n",
        "Ridge(alpha=0~1, solver=\"cholesky\")\n",
        "\n",
        "SGDRegressor(penalty=\"l1\")#와 동일\n",
        "\n",
        "```\n",
        "\n",
        "#### 4.5.3 엘라스틱넷\n",
        "\n",
        "규제항: 릿지와 회귀의 규제항을 단순히 더해 혼합 비율 r을 사용\n",
        "\n",
        "r=0 -> 릿지 회귀\n",
        "\n",
        "r=1 -> 라쏘 회귀\n",
        "\n",
        "특성 수 > 훈련 샘플 수, 특성 간의 관계가 뚜렷할 때 라쏘보단 엘라스틱 넷\n",
        "\n",
        "\n",
        "\n",
        "```\n",
        "from sklearn.linear_model import ElasticNet\n",
        "ElasticNet(alpha=0~1, lr_ratio=0~1)\n",
        "```\n",
        "\n"
      ],
      "metadata": {
        "id": "5NHKOW2MNpXn"
      }
    },
    {
      "cell_type": "markdown",
      "source": [
        "#### 4.5.4 조기 종료\n",
        "\n",
        ": 검증 에러가 최소에 도달하는 즉시 훈련을 멈춰 과대적합 방지"
      ],
      "metadata": {
        "id": "B3U1DbXJSZeE"
      }
    },
    {
      "cell_type": "markdown",
      "source": [
        "### 4.6 로지스틱 회귀\n",
        ": 분류를 위한 회귀 알고리즘\n",
        "\n",
        "- 이진 분류: 로지스틱 회귀 활용\n",
        "- 다중 클래스 분류: 소프트맥스 회귀 활용\n",
        "\n",
        "#### 4.6.1 확률 추정\n",
        "\n",
        "로지스틱 함수를 사용해 샘플x가 양성 클래스에 속할 확률을 계산\n",
        "\n",
        "0.5이상이면 양성 0.5 미만이면 음성으로 분류\n",
        "\n",
        "#### 4.6.2 훈련과 비용함수\n",
        "\n",
        "#### 4.6.3 결정 경계\n",
        "\n",
        "\n",
        "\n",
        "```\n",
        "from sklearn.linear_model import LogisticRegression\n",
        "LogisticRegression()\n",
        "\n",
        "model.predict_proba(X) # 추정 확률 계산\n",
        "```\n",
        "\n",
        "#### 4.6.4 소프트맥스 회귀(=다항 로지스틱 회귀)\n",
        "\n",
        ": 추정 확률이 가장 높은 클래스로 분류\n",
        "\n",
        "크로스 엔트로피 비용 함수를 최소화\n",
        "\n",
        "\n",
        "\n",
        "```\n",
        "LogisticRegresssion(multi_class=\"multinomial\", solver=\"lbfgs\" 소프트맥스, C=#규제#)\n",
        "```\n",
        "\n",
        "\n"
      ],
      "metadata": {
        "id": "hVbKVNyrTi9t"
      }
    },
    {
      "cell_type": "markdown",
      "source": [
        "# [필사]"
      ],
      "metadata": {
        "id": "xbJ7S4RZUL5F"
      }
    },
    {
      "cell_type": "code",
      "source": [
        "import numpy as np\n",
        "\n",
        "X = 2 * np.random.rand(100, 1)\n",
        "y = 4 + 3 * X + np.random.randn(100, 1)"
      ],
      "metadata": {
        "id": "8c6Mxe1rUOg5"
      },
      "execution_count": null,
      "outputs": []
    },
    {
      "cell_type": "code",
      "source": [
        "#X로부터 X_b 생성\n",
        "X_b = np.c_[np.ones((100, 1)), X]"
      ],
      "metadata": {
        "id": "jhbdxXfv29vW"
      },
      "execution_count": null,
      "outputs": []
    },
    {
      "cell_type": "code",
      "source": [
        "theta_best = np.linalg.inv(X_b.T.dot(X_b)).dot(X_b.T).dot(y)\n",
        "theta_best"
      ],
      "metadata": {
        "colab": {
          "base_uri": "https://localhost:8080/"
        },
        "id": "MKXLtjFv4BgQ",
        "outputId": "9793cfc4-2eb2-431f-fc92-cbab4345f3bd"
      },
      "execution_count": null,
      "outputs": [
        {
          "output_type": "execute_result",
          "data": {
            "text/plain": [
              "array([[4.08296256],\n",
              "       [2.93168747]])"
            ]
          },
          "metadata": {},
          "execution_count": 6
        }
      ]
    },
    {
      "cell_type": "markdown",
      "source": [
        "> $\\theta_0=4, \\theta_1=3$ 기대했으나 잡음에 의해 나오지 않음 "
      ],
      "metadata": {
        "id": "PDYIIuhG4HLp"
      }
    },
    {
      "cell_type": "code",
      "source": [
        "X_new = np.array([[0], [2]])\n",
        "X_new_b = np.c_[np.ones((2, 1)), X_new]  # 모든 샘플에 x0 = 1을 추가합니다.\n",
        "y_predict = X_new_b.dot(theta_best)\n",
        "y_predict"
      ],
      "metadata": {
        "colab": {
          "base_uri": "https://localhost:8080/"
        },
        "id": "8LtOVExc4EIo",
        "outputId": "56513092-f0c4-49f7-ecd7-f69098b4c0e8"
      },
      "execution_count": null,
      "outputs": [
        {
          "output_type": "execute_result",
          "data": {
            "text/plain": [
              "array([[4.08296256],\n",
              "       [9.94633751]])"
            ]
          },
          "metadata": {},
          "execution_count": 7
        }
      ]
    },
    {
      "cell_type": "code",
      "source": [
        "plt.plot(X_new, y_predict, \"r-\")\n",
        "plt.plot(X, y, \"b.\")\n",
        "plt.axis([0, 2, 0, 15])\n",
        "plt.show()"
      ],
      "metadata": {
        "colab": {
          "base_uri": "https://localhost:8080/",
          "height": 265
        },
        "id": "i4DS6zRx4h3C",
        "outputId": "de71c689-449d-4c9b-ad1a-2c6aa06c0fa1"
      },
      "execution_count": null,
      "outputs": [
        {
          "output_type": "display_data",
          "data": {
            "text/plain": [
              "<Figure size 432x288 with 1 Axes>"
            ],
            "image/png": "[encoded data removed]"
          },
          "metadata": {
            "needs_background": "light"
          }
        }
      ]
    },
    {
      "cell_type": "code",
      "source": [
        "#사이킷런의 선형회귀\n",
        "from sklearn.linear_model import LinearRegression\n",
        "lin_reg = LinearRegression()\n",
        "lin_reg.fit(X, y)\n",
        "lin_reg.intercept_, lin_reg.coef_"
      ],
      "metadata": {
        "colab": {
          "base_uri": "https://localhost:8080/"
        },
        "id": "NvtlU9dh6ja1",
        "outputId": "553e11b0-14d0-4123-8356-9a4bd9993433"
      },
      "execution_count": null,
      "outputs": [
        {
          "output_type": "execute_result",
          "data": {
            "text/plain": [
              "(array([4.08296256]), array([[2.93168747]]))"
            ]
          },
          "metadata": {},
          "execution_count": 12
        }
      ]
    },
    {
      "cell_type": "code",
      "source": [
        "lin_reg.predict(X_new)"
      ],
      "metadata": {
        "colab": {
          "base_uri": "https://localhost:8080/"
        },
        "id": "J_Eg3Cdg6sSx",
        "outputId": "f3812e13-b5b6-4eba-da34-a9179e4fda1a"
      },
      "execution_count": null,
      "outputs": [
        {
          "output_type": "execute_result",
          "data": {
            "text/plain": [
              "array([[4.08296256],\n",
              "       [9.94633751]])"
            ]
          },
          "metadata": {},
          "execution_count": 13
        }
      ]
    },
    {
      "cell_type": "code",
      "source": [
        "theta_best_svd, residuals, rank, s = np.linalg.lstsq(X_b, y, rcond=1e-6)\n",
        "theta_best_svd"
      ],
      "metadata": {
        "colab": {
          "base_uri": "https://localhost:8080/"
        },
        "id": "JV9cp58Y65EM",
        "outputId": "a346b8ce-990e-4193-dd94-52107de5f496"
      },
      "execution_count": null,
      "outputs": [
        {
          "output_type": "execute_result",
          "data": {
            "text/plain": [
              "array([[4.08296256],\n",
              "       [2.93168747]])"
            ]
          },
          "metadata": {},
          "execution_count": 14
        }
      ]
    },
    {
      "cell_type": "code",
      "source": [
        "np.linalg.pinv(X_b).dot(y) #유사역행렬"
      ],
      "metadata": {
        "colab": {
          "base_uri": "https://localhost:8080/"
        },
        "id": "mHtkY9Tp_TdA",
        "outputId": "eb63f0d1-d09c-4b32-e179-f418dbeeaec3"
      },
      "execution_count": null,
      "outputs": [
        {
          "output_type": "execute_result",
          "data": {
            "text/plain": [
              "array([[4.08296256],\n",
              "       [2.93168747]])"
            ]
          },
          "metadata": {},
          "execution_count": 15
        }
      ]
    },
    {
      "cell_type": "markdown",
      "source": [
        "\n",
        "\n",
        "---\n",
        "\n",
        "\n",
        "\n",
        "---\n",
        "\n"
      ],
      "metadata": {
        "id": "BNRbL1dl_XEk"
      }
    },
    {
      "cell_type": "code",
      "source": [
        "# 4.2.1 배치 경사 하강법\n",
        "eta = 0.1  # 학습률\n",
        "n_iterations = 1000\n",
        "m = 100 #샘플수\n",
        "\n",
        "theta = np.random.randn(2,1) # 무작위 초기화\n",
        "\n",
        "for iteration in range(n_iterations):\n",
        "    gradients = 2/m * X_b.T.dot(X_b.dot(theta) - y)\n",
        "    theta = theta - eta * gradients"
      ],
      "metadata": {
        "id": "u5OrwMxB_VWj"
      },
      "execution_count": null,
      "outputs": []
    },
    {
      "cell_type": "code",
      "source": [
        "theta"
      ],
      "metadata": {
        "colab": {
          "base_uri": "https://localhost:8080/"
        },
        "id": "MHq22Mv6DlQG",
        "outputId": "72d1c778-06db-4ac3-9738-32adcc5385ea"
      },
      "execution_count": null,
      "outputs": [
        {
          "output_type": "execute_result",
          "data": {
            "text/plain": [
              "array([[4.08296256],\n",
              "       [2.93168747]])"
            ]
          },
          "metadata": {},
          "execution_count": 17
        }
      ]
    },
    {
      "cell_type": "code",
      "source": [
        "# 4.2.2 확률적 경사 하강법\n",
        "n_epochs = 50\n",
        "t0, t1 = 5, 50\n",
        "\n",
        "def learning_schedule(t):\n",
        "    return t0 / (t + t1)\n",
        "\n",
        "theta = np.random.randn(2,1)\n",
        "\n",
        "for epoch in range(n_epochs):\n",
        "    for i in range(m):\n",
        "        # 학습 모델 그리기 (처음 20번만 그림)\n",
        "        if epoch == 0 and i < 20:           \n",
        "            y_predict = X_new_b.dot(theta) \n",
        "            style = \"b-\" if i > 0 else \"r--\"\n",
        "            plt.plot(X_new, y_predict, style)\n",
        "\n",
        "        # 샘플 무작위 선택\n",
        "        random_index = np.random.randint(m) \n",
        "        xi = X_b[random_index:random_index+1]\n",
        "        yi = y[random_index:random_index+1]\n",
        "        \n",
        "        # 그레이디언트 계산\n",
        "        gradients = 2 * xi.T.dot(xi.dot(theta) - yi)\n",
        "        # 학습률 조정\n",
        "        eta = learning_schedule(epoch * m + i)\n",
        "        # 파라미터 조정\n",
        "        theta = theta - eta * gradients\n",
        "\n",
        "theta"
      ],
      "metadata": {
        "colab": {
          "base_uri": "https://localhost:8080/",
          "height": 302
        },
        "id": "IE0_vMC_Dl9w",
        "outputId": "c3785d9e-9cca-4698-eda8-cbad7e646833"
      },
      "execution_count": null,
      "outputs": [
        {
          "output_type": "execute_result",
          "data": {
            "text/plain": [
              "array([[4.08445286],\n",
              "       [2.92602351]])"
            ]
          },
          "metadata": {},
          "execution_count": 18
        },
        {
          "output_type": "display_data",
          "data": {
            "text/plain": [
              "<Figure size 432x288 with 1 Axes>"
            ],
            "image/png": "[encoded data removed]"
          },
          "metadata": {
            "needs_background": "light"
          }
        }
      ]
    },
    {
      "cell_type": "code",
      "source": [
        "from sklearn.linear_model import SGDRegressor\n",
        "\n",
        "sgd_reg = SGDRegressor(max_iter=1000, tol=1e-3, penalty=None, eta0=0.1)\n",
        "sgd_reg.fit(X, y.ravel())"
      ],
      "metadata": {
        "colab": {
          "base_uri": "https://localhost:8080/"
        },
        "id": "HjFxB3juHf9T",
        "outputId": "a75bc926-38f0-4189-8017-eb6c5145a92d"
      },
      "execution_count": null,
      "outputs": [
        {
          "output_type": "execute_result",
          "data": {
            "text/plain": [
              "SGDRegressor(eta0=0.1, penalty=None)"
            ]
          },
          "metadata": {},
          "execution_count": 19
        }
      ]
    },
    {
      "cell_type": "code",
      "source": [
        "sgd_reg.intercept_, sgd_reg.coef_"
      ],
      "metadata": {
        "colab": {
          "base_uri": "https://localhost:8080/"
        },
        "id": "RN3cdYp2IMMZ",
        "outputId": "5073c92c-f001-4e80-d13a-46c95e9a9d87"
      },
      "execution_count": null,
      "outputs": [
        {
          "output_type": "execute_result",
          "data": {
            "text/plain": [
              "(array([4.08299253]), array([2.8973857]))"
            ]
          },
          "metadata": {},
          "execution_count": 20
        }
      ]
    },
    {
      "cell_type": "markdown",
      "source": [
        "\n",
        "\n",
        "---\n",
        "\n",
        "\n",
        "\n",
        "---\n",
        "\n"
      ],
      "metadata": {
        "id": "zE1AEcrFIOK-"
      }
    },
    {
      "cell_type": "code",
      "source": [
        "# 4.3 다항회귀: 2차방정식 비선형 데이터\n",
        "m = 100\n",
        "X = 6 * np.random.rand(m, 1) - 3\n",
        "y = 0.5 * X**2 + X + 2 + np.random.randn(m, 1)"
      ],
      "metadata": {
        "id": "XMt4aofPINY3"
      },
      "execution_count": null,
      "outputs": []
    },
    {
      "cell_type": "code",
      "source": [
        "from sklearn.preprocessing import PolynomialFeatures\n",
        "poly_features = PolynomialFeatures(degree=2, include_bias=False)\n",
        "X_poly = poly_features.fit_transform(X)"
      ],
      "metadata": {
        "id": "lJJ3I0ryJfA6"
      },
      "execution_count": null,
      "outputs": []
    },
    {
      "cell_type": "code",
      "source": [
        "X[0]"
      ],
      "metadata": {
        "colab": {
          "base_uri": "https://localhost:8080/"
        },
        "id": "lPpgLMIfJl8E",
        "outputId": "e821e3fa-c7f9-4b48-ab2f-a4533d9381f7"
      },
      "execution_count": null,
      "outputs": [
        {
          "output_type": "execute_result",
          "data": {
            "text/plain": [
              "array([-0.86601957])"
            ]
          },
          "metadata": {},
          "execution_count": 23
        }
      ]
    },
    {
      "cell_type": "code",
      "source": [
        "X_poly[0]"
      ],
      "metadata": {
        "colab": {
          "base_uri": "https://localhost:8080/"
        },
        "id": "ZsSgqCQrJnLC",
        "outputId": "6c2a9c99-75e6-4dc0-dcb1-5a199f81ee88"
      },
      "execution_count": null,
      "outputs": [
        {
          "output_type": "execute_result",
          "data": {
            "text/plain": [
              "array([-0.86601957,  0.7499899 ])"
            ]
          },
          "metadata": {},
          "execution_count": 24
        }
      ]
    },
    {
      "cell_type": "code",
      "source": [
        "lin_reg = LinearRegression()\n",
        "lin_reg.fit(X_poly, y)\n",
        "lin_reg.intercept_, lin_reg.coef_"
      ],
      "metadata": {
        "colab": {
          "base_uri": "https://localhost:8080/"
        },
        "id": "AIjIZSj5JoP9",
        "outputId": "76c92232-6207-4f07-b0fc-f29ea76eee07"
      },
      "execution_count": null,
      "outputs": [
        {
          "output_type": "execute_result",
          "data": {
            "text/plain": [
              "(array([2.26364037]), array([[0.93578355, 0.42227365]]))"
            ]
          },
          "metadata": {},
          "execution_count": 25
        }
      ]
    },
    {
      "cell_type": "markdown",
      "source": [
        "\n",
        "\n",
        "---\n",
        "\n",
        "\n",
        "\n",
        "---\n",
        "\n"
      ],
      "metadata": {
        "id": "Ctvru9i3K_4s"
      }
    },
    {
      "cell_type": "code",
      "source": [
        "from sklearn.metrics import mean_squared_error\n",
        "from sklearn.model_selection import train_test_split\n",
        "\n",
        "def plot_learning_curves(model, X, y):\n",
        "    X_train, X_val, y_train, y_val = train_test_split(X, y, test_size=0.2, random_state=10)\n",
        "    train_errors, val_errors = [], []\n",
        "    \n",
        "    for m in range(1, len(X_train)):\n",
        "        model.fit(X_train[:m], y_train[:m])\n",
        "        y_train_predict = model.predict(X_train[:m])\n",
        "        y_val_predict = model.predict(X_val)\n",
        "        train_errors.append(mean_squared_error(y_train[:m], y_train_predict))\n",
        "        val_errors.append(mean_squared_error(y_val, y_val_predict))\n",
        "\n",
        "    # 평균 제곱근 오차 그래프 그리기\n",
        "    plt.plot(np.sqrt(train_errors), \"r-+\", linewidth=2, label=\"train\")\n",
        "    plt.plot(np.sqrt(val_errors), \"b-\", linewidth=3, label=\"val\")"
      ],
      "metadata": {
        "id": "okkxVj89J7e1"
      },
      "execution_count": null,
      "outputs": []
    },
    {
      "cell_type": "code",
      "source": [
        "lin_reg = LinearRegression()\n",
        "plot_learning_curves(lin_reg, X, y)"
      ],
      "metadata": {
        "colab": {
          "base_uri": "https://localhost:8080/",
          "height": 265
        },
        "id": "NZoAkuxYLOQm",
        "outputId": "fb05c4d6-6ac8-4d41-efd7-3c787a80fb82"
      },
      "execution_count": null,
      "outputs": [
        {
          "output_type": "display_data",
          "data": {
            "text/plain": [
              "<Figure size 432x288 with 1 Axes>"
            ],
            "image/png": "[encoded data removed]"
          },
          "metadata": {
            "needs_background": "light"
          }
        }
      ]
    },
    {
      "cell_type": "code",
      "source": [
        "# 10차 다항 회귀 모델의 학습 곡선 그리기\n",
        "from sklearn.pipeline import Pipeline\n",
        "\n",
        "polynomial_regression = Pipeline([\n",
        "        (\"poly_features\", PolynomialFeatures(degree=10, include_bias=False)),\n",
        "        (\"lin_reg\", LinearRegression()),\n",
        "    ])\n",
        "\n",
        "plot_learning_curves(polynomial_regression, X, y)"
      ],
      "metadata": {
        "colab": {
          "base_uri": "https://localhost:8080/",
          "height": 265
        },
        "id": "YrtWAE6aLRCo",
        "outputId": "6b1d5044-8315-426f-f488-e470cf4a0248"
      },
      "execution_count": null,
      "outputs": [
        {
          "output_type": "display_data",
          "data": {
            "text/plain": [
              "<Figure size 432x288 with 1 Axes>"
            ],
            "image/png": "[encoded data removed]"
          },
          "metadata": {
            "needs_background": "light"
          }
        }
      ]
    },
    {
      "cell_type": "markdown",
      "source": [
        "\n",
        "\n",
        "---\n",
        "\n",
        "\n",
        "\n",
        "---\n",
        "\n"
      ],
      "metadata": {
        "id": "zq5xKedsO-L4"
      }
    },
    {
      "cell_type": "code",
      "source": [
        "# 릿지 회귀\n",
        "from sklearn.linear_model import Ridge\n",
        "ridge_reg = Ridge(alpha=1, solver=\"cholesky\")\n",
        "ridge_reg.fit(X, y)\n",
        "ridge_reg.predict([[1.5]])"
      ],
      "metadata": {
        "colab": {
          "base_uri": "https://localhost:8080/"
        },
        "id": "8XjU9wXLLfdb",
        "outputId": "2a0e6b7a-7fe3-48b8-e875-08bff5c98357"
      },
      "execution_count": null,
      "outputs": [
        {
          "output_type": "execute_result",
          "data": {
            "text/plain": [
              "array([[4.96718159]])"
            ]
          },
          "metadata": {},
          "execution_count": 31
        }
      ]
    },
    {
      "cell_type": "code",
      "source": [
        "sgd_reg = SGDRegressor(penalty=\"l2\")\n",
        "sgd_reg.fit(X, y.ravel())\n",
        "sgd_reg.predict([[1.5]])"
      ],
      "metadata": {
        "colab": {
          "base_uri": "https://localhost:8080/"
        },
        "id": "fpIoS7UyPC5u",
        "outputId": "49d49925-9d75-4499-de69-895bda015eb0"
      },
      "execution_count": null,
      "outputs": [
        {
          "output_type": "execute_result",
          "data": {
            "text/plain": [
              "array([4.95341184])"
            ]
          },
          "metadata": {},
          "execution_count": 32
        }
      ]
    },
    {
      "cell_type": "code",
      "source": [
        "# 라쏘 회귀\n",
        "from sklearn.linear_model import Lasso\n",
        "lasso_reg = Lasso(alpha=0.1)\n",
        "lasso_reg.fit(X, y)\n",
        "lasso_reg.predict([[1.5]])"
      ],
      "metadata": {
        "colab": {
          "base_uri": "https://localhost:8080/"
        },
        "id": "cnhHYGNTPLtB",
        "outputId": "d18cce41-bad2-4020-8c45-851bfd1184be"
      },
      "execution_count": null,
      "outputs": [
        {
          "output_type": "execute_result",
          "data": {
            "text/plain": [
              "array([4.91983326])"
            ]
          },
          "metadata": {},
          "execution_count": 33
        }
      ]
    },
    {
      "cell_type": "code",
      "source": [
        "# 엘라스틱넷\n",
        "from sklearn.linear_model import ElasticNet\n",
        "elastic_net = ElasticNet(alpha=0.1, l1_ratio=0.5, random_state=42)\n",
        "elastic_net.fit(X, y)\n",
        "elastic_net.predict([[1.5]])"
      ],
      "metadata": {
        "colab": {
          "base_uri": "https://localhost:8080/"
        },
        "id": "ZuIC2oVxSwyC",
        "outputId": "65ff2636-bf86-4d36-9ec7-5a8aefef5251"
      },
      "execution_count": null,
      "outputs": [
        {
          "output_type": "execute_result",
          "data": {
            "text/plain": [
              "array([4.92340674])"
            ]
          },
          "metadata": {},
          "execution_count": 34
        }
      ]
    },
    {
      "cell_type": "code",
      "source": [
        "# 조기 종료\n",
        "from sklearn.base import clone\n",
        "from sklearn.preprocessing import StandardScaler\n",
        "\n",
        "# 데이터 준비\n",
        "poly_scaler = Pipeline([\n",
        "        (\"poly_features\", PolynomialFeatures(degree=90, include_bias=False)),\n",
        "        (\"std_scaler\", StandardScaler())\n",
        "    ])\n",
        "\n",
        "X_train_poly_scaled = poly_scaler.fit_transform(X_train)\n",
        "X_val_poly_scaled = poly_scaler.transform(X_val)\n",
        "\n",
        "sgd_reg = SGDRegressor(max_iter=1, tol=-np.infty, warm_start=True,\n",
        "                       penalty=None, learning_rate=\"constant\", eta0=0.0005, random_state=42)\n",
        "\n",
        "minimum_val_error = float(\"inf\")\n",
        "best_epoch = None\n",
        "best_model = None\n",
        "for epoch in range(1000):\n",
        "    sgd_reg.fit(X_train_poly_scaled, y_train)  # 훈련을 이어서 진행합니다.\n",
        "    y_val_predict = sgd_reg.predict(X_val_poly_scaled)\n",
        "    val_error = mean_squared_error(y_val, y_val_predict)\n",
        "    if val_error < minimum_val_error:\n",
        "        minimum_val_error = val_error\n",
        "        best_epoch = epoch\n",
        "        best_model = clone(sgd_reg)"
      ],
      "metadata": {
        "id": "23q_A2Y0TIdf"
      },
      "execution_count": null,
      "outputs": []
    },
    {
      "cell_type": "markdown",
      "source": [
        "\n",
        "\n",
        "---\n",
        "\n",
        "\n",
        "\n",
        "---\n",
        "\n"
      ],
      "metadata": {
        "id": "TJy09kNdTdnQ"
      }
    },
    {
      "cell_type": "code",
      "source": [
        "# 로지스틱 회귀\n",
        "from sklearn import datasets\n",
        "iris = datasets.load_iris()\n",
        "list(iris.keys())"
      ],
      "metadata": {
        "colab": {
          "base_uri": "https://localhost:8080/"
        },
        "id": "bwuyGgguTd9Z",
        "outputId": "d0ded5c3-f4e6-4ec4-b3a0-e4a9fceab308"
      },
      "execution_count": null,
      "outputs": [
        {
          "output_type": "execute_result",
          "data": {
            "text/plain": [
              "['data',\n",
              " 'target',\n",
              " 'frame',\n",
              " 'target_names',\n",
              " 'DESCR',\n",
              " 'feature_names',\n",
              " 'filename',\n",
              " 'data_module']"
            ]
          },
          "metadata": {},
          "execution_count": 37
        }
      ]
    },
    {
      "cell_type": "code",
      "source": [
        "X = iris[\"data\"][:, 3:]\n",
        "y = (iris[\"target\"] == 2).astype(np.int) # Iris virginica이면 1, 그렇지 않으면 0"
      ],
      "metadata": {
        "colab": {
          "base_uri": "https://localhost:8080/"
        },
        "id": "KIl9IdGJVT4h",
        "outputId": "71021771-d1b7-45a0-d265-f183976f5382"
      },
      "execution_count": null,
      "outputs": [
        {
          "output_type": "stream",
          "name": "stderr",
          "text": [
            "/usr/local/lib/python3.7/dist-packages/ipykernel_launcher.py:2: DeprecationWarning: `np.int` is a deprecated alias for the builtin `int`. To silence this warning, use `int` by itself. Doing this will not modify any behavior and is safe. When replacing `np.int`, you may wish to use e.g. `np.int64` or `np.int32` to specify the precision. If you wish to review your current use, check the release note link for additional information.\n",
            "Deprecated in NumPy 1.20; for more details and guidance: https://numpy.org/devdocs/release/1.20.0-notes.html#deprecations\n",
            "  \n"
          ]
        }
      ]
    },
    {
      "cell_type": "code",
      "source": [
        "from sklearn.linear_model import LogisticRegression\n",
        "log_reg = LogisticRegression()\n",
        "log_reg.fit(X, y)"
      ],
      "metadata": {
        "colab": {
          "base_uri": "https://localhost:8080/"
        },
        "id": "4mNwzJpiVeQw",
        "outputId": "d8b9d0fb-27d5-4be3-d5cf-519f30961cff"
      },
      "execution_count": null,
      "outputs": [
        {
          "output_type": "execute_result",
          "data": {
            "text/plain": [
              "LogisticRegression()"
            ]
          },
          "metadata": {},
          "execution_count": 39
        }
      ]
    },
    {
      "cell_type": "code",
      "source": [
        "X_new = np.linspace(0, 3, 1000).reshape(-1, 1)\n",
        "y_proba = log_reg.predict_proba(X_new)\n",
        "\n",
        "plt.plot(X_new, y_proba[:, 1], \"g-\", linewidth=2, label=\"Iris virginica\")\n",
        "plt.plot(X_new, y_proba[:, 0], \"b--\", linewidth=2, label=\"Not Iris virginica\")"
      ],
      "metadata": {
        "colab": {
          "base_uri": "https://localhost:8080/",
          "height": 283
        },
        "id": "_qjws0H1VhX6",
        "outputId": "28e5f17d-d5fb-4ce4-92cf-48c6134bfeb0"
      },
      "execution_count": null,
      "outputs": [
        {
          "output_type": "execute_result",
          "data": {
            "text/plain": [
              "[<matplotlib.lines.Line2D at 0x7f5ce1e4d690>]"
            ]
          },
          "metadata": {},
          "execution_count": 40
        },
        {
          "output_type": "display_data",
          "data": {
            "text/plain": [
              "<Figure size 432x288 with 1 Axes>"
            ],
            "image/png": "[encoded data removed]"
          },
          "metadata": {
            "needs_background": "light"
          }
        }
      ]
    },
    {
      "cell_type": "code",
      "source": [
        "log_reg.predict([[1.67], [1.66]])"
      ],
      "metadata": {
        "colab": {
          "base_uri": "https://localhost:8080/"
        },
        "id": "-ht1cUF3VjP4",
        "outputId": "babad8b0-291a-46ea-8715-726974ff5eed"
      },
      "execution_count": null,
      "outputs": [
        {
          "output_type": "execute_result",
          "data": {
            "text/plain": [
              "array([1, 0])"
            ]
          },
          "metadata": {},
          "execution_count": 41
        }
      ]
    },
    {
      "cell_type": "code",
      "source": [
        "# 소프트맥스 회귀\n",
        "X = iris[\"data\"][:, (2, 3)] #꽃잎 길이, 꽃잎 너비\n",
        "y = iris[\"target\"]\n",
        "\n",
        "softmax_reg = LogisticRegression(multi_class=\"multinomial\", solver=\"lbfgs\", C=10)\n",
        "softmax_reg.fit(X, y)"
      ],
      "metadata": {
        "colab": {
          "base_uri": "https://localhost:8080/"
        },
        "id": "9iN2VEmyVlpo",
        "outputId": "76f51850-6473-428e-e2e1-aa8acab02504"
      },
      "execution_count": null,
      "outputs": [
        {
          "output_type": "execute_result",
          "data": {
            "text/plain": [
              "LogisticRegression(C=10, multi_class='multinomial')"
            ]
          },
          "metadata": {},
          "execution_count": 42
        }
      ]
    },
    {
      "cell_type": "code",
      "source": [
        "softmax_reg.predict([[5, 2]])\n",
        "softmax_reg.predict_proba([[5,2]])"
      ],
      "metadata": {
        "colab": {
          "base_uri": "https://localhost:8080/"
        },
        "id": "tTIgEg9kV6Q2",
        "outputId": "d8f9b1e8-076b-45d4-b5af-c54349048ed1"
      },
      "execution_count": null,
      "outputs": [
        {
          "output_type": "execute_result",
          "data": {
            "text/plain": [
              "array([[6.38014896e-07, 5.74929995e-02, 9.42506362e-01]])"
            ]
          },
          "metadata": {},
          "execution_count": 43
        }
      ]
    }
  ]
}