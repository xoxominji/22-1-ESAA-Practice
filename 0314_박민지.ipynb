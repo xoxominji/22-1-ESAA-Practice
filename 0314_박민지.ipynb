{
  "nbformat": 4,
  "nbformat_minor": 0,
  "metadata": {
    "colab": {
      "name": "0314_박민지.ipynb",
      "provenance": [],
      "collapsed_sections": [],
      "authorship_tag": "ABX9TyMNZB61GNif25OxQrmnK2fb",
      "include_colab_link": true
    },
    "kernelspec": {
      "name": "python3",
      "display_name": "Python 3"
    },
    "language_info": {
      "name": "python"
    }
  },
  "cells": [
    {
      "cell_type": "markdown",
      "metadata": {
        "id": "view-in-github",
        "colab_type": "text"
      },
      "source": [
        "<a href=\"https://colab.research.google.com/github/xoxominji/22-1-ESAA-Practice/blob/main/0314_%EB%B0%95%EB%AF%BC%EC%A7%80.ipynb\" target=\"_parent\"><img src=\"https://colab.research.google.com/assets/colab-badge.svg\" alt=\"Open In Colab\"/></a>"
      ]
    },
    {
      "cell_type": "markdown",
      "source": [
        "# [개념정리]\n",
        "\n",
        "## 핸즈온 Chapter 3. 분류 p.127~154"
      ],
      "metadata": {
        "id": "OxsgsWUSg5_i"
      }
    },
    {
      "cell_type": "markdown",
      "source": [
        "### 3.1 MNIST\n",
        "\n",
        "\n",
        "\n",
        "사이킷런 데이터셋들의 공통적인 구조(dictionary)\n",
        "- 데이터셋 설명의 DESCR 키\n",
        "- 샘플-행, 특성-열로 구성된 data 키\n",
        "- 레이블 배열의 target 키\n",
        "\n",
        "mnist_784의 구조\n",
        "- 70000개의 이미지(훈련 세트 60000개, 테스트세트 10000개)\n",
        "- 784개의 특성(28*28 픽셀 이미지)\n",
        "- 0(흰색)~255(검은색)의 픽셀 강도\n"
      ],
      "metadata": {
        "id": "X9Sx7PMIYLKp"
      }
    },
    {
      "cell_type": "markdown",
      "source": [
        "### 3.2 이진 분류기 훈련\n",
        "\n",
        "\n",
        "\n",
        "```\n",
        "from sklearn.linear_model import SGDClassifier\n",
        "model = SGDClassifier(random_state=#)\n",
        "model.fit(X_train, y_train)\n",
        "model.predict()\n",
        "```\n",
        "\n",
        "\n",
        "\n",
        "SDGClassifier: 확률적 경사 하강법(Stochatic Gradient Descent) 분류기\n",
        "- 매우 큰 데이터셋을 효율적으로 처리하는 장점\n",
        "- 훈련 샘플을 독립적으로 처리\n",
        "- 훈련시 무작위성 사용"
      ],
      "metadata": {
        "id": "BqQ0s3PNYQzQ"
      }
    },
    {
      "cell_type": "markdown",
      "source": [
        "### 3.3 성능 측정"
      ],
      "metadata": {
        "id": "UwfotoROYU7V"
      }
    },
    {
      "cell_type": "markdown",
      "source": [
        "#### 3.3.1 교차 검증을 사용한 정확도 측정\n",
        "\n",
        "```\n",
        "from sklearn.model_selection import cross_val_score\n",
        "cross_val_score(model, X_train, y_train_클래스, cv=#, scoring=\"accuracy\")\n",
        "```\n",
        "\n",
        "불균형한 데이터셋에서는 정확도는 좋은 성능 측정 지표는 아님"
      ],
      "metadata": {
        "id": "_itxFe6JYXqI"
      }
    },
    {
      "cell_type": "markdown",
      "source": [
        "#### 3.3.2 오차 행렬\n",
        "\n",
        "클래스 A의 샘플이 클래스 B로 분류된 횟수 세기\n",
        "\n",
        "```\n",
        "from sklern.model_selection import cross_val_predict\n",
        "y_train_pred = cross_val_predict(model, X_train, y_train_클래스, cv=3) #예측값 계산\n",
        "\n",
        "from sklearn.metrics import confusion_matrix\n",
        "confusion_matrix(y_train_클래스, y_train_pred)\n",
        "```\n",
        "\n",
        "→ 예측 TN | FP\n",
        "\n",
        "↓ 실제 FN | TP\n",
        "\n",
        "- TN(True Negative): 숫자 5가 아니라고 예측되었고 실제로도 숫자 5가 아닌 경우의 수\n",
        "- FP(False Positive): 숫자 5를 가리킨다고 예측되었지만 실제로는 숫자 5가 아닌 경우의 수\n",
        "- FN(False Negative): 숫자 5가 아니라고 예측되었지만 실제로는 숫자 5인 경우의 수\n",
        "- TP(True Positive): 숫자 5를 가리킨다고 예측되었고 실제로도 숫자 5인 경우의 수\n"
      ],
      "metadata": {
        "id": "MKar6KwOYZz7"
      }
    },
    {
      "cell_type": "markdown",
      "source": [
        "#### 3.3.3 정밀도와 재현율\n",
        "\n",
        "**정밀도(Precision)**: 양성 예측의 정확도\n",
        "\n",
        "$\\frac{FP}{TP+FP}$\n",
        "\n",
        "**재현율(Recall)=민감도(Sensitivity), 진짜 양성 비율(TPR)**: 정확하게 감지한 양성 샘플의 비율\n",
        "\n",
        "$\\frac{TP}{TP+FN}$\n",
        "\n",
        "```\n",
        "from sklearn.metrics import precision_score, recall_score\n",
        "precision_score(y_train_클래스, y_train_pred)\n",
        "recall_score(y_train_클래스, y_train_pred)\n",
        "```\n",
        "\n",
        "**F1점수**: 정밀도와 재현율의 조화 평균\n",
        "\n",
        "$\\frac{2}{\\frac{1}{정밀도}+\\frac{1}{재현율}}$\n",
        "\n",
        "```\n",
        "from sklearn.metrics import f1_score\n",
        "f1_score(y_train_클래스, y_train_pred)\n",
        "```\n",
        "\n",
        "정밀도와 재현율이 비슷할수록 F1 점수 높음"
      ],
      "metadata": {
        "id": "1Nt50h89YfSh"
      }
    },
    {
      "cell_type": "markdown",
      "source": [
        "#### 3.3.4 정밀도/재현율 트레이드오프\n",
        "\n",
        ": 정밀도↔재현율 반비례\n",
        "\n",
        "분류기는 결정 함수(decision function)을 이용하여 각 샘플의 점수를 계산한 후 결정 임곗값(decision threshold)보다 크면 양성 클래스로, 작으면 음성 클래스로 분류\n",
        "\n",
        "SGDClassifier의 결정 임곗값은 0임\n",
        "\n",
        "임곗값을 높이면 재현율↓\n",
        "\n",
        "적절한 임곗값 찾기: 재현율 vs. 정밀도 그래프에서 하강점 직전 지점 선택\n"
      ],
      "metadata": {
        "id": "RBPp8bnoYhHH"
      }
    },
    {
      "cell_type": "markdown",
      "source": [
        "#### 3.3.5 ROC 곡선\n",
        "\n",
        ": 거짓 양성 비율(FPR)에 대한 참 양성 비율(TPR)의 관계를 나타낸 곡선\n",
        "\n",
        "\n",
        "\n",
        "```\n",
        "from sklearn.metrics import roc_curve\n",
        "fpr, tpr, thresholds = roc_curve(y_train_클래스, y_scores)\n",
        "```\n",
        "\n",
        "재현율(TPR)↔거짓양성(FPR)의 트레이드오프\n",
        "\n",
        "좋은 분류기: 점선에서 최대한 멀리 떨어지도록, 곡선 아래의 면적(AUC) 점수 높을수록\n",
        "\n",
        "\n",
        "\n",
        "```\n",
        "from sklearn.metrics import roc_auc_score\n",
        "roc_auc_score(y_train_클래스, y_scores)\n",
        "```\n",
        "\n"
      ],
      "metadata": {
        "id": "7LIbtr-jatJ_"
      }
    },
    {
      "cell_type": "markdown",
      "source": [
        "### 3.4 다중 분류\n",
        "\n",
        ": 둘 이상의 클래스 구별\n",
        "\n",
        "- SGD\n",
        "- RF\n",
        "- 나이브 베이즈(naive Bayes)\n",
        "\n",
        "이진분류 only\n",
        "- Logistic Regression\n",
        "- SVM(Support Vector Machine)\n",
        "\n",
        "\n",
        "**OvR/OvA(일대다) 방식**: 각 샘플에 대해 총 10번 각기 다른 이진 분류기를 실행한 후, 각 분류기의 결정 점수 중에서 가장 높은 점수를 받은 클래스 선택\n",
        "\n",
        "\n",
        "```\n",
        "from sklearn.multiclass import OneVsRestClassifier\n",
        "model = OneVsRestClassifier(SVC()) #SVC기반\n",
        "#SGD, RF는 직접 지원\n",
        "```\n",
        "\n",
        "\n",
        "**OvO(일대일) 방식**: 조합 가능한 모든 일대일 분류 방식을 진행하여 가장 많은 결투(duell)를 이긴 숫자를 선택\n"
      ],
      "metadata": {
        "id": "XwFP6I4batHQ"
      }
    },
    {
      "cell_type": "markdown",
      "source": [
        "### 3.5 에러 분석\n",
        "\n",
        "\n",
        "\n",
        "```\n",
        "#오차행렬의 이미지화\n",
        "plt.matchow(오차행렬, cmap=plt.cm.gray)\n",
        "```\n",
        "\n",
        "에러 비율: 오차 행렬의 각 값 / 대응되는 클래스의 이미지 개수\n"
      ],
      "metadata": {
        "id": "LUFNcECG1gtv"
      }
    },
    {
      "cell_type": "markdown",
      "source": [
        "### 3.6 다중 레이블 분류\n",
        ": 각 샘플마다 여러개의 클래스 출력, 여러 개의 이진 꼬리표 출력하는 분류 시스템\n",
        "\n",
        "\n",
        "KNeighborsClassifier는 다중 레이블 분류를 지원, 모든 분류기가 그런 것은 아님"
      ],
      "metadata": {
        "id": "Ux6UTf1K2e-K"
      }
    },
    {
      "cell_type": "markdown",
      "source": [
        "## 3.7 다중 출력 분류\n",
        ": 다중 레이블 분류에서 한 레이블이 다중 클래스가 될 수 있도록 일반화(두 개 이상의 값)"
      ],
      "metadata": {
        "id": "DmmQ17wD2-Of"
      }
    },
    {
      "cell_type": "markdown",
      "source": [
        "# [필사]"
      ],
      "metadata": {
        "id": "9-kBYUK8hByE"
      }
    },
    {
      "cell_type": "code",
      "source": [
        "from sklearn.datasets import fetch_openml\n",
        "mnist = fetch_openml('mnist_784', version=1, as_frame= False) #추가\n",
        "mnist.keys()"
      ],
      "metadata": {
        "id": "n33HUneXhDpP",
        "colab": {
          "base_uri": "https://localhost:8080/"
        },
        "outputId": "839e0bf2-8d06-453c-f145-c98e1acda2e6"
      },
      "execution_count": null,
      "outputs": [
        {
          "output_type": "execute_result",
          "data": {
            "text/plain": [
              "dict_keys(['data', 'target', 'frame', 'categories', 'feature_names', 'target_names', 'DESCR', 'details', 'url'])"
            ]
          },
          "metadata": {},
          "execution_count": 19
        }
      ]
    },
    {
      "cell_type": "code",
      "source": [
        "X, y = mnist[\"data\"], mnist[\"target\"]\n",
        "X.shape"
      ],
      "metadata": {
        "id": "A_76CU--3JQH",
        "colab": {
          "base_uri": "https://localhost:8080/"
        },
        "outputId": "1f7afed0-b1c4-4b85-f6af-1a77c01e291e"
      },
      "execution_count": null,
      "outputs": [
        {
          "output_type": "execute_result",
          "data": {
            "text/plain": [
              "(70000, 784)"
            ]
          },
          "metadata": {},
          "execution_count": 20
        }
      ]
    },
    {
      "cell_type": "code",
      "source": [
        "y.shape"
      ],
      "metadata": {
        "colab": {
          "base_uri": "https://localhost:8080/"
        },
        "id": "Ra24-bksE2UQ",
        "outputId": "a9ca928e-e36a-4c1e-9a5b-d4b627fd776e"
      },
      "execution_count": null,
      "outputs": [
        {
          "output_type": "execute_result",
          "data": {
            "text/plain": [
              "(70000,)"
            ]
          },
          "metadata": {},
          "execution_count": 21
        }
      ]
    },
    {
      "cell_type": "code",
      "source": [
        "%matplotlib inline\n",
        "import matplotlib as mpl\n",
        "import matplotlib.pyplot as plt\n",
        "\n",
        "some_digit = X[0]\n",
        "some_digit_image = some_digit.reshape(28, 28)\n",
        "\n",
        "plt.imshow(some_digit_image, cmap=\"binary\")\n",
        "plt.axis(\"off\")\n",
        "plt.show()"
      ],
      "metadata": {
        "colab": {
          "base_uri": "https://localhost:8080/",
          "height": 248
        },
        "id": "ZlQEpbMhEG2n",
        "outputId": "9ff86f71-d7f5-49ef-a954-5d6453bf86ea"
      },
      "execution_count": null,
      "outputs": [
        {
          "output_type": "display_data",
          "data": {
            "text/plain": [
              "<Figure size 432x288 with 1 Axes>"
            ],
            "image/png": "[encoded data removed]"
          },
          "metadata": {
            "needs_background": "light"
          }
        }
      ]
    },
    {
      "cell_type": "code",
      "source": [
        "y[0]"
      ],
      "metadata": {
        "colab": {
          "base_uri": "https://localhost:8080/",
          "height": 35
        },
        "id": "E_sQ20FJEQBD",
        "outputId": "735ce8d7-282f-40f1-8512-fdc6b1301989"
      },
      "execution_count": null,
      "outputs": [
        {
          "output_type": "execute_result",
          "data": {
            "text/plain": [
              "'5'"
            ],
            "application/vnd.google.colaboratory.intrinsic+json": {
              "type": "string"
            }
          },
          "metadata": {},
          "execution_count": 23
        }
      ]
    },
    {
      "cell_type": "code",
      "source": [
        "import numpy as np\n",
        "y = y.astype(np.uint8)"
      ],
      "metadata": {
        "id": "ga67GBjtERRY"
      },
      "execution_count": null,
      "outputs": []
    },
    {
      "cell_type": "code",
      "source": [
        "X_train, X_test, y_train, y_test = X[:60000], X[60000:], y[:60000], y[60000:]"
      ],
      "metadata": {
        "id": "ti6f-AQXEUNR"
      },
      "execution_count": null,
      "outputs": []
    },
    {
      "cell_type": "markdown",
      "source": [
        "\n",
        "\n",
        "---\n",
        "\n",
        "\n",
        "\n",
        "---\n",
        "\n"
      ],
      "metadata": {
        "id": "HjzQcwK_Rga2"
      }
    },
    {
      "cell_type": "code",
      "source": [
        "y_train_5 = (y_train == 5)\n",
        "y_test_5 = (y_test == 5)"
      ],
      "metadata": {
        "id": "y0MYMbcLEXKl"
      },
      "execution_count": null,
      "outputs": []
    },
    {
      "cell_type": "code",
      "source": [
        "from sklearn.linear_model import SGDClassifier\n",
        "\n",
        "sgd_clf = SGDClassifier(random_state=42)\n",
        "sgd_clf.fit(X_train, y_train_5)"
      ],
      "metadata": {
        "colab": {
          "base_uri": "https://localhost:8080/"
        },
        "id": "Vpe6LmhgEYwQ",
        "outputId": "52f22b9b-ce32-4a5d-a1d6-b6105b948d3a"
      },
      "execution_count": null,
      "outputs": [
        {
          "output_type": "execute_result",
          "data": {
            "text/plain": [
              "SGDClassifier(random_state=42)"
            ]
          },
          "metadata": {},
          "execution_count": 28
        }
      ]
    },
    {
      "cell_type": "code",
      "source": [
        "sgd_clf.predict([some_digit])"
      ],
      "metadata": {
        "colab": {
          "base_uri": "https://localhost:8080/"
        },
        "id": "OoEwY6pZHWZs",
        "outputId": "8de4f8b5-c697-413a-df08-54728b9c3626"
      },
      "execution_count": null,
      "outputs": [
        {
          "output_type": "execute_result",
          "data": {
            "text/plain": [
              "array([ True])"
            ]
          },
          "metadata": {},
          "execution_count": 29
        }
      ]
    },
    {
      "cell_type": "markdown",
      "source": [
        "\n",
        "\n",
        "---\n",
        "\n",
        "\n",
        "\n",
        "---\n",
        "\n"
      ],
      "metadata": {
        "id": "k8bCFzxkRd3w"
      }
    },
    {
      "cell_type": "code",
      "source": [
        "from sklearn.model_selection import cross_val_score\n",
        "cross_val_score(sgd_clf, X_train, y_train_5, cv=3, scoring=\"accuracy\")"
      ],
      "metadata": {
        "colab": {
          "base_uri": "https://localhost:8080/"
        },
        "id": "n5cyfWaYHXYn",
        "outputId": "801714a3-7194-4e8c-db1b-e39258e4b45f"
      },
      "execution_count": null,
      "outputs": [
        {
          "output_type": "execute_result",
          "data": {
            "text/plain": [
              "array([0.95035, 0.96035, 0.9604 ])"
            ]
          },
          "metadata": {},
          "execution_count": 30
        }
      ]
    },
    {
      "cell_type": "code",
      "source": [
        "from sklearn.base import BaseEstimator\n",
        "class Never5Classifier(BaseEstimator):\n",
        "    def fit(self, X, y=None):\n",
        "        return self\n",
        "    def predict(self, X):\n",
        "        return np.zeros((len(X), 1), dtype=bool)"
      ],
      "metadata": {
        "id": "fj34m9dYRN2m"
      },
      "execution_count": null,
      "outputs": []
    },
    {
      "cell_type": "code",
      "source": [
        "never_5_clf = Never5Classifier()\n",
        "cross_val_score(never_5_clf, X_train, y_train_5, cv=3, scoring=\"accuracy\")"
      ],
      "metadata": {
        "colab": {
          "base_uri": "https://localhost:8080/"
        },
        "id": "VOiv45HoRPcl",
        "outputId": "eb6d01b1-7ac6-4d0d-b769-883a622c6fe1"
      },
      "execution_count": null,
      "outputs": [
        {
          "output_type": "execute_result",
          "data": {
            "text/plain": [
              "array([0.91125, 0.90855, 0.90915])"
            ]
          },
          "metadata": {},
          "execution_count": 36
        }
      ]
    },
    {
      "cell_type": "code",
      "source": [
        "from sklearn.model_selection import cross_val_predict\n",
        "\n",
        "y_train_pred = cross_val_predict(sgd_clf, X_train, y_train_5, cv=3)"
      ],
      "metadata": {
        "id": "NsqP5H9VRR-A"
      },
      "execution_count": null,
      "outputs": []
    },
    {
      "cell_type": "code",
      "source": [
        "from sklearn.metrics import confusion_matrix\n",
        "\n",
        "confusion_matrix(y_train_5, y_train_pred)"
      ],
      "metadata": {
        "colab": {
          "base_uri": "https://localhost:8080/"
        },
        "id": "FVAK5EMeRURq",
        "outputId": "2b564822-f034-48c4-a75c-8f118acdd528"
      },
      "execution_count": null,
      "outputs": [
        {
          "output_type": "execute_result",
          "data": {
            "text/plain": [
              "array([[53892,   687],\n",
              "       [ 1891,  3530]])"
            ]
          },
          "metadata": {},
          "execution_count": 38
        }
      ]
    },
    {
      "cell_type": "code",
      "source": [
        "y_train_perfect_predictions = y_train_5 #완벽한 분류기일 경우\n",
        "confusion_matrix(y_train_5, y_train_perfect_predictions)"
      ],
      "metadata": {
        "colab": {
          "base_uri": "https://localhost:8080/"
        },
        "id": "JzySsXgURi9e",
        "outputId": "7b19cd01-1486-456a-a4ac-c64b51bea423"
      },
      "execution_count": null,
      "outputs": [
        {
          "output_type": "execute_result",
          "data": {
            "text/plain": [
              "array([[54579,     0],\n",
              "       [    0,  5421]])"
            ]
          },
          "metadata": {},
          "execution_count": 39
        }
      ]
    },
    {
      "cell_type": "markdown",
      "source": [
        "\n",
        "\n",
        "---\n",
        "\n",
        "\n",
        "\n",
        "---\n",
        "\n"
      ],
      "metadata": {
        "id": "lJm3mqk8W6ys"
      }
    },
    {
      "cell_type": "code",
      "source": [
        "from sklearn.metrics import precision_score, recall_score\n",
        "precision_score(y_train_5, y_train_pred)"
      ],
      "metadata": {
        "colab": {
          "base_uri": "https://localhost:8080/"
        },
        "id": "yYx3oC6wUEdd",
        "outputId": "468c2db1-0436-4ae2-9974-0d2e884b7b8e"
      },
      "execution_count": null,
      "outputs": [
        {
          "output_type": "execute_result",
          "data": {
            "text/plain": [
              "0.8370879772350012"
            ]
          },
          "metadata": {},
          "execution_count": 40
        }
      ]
    },
    {
      "cell_type": "code",
      "source": [
        "recall_score(y_train_5, y_train_pred)"
      ],
      "metadata": {
        "colab": {
          "base_uri": "https://localhost:8080/"
        },
        "id": "u2dVO3j6XFUE",
        "outputId": "cdd99052-066f-4343-d90f-8e1f8ebf4166"
      },
      "execution_count": null,
      "outputs": [
        {
          "output_type": "execute_result",
          "data": {
            "text/plain": [
              "0.6511713705958311"
            ]
          },
          "metadata": {},
          "execution_count": 41
        }
      ]
    },
    {
      "cell_type": "code",
      "source": [
        "from sklearn.metrics import f1_score\n",
        "f1_score(y_train_5, y_train_pred)"
      ],
      "metadata": {
        "colab": {
          "base_uri": "https://localhost:8080/"
        },
        "id": "ACSHZnvBXEqv",
        "outputId": "f22d3cdf-bf61-46be-ce20-f81a6d189d9c"
      },
      "execution_count": null,
      "outputs": [
        {
          "output_type": "execute_result",
          "data": {
            "text/plain": [
              "0.7325171197343846"
            ]
          },
          "metadata": {},
          "execution_count": 42
        }
      ]
    },
    {
      "cell_type": "markdown",
      "source": [
        "\n",
        "\n",
        "---\n",
        "\n",
        "\n",
        "\n",
        "---\n",
        "\n"
      ],
      "metadata": {
        "id": "a-adDfN6XMA7"
      }
    },
    {
      "cell_type": "code",
      "source": [
        "y_scores = sgd_clf.decision_function([some_digit])\n",
        "y_scores"
      ],
      "metadata": {
        "colab": {
          "base_uri": "https://localhost:8080/"
        },
        "id": "wxoRTEE5XKDo",
        "outputId": "39e50aec-d396-46c8-debb-3a22904342c3"
      },
      "execution_count": null,
      "outputs": [
        {
          "output_type": "execute_result",
          "data": {
            "text/plain": [
              "array([2164.22030239])"
            ]
          },
          "metadata": {},
          "execution_count": 43
        }
      ]
    },
    {
      "cell_type": "code",
      "source": [
        "threshold = 0\n",
        "\n",
        "y_some_digit_pred = (y_scores > threshold)\n",
        "y_some_digit_pred"
      ],
      "metadata": {
        "colab": {
          "base_uri": "https://localhost:8080/"
        },
        "id": "88L1klaeXP-k",
        "outputId": "82af3f7d-66e3-472a-bb07-95b5d2491b77"
      },
      "execution_count": null,
      "outputs": [
        {
          "output_type": "execute_result",
          "data": {
            "text/plain": [
              "array([ True])"
            ]
          },
          "metadata": {},
          "execution_count": 44
        }
      ]
    },
    {
      "cell_type": "code",
      "source": [
        "threshold = 8000\n",
        "y_some_digit_pred = (y_scores > threshold)\n",
        "y_some_digit_pred"
      ],
      "metadata": {
        "colab": {
          "base_uri": "https://localhost:8080/"
        },
        "id": "E7L48SGiXUiL",
        "outputId": "98f727fc-20f2-4ee6-c861-4e695d21a20a"
      },
      "execution_count": null,
      "outputs": [
        {
          "output_type": "execute_result",
          "data": {
            "text/plain": [
              "array([False])"
            ]
          },
          "metadata": {},
          "execution_count": 45
        }
      ]
    },
    {
      "cell_type": "code",
      "source": [
        "y_scores = cross_val_predict(sgd_clf, X_train, y_train_5, cv=3, method=\"decision_function\")"
      ],
      "metadata": {
        "id": "o194j35bXaPb"
      },
      "execution_count": null,
      "outputs": []
    },
    {
      "cell_type": "code",
      "source": [
        "from sklearn.metrics import precision_recall_curve\n",
        "\n",
        "precisions, recalls, thresholds = precision_recall_curve(y_train_5, y_scores)"
      ],
      "metadata": {
        "id": "qa37hHYnXdpa"
      },
      "execution_count": null,
      "outputs": []
    },
    {
      "cell_type": "code",
      "source": [
        "threshold_90_precision = thresholds[np.argmax(precisions >= 0.90)]\n",
        "y_train_pred_90 = (y_scores >= threshold_90_precision)"
      ],
      "metadata": {
        "id": "P8ZPKkDTf560"
      },
      "execution_count": null,
      "outputs": []
    },
    {
      "cell_type": "code",
      "source": [
        "precision_score(y_train_5, y_train_pred_90)"
      ],
      "metadata": {
        "colab": {
          "base_uri": "https://localhost:8080/"
        },
        "id": "-2pHJotxgAvQ",
        "outputId": "a372f4cc-5b25-4e1d-b831-6ea4a7bd1742"
      },
      "execution_count": null,
      "outputs": [
        {
          "output_type": "execute_result",
          "data": {
            "text/plain": [
              "0.9000345901072293"
            ]
          },
          "metadata": {},
          "execution_count": 49
        }
      ]
    },
    {
      "cell_type": "code",
      "source": [
        "recall_score(y_train_5, y_train_pred_90)"
      ],
      "metadata": {
        "colab": {
          "base_uri": "https://localhost:8080/"
        },
        "id": "Am6t_zOigCY_",
        "outputId": "288f56f8-2f62-42ce-d251-a094d5ed5089"
      },
      "execution_count": null,
      "outputs": [
        {
          "output_type": "execute_result",
          "data": {
            "text/plain": [
              "0.4799852425751706"
            ]
          },
          "metadata": {},
          "execution_count": 50
        }
      ]
    },
    {
      "cell_type": "markdown",
      "source": [
        "\n",
        "\n",
        "---\n",
        "\n",
        "\n",
        "\n",
        "---\n",
        "\n"
      ],
      "metadata": {
        "id": "UmNF_M_cf5ts"
      }
    },
    {
      "cell_type": "code",
      "source": [
        "from sklearn.metrics import roc_curve\n",
        "\n",
        "fpr, tpr, thresholds = roc_curve(y_train_5, y_scores)"
      ],
      "metadata": {
        "id": "L8EL0rVbgFuz"
      },
      "execution_count": null,
      "outputs": []
    },
    {
      "cell_type": "code",
      "source": [
        "def plot_roc_curve(fpr, tpr, label=None):\n",
        "    plt.plot(fpr, tpr, linewidth=2, label=label)\n",
        "    plt.plot([0, 1], [0, 1], 'k--') # 대각 점선\n",
        "\n",
        "plot_roc_curve(fpr, tpr)\n",
        "plt.show()"
      ],
      "metadata": {
        "colab": {
          "base_uri": "https://localhost:8080/",
          "height": 265
        },
        "id": "25Ad4gecgJFK",
        "outputId": "d7afa384-e281-4eb8-ebbe-005949154db4"
      },
      "execution_count": null,
      "outputs": [
        {
          "output_type": "display_data",
          "data": {
            "text/plain": [
              "<Figure size 432x288 with 1 Axes>"
            ],
            "image/png": "[encoded data removed]"
          },
          "metadata": {
            "needs_background": "light"
          }
        }
      ]
    },
    {
      "cell_type": "code",
      "source": [
        "from sklearn.metrics import roc_auc_score\n",
        "roc_auc_score(y_train_5, y_scores)"
      ],
      "metadata": {
        "colab": {
          "base_uri": "https://localhost:8080/"
        },
        "id": "GDQP23-WhGzD",
        "outputId": "448c140f-88a8-4e51-f884-8a16df3faf8a"
      },
      "execution_count": null,
      "outputs": [
        {
          "output_type": "execute_result",
          "data": {
            "text/plain": [
              "0.9604938554008616"
            ]
          },
          "metadata": {},
          "execution_count": 53
        }
      ]
    },
    {
      "cell_type": "code",
      "source": [
        "# 랜덤 포레스트 분류기의 AUC\n",
        "from sklearn.ensemble import RandomForestClassifier\n",
        "\n",
        "forest_clf = RandomForestClassifier(random_state=42)\n",
        "y_probas_forest = cross_val_predict(forest_clf, X_train, y_train_5, cv=3, method=\"predict_proba\")"
      ],
      "metadata": {
        "id": "LqH4xVqChJ4q"
      },
      "execution_count": null,
      "outputs": []
    },
    {
      "cell_type": "code",
      "source": [
        "y_scores_forest = y_probas_forest[:, 1]\n",
        "fpr_forest, tpr_forest, thresholds_forest = roc_curve(y_train_5, y_scores_forest)"
      ],
      "metadata": {
        "id": "QcyIoabChSKQ"
      },
      "execution_count": null,
      "outputs": []
    },
    {
      "cell_type": "code",
      "source": [
        "plt.plot(fpr, tpr, \"b:\", label=\"SGD\")\n",
        "plot_roc_curve(fpr_forest, tpr_forest, \"랜덤포레스트\")\n",
        "plt.legend(loc=\"lower right\")\n",
        "plt.show()"
      ],
      "metadata": {
        "colab": {
          "base_uri": "https://localhost:8080/",
          "height": 701
        },
        "id": "mofwfyQ0hcgC",
        "outputId": "d11ad0b9-36ab-421d-cfb5-8098f94d50b3"
      },
      "execution_count": null,
      "outputs": [
        {
          "output_type": "stream",
          "name": "stderr",
          "text": [
            "/usr/local/lib/python3.7/dist-packages/matplotlib/backends/backend_agg.py:214: RuntimeWarning: Glyph 47004 missing from current font.\n",
            "  font.set_text(s, 0.0, flags=flags)\n",
            "/usr/local/lib/python3.7/dist-packages/matplotlib/backends/backend_agg.py:214: RuntimeWarning: Glyph 45924 missing from current font.\n",
            "  font.set_text(s, 0.0, flags=flags)\n",
            "/usr/local/lib/python3.7/dist-packages/matplotlib/backends/backend_agg.py:214: RuntimeWarning: Glyph 54252 missing from current font.\n",
            "  font.set_text(s, 0.0, flags=flags)\n",
            "/usr/local/lib/python3.7/dist-packages/matplotlib/backends/backend_agg.py:214: RuntimeWarning: Glyph 47112 missing from current font.\n",
            "  font.set_text(s, 0.0, flags=flags)\n",
            "/usr/local/lib/python3.7/dist-packages/matplotlib/backends/backend_agg.py:214: RuntimeWarning: Glyph 49828 missing from current font.\n",
            "  font.set_text(s, 0.0, flags=flags)\n",
            "/usr/local/lib/python3.7/dist-packages/matplotlib/backends/backend_agg.py:214: RuntimeWarning: Glyph 53944 missing from current font.\n",
            "  font.set_text(s, 0.0, flags=flags)\n",
            "/usr/local/lib/python3.7/dist-packages/matplotlib/backends/backend_agg.py:183: RuntimeWarning: Glyph 47004 missing from current font.\n",
            "  font.set_text(s, 0, flags=flags)\n",
            "/usr/local/lib/python3.7/dist-packages/matplotlib/backends/backend_agg.py:183: RuntimeWarning: Glyph 45924 missing from current font.\n",
            "  font.set_text(s, 0, flags=flags)\n",
            "/usr/local/lib/python3.7/dist-packages/matplotlib/backends/backend_agg.py:183: RuntimeWarning: Glyph 54252 missing from current font.\n",
            "  font.set_text(s, 0, flags=flags)\n",
            "/usr/local/lib/python3.7/dist-packages/matplotlib/backends/backend_agg.py:183: RuntimeWarning: Glyph 47112 missing from current font.\n",
            "  font.set_text(s, 0, flags=flags)\n",
            "/usr/local/lib/python3.7/dist-packages/matplotlib/backends/backend_agg.py:183: RuntimeWarning: Glyph 49828 missing from current font.\n",
            "  font.set_text(s, 0, flags=flags)\n",
            "/usr/local/lib/python3.7/dist-packages/matplotlib/backends/backend_agg.py:183: RuntimeWarning: Glyph 53944 missing from current font.\n",
            "  font.set_text(s, 0, flags=flags)\n"
          ]
        },
        {
          "output_type": "display_data",
          "data": {
            "text/plain": [
              "<Figure size 432x288 with 1 Axes>"
            ],
            "image/png": "[encoded data removed]"
          },
          "metadata": {
            "needs_background": "light"
          }
        }
      ]
    },
    {
      "cell_type": "code",
      "source": [
        "roc_auc_score(y_train_5, y_scores_forest)"
      ],
      "metadata": {
        "colab": {
          "base_uri": "https://localhost:8080/"
        },
        "id": "y4bYF5DYhmRM",
        "outputId": "668e0c6f-f43d-4c1f-df5b-a6e3db24ef29"
      },
      "execution_count": null,
      "outputs": [
        {
          "output_type": "execute_result",
          "data": {
            "text/plain": [
              "0.9983436731328145"
            ]
          },
          "metadata": {},
          "execution_count": 59
        }
      ]
    },
    {
      "cell_type": "markdown",
      "source": [
        "\n",
        "\n",
        "---\n",
        "\n",
        "\n",
        "\n",
        "---\n",
        "\n"
      ],
      "metadata": {
        "id": "DBp5A7cGf2Q5"
      }
    },
    {
      "cell_type": "code",
      "source": [
        "from sklearn.svm import SVC\n",
        "svm_clf = SVC()\n",
        "svm_clf.fit(X_train, y_train) #y_train_5가 아니고 y_train을 사용\n",
        "svm_clf.predict([some_digit])"
      ],
      "metadata": {
        "colab": {
          "base_uri": "https://localhost:8080/"
        },
        "id": "Xj8qYBGWXhuO",
        "outputId": "f94d4128-4fc7-43af-8d41-1c9cd127c715"
      },
      "execution_count": null,
      "outputs": [
        {
          "output_type": "execute_result",
          "data": {
            "text/plain": [
              "array([5], dtype=uint8)"
            ]
          },
          "metadata": {},
          "execution_count": 56
        }
      ]
    },
    {
      "cell_type": "code",
      "source": [
        "some_digit_scores = svm_clf.decision_function([some_digit])\n",
        "some_digit_scores"
      ],
      "metadata": {
        "colab": {
          "base_uri": "https://localhost:8080/"
        },
        "id": "c5urHguXvcLV",
        "outputId": "0a6586a5-a746-4f87-cca8-29591be92def"
      },
      "execution_count": null,
      "outputs": [
        {
          "output_type": "execute_result",
          "data": {
            "text/plain": [
              "array([[ 1.72501977,  2.72809088,  7.2510018 ,  8.3076379 , -0.31087254,\n",
              "         9.3132482 ,  1.70975103,  2.76765202,  6.23049537,  4.84771048]])"
            ]
          },
          "metadata": {},
          "execution_count": 60
        }
      ]
    },
    {
      "cell_type": "code",
      "source": [
        "np.argmax(some_digit_scores)"
      ],
      "metadata": {
        "colab": {
          "base_uri": "https://localhost:8080/"
        },
        "id": "7T_lQAqvvyyP",
        "outputId": "675ba688-bd76-480e-88be-664eac5c9f24"
      },
      "execution_count": null,
      "outputs": [
        {
          "output_type": "execute_result",
          "data": {
            "text/plain": [
              "5"
            ]
          },
          "metadata": {},
          "execution_count": 61
        }
      ]
    },
    {
      "cell_type": "code",
      "source": [
        "svm_clf.classes_"
      ],
      "metadata": {
        "colab": {
          "base_uri": "https://localhost:8080/"
        },
        "id": "bhxDYaVuv2Eg",
        "outputId": "71782a56-b527-4e6a-a314-4bf65edd9d4c"
      },
      "execution_count": null,
      "outputs": [
        {
          "output_type": "execute_result",
          "data": {
            "text/plain": [
              "array([0, 1, 2, 3, 4, 5, 6, 7, 8, 9], dtype=uint8)"
            ]
          },
          "metadata": {},
          "execution_count": 62
        }
      ]
    },
    {
      "cell_type": "code",
      "source": [
        "svm_clf.classes_[5]"
      ],
      "metadata": {
        "colab": {
          "base_uri": "https://localhost:8080/"
        },
        "id": "2LBtmeRHv5Hs",
        "outputId": "4cf00db3-c5dc-4c04-b891-de971f4d8ab6"
      },
      "execution_count": null,
      "outputs": [
        {
          "output_type": "execute_result",
          "data": {
            "text/plain": [
              "5"
            ]
          },
          "metadata": {},
          "execution_count": 63
        }
      ]
    },
    {
      "cell_type": "code",
      "source": [
        "from sklearn.multiclass import OneVsRestClassifier\n",
        "ovr_clf = OneVsRestClassifier(SVC())\n",
        "ovr_clf.fit(X_train, y_train)\n",
        "ovr_clf.predict([some_digit])\n",
        "len(ovr_clf.estimators_)"
      ],
      "metadata": {
        "colab": {
          "base_uri": "https://localhost:8080/"
        },
        "id": "73Dh5bG5wnO6",
        "outputId": "7193ee8d-a028-455a-b841-9c9a7da0f7ab"
      },
      "execution_count": null,
      "outputs": [
        {
          "output_type": "execute_result",
          "data": {
            "text/plain": [
              "10"
            ]
          },
          "metadata": {},
          "execution_count": 64
        }
      ]
    },
    {
      "cell_type": "code",
      "source": [
        "#SGDClassifier의 OvR/OvO\n",
        "sgd_clf.fit(X_train, y_train)\n",
        "sgd_clf.predict([some_digit])"
      ],
      "metadata": {
        "id": "MmfAfpg_43FL"
      },
      "execution_count": null,
      "outputs": []
    },
    {
      "cell_type": "code",
      "source": [
        "sgd_clf.decision_function([some_digit])"
      ],
      "metadata": {
        "id": "HSJPVGURxiji"
      },
      "execution_count": null,
      "outputs": []
    },
    {
      "cell_type": "code",
      "source": [
        "cross_val_score(sgd_clf, X_train, y_train, cv=3, scoring=\"accuracy\")"
      ],
      "metadata": {
        "id": "xpW66nvfxlAw"
      },
      "execution_count": null,
      "outputs": []
    },
    {
      "cell_type": "code",
      "source": [
        "#스케일 조정시 정확도 증가 가능\n",
        "from sklearn.preprocessing import StandardScaler\n",
        "scaler = StandardScaler()\n",
        "X_train_scaled = scaler.fit_transform(X_train.astype(np.float64))\n",
        "cross_val_score(sgd_clf, X_train_scaled, y_train, cv=3, scoring=\"accuracy\")"
      ],
      "metadata": {
        "colab": {
          "base_uri": "https://localhost:8080/"
        },
        "id": "ZBpJrP9lxppD",
        "outputId": "08bb133b-2396-4ca2-dc21-487ad8d02588"
      },
      "execution_count": null,
      "outputs": [
        {
          "output_type": "execute_result",
          "data": {
            "text/plain": [
              "array([0.8983, 0.891 , 0.9018])"
            ]
          },
          "metadata": {},
          "execution_count": 68
        }
      ]
    },
    {
      "cell_type": "markdown",
      "source": [
        "\n",
        "\n",
        "---\n",
        "\n",
        "\n",
        "\n",
        "---\n",
        "\n"
      ],
      "metadata": {
        "id": "7T30IjmMxwcb"
      }
    },
    {
      "cell_type": "code",
      "source": [
        "y_train_pred = cross_val_predict(sgd_clf, X_train_scaled, y_train, cv=3)\n",
        "conf_mx = confusion_matrix(y_train, y_train_pred)\n",
        "conf_mx"
      ],
      "metadata": {
        "colab": {
          "base_uri": "https://localhost:8080/"
        },
        "id": "kityOLASxw2S",
        "outputId": "c23cc8b3-71f6-46a5-b0dc-4ef4dba95412"
      },
      "execution_count": null,
      "outputs": [
        {
          "output_type": "execute_result",
          "data": {
            "text/plain": [
              "array([[5577,    0,   22,    5,    8,   43,   36,    6,  225,    1],\n",
              "       [   0, 6400,   37,   24,    4,   44,    4,    7,  212,   10],\n",
              "       [  27,   27, 5220,   92,   73,   27,   67,   36,  378,   11],\n",
              "       [  22,   17,  117, 5227,    2,  203,   27,   40,  403,   73],\n",
              "       [  12,   14,   41,    9, 5182,   12,   34,   27,  347,  164],\n",
              "       [  27,   15,   30,  168,   53, 4444,   75,   14,  535,   60],\n",
              "       [  30,   15,   42,    3,   44,   97, 5552,    3,  131,    1],\n",
              "       [  21,   10,   51,   30,   49,   12,    3, 5684,  195,  210],\n",
              "       [  17,   63,   48,   86,    3,  126,   25,   10, 5429,   44],\n",
              "       [  25,   18,   30,   64,  118,   36,    1,  179,  371, 5107]])"
            ]
          },
          "metadata": {},
          "execution_count": 69
        }
      ]
    },
    {
      "cell_type": "code",
      "source": [
        "plt.matshow(conf_mx, cmap=plt.cm.gray)\n",
        "plt.show()\n",
        "#조금 더 어두운 5, 이미지가 적거나 분류기에 숫자 5를 다른 숫자만큼 잘 분류하지 못함을 뜻함"
      ],
      "metadata": {
        "colab": {
          "base_uri": "https://localhost:8080/",
          "height": 275
        },
        "id": "kGogfGFx1K5g",
        "outputId": "33d765b8-4175-43fc-b4f8-beff4465831d"
      },
      "execution_count": null,
      "outputs": [
        {
          "output_type": "display_data",
          "data": {
            "text/plain": [
              "<Figure size 288x288 with 1 Axes>"
            ],
            "image/png": "[encoded data removed]"
          },
          "metadata": {
            "needs_background": "light"
          }
        }
      ]
    },
    {
      "cell_type": "code",
      "source": [
        "row_sums = conf_mx.sum(axis=1, keepdims=True)\n",
        "norm_conf_mx = conf_mx / row_sums #에러 비율"
      ],
      "metadata": {
        "id": "JfLiS6m71W6b"
      },
      "execution_count": null,
      "outputs": []
    },
    {
      "cell_type": "code",
      "source": [
        "np.fill_diagonal(norm_conf_mx, 0)\n",
        "plt.matshow(norm_conf_mx, cmap=plt.cm.gray)\n",
        "plt.show()\n",
        "#클래스 8열의 오류: 3과 5가 8로 많이 혼돈, 8은 8로 잘 분류됨"
      ],
      "metadata": {
        "colab": {
          "base_uri": "https://localhost:8080/",
          "height": 275
        },
        "id": "MIDmEuha2AH-",
        "outputId": "4312d907-cac3-4529-e5ae-a9b972a84d1d"
      },
      "execution_count": null,
      "outputs": [
        {
          "output_type": "display_data",
          "data": {
            "text/plain": [
              "<Figure size 288x288 with 1 Axes>"
            ],
            "image/png": "[encoded data removed]"
          },
          "metadata": {
            "needs_background": "light"
          }
        }
      ]
    },
    {
      "cell_type": "markdown",
      "source": [
        "\n",
        "\n",
        "---\n",
        "\n",
        "\n",
        "\n",
        "---\n",
        "\n"
      ],
      "metadata": {
        "id": "tissYeL_2W4o"
      }
    },
    {
      "cell_type": "code",
      "source": [
        "from sklearn.neighbors import KNeighborsClassifier\n",
        "\n",
        "y_train_large = (y_train >= 7)\n",
        "y_train_odd = (y_train % 2 == 1)\n",
        "y_multilabel = np.c_[y_train_large, y_train_odd]\n",
        "\n",
        "knn_clf = KNeighborsClassifier()\n",
        "knn_clf.fit(X_train, y_multilabel)"
      ],
      "metadata": {
        "colab": {
          "base_uri": "https://localhost:8080/"
        },
        "id": "0G0c8phV2XUU",
        "outputId": "c055b42a-894d-4dec-8dc9-208dba2966d6"
      },
      "execution_count": null,
      "outputs": [
        {
          "output_type": "execute_result",
          "data": {
            "text/plain": [
              "KNeighborsClassifier()"
            ]
          },
          "metadata": {},
          "execution_count": 74
        }
      ]
    },
    {
      "cell_type": "code",
      "source": [
        "knn_clf.predict([some_digit])"
      ],
      "metadata": {
        "colab": {
          "base_uri": "https://localhost:8080/"
        },
        "id": "CEddkm-F2Xrm",
        "outputId": "5c24bd72-f4b8-4dc2-9cd4-bfc9218378ac"
      },
      "execution_count": null,
      "outputs": [
        {
          "output_type": "execute_result",
          "data": {
            "text/plain": [
              "array([[False,  True]])"
            ]
          },
          "metadata": {},
          "execution_count": 75
        }
      ]
    },
    {
      "cell_type": "code",
      "source": [
        "y_train_knn_pred = cross_val_predict(knn_clf, X_train, y_multilabel, cv=3)\n",
        "f1_score(y_multilabel, y_train_knn_pred, average=\"macro\")"
      ],
      "metadata": {
        "colab": {
          "base_uri": "https://localhost:8080/"
        },
        "id": "rVICaIRH3SuL",
        "outputId": "ddf363f5-07b3-4063-cde3-ef6bda597696"
      },
      "execution_count": null,
      "outputs": [
        {
          "output_type": "execute_result",
          "data": {
            "text/plain": [
              "0.976410265560605"
            ]
          },
          "metadata": {},
          "execution_count": 76
        }
      ]
    },
    {
      "cell_type": "markdown",
      "source": [
        "\n",
        "\n",
        "---\n",
        "\n",
        "\n",
        "\n",
        "---\n",
        "\n"
      ],
      "metadata": {
        "id": "8oKFKHPH3Q9c"
      }
    },
    {
      "cell_type": "code",
      "source": [
        "#잡음 제거 시스템\n",
        "noise = np.random.randint(0, 100, (len(X_train), 784))\n",
        "X_train_mod = X_train + noise\n",
        "noise = np.random.randint(0, 100, (len(X_test), 784))\n",
        "X_test_mod = X_test + noise\n",
        "y_train_mod = X_train\n",
        "y_test_mod = X_test"
      ],
      "metadata": {
        "id": "QUP3MD-a3RZL"
      },
      "execution_count": null,
      "outputs": []
    }
  ]
}