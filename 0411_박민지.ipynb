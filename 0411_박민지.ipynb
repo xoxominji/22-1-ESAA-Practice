{
  "nbformat": 4,
  "nbformat_minor": 0,
  "metadata": {
    "colab": {
      "name": "0411_박민지",
      "provenance": [],
      "collapsed_sections": [],
      "authorship_tag": "ABX9TyNne2LbsJddeDABN7+uXWeV",
      "include_colab_link": true
    },
    "kernelspec": {
      "name": "python3",
      "display_name": "Python 3"
    },
    "language_info": {
      "name": "python"
    }
  },
  "cells": [
    {
      "cell_type": "markdown",
      "metadata": {
        "id": "view-in-github",
        "colab_type": "text"
      },
      "source": [
        "<a href=\"https://colab.research.google.com/github/xoxominji/22-1-ESAA-Practice/blob/main/0411_%EB%B0%95%EB%AF%BC%EC%A7%80.ipynb\" target=\"_parent\"><img src=\"https://colab.research.google.com/assets/colab-badge.svg\" alt=\"Open In Colab\"/></a>"
      ]
    },
    {
      "cell_type": "markdown",
      "source": [
        "# [개념정리 및 필사]\n",
        "\n",
        "## 핸즈온 Chapter 9. 비지도학습"
      ],
      "metadata": {
        "id": "3hME9xl9EX4U"
      }
    },
    {
      "cell_type": "markdown",
      "source": [
        "이상치 탐지: '정상' 데이터가 어떻게 보이느닞 학습 -> 비정상 샘플 갑지 사용\n",
        "\n",
        "밀도 추정: 데이터셋 생성 확률 과정의 pdf를 추정. "
      ],
      "metadata": {
        "id": "xlTWma9gaj-p"
      }
    },
    {
      "cell_type": "markdown",
      "source": [
        "### 9.1 군집\n",
        "\n",
        ": 비슷한 샘플을 구별해 하나의 클러스터(cluster)로 모으기\n",
        "\n",
        "<애플리케이션>\n",
        "- 고객 분류: 고객 그룹마다 제품 추천/마케팅 전략 적용 가능. 추천 시스템 구축에 도움\n",
        "- 데이터 분석: 각 클러스터 별로 따로 분석시 도움이 됨\n",
        "- 차원 축소 기법: 각 클러스터에 대한 샘플의 친화성(샘플이 클러스터에 얼마나 잘 맞는가?) 측정\n",
        "- 이상치 탐지: 친화성이 낮은 샘플 감지\n",
        "- 준지도 학습: 레이블된 샘플이 적을시 동일한 클러스터에 있는 모든 샘플에 레이블 전파\n",
        "- 검색 엔진: 제시된 이미지와 비슷한 이미지 찾기\n",
        "- 이미지 분할: 색 기반 픽셀 클러스터 모은 후 각 픽셀의 색을 해당 클러스터의 평균 색으로 바꿔 색상의 종류를 크게 줄임"
      ],
      "metadata": {
        "id": "5RJcHLejaHPu"
      }
    },
    {
      "cell_type": "markdown",
      "source": [
        "#### 9.1.1 k-평균\n",
        "\n",
        "\n",
        "\n",
        "```\n",
        "from sklearn.cluster import KMeans\n",
        "kmeans = KMeans(n_clusters=#, init=np.array([], [], ...), n_init=#)\n",
        "```\n",
        "\n"
      ],
      "metadata": {
        "id": "kRyF28cjdRpx"
      }
    },
    {
      "cell_type": "code",
      "source": [
        "# 예제 데이터 생성\n",
        "import numpy as np\n",
        "from sklearn.datasets import make_blobs\n",
        "\n",
        "blob_centers = np.array(\n",
        "    [[ 0.2,  2.3],\n",
        "     [-1.5 ,  2.3],\n",
        "     [-2.8,  1.8],\n",
        "     [-2.8,  2.8],\n",
        "     [-2.8,  1.3]])\n",
        "blob_std = np.array([0.4, 0.3, 0.1, 0.1, 0.1])\n",
        "\n",
        "X, y = make_blobs(n_samples=2000, centers=blob_centers,\n",
        "                  cluster_std=blob_std, random_state=7)"
      ],
      "metadata": {
        "id": "03vvirOldnkd"
      },
      "execution_count": null,
      "outputs": []
    },
    {
      "cell_type": "code",
      "source": [
        "from sklearn.cluster import KMeans\n",
        "k = 5\n",
        "kmeans = KMeans(n_clusters=k, random_state=42)\n",
        "y_pred = kmeans.fit_predict(X)\n",
        "y_pred"
      ],
      "metadata": {
        "id": "bwpyoXg5Efpl",
        "colab": {
          "base_uri": "https://localhost:8080/"
        },
        "outputId": "0dfae66e-21e9-4a0e-cc1b-772043ed31df"
      },
      "execution_count": null,
      "outputs": [
        {
          "output_type": "execute_result",
          "data": {
            "text/plain": [
              "array([4, 0, 1, ..., 2, 1, 0], dtype=int32)"
            ]
          },
          "metadata": {},
          "execution_count": 6
        }
      ]
    },
    {
      "cell_type": "code",
      "source": [
        "y_pred is kmeans.labels_"
      ],
      "metadata": {
        "colab": {
          "base_uri": "https://localhost:8080/"
        },
        "id": "Wcpf-5mKdiD2",
        "outputId": "95e51285-7f93-420a-f9a7-5e78b0c65fc9"
      },
      "execution_count": null,
      "outputs": [
        {
          "output_type": "execute_result",
          "data": {
            "text/plain": [
              "True"
            ]
          },
          "metadata": {},
          "execution_count": 7
        }
      ]
    },
    {
      "cell_type": "code",
      "source": [
        "kmeans.cluster_centers_"
      ],
      "metadata": {
        "colab": {
          "base_uri": "https://localhost:8080/"
        },
        "id": "p5YNGwwod_fa",
        "outputId": "d2e84d43-1283-42e2-ff47-d3637cb40e3a"
      },
      "execution_count": null,
      "outputs": [
        {
          "output_type": "execute_result",
          "data": {
            "text/plain": [
              "array([[-2.80389616,  1.80117999],\n",
              "       [ 0.20876306,  2.25551336],\n",
              "       [-2.79290307,  2.79641063],\n",
              "       [-1.46679593,  2.28585348],\n",
              "       [-2.80037642,  1.30082566]])"
            ]
          },
          "metadata": {},
          "execution_count": 8
        }
      ]
    },
    {
      "cell_type": "code",
      "source": [
        "#새로운 샘플의 레이블 예측\n",
        "X_new = np.array([[0, 2], [3, 2], [-3, 3], [-3, 2.5]])\n",
        "kmeans.predict(X_new)"
      ],
      "metadata": {
        "colab": {
          "base_uri": "https://localhost:8080/"
        },
        "id": "TGAcW-r5eI_-",
        "outputId": "5d6868a5-2169-4e25-94f2-4981c59c4d4a"
      },
      "execution_count": null,
      "outputs": [
        {
          "output_type": "execute_result",
          "data": {
            "text/plain": [
              "array([1, 1, 2, 2], dtype=int32)"
            ]
          },
          "metadata": {},
          "execution_count": 9
        }
      ]
    },
    {
      "cell_type": "markdown",
      "source": [
        "단점: 클러스터의 크기가 많이 다르면 작동 안됨\n",
        "\n",
        "- 하드 군집: 각 샘플에 대해 가장 가까운 군집 선택\n",
        "- 소프트 군집: 클러스터마다 샘플에 점수(각 샘플에서 모든 센트로이드까지 거리, 가우시안 방사기저 함수, 유사도 점수, 친화성 점수 등) 부여\n",
        "  - transform() 메서드 활용\n",
        "  - 측정 값이 다른 분류기 등에 활용될 수 있음"
      ],
      "metadata": {
        "id": "iBU-wjHTeYcP"
      }
    },
    {
      "cell_type": "code",
      "source": [
        "kmeans.transform(X_new)"
      ],
      "metadata": {
        "colab": {
          "base_uri": "https://localhost:8080/"
        },
        "id": "RIANDt3meNpi",
        "outputId": "564f67c5-5e99-465d-e0df-d15fe4865cd3"
      },
      "execution_count": null,
      "outputs": [
        {
          "output_type": "execute_result",
          "data": {
            "text/plain": [
              "array([[2.81093633, 0.32995317, 2.9042344 , 1.49439034, 2.88633901],\n",
              "       [5.80730058, 2.80290755, 5.84739223, 4.4759332 , 5.84236351],\n",
              "       [1.21475352, 3.29399768, 0.29040966, 1.69136631, 1.71086031],\n",
              "       [0.72581411, 3.21806371, 0.36159148, 1.54808703, 1.21567622]])"
            ]
          },
          "metadata": {},
          "execution_count": 10
        }
      ]
    },
    {
      "cell_type": "markdown",
      "source": [
        "##### k-평균 알고리즘\n",
        "\n",
        "- 먼저 k개의 센트로이드 무작위 선택\n",
        "- 센트로이드의 위치가 더 이상 변하지 않을 때까지 아래 과정 반복\n",
        "  - 각 샘플을 가장 가까운 센트로이드에 할당\n",
        "  - 센트로이드에 할당된 샘플들의 평균으로 센트로이드 업데이트"
      ],
      "metadata": {
        "id": "_9eKX5hxfJW-"
      }
    },
    {
      "cell_type": "markdown",
      "source": [
        "##### 센트로이드 초기화 방법\n",
        "- init 매개변수에 센트로이드 리스트 담은 넘파이 배열 지정 (n_init=1)\n",
        "- n_init 매개변수로 랜덤 초기화 횟수 조절\n",
        "\n",
        "\n",
        "<성능 지표>\n",
        "- inertia_ 인스턴스 변수: 이터셔(센트로이드 사이의 평균 제곱 거리)\n",
        "- score 메서드"
      ],
      "metadata": {
        "id": "9UzIzNBoflbv"
      }
    },
    {
      "cell_type": "code",
      "source": [
        "kmeans.inertia_"
      ],
      "metadata": {
        "colab": {
          "base_uri": "https://localhost:8080/"
        },
        "id": "rIJTgu-LfIVL",
        "outputId": "1ab090b7-53cd-4e71-eb97-d3e9c0e9b1a7"
      },
      "execution_count": null,
      "outputs": [
        {
          "output_type": "execute_result",
          "data": {
            "text/plain": [
              "211.5985372581684"
            ]
          },
          "metadata": {},
          "execution_count": 11
        }
      ]
    },
    {
      "cell_type": "code",
      "source": [
        "kmeans.score(X)"
      ],
      "metadata": {
        "colab": {
          "base_uri": "https://localhost:8080/"
        },
        "id": "NPWomZJTf4Zr",
        "outputId": "8e438767-62f1-4167-e82e-e030e356bb7c"
      },
      "execution_count": null,
      "outputs": [
        {
          "output_type": "execute_result",
          "data": {
            "text/plain": [
              "-211.59853725816836"
            ]
          },
          "metadata": {},
          "execution_count": 12
        }
      ]
    },
    {
      "cell_type": "markdown",
      "source": [
        "##### k-평균 속도 개선과 미니배치 k-평균\n",
        "\n",
        ": 불필요한 거리계산 제외\n",
        "\n",
        "```\n",
        "from sklearn.cluster import MiniBatchKMeans\n",
        "minibatch_kmeans = MiniBatchKMeans(n_clusters=#)\n",
        "```\n",
        "\n",
        "단점: 일반 k-평균보다 빠르지만 이너셔가 더 나쁨(클러스터 개수 많을 때)\n"
      ],
      "metadata": {
        "id": "2jRwT_YLg1Ft"
      }
    },
    {
      "cell_type": "code",
      "source": [
        "from sklearn.cluster import MiniBatchKMeans\n",
        "minibatch_kmeans = MiniBatchKMeans(n_clusters=5, random_state=42)\n",
        "minibatch_kmeans.fit(X)"
      ],
      "metadata": {
        "colab": {
          "base_uri": "https://localhost:8080/"
        },
        "id": "7d9z-sPLgz3e",
        "outputId": "b673daa1-751a-4781-8655-00ac0a364ceb"
      },
      "execution_count": null,
      "outputs": [
        {
          "output_type": "execute_result",
          "data": {
            "text/plain": [
              "MiniBatchKMeans(n_clusters=5, random_state=42)"
            ]
          },
          "metadata": {},
          "execution_count": 13
        }
      ]
    },
    {
      "cell_type": "markdown",
      "source": [
        "##### 최적의 클러스터 개수 찾기\n",
        "\n",
        ": 실루엣 점수(실루엣 계수의 평균) 참고\n",
        "\n",
        ": -1(샘플이 잘못된 클러스터에 할당) ~ 0(클러스터 경계에 위치) ~ +1(잘 속해있음)"
      ],
      "metadata": {
        "id": "rFPkyuk2hYFp"
      }
    },
    {
      "cell_type": "code",
      "source": [
        "from sklearn.metrics import silhouette_score\n",
        "silhouette_score(X, kmeans.labels_)"
      ],
      "metadata": {
        "colab": {
          "base_uri": "https://localhost:8080/"
        },
        "id": "1RP88C82h-bU",
        "outputId": "58ce2c34-ca56-4735-ac98-00e6ab8ec8ff"
      },
      "execution_count": null,
      "outputs": [
        {
          "output_type": "execute_result",
          "data": {
            "text/plain": [
              "0.655517642572828"
            ]
          },
          "metadata": {},
          "execution_count": 14
        }
      ]
    },
    {
      "cell_type": "markdown",
      "source": [
        "#### 9.1.2 k-평균의 한계\n",
        "\n",
        "장점: 속도가 빠르고 확장에 용이\n",
        "\n",
        "단점: 알고리즘 여러 번 실행, 클러스터 개수 지정, 밀집도가 서로 다르거나 클러스터가 원형이 아닐 경우 잘 작동못함"
      ],
      "metadata": {
        "id": "dHfQ4FgwiEl9"
      }
    },
    {
      "cell_type": "markdown",
      "source": [
        "#### 9.1.3 군집을 사용한 이미지 분할\n",
        "\n",
        "- 이미지 분할: 이미지를 세그먼트로 여러 개로 분할\n",
        "\n",
        "- 시맨틱 분할: 동일한 종류의 물체에 속한 모드 픽셀은 같은 세그먼트에 할당\n",
        "\n",
        "- 색상 분할: 동일한 색상을 가진 픽셀을 같은 세그먼트에 할당"
      ],
      "metadata": {
        "id": "UISaqkfeioTS"
      }
    },
    {
      "cell_type": "markdown",
      "source": [
        "#### 9.1.4 군집을 사용한 전처리\n",
        "\n",
        ": 파이프라인을 만들어 먼저 훈련 세트를 n가의 클러스터로 모은 후 이미지를 클러스터까지 거리로 바꿈 -> 로지스틱 회귀 모델 적용"
      ],
      "metadata": {
        "id": "tP1XaKv_jVId"
      }
    },
    {
      "cell_type": "code",
      "source": [
        "from sklearn.datasets import load_digits\n",
        "X_digits, y_digits = load_digits(return_X_y=True)"
      ],
      "metadata": {
        "id": "ll01CcfxiBOQ"
      },
      "execution_count": null,
      "outputs": []
    },
    {
      "cell_type": "code",
      "source": [
        "from sklearn.model_selection import train_test_split\n",
        "X_train, X_test, y_train, y_test = train_test_split(X_digits, y_digits, random_state=42)"
      ],
      "metadata": {
        "id": "ohn6TixOjeHc"
      },
      "execution_count": null,
      "outputs": []
    },
    {
      "cell_type": "code",
      "source": [
        "from sklearn.linear_model import LogisticRegression\n",
        "log_reg = LogisticRegression(random_state=42)\n",
        "log_reg.fit(X_train, y_train)"
      ],
      "metadata": {
        "colab": {
          "base_uri": "https://localhost:8080/"
        },
        "id": "cNvewRxYjiZm",
        "outputId": "fbb39630-1e90-4440-9f34-ebd9f9792534"
      },
      "execution_count": null,
      "outputs": [
        {
          "output_type": "stream",
          "name": "stderr",
          "text": [
            "/usr/local/lib/python3.7/dist-packages/sklearn/linear_model/_logistic.py:818: ConvergenceWarning: lbfgs failed to converge (status=1):\n",
            "STOP: TOTAL NO. of ITERATIONS REACHED LIMIT.\n",
            "\n",
            "Increase the number of iterations (max_iter) or scale the data as shown in:\n",
            "    https://scikit-learn.org/stable/modules/preprocessing.html\n",
            "Please also refer to the documentation for alternative solver options:\n",
            "    https://scikit-learn.org/stable/modules/linear_model.html#logistic-regression\n",
            "  extra_warning_msg=_LOGISTIC_SOLVER_CONVERGENCE_MSG,\n"
          ]
        },
        {
          "output_type": "execute_result",
          "data": {
            "text/plain": [
              "LogisticRegression(random_state=42)"
            ]
          },
          "metadata": {},
          "execution_count": 17
        }
      ]
    },
    {
      "cell_type": "code",
      "source": [
        "log_reg.score(X_test, y_test)"
      ],
      "metadata": {
        "colab": {
          "base_uri": "https://localhost:8080/"
        },
        "id": "gdaa7BhDjoj7",
        "outputId": "8e5fe787-3ccd-4614-a688-1bc9f4d40ad7"
      },
      "execution_count": null,
      "outputs": [
        {
          "output_type": "execute_result",
          "data": {
            "text/plain": [
              "0.9733333333333334"
            ]
          },
          "metadata": {},
          "execution_count": 18
        }
      ]
    },
    {
      "cell_type": "code",
      "source": [
        "from sklearn.pipeline import Pipeline\n",
        "pipeline = Pipeline([\n",
        "    (\"kmeans\", KMeans(n_clusters=50, random_state=42)),\n",
        "    (\"log_reg\", LogisticRegression(random_state=42)),\n",
        "])\n",
        "pipeline.fit(X_train, y_train)"
      ],
      "metadata": {
        "colab": {
          "base_uri": "https://localhost:8080/"
        },
        "id": "nbkYAj8dj10x",
        "outputId": "1633e884-f1d2-480b-c5ad-33b1e3b6f4df"
      },
      "execution_count": null,
      "outputs": [
        {
          "output_type": "stream",
          "name": "stderr",
          "text": [
            "/usr/local/lib/python3.7/dist-packages/sklearn/linear_model/_logistic.py:818: ConvergenceWarning: lbfgs failed to converge (status=1):\n",
            "STOP: TOTAL NO. of ITERATIONS REACHED LIMIT.\n",
            "\n",
            "Increase the number of iterations (max_iter) or scale the data as shown in:\n",
            "    https://scikit-learn.org/stable/modules/preprocessing.html\n",
            "Please also refer to the documentation for alternative solver options:\n",
            "    https://scikit-learn.org/stable/modules/linear_model.html#logistic-regression\n",
            "  extra_warning_msg=_LOGISTIC_SOLVER_CONVERGENCE_MSG,\n"
          ]
        },
        {
          "output_type": "execute_result",
          "data": {
            "text/plain": [
              "Pipeline(steps=[('kmeans', KMeans(n_clusters=50, random_state=42)),\n",
              "                ('log_reg', LogisticRegression(random_state=42))])"
            ]
          },
          "metadata": {},
          "execution_count": 20
        }
      ]
    },
    {
      "cell_type": "code",
      "source": [
        "pipeline.score(X_test, y_test)"
      ],
      "metadata": {
        "colab": {
          "base_uri": "https://localhost:8080/"
        },
        "id": "61j3TOhcj_qy",
        "outputId": "ff98aa86-3836-423a-9aa9-83c1d55cb84c"
      },
      "execution_count": null,
      "outputs": [
        {
          "output_type": "execute_result",
          "data": {
            "text/plain": [
              "0.9688888888888889"
            ]
          },
          "metadata": {},
          "execution_count": 21
        }
      ]
    },
    {
      "cell_type": "markdown",
      "source": [
        "GridSearchCV를 사용해 최적에 클러스터 개수 찾을 수 있음"
      ],
      "metadata": {
        "id": "G4JybPqFkq4J"
      }
    },
    {
      "cell_type": "code",
      "source": [
        "from sklearn.model_selection import GridSearchCV\n",
        "\n",
        "param_grid = dict(kmeans__n_clusters=range(2, 100))\n",
        "grid_clf = GridSearchCV(pipeline, param_grid, cv=3, verbose=2)\n",
        "grid_clf.fit(X_train, y_train)"
      ],
      "metadata": {
        "id": "Ov-_20VRj5EH"
      },
      "execution_count": null,
      "outputs": []
    },
    {
      "cell_type": "code",
      "source": [
        "grid_clf.best_params_\n",
        "grid_clf.score(X_test, y_test)"
      ],
      "metadata": {
        "id": "nK-w4Pmxkm-M"
      },
      "execution_count": null,
      "outputs": []
    },
    {
      "cell_type": "markdown",
      "source": [
        "#### 9.1.5 군집을 사용한 준지도 학습"
      ],
      "metadata": {
        "id": "3-4fqmmJkvO5"
      }
    },
    {
      "cell_type": "code",
      "source": [
        "n_labeled = 50\n",
        "log_reg = LogisticRegression(multi_class=\"ovr\", solver=\"lbfgs\", random_state=42)\n",
        "log_reg.fit(X_train[:n_labeled], y_train[:n_labeled])\n",
        "log_reg.score(X_test, y_test)"
      ],
      "metadata": {
        "colab": {
          "base_uri": "https://localhost:8080/"
        },
        "id": "avHjoLwCkyf2",
        "outputId": "aa7f584a-bab5-40bb-9aaf-11a2a1da7083"
      },
      "execution_count": null,
      "outputs": [
        {
          "output_type": "execute_result",
          "data": {
            "text/plain": [
              "0.8333333333333334"
            ]
          },
          "metadata": {},
          "execution_count": 23
        }
      ]
    },
    {
      "cell_type": "markdown",
      "source": [
        "각 클러스에서 센트로이드에 가장 가까운 이미지(대표 이미지)를 활용해 수동으로 레이블을 할당함으로써 성능 개선 가능"
      ],
      "metadata": {
        "id": "XD-7CbMdk8dH"
      }
    },
    {
      "cell_type": "code",
      "source": [
        "k = 50\n",
        "kmeans = KMeans(n_clusters=k, random_state=42)\n",
        "X_digits_dist = kmeans.fit_transform(X_train)\n",
        "representative_digit_idx = np.argmin(X_digits_dist, axis=0)\n",
        "X_representative_digits = X_train[representative_digit_idx]"
      ],
      "metadata": {
        "id": "gNDy-dcQk1kh"
      },
      "execution_count": null,
      "outputs": []
    },
    {
      "cell_type": "code",
      "source": [
        "y_representative_digits = np.array([\n",
        "    0, 1, 3, 2, 7, 6, 4, 6, 9, 5,\n",
        "    1, 2, 9, 5, 2, 7, 8, 1, 8, 6,\n",
        "    3, 1, 5, 4, 5, 4, 0, 3, 2, 6,\n",
        "    1, 7, 7, 9, 1, 8, 6, 5, 4, 8,\n",
        "    5, 3, 3, 6, 7, 9, 7, 8, 4, 9])"
      ],
      "metadata": {
        "id": "YoqpaeBUlGV5"
      },
      "execution_count": null,
      "outputs": []
    },
    {
      "cell_type": "code",
      "source": [
        "log_reg = LogisticRegression(multi_class=\"ovr\", solver=\"lbfgs\", max_iter=5000, random_state=42)\n",
        "log_reg.fit(X_representative_digits, y_representative_digits)\n",
        "log_reg.score(X_test, y_test)"
      ],
      "metadata": {
        "id": "yby19bFWmMby"
      },
      "execution_count": null,
      "outputs": []
    },
    {
      "cell_type": "markdown",
      "source": [
        "동일한 클러스터에 있는 모든 샘플에 레이블 전파(레이블 전파) 후 학습시켜 성능 더 개선 가능"
      ],
      "metadata": {
        "id": "jT1N-b3SlVgO"
      }
    },
    {
      "cell_type": "code",
      "source": [
        "y_train_propagated = np.empty(len(X_train), dtype=np.int32)\n",
        "for i in range(k):\n",
        "    y_train_propagated[kmeans.labels_==i] = y_representative_digits[i]"
      ],
      "metadata": {
        "id": "CX9Kc0vNlLrf"
      },
      "execution_count": null,
      "outputs": []
    },
    {
      "cell_type": "code",
      "source": [
        "log_reg = LogisticRegression(multi_class=\"ovr\", solver=\"lbfgs\", max_iter=5000, random_state=42)\n",
        "log_reg.fit(X_train, y_train_propagated)\n",
        "log_reg.score(X_test, y_test)"
      ],
      "metadata": {
        "id": "CXoJCZwElhzm"
      },
      "execution_count": null,
      "outputs": []
    },
    {
      "cell_type": "markdown",
      "source": [
        "클러스터 경계에 가깝게 위치한 샘플의 레이블이 잘못될 가능성 존재\n",
        "\n",
        "센트로이드와 가까운 샘플의 20%에만 레이블 전파"
      ],
      "metadata": {
        "id": "_MJwqvnumTIk"
      }
    },
    {
      "cell_type": "code",
      "source": [
        "percentile_closest = 20\n",
        "\n",
        "X_cluster_dist = X_digits_dist[np.arange(len(X_train)), kmeans.labels_]\n",
        "for i in range(k):\n",
        "    in_cluster = (kmeans.labels_ == i)\n",
        "    cluster_dist = X_cluster_dist[in_cluster]\n",
        "    cutoff_distance = np.percentile(cluster_dist, percentile_closest)\n",
        "    above_cutoff = (X_cluster_dist > cutoff_distance)\n",
        "    X_cluster_dist[in_cluster & above_cutoff] = -1\n",
        "    \n",
        "partially_propagated = (X_cluster_dist != -1)\n",
        "X_train_partially_propagated = X_train[partially_propagated]\n",
        "y_train_partially_propagated = y_train_propagated[partially_propagated]"
      ],
      "metadata": {
        "id": "mVLGRaYjmOx7"
      },
      "execution_count": null,
      "outputs": []
    },
    {
      "cell_type": "code",
      "source": [
        "log_reg = LogisticRegression(multi_class=\"ovr\", solver=\"lbfgs\", max_iter=5000, random_state=42)\n",
        "log_reg.fit(X_train_partially_propagated, y_train_partially_propagated)\n",
        "log_reg.score(X_test, y_test)"
      ],
      "metadata": {
        "id": "nnhupe8emlva"
      },
      "execution_count": null,
      "outputs": []
    },
    {
      "cell_type": "markdown",
      "source": [
        "#### 9.1.6 DBSCAN\n",
        "\n",
        "- 알고리즘이 각 샘플에서 작은 거리인 입실론 내에 샘플이 몇 개 놓여 있는지 세기 (e-neighborhood)\n",
        "- e-이웃 내에 적어도 min_sampels개 샘플이 있다면 이를 핵심 샘플로 간주\n",
        "- 핵심 샘플의 이웃에 있는 모든 샘플은 동일한 클러스터에 소속. 핵심 샘플의 이웃의 이웃은 계속해서 하나의 클러스터 형성\n",
        "- 핵심 샘플, 이웃도 아닌 샘플은 이상치 처리\n",
        "\n",
        "\n",
        "\n",
        "```\n",
        "from sklearn.cluster import DBSCAN\n",
        "dbscan = DBSCAN(eps=%, min_samples=#) #하이퍼파라미터는 2개뿐\n",
        "dbscan.fit_predict() #predict() 메서드 없음\n",
        "```\n",
        "\n",
        "  - labels_ 인스턴스 변수: 클러스터 인덱스 (-1은 이상치)\n",
        "  - core_sample_indices_인스턴스 변수: 핵심 샘플의 인텍스\n",
        "  - components_ 인스턴스 변수: 핵심 샘플 자체\n",
        "\n",
        "\n",
        "<장점> 클러스터의 모양과 개수에 상관없이 감지할 수 있음, 이상치에 안정적, 하이퍼파라미터 2개\n",
        "\n",
        "<단점> 클러스터 간의 밀집도가 크게 다르면 모든 클러스터를 올바르게 잡아내는 것은 불가능"
      ],
      "metadata": {
        "id": "abYy6FrNmmPv"
      }
    },
    {
      "cell_type": "code",
      "source": [
        "from sklearn.datasets import make_moons\n",
        "X, y = make_moons(n_samples=1000, noise=0.05, random_state=42)\n",
        "\n",
        "from sklearn.cluster import DBSCAN\n",
        "dbscan = DBSCAN(eps=0.05, min_samples=5)\n",
        "dbscan.fit(X)"
      ],
      "metadata": {
        "colab": {
          "base_uri": "https://localhost:8080/"
        },
        "id": "HszCDYMFnSlB",
        "outputId": "67459a72-7346-4e53-ba87-16de7dcf94e6"
      },
      "execution_count": null,
      "outputs": [
        {
          "output_type": "execute_result",
          "data": {
            "text/plain": [
              "DBSCAN(eps=0.05)"
            ]
          },
          "metadata": {},
          "execution_count": 41
        }
      ]
    },
    {
      "cell_type": "code",
      "source": [
        "dbscan.labels_[:10]"
      ],
      "metadata": {
        "colab": {
          "base_uri": "https://localhost:8080/"
        },
        "id": "sisJAPJ4neJA",
        "outputId": "98e07517-f9be-45d3-a6f7-1a2ff6e085c0"
      },
      "execution_count": null,
      "outputs": [
        {
          "output_type": "execute_result",
          "data": {
            "text/plain": [
              "array([ 0,  2, -1, -1,  1,  0,  0,  0,  2,  5])"
            ]
          },
          "metadata": {},
          "execution_count": 43
        }
      ]
    },
    {
      "cell_type": "code",
      "source": [
        "len(dbscan.core_sample_indices_)"
      ],
      "metadata": {
        "colab": {
          "base_uri": "https://localhost:8080/"
        },
        "id": "HXtYpo8Nngfd",
        "outputId": "0dd3212d-077d-4faa-b84b-8ce1131bfcbe"
      },
      "execution_count": null,
      "outputs": [
        {
          "output_type": "execute_result",
          "data": {
            "text/plain": [
              "808"
            ]
          },
          "metadata": {},
          "execution_count": 44
        }
      ]
    },
    {
      "cell_type": "code",
      "source": [
        "dbscan.core_sample_indices_[:10]"
      ],
      "metadata": {
        "colab": {
          "base_uri": "https://localhost:8080/"
        },
        "id": "mbwa4eMtoBbE",
        "outputId": "31650b93-a429-44b8-847c-cb6d0d1b3bce"
      },
      "execution_count": null,
      "outputs": [
        {
          "output_type": "execute_result",
          "data": {
            "text/plain": [
              "array([ 0,  4,  5,  6,  7,  8, 10, 11, 12, 13])"
            ]
          },
          "metadata": {},
          "execution_count": 45
        }
      ]
    },
    {
      "cell_type": "code",
      "source": [
        "dbscan.components_[:3]"
      ],
      "metadata": {
        "colab": {
          "base_uri": "https://localhost:8080/"
        },
        "id": "9d40Kc64oCip",
        "outputId": "2755f508-21ba-403c-e405-04136ce7d92a"
      },
      "execution_count": null,
      "outputs": [
        {
          "output_type": "execute_result",
          "data": {
            "text/plain": [
              "array([[-0.02137124,  0.40618608],\n",
              "       [-0.84192557,  0.53058695],\n",
              "       [ 0.58930337, -0.32137599]])"
            ]
          },
          "metadata": {},
          "execution_count": 46
        }
      ]
    },
    {
      "cell_type": "markdown",
      "source": [
        "#### 9.1.7 다른 군집 알고리즘\n",
        "\n",
        "- 병합 군집: 밑바닥부터 클러스터 계층 구성\n",
        "- BIRCH: 대규모 소특성 \n",
        "- 평균-이동: 클러스터를 원으로 그림, 소규모\n",
        "- 유사도 전파: 투표 방식, 소규모\n",
        "- 스펙트럼 군집: 소규모, 동등한 클러스터 크기"
      ],
      "metadata": {
        "id": "z911Dj3-okry"
      }
    },
    {
      "cell_type": "markdown",
      "source": [
        "### 9.2 가우시안 혼합 (GMM)\n",
        "\n",
        ": 타원형 클러스터, 기댓값-최대화(EM) 알고리즘 사용\n",
        "\n",
        "\n",
        "\n",
        "```\n",
        "from sklearn.mixture import GaussianMixture\n",
        "gm = GaussianMixture(n_components=3, n_init=10)\n",
        "```\n",
        "\n",
        "\n"
      ],
      "metadata": {
        "id": "hxlVI5nvpbpx"
      }
    },
    {
      "cell_type": "code",
      "source": [
        "from sklearn.mixture import GaussianMixture\n",
        "gm = GaussianMixture(n_components=3, n_init=10, random_state=42)\n",
        "gm.fit(X)"
      ],
      "metadata": {
        "colab": {
          "base_uri": "https://localhost:8080/"
        },
        "id": "U25JiR4zoEX3",
        "outputId": "0ae89951-b44a-4af2-8b89-709b35568905"
      },
      "execution_count": null,
      "outputs": [
        {
          "output_type": "execute_result",
          "data": {
            "text/plain": [
              "GaussianMixture(n_components=3, n_init=10, random_state=42)"
            ]
          },
          "metadata": {},
          "execution_count": 47
        }
      ]
    },
    {
      "cell_type": "code",
      "source": [
        "gm.weights_\n",
        "gm.means_\n",
        "gm.covariances_"
      ],
      "metadata": {
        "id": "p4zvovmNqUeo"
      },
      "execution_count": null,
      "outputs": []
    },
    {
      "cell_type": "code",
      "source": [
        "gm.converged_ #수렴 여부\n",
        "gm.n_iter_ #반복 횟수"
      ],
      "metadata": {
        "id": "caUKDEpVqbW1"
      },
      "execution_count": null,
      "outputs": []
    },
    {
      "cell_type": "code",
      "source": [
        "gm.predict(X)\n",
        "gm.predict_proba(X)"
      ],
      "metadata": {
        "id": "2Ht9ljblqhjS"
      },
      "execution_count": null,
      "outputs": []
    },
    {
      "cell_type": "code",
      "source": [
        "# 생성 모델: 모델에서 새로운 샘플 생성 가능\n",
        "X_new, y_new = gm.sample(6)\n",
        "X_new"
      ],
      "metadata": {
        "id": "mmh84Y0LqkVv"
      },
      "execution_count": null,
      "outputs": []
    },
    {
      "cell_type": "code",
      "source": [
        "# 로그 확률 밀도 함수 (PDF) 추정\n",
        "gm.score_samples(X)"
      ],
      "metadata": {
        "id": "4ZQe7e8KqrpF"
      },
      "execution_count": null,
      "outputs": []
    },
    {
      "cell_type": "markdown",
      "source": [
        "covariance_type 매개변수를 사용해 이 알고리즘이 찾을 공분산 행렬을 제한. 학습할 파라미터 개수를 제한하여 특성이나 클러스터가 많/적은 샘플의 최적의 솔루션 수렴\n",
        "\n",
        "- \"full\"(기본값): 제약이 없음. 모든 군집이 어떤 크기의 타원도 될 수 있음\n",
        "- \"tied\": 모든 군집이 동일하지만 어떤 타원도 가능(즉, 공분산 행렬을 공유)\n",
        "- \"spherical\": 모든 군집이 원형이지만 지름은 다를 수 있음(즉, 분산이 다름)\n",
        "- \"diag\": 군집은 어떤 크기의 타원도 될 수 있지만 타원은 축에 나란함(즉, 공분산 행렬이 대각 행렬)"
      ],
      "metadata": {
        "id": "GgYgkI8Nq1NW"
      }
    },
    {
      "cell_type": "markdown",
      "source": [
        "#### 9.2.1 가우시안 혼합을 사용한 이상치 탐지\n",
        "\n",
        "밀도가 낮은 지역에 있는 모든 샘플을 이상치로 보기 -> 사용할 밀도 임곗값 정하기\n",
        "\n",
        "\n",
        "\n",
        "```\n",
        "densities = gm.score_samples(X)\n",
        "density_threshold = np.percentile(densities, 4) #4%\n",
        "anomalies = X[densities < density_threshold]\n",
        "```\n",
        "\n",
        "\n",
        "cf) 특이치 탐지\n",
        "\n",
        ": 이상치가 없는 '깨끗한' 데이터셋에서 훈련\n"
      ],
      "metadata": {
        "id": "YVogia3mrVed"
      }
    },
    {
      "cell_type": "markdown",
      "source": [
        "#### 9.2.2 클러스터 개수 선택하기\n",
        "\n",
        "cf) k-means: 이너셔, 실루엣 점수\n",
        "\n",
        "대신, BIC와 AIC를 최소화 하는 모델 찾기\n",
        "\n",
        "$BIC=log(m)p-2log(\\hat{L})$\n",
        "\n",
        "$AIC = 2p-2log(\\hat{L})$\n",
        "\n",
        "- m: 샘플 수\n",
        "- p: 학습 파라미터 수\n",
        "- $\\hat{L}$: likelihood function 최댓값\n",
        "\n",
        "\n",
        "\n",
        "```\n",
        "gm.bic(X)\n",
        "gm.aic(X)\n",
        "```\n",
        "\n"
      ],
      "metadata": {
        "id": "zSoxJUQ0ruRk"
      }
    },
    {
      "cell_type": "markdown",
      "source": [
        "#### 9.2.3 베이즈 가우시안 혼합 모델\n",
        "\n",
        ": 불필요한 클러스터의 가중치를 0으로 만들기 (최적의 클러스터 개수를 수동으로 찾지 않기)\n",
        "\n",
        "\n",
        "\n",
        "```\n",
        "from sklearn.mixture import BayesianGaussianMixture\n",
        "bgm = BayesianGaussianMixture(n_components#최적의 클러스터 개수보다 큰 값#, n_init=#)\n",
        "bgm.fit(X)\n",
        "bgm.weights_ #클러스터 갯수 확인\n",
        "```\n",
        "\n",
        "- 사전 확률: 잠재 변수 z 사전 지식에 대한 확률 분포\n",
        "- 사전 믿음: wight_concentration_prior 매개변수\n",
        "\n",
        "- ELBO 최대화\n",
        "- BBSVI (블랙 박스 확률적 변분 추론)"
      ],
      "metadata": {
        "id": "bcHnBGc9zJox"
      }
    },
    {
      "cell_type": "code",
      "source": [
        "from sklearn.mixture import BayesianGaussianMixture\n",
        "bgm = BayesianGaussianMixture(n_components=10, n_init=10, random_state=42)\n",
        "bgm.fit(X)\n",
        "np.round(bgm.weights_, 2)"
      ],
      "metadata": {
        "colab": {
          "base_uri": "https://localhost:8080/"
        },
        "id": "plYA5-tprO4S",
        "outputId": "5d1b653b-a081-4852-9f8c-4349c8ce430a"
      },
      "execution_count": null,
      "outputs": [
        {
          "output_type": "execute_result",
          "data": {
            "text/plain": [
              "array([0.12, 0.12, 0.13, 0.16, 0.12, 0.13, 0.14, 0.  , 0.08, 0.  ])"
            ]
          },
          "metadata": {},
          "execution_count": 49
        }
      ]
    },
    {
      "cell_type": "markdown",
      "source": [
        "#### 9.2.4 이상치 탐지와 특이치 탐지를 위한 다른 알고리즘\n",
        "\n",
        "- **PCA(그리고 ```inverse_transform()```메서드를 가진 다른 차원 축소 기법)**: 이상치 탐지 기법 \n",
        "- **Fast-MCD**: 이상치 감지하여 데이터셋을 정체, 샘플이 하나의 가우시안 분포에서 생성되었다고 가정하여 분포에 어긋난 값은 이상치로 여김. 타원형 데이터에 용이\n",
        "- **아이솔레이션 포레스트**: 고차원 데이터. 무작위로 성장한 결정 트리로 구성된 랜덤 포레스트 생성.랜덤한 임곗값을 골라 데이터를 둘로 나누어 다른 샘플과 격리될 때까지 반복\n",
        "-**LOF**: 주어진 샘플 주위의 밀도와 이웃 주위의 밀도를 비교하여 이상치 탐지\n",
        "- **one-class SVM**: 특이치 탐지. 원본 공간으로부터 고차원 공간 샘플 분리. 원본 공간에 새로운 샘플이 없다면 이상치로 간주."
      ],
      "metadata": {
        "id": "SFu6xdiBzVKU"
      }
    }
  ]
}